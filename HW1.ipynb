{
 "cells": [
  {
   "attachments": {},
   "cell_type": "markdown",
   "metadata": {},
   "source": [
    "## Import Libraries"
   ]
  },
  {
   "cell_type": "code",
   "execution_count": 1,
   "metadata": {},
   "outputs": [],
   "source": [
    "import numpy as np\n",
    "import pandas as pd\n",
    "import statsmodels.api as sm\n",
    "import statsmodels.formula.api as smf\n",
    "from statsmodels.sandbox.regression.predstd import wls_prediction_std\n",
    "import matplotlib.pyplot as plt\n",
    "import seaborn as sns\n",
    "import plotly.express as px\n",
    "from patsy import dmatrices"
   ]
  },
  {
   "attachments": {},
   "cell_type": "markdown",
   "metadata": {},
   "source": [
    "## Import Dataset"
   ]
  },
  {
   "cell_type": "code",
   "execution_count": 3,
   "metadata": {},
   "outputs": [
    {
     "name": "stdout",
     "output_type": "stream",
     "text": [
      "<class 'pandas.core.frame.DataFrame'>\n",
      "RangeIndex: 517 entries, 0 to 516\n",
      "Data columns (total 13 columns):\n",
      " #   Column  Non-Null Count  Dtype  \n",
      "---  ------  --------------  -----  \n",
      " 0   X       517 non-null    int64  \n",
      " 1   Y       517 non-null    int64  \n",
      " 2   month   517 non-null    object \n",
      " 3   day     517 non-null    object \n",
      " 4   FFMC    517 non-null    float64\n",
      " 5   DMC     517 non-null    float64\n",
      " 6   DC      517 non-null    float64\n",
      " 7   ISI     517 non-null    float64\n",
      " 8   temp    517 non-null    float64\n",
      " 9   RH      517 non-null    int64  \n",
      " 10  wind    517 non-null    float64\n",
      " 11  rain    517 non-null    float64\n",
      " 12  area    517 non-null    float64\n",
      "dtypes: float64(8), int64(3), object(2)\n",
      "memory usage: 52.6+ KB\n"
     ]
    }
   ],
   "source": [
    "f = '/Users/shenchingfeng/Documents/1112/機器學習/Homework 1/forestfires.csv'\n",
    "df = pd.read_csv(f)\n",
    "df.info()"
   ]
  },
  {
   "cell_type": "code",
   "execution_count": 38,
   "metadata": {},
   "outputs": [
    {
     "data": {
      "text/html": [
       "<div>\n",
       "<style scoped>\n",
       "    .dataframe tbody tr th:only-of-type {\n",
       "        vertical-align: middle;\n",
       "    }\n",
       "\n",
       "    .dataframe tbody tr th {\n",
       "        vertical-align: top;\n",
       "    }\n",
       "\n",
       "    .dataframe thead th {\n",
       "        text-align: right;\n",
       "    }\n",
       "</style>\n",
       "<table border=\"1\" class=\"dataframe\">\n",
       "  <thead>\n",
       "    <tr style=\"text-align: right;\">\n",
       "      <th></th>\n",
       "      <th>X</th>\n",
       "      <th>Y</th>\n",
       "      <th>FFMC</th>\n",
       "      <th>DMC</th>\n",
       "      <th>DC</th>\n",
       "      <th>ISI</th>\n",
       "      <th>temp</th>\n",
       "      <th>RH</th>\n",
       "      <th>wind</th>\n",
       "      <th>rain</th>\n",
       "      <th>area</th>\n",
       "    </tr>\n",
       "  </thead>\n",
       "  <tbody>\n",
       "    <tr>\n",
       "      <th>count</th>\n",
       "      <td>517.000000</td>\n",
       "      <td>517.000000</td>\n",
       "      <td>517.000000</td>\n",
       "      <td>517.000000</td>\n",
       "      <td>517.000000</td>\n",
       "      <td>517.000000</td>\n",
       "      <td>517.000000</td>\n",
       "      <td>517.000000</td>\n",
       "      <td>517.000000</td>\n",
       "      <td>517.000000</td>\n",
       "      <td>517.000000</td>\n",
       "    </tr>\n",
       "    <tr>\n",
       "      <th>mean</th>\n",
       "      <td>4.669246</td>\n",
       "      <td>4.299807</td>\n",
       "      <td>90.644681</td>\n",
       "      <td>110.872340</td>\n",
       "      <td>547.940039</td>\n",
       "      <td>9.021663</td>\n",
       "      <td>18.889168</td>\n",
       "      <td>44.288201</td>\n",
       "      <td>4.017602</td>\n",
       "      <td>0.528854</td>\n",
       "      <td>12.847292</td>\n",
       "    </tr>\n",
       "    <tr>\n",
       "      <th>std</th>\n",
       "      <td>2.313778</td>\n",
       "      <td>1.229900</td>\n",
       "      <td>5.520111</td>\n",
       "      <td>64.046482</td>\n",
       "      <td>248.066192</td>\n",
       "      <td>4.559477</td>\n",
       "      <td>5.806625</td>\n",
       "      <td>16.317469</td>\n",
       "      <td>1.791653</td>\n",
       "      <td>0.021207</td>\n",
       "      <td>63.655818</td>\n",
       "    </tr>\n",
       "    <tr>\n",
       "      <th>min</th>\n",
       "      <td>1.000000</td>\n",
       "      <td>2.000000</td>\n",
       "      <td>18.700000</td>\n",
       "      <td>1.100000</td>\n",
       "      <td>7.900000</td>\n",
       "      <td>0.000000</td>\n",
       "      <td>2.200000</td>\n",
       "      <td>15.000000</td>\n",
       "      <td>0.400000</td>\n",
       "      <td>0.526589</td>\n",
       "      <td>0.000000</td>\n",
       "    </tr>\n",
       "    <tr>\n",
       "      <th>25%</th>\n",
       "      <td>3.000000</td>\n",
       "      <td>4.000000</td>\n",
       "      <td>90.200000</td>\n",
       "      <td>68.600000</td>\n",
       "      <td>437.700000</td>\n",
       "      <td>6.500000</td>\n",
       "      <td>15.500000</td>\n",
       "      <td>33.000000</td>\n",
       "      <td>2.700000</td>\n",
       "      <td>0.526589</td>\n",
       "      <td>0.000000</td>\n",
       "    </tr>\n",
       "    <tr>\n",
       "      <th>50%</th>\n",
       "      <td>4.000000</td>\n",
       "      <td>4.000000</td>\n",
       "      <td>91.600000</td>\n",
       "      <td>108.300000</td>\n",
       "      <td>664.200000</td>\n",
       "      <td>8.400000</td>\n",
       "      <td>19.300000</td>\n",
       "      <td>42.000000</td>\n",
       "      <td>4.000000</td>\n",
       "      <td>0.526589</td>\n",
       "      <td>0.520000</td>\n",
       "    </tr>\n",
       "    <tr>\n",
       "      <th>75%</th>\n",
       "      <td>7.000000</td>\n",
       "      <td>5.000000</td>\n",
       "      <td>92.900000</td>\n",
       "      <td>142.400000</td>\n",
       "      <td>713.900000</td>\n",
       "      <td>10.800000</td>\n",
       "      <td>22.800000</td>\n",
       "      <td>53.000000</td>\n",
       "      <td>4.900000</td>\n",
       "      <td>0.526589</td>\n",
       "      <td>6.570000</td>\n",
       "    </tr>\n",
       "    <tr>\n",
       "      <th>max</th>\n",
       "      <td>9.000000</td>\n",
       "      <td>9.000000</td>\n",
       "      <td>96.200000</td>\n",
       "      <td>291.300000</td>\n",
       "      <td>860.600000</td>\n",
       "      <td>56.100000</td>\n",
       "      <td>33.300000</td>\n",
       "      <td>100.000000</td>\n",
       "      <td>9.400000</td>\n",
       "      <td>0.869897</td>\n",
       "      <td>1090.840000</td>\n",
       "    </tr>\n",
       "  </tbody>\n",
       "</table>\n",
       "</div>"
      ],
      "text/plain": [
       "                X           Y        FFMC         DMC          DC         ISI  \\\n",
       "count  517.000000  517.000000  517.000000  517.000000  517.000000  517.000000   \n",
       "mean     4.669246    4.299807   90.644681  110.872340  547.940039    9.021663   \n",
       "std      2.313778    1.229900    5.520111   64.046482  248.066192    4.559477   \n",
       "min      1.000000    2.000000   18.700000    1.100000    7.900000    0.000000   \n",
       "25%      3.000000    4.000000   90.200000   68.600000  437.700000    6.500000   \n",
       "50%      4.000000    4.000000   91.600000  108.300000  664.200000    8.400000   \n",
       "75%      7.000000    5.000000   92.900000  142.400000  713.900000   10.800000   \n",
       "max      9.000000    9.000000   96.200000  291.300000  860.600000   56.100000   \n",
       "\n",
       "             temp          RH        wind        rain         area  \n",
       "count  517.000000  517.000000  517.000000  517.000000   517.000000  \n",
       "mean    18.889168   44.288201    4.017602    0.528854    12.847292  \n",
       "std      5.806625   16.317469    1.791653    0.021207    63.655818  \n",
       "min      2.200000   15.000000    0.400000    0.526589     0.000000  \n",
       "25%     15.500000   33.000000    2.700000    0.526589     0.000000  \n",
       "50%     19.300000   42.000000    4.000000    0.526589     0.520000  \n",
       "75%     22.800000   53.000000    4.900000    0.526589     6.570000  \n",
       "max     33.300000  100.000000    9.400000    0.869897  1090.840000  "
      ]
     },
     "execution_count": 38,
     "metadata": {},
     "output_type": "execute_result"
    }
   ],
   "source": [
    "df.describe()"
   ]
  },
  {
   "cell_type": "code",
   "execution_count": 48,
   "metadata": {},
   "outputs": [
    {
     "data": {
      "text/plain": [
       "X        0\n",
       "Y        0\n",
       "month    0\n",
       "day      0\n",
       "FFMC     0\n",
       "DMC      0\n",
       "DC       0\n",
       "ISI      0\n",
       "temp     0\n",
       "RH       0\n",
       "wind     0\n",
       "rain     0\n",
       "area     0\n",
       "dtype: int64"
      ]
     },
     "execution_count": 48,
     "metadata": {},
     "output_type": "execute_result"
    }
   ],
   "source": [
    "df.isnull().sum()"
   ]
  },
  {
   "cell_type": "code",
   "execution_count": 74,
   "metadata": {},
   "outputs": [
    {
     "data": {
      "text/plain": [
       "count    517.000000\n",
       "mean       1.111026\n",
       "std        1.398436\n",
       "min        0.000000\n",
       "25%        0.000000\n",
       "50%        0.418710\n",
       "75%        2.024193\n",
       "max        6.995620\n",
       "Name: area, dtype: float64"
      ]
     },
     "execution_count": 74,
     "metadata": {},
     "output_type": "execute_result"
    }
   ],
   "source": [
    "np.log(df['area'] + 1).describe()"
   ]
  },
  {
   "attachments": {},
   "cell_type": "markdown",
   "metadata": {},
   "source": [
    "## Define X and Y\n",
    "### Target variable: Area"
   ]
  },
  {
   "cell_type": "code",
   "execution_count": 49,
   "metadata": {},
   "outputs": [],
   "source": [
    "x = df.drop(['area'], axis = 1).values\n",
    "y = df['area'].values"
   ]
  },
  {
   "cell_type": "code",
   "execution_count": 52,
   "metadata": {},
   "outputs": [
    {
     "name": "stdout",
     "output_type": "stream",
     "text": [
      "[[7 5 'mar' ... 51 6.7 0.0]\n",
      " [7 4 'oct' ... 33 0.9 0.0]\n",
      " [7 4 'oct' ... 33 1.3 0.0]\n",
      " ...\n",
      " [7 4 'aug' ... 70 6.7 0.0]\n",
      " [1 4 'aug' ... 42 4.0 0.0]\n",
      " [6 3 'nov' ... 31 4.5 0.0]]\n"
     ]
    }
   ],
   "source": [
    "print(x)"
   ]
  },
  {
   "attachments": {},
   "cell_type": "markdown",
   "metadata": {},
   "source": [
    "## Prepare the data\n",
    "### Because there are some skewness, we have to transform the dataset for better use"
   ]
  },
  {
   "cell_type": "code",
   "execution_count": 72,
   "metadata": {},
   "outputs": [
    {
     "name": "stdout",
     "output_type": "stream",
     "text": [
      "Skewness of area:  12.846933533934868\n"
     ]
    },
    {
     "name": "stderr",
     "output_type": "stream",
     "text": [
      "/opt/anaconda3/lib/python3.9/site-packages/seaborn/distributions.py:2619: FutureWarning:\n",
      "\n",
      "`distplot` is a deprecated function and will be removed in a future version. Please adapt your code to use either `displot` (a figure-level function with similar flexibility) or `histplot` (an axes-level function for histograms).\n",
      "\n"
     ]
    },
    {
     "data": {
      "image/png": "[encoded data removed]",
      "text/plain": [
       "<Figure size 1600x500 with 1 Axes>"
      ]
     },
     "metadata": {},
     "output_type": "display_data"
    }
   ],
   "source": [
    "plt.figure(figsize = (16, 5))\n",
    "sns.distplot(df['area'], color = 'g', bins = 100)\n",
    "plt.xticks([i for i in range(0, 1100, 100)])\n",
    "print('Skewness of area: ', df['area'].skew())\n",
    "plt.show()"
   ]
  },
  {
   "cell_type": "code",
   "execution_count": 90,
   "metadata": {},
   "outputs": [
    {
     "name": "stdout",
     "output_type": "stream",
     "text": [
      "Skewness after ln(a + 1) transform:  1.2178376559535011\n"
     ]
    },
    {
     "name": "stderr",
     "output_type": "stream",
     "text": [
      "/opt/anaconda3/lib/python3.9/site-packages/seaborn/distributions.py:2619: FutureWarning:\n",
      "\n",
      "`distplot` is a deprecated function and will be removed in a future version. Please adapt your code to use either `displot` (a figure-level function with similar flexibility) or `histplot` (an axes-level function for histograms).\n",
      "\n"
     ]
    },
    {
     "data": {
      "image/png": "[encoded data removed]",
      "text/plain": [
       "<Figure size 1600x500 with 1 Axes>"
      ]
     },
     "metadata": {},
     "output_type": "display_data"
    }
   ],
   "source": [
    "plt.figure(figsize = (16, 5))\n",
    "sns.distplot(np.log(df['area']+1), color = 'g', bins = 100)\n",
    "plt.xticks([i for i in range(0, 10, 100)])\n",
    "print('Skewness after ln(a + 1) transform: ',np.log(df['area'] + 1).skew())\n",
    "plt.show()"
   ]
  },
  {
   "cell_type": "code",
   "execution_count": 91,
   "metadata": {},
   "outputs": [
    {
     "name": "stderr",
     "output_type": "stream",
     "text": [
      "/opt/anaconda3/lib/python3.9/site-packages/seaborn/distributions.py:2619: FutureWarning:\n",
      "\n",
      "`distplot` is a deprecated function and will be removed in a future version. Please adapt your code to use either `displot` (a figure-level function with similar flexibility) or `histplot` (an axes-level function for histograms).\n",
      "\n"
     ]
    },
    {
     "name": "stdout",
     "output_type": "stream",
     "text": [
      "Skewness after sqrt transform:  4.338705170518166\n"
     ]
    },
    {
     "data": {
      "image/png": "[encoded data removed]",
      "text/plain": [
       "<Figure size 1600x500 with 1 Axes>"
      ]
     },
     "metadata": {},
     "output_type": "display_data"
    }
   ],
   "source": [
    "plt.figure(figsize = (16, 5))\n",
    "sns.distplot(np.sqrt(df['area']), color = 'g', bins = 100)\n",
    "plt.xticks([i for i in range(0, 10, 100)])\n",
    "print('Skewness after sqrt transform: ', np.sqrt(df['area']).skew())\n",
    "plt.show()"
   ]
  },
  {
   "cell_type": "code",
   "execution_count": 93,
   "metadata": {},
   "outputs": [
    {
     "data": {
      "text/plain": [
       "count    517.000000\n",
       "mean       1.800850\n",
       "std        3.102071\n",
       "min        0.000000\n",
       "25%        0.000000\n",
       "50%        0.721110\n",
       "75%        2.563201\n",
       "max       33.027867\n",
       "Name: area, dtype: float64"
      ]
     },
     "execution_count": 93,
     "metadata": {},
     "output_type": "execute_result"
    }
   ],
   "source": [
    "np.sqrt(df['area']).describe()"
   ]
  },
  {
   "cell_type": "code",
   "execution_count": 40,
   "metadata": {},
   "outputs": [],
   "source": [
    "def normalize(column):\n",
    "    upper = column.max()\n",
    "    lower = column.min()\n",
    "    y = (column - lower)/(upper-lower)\n",
    "    return y"
   ]
  },
  {
   "cell_type": "code",
   "execution_count": 37,
   "metadata": {},
   "outputs": [
    {
     "data": {
      "text/plain": [
       "0      0.526589\n",
       "1      0.526589\n",
       "2      0.526589\n",
       "3      0.576832\n",
       "4      0.526589\n",
       "         ...   \n",
       "512    0.526589\n",
       "513    0.526589\n",
       "514    0.526589\n",
       "515    0.526589\n",
       "516    0.526589\n",
       "Name: rain, Length: 517, dtype: float64"
      ]
     },
     "execution_count": 37,
     "metadata": {},
     "output_type": "execute_result"
    }
   ],
   "source": [
    "df['rain']"
   ]
  },
  {
   "cell_type": "code",
   "execution_count": 18,
   "metadata": {},
   "outputs": [
    {
     "data": {
      "application/vnd.plotly.v1+json": {
       "config": {
        "plotlyServerURL": "https://plotly.com"
       },
       "data": [
        {
         "alignmentgroup": "True",
         "bingroup": "x",
         "histnorm": "density",
         "hovertemplate": "FFMC=%{x}<br>density=%{y}<extra></extra>",
         "legendgroup": "",
         "marker": {
          "color": "#636efa",
          "pattern": {
           "shape": ""
          }
         },
         "name": "",
         "nbinsx": 100,
         "offsetgroup": "",
         "opacity": 1,
         "orientation": "v",
         "showlegend": false,
         "type": "histogram",
         "x": [
          86.2,
          90.6,
          90.6,
          91.7,
          89.3,
          92.3,
          92.3,
          91.5,
          91,
          92.5,
          92.5,
          92.8,
          63.5,
          90.9,
          92.9,
          93.3,
          91.7,
          84.9,
          89.2,
          86.3,
          91,
          91.8,
          94.3,
          90.2,
          93.5,
          91.4,
          92.4,
          90.9,
          93.4,
          93.5,
          94.3,
          88.6,
          88.6,
          91.7,
          91.8,
          90.3,
          90.6,
          90,
          90.6,
          88.1,
          79.5,
          90.2,
          94.8,
          92.5,
          90.1,
          94.3,
          90.9,
          94.2,
          87.2,
          87.6,
          92.9,
          90.2,
          92.1,
          92.1,
          91.7,
          92.9,
          90.3,
          92.6,
          84,
          86.6,
          89.3,
          89.3,
          93,
          90.2,
          91.1,
          91.7,
          92.4,
          92.4,
          92.4,
          91.7,
          91.2,
          94.3,
          91.7,
          88.8,
          93.3,
          84.2,
          86.6,
          87.6,
          90.1,
          91,
          91.4,
          90.2,
          94.8,
          92.1,
          91.7,
          92.9,
          92.9,
          92.9,
          93.5,
          91.7,
          90.2,
          91.7,
          92.3,
          91.4,
          91.1,
          89.7,
          83.9,
          69,
          91.4,
          91.4,
          91.4,
          88.8,
          94.8,
          92.5,
          82.1,
          85.9,
          91.4,
          90.2,
          92.5,
          88.6,
          85.9,
          91.7,
          89.7,
          91.8,
          88.1,
          88.1,
          91.7,
          91.7,
          90.1,
          93,
          91.5,
          91.5,
          92.4,
          84.4,
          94.3,
          92.6,
          87.6,
          93.5,
          91.4,
          92.6,
          68.2,
          87.2,
          89.3,
          93.7,
          88.1,
          93.5,
          92.4,
          90.9,
          85.8,
          91,
          90.9,
          95.5,
          90.1,
          90,
          95.5,
          95.2,
          90.1,
          84.4,
          94.8,
          93.7,
          92.5,
          90.1,
          90.1,
          94.3,
          93.4,
          94.8,
          93.4,
          92.1,
          92.1,
          92.4,
          90.1,
          95.2,
          90.6,
          92.5,
          89.7,
          84.9,
          92.1,
          96,
          91.2,
          95.2,
          92.9,
          85.6,
          91.4,
          90.9,
          90.2,
          90.2,
          81.5,
          90.2,
          90.1,
          88.8,
          92.4,
          84.9,
          86.8,
          91.7,
          93.9,
          91,
          89.3,
          90.9,
          90.8,
          90.7,
          91.2,
          95.2,
          94.8,
          92.9,
          94.8,
          93.9,
          81.5,
          92.9,
          91,
          63.5,
          91,
          90.1,
          83.9,
          91.4,
          90.6,
          92.9,
          93.5,
          91,
          92.4,
          93.7,
          90.6,
          93.5,
          94.3,
          87.6,
          91.7,
          91.7,
          92.4,
          88.6,
          92.9,
          90.1,
          90.2,
          93.3,
          87.6,
          88.3,
          90.1,
          93.5,
          91.7,
          92.2,
          93.5,
          92.2,
          92.9,
          93.5,
          91,
          84.4,
          92.5,
          91.4,
          92.5,
          91,
          92.5,
          81.9,
          88,
          83,
          94.2,
          91.8,
          91.8,
          91.8,
          91.8,
          92.2,
          93.1,
          93.1,
          93.1,
          93.1,
          93.1,
          91.9,
          91.6,
          87.5,
          94.2,
          94.2,
          91.8,
          91.8,
          93.6,
          91.6,
          91.6,
          91.1,
          94.3,
          93.7,
          94.3,
          92.1,
          92.1,
          92.1,
          92.1,
          92.1,
          92.1,
          84.4,
          84,
          84.6,
          85.4,
          85.4,
          85.4,
          85.4,
          84.7,
          85.4,
          84.9,
          86.9,
          85.2,
          93.9,
          91.2,
          91.6,
          91.6,
          91.6,
          91.6,
          91.6,
          91.6,
          93.1,
          92.3,
          93.1,
          90.4,
          90.4,
          91.2,
          53.4,
          90.4,
          90.4,
          91.1,
          91.1,
          85.1,
          89.6,
          89.6,
          89.6,
          92.4,
          92.4,
          92.4,
          92.4,
          50.4,
          92.6,
          92.6,
          91.2,
          92.4,
          92.4,
          92.8,
          92.8,
          92.8,
          92.8,
          92.8,
          90.7,
          88.1,
          92.2,
          92.2,
          92.2,
          92.2,
          92.2,
          92.2,
          91.2,
          91.2,
          92.1,
          91.6,
          91.6,
          91.6,
          91.6,
          91.6,
          91.6,
          91.6,
          91.9,
          91.5,
          91.5,
          91.5,
          91.5,
          91.5,
          92.1,
          92.1,
          92.1,
          92.1,
          92.1,
          92.1,
          92.1,
          92.1,
          92.1,
          92.1,
          92.5,
          92.5,
          92.5,
          92.5,
          92.5,
          88.2,
          91.9,
          91.9,
          91.9,
          91.1,
          91.1,
          91.2,
          91,
          91,
          91.9,
          92,
          94.8,
          90.3,
          91.2,
          92.1,
          93.7,
          90.9,
          18.7,
          93.7,
          90.7,
          95.2,
          91.6,
          91.6,
          91.6,
          90.5,
          90.9,
          94.8,
          94.8,
          84.7,
          91.1,
          91,
          93.4,
          84.1,
          85,
          90.5,
          91.6,
          93.7,
          93.3,
          93.3,
          91.1,
          94.8,
          90.7,
          87.9,
          94.6,
          87.1,
          84.7,
          90.3,
          92.3,
          84.1,
          84.6,
          92.3,
          93.7,
          93.6,
          94.8,
          92.7,
          93.4,
          92,
          91.6,
          91.7,
          95.2,
          88.9,
          91.2,
          93.7,
          91.6,
          91.6,
          92.1,
          94.8,
          91.6,
          89.7,
          92.1,
          94.8,
          93.6,
          90.6,
          90.8,
          92.1,
          89.4,
          93.7,
          91.1,
          90.3,
          92.1,
          87.9,
          90.7,
          90.3,
          94,
          92,
          93.4,
          89.7,
          91.6,
          95.2,
          90.5,
          91.5,
          89.4,
          91.6,
          94.6,
          91.6,
          91.7,
          93.7,
          91.6,
          93.7,
          93.7,
          91,
          75.1,
          75.1,
          79.5,
          87.2,
          90.2,
          91.3,
          91,
          91,
          89.6,
          88.2,
          90.5,
          93,
          93.7,
          93.5,
          93.7,
          93.7,
          89.2,
          93.2,
          93.2,
          94.9,
          94.9,
          94.9,
          95,
          95.1,
          95.1,
          95.1,
          95.1,
          95.1,
          95.8,
          95.9,
          95.9,
          96,
          96.2,
          96.2,
          96.1,
          96.1,
          96.1,
          96.1,
          96.1,
          96.1,
          94.5,
          94.5,
          91,
          91,
          91,
          91,
          91,
          91,
          81.6,
          81.6,
          81.6,
          81.6,
          94.4,
          79.5
         ],
         "xaxis": "x",
         "yaxis": "y"
        },
        {
         "alignmentgroup": "True",
         "hovertemplate": "FFMC=%{x}<extra></extra>",
         "legendgroup": "",
         "marker": {
          "color": "#636efa"
         },
         "name": "",
         "notched": true,
         "offsetgroup": "",
         "opacity": 1,
         "showlegend": false,
         "type": "box",
         "x": [
          86.2,
          90.6,
          90.6,
          91.7,
          89.3,
          92.3,
          92.3,
          91.5,
          91,
          92.5,
          92.5,
          92.8,
          63.5,
          90.9,
          92.9,
          93.3,
          91.7,
          84.9,
          89.2,
          86.3,
          91,
          91.8,
          94.3,
          90.2,
          93.5,
          91.4,
          92.4,
          90.9,
          93.4,
          93.5,
          94.3,
          88.6,
          88.6,
          91.7,
          91.8,
          90.3,
          90.6,
          90,
          90.6,
          88.1,
          79.5,
          90.2,
          94.8,
          92.5,
          90.1,
          94.3,
          90.9,
          94.2,
          87.2,
          87.6,
          92.9,
          90.2,
          92.1,
          92.1,
          91.7,
          92.9,
          90.3,
          92.6,
          84,
          86.6,
          89.3,
          89.3,
          93,
          90.2,
          91.1,
          91.7,
          92.4,
          92.4,
          92.4,
          91.7,
          91.2,
          94.3,
          91.7,
          88.8,
          93.3,
          84.2,
          86.6,
          87.6,
          90.1,
          91,
          91.4,
          90.2,
          94.8,
          92.1,
          91.7,
          92.9,
          92.9,
          92.9,
          93.5,
          91.7,
          90.2,
          91.7,
          92.3,
          91.4,
          91.1,
          89.7,
          83.9,
          69,
          91.4,
          91.4,
          91.4,
          88.8,
          94.8,
          92.5,
          82.1,
          85.9,
          91.4,
          90.2,
          92.5,
          88.6,
          85.9,
          91.7,
          89.7,
          91.8,
          88.1,
          88.1,
          91.7,
          91.7,
          90.1,
          93,
          91.5,
          91.5,
          92.4,
          84.4,
          94.3,
          92.6,
          87.6,
          93.5,
          91.4,
          92.6,
          68.2,
          87.2,
          89.3,
          93.7,
          88.1,
          93.5,
          92.4,
          90.9,
          85.8,
          91,
          90.9,
          95.5,
          90.1,
          90,
          95.5,
          95.2,
          90.1,
          84.4,
          94.8,
          93.7,
          92.5,
          90.1,
          90.1,
          94.3,
          93.4,
          94.8,
          93.4,
          92.1,
          92.1,
          92.4,
          90.1,
          95.2,
          90.6,
          92.5,
          89.7,
          84.9,
          92.1,
          96,
          91.2,
          95.2,
          92.9,
          85.6,
          91.4,
          90.9,
          90.2,
          90.2,
          81.5,
          90.2,
          90.1,
          88.8,
          92.4,
          84.9,
          86.8,
          91.7,
          93.9,
          91,
          89.3,
          90.9,
          90.8,
          90.7,
          91.2,
          95.2,
          94.8,
          92.9,
          94.8,
          93.9,
          81.5,
          92.9,
          91,
          63.5,
          91,
          90.1,
          83.9,
          91.4,
          90.6,
          92.9,
          93.5,
          91,
          92.4,
          93.7,
          90.6,
          93.5,
          94.3,
          87.6,
          91.7,
          91.7,
          92.4,
          88.6,
          92.9,
          90.1,
          90.2,
          93.3,
          87.6,
          88.3,
          90.1,
          93.5,
          91.7,
          92.2,
          93.5,
          92.2,
          92.9,
          93.5,
          91,
          84.4,
          92.5,
          91.4,
          92.5,
          91,
          92.5,
          81.9,
          88,
          83,
          94.2,
          91.8,
          91.8,
          91.8,
          91.8,
          92.2,
          93.1,
          93.1,
          93.1,
          93.1,
          93.1,
          91.9,
          91.6,
          87.5,
          94.2,
          94.2,
          91.8,
          91.8,
          93.6,
          91.6,
          91.6,
          91.1,
          94.3,
          93.7,
          94.3,
          92.1,
          92.1,
          92.1,
          92.1,
          92.1,
          92.1,
          84.4,
          84,
          84.6,
          85.4,
          85.4,
          85.4,
          85.4,
          84.7,
          85.4,
          84.9,
          86.9,
          85.2,
          93.9,
          91.2,
          91.6,
          91.6,
          91.6,
          91.6,
          91.6,
          91.6,
          93.1,
          92.3,
          93.1,
          90.4,
          90.4,
          91.2,
          53.4,
          90.4,
          90.4,
          91.1,
          91.1,
          85.1,
          89.6,
          89.6,
          89.6,
          92.4,
          92.4,
          92.4,
          92.4,
          50.4,
          92.6,
          92.6,
          91.2,
          92.4,
          92.4,
          92.8,
          92.8,
          92.8,
          92.8,
          92.8,
          90.7,
          88.1,
          92.2,
          92.2,
          92.2,
          92.2,
          92.2,
          92.2,
          91.2,
          91.2,
          92.1,
          91.6,
          91.6,
          91.6,
          91.6,
          91.6,
          91.6,
          91.6,
          91.9,
          91.5,
          91.5,
          91.5,
          91.5,
          91.5,
          92.1,
          92.1,
          92.1,
          92.1,
          92.1,
          92.1,
          92.1,
          92.1,
          92.1,
          92.1,
          92.5,
          92.5,
          92.5,
          92.5,
          92.5,
          88.2,
          91.9,
          91.9,
          91.9,
          91.1,
          91.1,
          91.2,
          91,
          91,
          91.9,
          92,
          94.8,
          90.3,
          91.2,
          92.1,
          93.7,
          90.9,
          18.7,
          93.7,
          90.7,
          95.2,
          91.6,
          91.6,
          91.6,
          90.5,
          90.9,
          94.8,
          94.8,
          84.7,
          91.1,
          91,
          93.4,
          84.1,
          85,
          90.5,
          91.6,
          93.7,
          93.3,
          93.3,
          91.1,
          94.8,
          90.7,
          87.9,
          94.6,
          87.1,
          84.7,
          90.3,
          92.3,
          84.1,
          84.6,
          92.3,
          93.7,
          93.6,
          94.8,
          92.7,
          93.4,
          92,
          91.6,
          91.7,
          95.2,
          88.9,
          91.2,
          93.7,
          91.6,
          91.6,
          92.1,
          94.8,
          91.6,
          89.7,
          92.1,
          94.8,
          93.6,
          90.6,
          90.8,
          92.1,
          89.4,
          93.7,
          91.1,
          90.3,
          92.1,
          87.9,
          90.7,
          90.3,
          94,
          92,
          93.4,
          89.7,
          91.6,
          95.2,
          90.5,
          91.5,
          89.4,
          91.6,
          94.6,
          91.6,
          91.7,
          93.7,
          91.6,
          93.7,
          93.7,
          91,
          75.1,
          75.1,
          79.5,
          87.2,
          90.2,
          91.3,
          91,
          91,
          89.6,
          88.2,
          90.5,
          93,
          93.7,
          93.5,
          93.7,
          93.7,
          89.2,
          93.2,
          93.2,
          94.9,
          94.9,
          94.9,
          95,
          95.1,
          95.1,
          95.1,
          95.1,
          95.1,
          95.8,
          95.9,
          95.9,
          96,
          96.2,
          96.2,
          96.1,
          96.1,
          96.1,
          96.1,
          96.1,
          96.1,
          94.5,
          94.5,
          91,
          91,
          91,
          91,
          91,
          91,
          81.6,
          81.6,
          81.6,
          81.6,
          94.4,
          79.5
         ],
         "xaxis": "x2",
         "yaxis": "y2"
        }
       ],
       "layout": {
        "barmode": "relative",
        "height": 600,
        "legend": {
         "tracegroupgap": 0
        },
        "margin": {
         "t": 60
        },
        "template": {
         "data": {
          "bar": [
           {
            "error_x": {
             "color": "#2a3f5f"
            },
            "error_y": {
             "color": "#2a3f5f"
            },
            "marker": {
             "line": {
              "color": "#E5ECF6",
              "width": 0.5
             },
             "pattern": {
              "fillmode": "overlay",
              "size": 10,
              "solidity": 0.2
             }
            },
            "type": "bar"
           }
          ],
          "barpolar": [
           {
            "marker": {
             "line": {
              "color": "#E5ECF6",
              "width": 0.5
             },
             "pattern": {
              "fillmode": "overlay",
              "size": 10,
              "solidity": 0.2
             }
            },
            "type": "barpolar"
           }
          ],
          "carpet": [
           {
            "aaxis": {
             "endlinecolor": "#2a3f5f",
             "gridcolor": "white",
             "linecolor": "white",
             "minorgridcolor": "white",
             "startlinecolor": "#2a3f5f"
            },
            "baxis": {
             "endlinecolor": "#2a3f5f",
             "gridcolor": "white",
             "linecolor": "white",
             "minorgridcolor": "white",
             "startlinecolor": "#2a3f5f"
            },
            "type": "carpet"
           }
          ],
          "choropleth": [
           {
            "colorbar": {
             "outlinewidth": 0,
             "ticks": ""
            },
            "type": "choropleth"
           }
          ],
          "contour": [
           {
            "colorbar": {
             "outlinewidth": 0,
             "ticks": ""
            },
            "colorscale": [
             [
              0,
              "#0d0887"
             ],
             [
              0.1111111111111111,
              "#46039f"
             ],
             [
              0.2222222222222222,
              "#7201a8"
             ],
             [
              0.3333333333333333,
              "#9c179e"
             ],
             [
              0.4444444444444444,
              "#bd3786"
             ],
             [
              0.5555555555555556,
              "#d8576b"
             ],
             [
              0.6666666666666666,
              "#ed7953"
             ],
             [
              0.7777777777777778,
              "#fb9f3a"
             ],
             [
              0.8888888888888888,
              "#fdca26"
             ],
             [
              1,
              "#f0f921"
             ]
            ],
            "type": "contour"
           }
          ],
          "contourcarpet": [
           {
            "colorbar": {
             "outlinewidth": 0,
             "ticks": ""
            },
            "type": "contourcarpet"
           }
          ],
          "heatmap": [
           {
            "colorbar": {
             "outlinewidth": 0,
             "ticks": ""
            },
            "colorscale": [
             [
              0,
              "#0d0887"
             ],
             [
              0.1111111111111111,
              "#46039f"
             ],
             [
              0.2222222222222222,
              "#7201a8"
             ],
             [
              0.3333333333333333,
              "#9c179e"
             ],
             [
              0.4444444444444444,
              "#bd3786"
             ],
             [
              0.5555555555555556,
              "#d8576b"
             ],
             [
              0.6666666666666666,
              "#ed7953"
             ],
             [
              0.7777777777777778,
              "#fb9f3a"
             ],
             [
              0.8888888888888888,
              "#fdca26"
             ],
             [
              1,
              "#f0f921"
             ]
            ],
            "type": "heatmap"
           }
          ],
          "heatmapgl": [
           {
            "colorbar": {
             "outlinewidth": 0,
             "ticks": ""
            },
            "colorscale": [
             [
              0,
              "#0d0887"
             ],
             [
              0.1111111111111111,
              "#46039f"
             ],
             [
              0.2222222222222222,
              "#7201a8"
             ],
             [
              0.3333333333333333,
              "#9c179e"
             ],
             [
              0.4444444444444444,
              "#bd3786"
             ],
             [
              0.5555555555555556,
              "#d8576b"
             ],
             [
              0.6666666666666666,
              "#ed7953"
             ],
             [
              0.7777777777777778,
              "#fb9f3a"
             ],
             [
              0.8888888888888888,
              "#fdca26"
             ],
             [
              1,
              "#f0f921"
             ]
            ],
            "type": "heatmapgl"
           }
          ],
          "histogram": [
           {
            "marker": {
             "pattern": {
              "fillmode": "overlay",
              "size": 10,
              "solidity": 0.2
             }
            },
            "type": "histogram"
           }
          ],
          "histogram2d": [
           {
            "colorbar": {
             "outlinewidth": 0,
             "ticks": ""
            },
            "colorscale": [
             [
              0,
              "#0d0887"
             ],
             [
              0.1111111111111111,
              "#46039f"
             ],
             [
              0.2222222222222222,
              "#7201a8"
             ],
             [
              0.3333333333333333,
              "#9c179e"
             ],
             [
              0.4444444444444444,
              "#bd3786"
             ],
             [
              0.5555555555555556,
              "#d8576b"
             ],
             [
              0.6666666666666666,
              "#ed7953"
             ],
             [
              0.7777777777777778,
              "#fb9f3a"
             ],
             [
              0.8888888888888888,
              "#fdca26"
             ],
             [
              1,
              "#f0f921"
             ]
            ],
            "type": "histogram2d"
           }
          ],
          "histogram2dcontour": [
           {
            "colorbar": {
             "outlinewidth": 0,
             "ticks": ""
            },
            "colorscale": [
             [
              0,
              "#0d0887"
             ],
             [
              0.1111111111111111,
              "#46039f"
             ],
             [
              0.2222222222222222,
              "#7201a8"
             ],
             [
              0.3333333333333333,
              "#9c179e"
             ],
             [
              0.4444444444444444,
              "#bd3786"
             ],
             [
              0.5555555555555556,
              "#d8576b"
             ],
             [
              0.6666666666666666,
              "#ed7953"
             ],
             [
              0.7777777777777778,
              "#fb9f3a"
             ],
             [
              0.8888888888888888,
              "#fdca26"
             ],
             [
              1,
              "#f0f921"
             ]
            ],
            "type": "histogram2dcontour"
           }
          ],
          "mesh3d": [
           {
            "colorbar": {
             "outlinewidth": 0,
             "ticks": ""
            },
            "type": "mesh3d"
           }
          ],
          "parcoords": [
           {
            "line": {
             "colorbar": {
              "outlinewidth": 0,
              "ticks": ""
             }
            },
            "type": "parcoords"
           }
          ],
          "pie": [
           {
            "automargin": true,
            "type": "pie"
           }
          ],
          "scatter": [
           {
            "fillpattern": {
             "fillmode": "overlay",
             "size": 10,
             "solidity": 0.2
            },
            "type": "scatter"
           }
          ],
          "scatter3d": [
           {
            "line": {
             "colorbar": {
              "outlinewidth": 0,
              "ticks": ""
             }
            },
            "marker": {
             "colorbar": {
              "outlinewidth": 0,
              "ticks": ""
             }
            },
            "type": "scatter3d"
           }
          ],
          "scattercarpet": [
           {
            "marker": {
             "colorbar": {
              "outlinewidth": 0,
              "ticks": ""
             }
            },
            "type": "scattercarpet"
           }
          ],
          "scattergeo": [
           {
            "marker": {
             "colorbar": {
              "outlinewidth": 0,
              "ticks": ""
             }
            },
            "type": "scattergeo"
           }
          ],
          "scattergl": [
           {
            "marker": {
             "colorbar": {
              "outlinewidth": 0,
              "ticks": ""
             }
            },
            "type": "scattergl"
           }
          ],
          "scattermapbox": [
           {
            "marker": {
             "colorbar": {
              "outlinewidth": 0,
              "ticks": ""
             }
            },
            "type": "scattermapbox"
           }
          ],
          "scatterpolar": [
           {
            "marker": {
             "colorbar": {
              "outlinewidth": 0,
              "ticks": ""
             }
            },
            "type": "scatterpolar"
           }
          ],
          "scatterpolargl": [
           {
            "marker": {
             "colorbar": {
              "outlinewidth": 0,
              "ticks": ""
             }
            },
            "type": "scatterpolargl"
           }
          ],
          "scatterternary": [
           {
            "marker": {
             "colorbar": {
              "outlinewidth": 0,
              "ticks": ""
             }
            },
            "type": "scatterternary"
           }
          ],
          "surface": [
           {
            "colorbar": {
             "outlinewidth": 0,
             "ticks": ""
            },
            "colorscale": [
             [
              0,
              "#0d0887"
             ],
             [
              0.1111111111111111,
              "#46039f"
             ],
             [
              0.2222222222222222,
              "#7201a8"
             ],
             [
              0.3333333333333333,
              "#9c179e"
             ],
             [
              0.4444444444444444,
              "#bd3786"
             ],
             [
              0.5555555555555556,
              "#d8576b"
             ],
             [
              0.6666666666666666,
              "#ed7953"
             ],
             [
              0.7777777777777778,
              "#fb9f3a"
             ],
             [
              0.8888888888888888,
              "#fdca26"
             ],
             [
              1,
              "#f0f921"
             ]
            ],
            "type": "surface"
           }
          ],
          "table": [
           {
            "cells": {
             "fill": {
              "color": "#EBF0F8"
             },
             "line": {
              "color": "white"
             }
            },
            "header": {
             "fill": {
              "color": "#C8D4E3"
             },
             "line": {
              "color": "white"
             }
            },
            "type": "table"
           }
          ]
         },
         "layout": {
          "annotationdefaults": {
           "arrowcolor": "#2a3f5f",
           "arrowhead": 0,
           "arrowwidth": 1
          },
          "autotypenumbers": "strict",
          "coloraxis": {
           "colorbar": {
            "outlinewidth": 0,
            "ticks": ""
           }
          },
          "colorscale": {
           "diverging": [
            [
             0,
             "#8e0152"
            ],
            [
             0.1,
             "#c51b7d"
            ],
            [
             0.2,
             "#de77ae"
            ],
            [
             0.3,
             "#f1b6da"
            ],
            [
             0.4,
             "#fde0ef"
            ],
            [
             0.5,
             "#f7f7f7"
            ],
            [
             0.6,
             "#e6f5d0"
            ],
            [
             0.7,
             "#b8e186"
            ],
            [
             0.8,
             "#7fbc41"
            ],
            [
             0.9,
             "#4d9221"
            ],
            [
             1,
             "#276419"
            ]
           ],
           "sequential": [
            [
             0,
             "#0d0887"
            ],
            [
             0.1111111111111111,
             "#46039f"
            ],
            [
             0.2222222222222222,
             "#7201a8"
            ],
            [
             0.3333333333333333,
             "#9c179e"
            ],
            [
             0.4444444444444444,
             "#bd3786"
            ],
            [
             0.5555555555555556,
             "#d8576b"
            ],
            [
             0.6666666666666666,
             "#ed7953"
            ],
            [
             0.7777777777777778,
             "#fb9f3a"
            ],
            [
             0.8888888888888888,
             "#fdca26"
            ],
            [
             1,
             "#f0f921"
            ]
           ],
           "sequentialminus": [
            [
             0,
             "#0d0887"
            ],
            [
             0.1111111111111111,
             "#46039f"
            ],
            [
             0.2222222222222222,
             "#7201a8"
            ],
            [
             0.3333333333333333,
             "#9c179e"
            ],
            [
             0.4444444444444444,
             "#bd3786"
            ],
            [
             0.5555555555555556,
             "#d8576b"
            ],
            [
             0.6666666666666666,
             "#ed7953"
            ],
            [
             0.7777777777777778,
             "#fb9f3a"
            ],
            [
             0.8888888888888888,
             "#fdca26"
            ],
            [
             1,
             "#f0f921"
            ]
           ]
          },
          "colorway": [
           "#636efa",
           "#EF553B",
           "#00cc96",
           "#ab63fa",
           "#FFA15A",
           "#19d3f3",
           "#FF6692",
           "#B6E880",
           "#FF97FF",
           "#FECB52"
          ],
          "font": {
           "color": "#2a3f5f"
          },
          "geo": {
           "bgcolor": "white",
           "lakecolor": "white",
           "landcolor": "#E5ECF6",
           "showlakes": true,
           "showland": true,
           "subunitcolor": "white"
          },
          "hoverlabel": {
           "align": "left"
          },
          "hovermode": "closest",
          "mapbox": {
           "style": "light"
          },
          "paper_bgcolor": "white",
          "plot_bgcolor": "#E5ECF6",
          "polar": {
           "angularaxis": {
            "gridcolor": "white",
            "linecolor": "white",
            "ticks": ""
           },
           "bgcolor": "#E5ECF6",
           "radialaxis": {
            "gridcolor": "white",
            "linecolor": "white",
            "ticks": ""
           }
          },
          "scene": {
           "xaxis": {
            "backgroundcolor": "#E5ECF6",
            "gridcolor": "white",
            "gridwidth": 2,
            "linecolor": "white",
            "showbackground": true,
            "ticks": "",
            "zerolinecolor": "white"
           },
           "yaxis": {
            "backgroundcolor": "#E5ECF6",
            "gridcolor": "white",
            "gridwidth": 2,
            "linecolor": "white",
            "showbackground": true,
            "ticks": "",
            "zerolinecolor": "white"
           },
           "zaxis": {
            "backgroundcolor": "#E5ECF6",
            "gridcolor": "white",
            "gridwidth": 2,
            "linecolor": "white",
            "showbackground": true,
            "ticks": "",
            "zerolinecolor": "white"
           }
          },
          "shapedefaults": {
           "line": {
            "color": "#2a3f5f"
           }
          },
          "ternary": {
           "aaxis": {
            "gridcolor": "white",
            "linecolor": "white",
            "ticks": ""
           },
           "baxis": {
            "gridcolor": "white",
            "linecolor": "white",
            "ticks": ""
           },
           "bgcolor": "#E5ECF6",
           "caxis": {
            "gridcolor": "white",
            "linecolor": "white",
            "ticks": ""
           }
          },
          "title": {
           "x": 0.05
          },
          "xaxis": {
           "automargin": true,
           "gridcolor": "white",
           "linecolor": "white",
           "ticks": "",
           "title": {
            "standoff": 15
           },
           "zerolinecolor": "white",
           "zerolinewidth": 2
          },
          "yaxis": {
           "automargin": true,
           "gridcolor": "white",
           "linecolor": "white",
           "ticks": "",
           "title": {
            "standoff": 15
           },
           "zerolinecolor": "white",
           "zerolinewidth": 2
          }
         }
        },
        "title": {
         "font": {
          "family": "Gulliver",
          "size": 40
         },
         "text": "FFMC",
         "x": 0.5
        },
        "width": 1000,
        "xaxis": {
         "anchor": "y",
         "domain": [
          0,
          1
         ],
         "tickfont": {
          "size": 20
         },
         "title": {
          "text": "FFMC"
         }
        },
        "xaxis2": {
         "anchor": "y2",
         "domain": [
          0,
          1
         ],
         "matches": "x",
         "showgrid": true,
         "showticklabels": false
        },
        "yaxis": {
         "anchor": "x",
         "domain": [
          0,
          0.8316
         ],
         "tickfont": {
          "size": 20
         },
         "title": {
          "text": "Density"
         }
        },
        "yaxis2": {
         "anchor": "x2",
         "domain": [
          0.8416,
          1
         ],
         "matches": "y2",
         "showgrid": false,
         "showline": false,
         "showticklabels": false,
         "ticks": ""
        }
       }
      }
     },
     "metadata": {},
     "output_type": "display_data"
    },
    {
     "data": {
      "application/vnd.plotly.v1+json": {
       "config": {
        "plotlyServerURL": "https://plotly.com"
       },
       "data": [
        {
         "alignmentgroup": "True",
         "bingroup": "x",
         "histnorm": "density",
         "hovertemplate": "DMC=%{x}<br>density=%{y}<extra></extra>",
         "legendgroup": "",
         "marker": {
          "color": "#636efa",
          "pattern": {
           "shape": ""
          }
         },
         "name": "",
         "nbinsx": 100,
         "offsetgroup": "",
         "opacity": 1,
         "orientation": "v",
         "showlegend": false,
         "type": "histogram",
         "x": [
          26.2,
          35.4,
          43.7,
          33.3,
          51.3,
          85.3,
          88.9,
          145.4,
          129.5,
          88,
          88,
          73.2,
          70.8,
          126.5,
          133.3,
          141.2,
          35.8,
          32.8,
          27.9,
          27.4,
          129.5,
          78.5,
          96.3,
          110.9,
          139.4,
          142.4,
          117.9,
          126.5,
          145.4,
          149.3,
          85.1,
          91.8,
          69.7,
          75.6,
          78.5,
          80.7,
          35.4,
          41.5,
          43.7,
          25.7,
          60.6,
          96.9,
          108.3,
          88,
          82.9,
          85.1,
          126.5,
          62.3,
          23.9,
          52.2,
          137,
          99.6,
          111.2,
          111.2,
          114.3,
          137,
          80.7,
          46.5,
          9.3,
          13.2,
          51.3,
          51.3,
          75.3,
          99.6,
          103.2,
          114.3,
          117.9,
          117.9,
          117.9,
          33.3,
          48.3,
          85.1,
          33.3,
          147.3,
          141.2,
          6.8,
          13.2,
          52.2,
          108,
          121.2,
          142.4,
          99.6,
          108.3,
          111.2,
          114.3,
          137,
          137,
          137,
          149.3,
          35.8,
          96.9,
          35.8,
          85.3,
          142.4,
          103.2,
          90,
          8,
          2.4,
          142.4,
          142.4,
          142.4,
          147.3,
          108.3,
          121.1,
          3.7,
          19.5,
          30.7,
          99.6,
          88,
          91.8,
          19.5,
          33.3,
          90,
          78.5,
          25.7,
          25.7,
          35.8,
          35.8,
          39.7,
          75.3,
          145.4,
          145.4,
          124.1,
          73.4,
          85.1,
          46.5,
          52.2,
          149.3,
          37.9,
          46.5,
          21.5,
          23.9,
          51.3,
          80.9,
          25.7,
          139.4,
          124.1,
          126.5,
          48.3,
          129.5,
          126.5,
          99.9,
          108,
          51.3,
          99.9,
          131.7,
          39.7,
          73.4,
          108.3,
          80.9,
          56.4,
          68.6,
          51.2,
          85.1,
          145.4,
          108.3,
          145.4,
          111.2,
          111.2,
          117.9,
          39.7,
          131.7,
          50.1,
          121.1,
          90,
          18.2,
          111.2,
          127.1,
          48.3,
          131.7,
          133.3,
          90.4,
          142.4,
          126.5,
          96.9,
          96.9,
          9.1,
          99.6,
          82.9,
          147.3,
          124.1,
          32.8,
          15.6,
          48.5,
          135.7,
          129.5,
          51.3,
          126.5,
          41.9,
          44,
          48.3,
          131.7,
          108.3,
          133.3,
          108.3,
          135.7,
          9.1,
          137,
          129.5,
          70.8,
          129.5,
          37.6,
          8.7,
          37.9,
          50.1,
          137,
          139.4,
          129.5,
          117.9,
          80.9,
          43.7,
          139.4,
          85.1,
          52.2,
          35.8,
          35.8,
          124.1,
          91.8,
          133.3,
          39.7,
          99.6,
          141.2,
          52.2,
          150.3,
          82.9,
          149.3,
          48.5,
          81.8,
          149.3,
          81.8,
          133.3,
          149.3,
          129.5,
          73.4,
          121.1,
          142.4,
          121.1,
          129.5,
          121.1,
          3,
          17.2,
          23.3,
          122.3,
          175.1,
          175.1,
          175.1,
          175.1,
          91.6,
          157.3,
          157.3,
          157.3,
          157.3,
          157.3,
          109.2,
          138.1,
          77,
          117.2,
          117.2,
          170.9,
          170.9,
          97.9,
          112.4,
          112.4,
          141.1,
          167.6,
          102.2,
          131.7,
          152.6,
          152.6,
          152.6,
          152.6,
          152.6,
          152.6,
          27.2,
          27.8,
          26.4,
          25.4,
          25.4,
          25.4,
          25.4,
          26.7,
          25.4,
          27.5,
          6.6,
          4.9,
          169.7,
          183.1,
          104.2,
          104.2,
          104.2,
          104.2,
          104.2,
          100.2,
          180.4,
          88.8,
          180.4,
          89.5,
          89.5,
          147.8,
          71,
          93.3,
          93.3,
          94.1,
          94.1,
          28,
          84.1,
          84.1,
          84.1,
          105.8,
          105.8,
          105.8,
          105.8,
          46.2,
          115.4,
          115.4,
          134.7,
          96.2,
          96.2,
          119,
          119,
          119,
          119,
          119,
          136.9,
          53.3,
          102.3,
          102.3,
          102.3,
          102.3,
          102.3,
          102.3,
          124.4,
          124.4,
          87.7,
          108.4,
          108.4,
          108.4,
          108.4,
          108.4,
          108.4,
          108.4,
          111.7,
          130.1,
          130.1,
          130.1,
          130.1,
          130.1,
          99,
          99,
          99,
          99,
          99,
          99,
          99,
          99,
          99,
          99,
          122,
          122,
          122,
          122,
          122,
          55.2,
          111.7,
          111.7,
          111.7,
          132.3,
          132.3,
          94.3,
          276.3,
          276.3,
          133.6,
          203.2,
          222.4,
          290,
          94.3,
          207,
          231.1,
          18.9,
          1.1,
          101.3,
          194.1,
          217.7,
          248.4,
          273.8,
          181.3,
          96.7,
          18.9,
          227,
          227,
          9.5,
          91.3,
          276.3,
          15,
          4.6,
          9,
          96.7,
          181.3,
          231.1,
          49.5,
          49.5,
          88.2,
          227,
          194.1,
          84.8,
          212.1,
          291.3,
          8.2,
          290,
          96.2,
          7.3,
          3.2,
          92.1,
          231.1,
          235.1,
          222.4,
          164.1,
          17.3,
          203.2,
          181.3,
          191.4,
          217.7,
          263.1,
          94.3,
          231.1,
          248.4,
          248.4,
          207,
          222.4,
          181.3,
          287.2,
          178,
          222.4,
          235.1,
          269.8,
          84.7,
          207,
          253.6,
          231.1,
          91.3,
          290,
          207,
          24.9,
          80.9,
          290,
          47.9,
          203.2,
          17.3,
          284.9,
          181.3,
          217.7,
          196.8,
          238.2,
          266.2,
          248.4,
          160,
          248.4,
          191.4,
          231.1,
          273.8,
          231.1,
          231.1,
          276.3,
          4.4,
          4.4,
          3.6,
          15.1,
          18.5,
          20.6,
          14.6,
          14.6,
          25.4,
          96.2,
          61.1,
          103.8,
          121.7,
          85.3,
          101.3,
          101.3,
          103.9,
          114.4,
          114.4,
          130.3,
          130.3,
          130.3,
          135.5,
          141.3,
          141.3,
          141.3,
          141.3,
          141.3,
          152,
          158,
          158,
          164,
          175.5,
          175.5,
          181.1,
          181.1,
          181.1,
          181.1,
          181.1,
          181.1,
          139.4,
          139.4,
          163.2,
          166.9,
          166.9,
          166.9,
          166.9,
          166.9,
          56.7,
          56.7,
          56.7,
          56.7,
          146,
          3
         ],
         "xaxis": "x",
         "yaxis": "y"
        },
        {
         "alignmentgroup": "True",
         "hovertemplate": "DMC=%{x}<extra></extra>",
         "legendgroup": "",
         "marker": {
          "color": "#636efa"
         },
         "name": "",
         "notched": true,
         "offsetgroup": "",
         "opacity": 1,
         "showlegend": false,
         "type": "box",
         "x": [
          26.2,
          35.4,
          43.7,
          33.3,
          51.3,
          85.3,
          88.9,
          145.4,
          129.5,
          88,
          88,
          73.2,
          70.8,
          126.5,
          133.3,
          141.2,
          35.8,
          32.8,
          27.9,
          27.4,
          129.5,
          78.5,
          96.3,
          110.9,
          139.4,
          142.4,
          117.9,
          126.5,
          145.4,
          149.3,
          85.1,
          91.8,
          69.7,
          75.6,
          78.5,
          80.7,
          35.4,
          41.5,
          43.7,
          25.7,
          60.6,
          96.9,
          108.3,
          88,
          82.9,
          85.1,
          126.5,
          62.3,
          23.9,
          52.2,
          137,
          99.6,
          111.2,
          111.2,
          114.3,
          137,
          80.7,
          46.5,
          9.3,
          13.2,
          51.3,
          51.3,
          75.3,
          99.6,
          103.2,
          114.3,
          117.9,
          117.9,
          117.9,
          33.3,
          48.3,
          85.1,
          33.3,
          147.3,
          141.2,
          6.8,
          13.2,
          52.2,
          108,
          121.2,
          142.4,
          99.6,
          108.3,
          111.2,
          114.3,
          137,
          137,
          137,
          149.3,
          35.8,
          96.9,
          35.8,
          85.3,
          142.4,
          103.2,
          90,
          8,
          2.4,
          142.4,
          142.4,
          142.4,
          147.3,
          108.3,
          121.1,
          3.7,
          19.5,
          30.7,
          99.6,
          88,
          91.8,
          19.5,
          33.3,
          90,
          78.5,
          25.7,
          25.7,
          35.8,
          35.8,
          39.7,
          75.3,
          145.4,
          145.4,
          124.1,
          73.4,
          85.1,
          46.5,
          52.2,
          149.3,
          37.9,
          46.5,
          21.5,
          23.9,
          51.3,
          80.9,
          25.7,
          139.4,
          124.1,
          126.5,
          48.3,
          129.5,
          126.5,
          99.9,
          108,
          51.3,
          99.9,
          131.7,
          39.7,
          73.4,
          108.3,
          80.9,
          56.4,
          68.6,
          51.2,
          85.1,
          145.4,
          108.3,
          145.4,
          111.2,
          111.2,
          117.9,
          39.7,
          131.7,
          50.1,
          121.1,
          90,
          18.2,
          111.2,
          127.1,
          48.3,
          131.7,
          133.3,
          90.4,
          142.4,
          126.5,
          96.9,
          96.9,
          9.1,
          99.6,
          82.9,
          147.3,
          124.1,
          32.8,
          15.6,
          48.5,
          135.7,
          129.5,
          51.3,
          126.5,
          41.9,
          44,
          48.3,
          131.7,
          108.3,
          133.3,
          108.3,
          135.7,
          9.1,
          137,
          129.5,
          70.8,
          129.5,
          37.6,
          8.7,
          37.9,
          50.1,
          137,
          139.4,
          129.5,
          117.9,
          80.9,
          43.7,
          139.4,
          85.1,
          52.2,
          35.8,
          35.8,
          124.1,
          91.8,
          133.3,
          39.7,
          99.6,
          141.2,
          52.2,
          150.3,
          82.9,
          149.3,
          48.5,
          81.8,
          149.3,
          81.8,
          133.3,
          149.3,
          129.5,
          73.4,
          121.1,
          142.4,
          121.1,
          129.5,
          121.1,
          3,
          17.2,
          23.3,
          122.3,
          175.1,
          175.1,
          175.1,
          175.1,
          91.6,
          157.3,
          157.3,
          157.3,
          157.3,
          157.3,
          109.2,
          138.1,
          77,
          117.2,
          117.2,
          170.9,
          170.9,
          97.9,
          112.4,
          112.4,
          141.1,
          167.6,
          102.2,
          131.7,
          152.6,
          152.6,
          152.6,
          152.6,
          152.6,
          152.6,
          27.2,
          27.8,
          26.4,
          25.4,
          25.4,
          25.4,
          25.4,
          26.7,
          25.4,
          27.5,
          6.6,
          4.9,
          169.7,
          183.1,
          104.2,
          104.2,
          104.2,
          104.2,
          104.2,
          100.2,
          180.4,
          88.8,
          180.4,
          89.5,
          89.5,
          147.8,
          71,
          93.3,
          93.3,
          94.1,
          94.1,
          28,
          84.1,
          84.1,
          84.1,
          105.8,
          105.8,
          105.8,
          105.8,
          46.2,
          115.4,
          115.4,
          134.7,
          96.2,
          96.2,
          119,
          119,
          119,
          119,
          119,
          136.9,
          53.3,
          102.3,
          102.3,
          102.3,
          102.3,
          102.3,
          102.3,
          124.4,
          124.4,
          87.7,
          108.4,
          108.4,
          108.4,
          108.4,
          108.4,
          108.4,
          108.4,
          111.7,
          130.1,
          130.1,
          130.1,
          130.1,
          130.1,
          99,
          99,
          99,
          99,
          99,
          99,
          99,
          99,
          99,
          99,
          122,
          122,
          122,
          122,
          122,
          55.2,
          111.7,
          111.7,
          111.7,
          132.3,
          132.3,
          94.3,
          276.3,
          276.3,
          133.6,
          203.2,
          222.4,
          290,
          94.3,
          207,
          231.1,
          18.9,
          1.1,
          101.3,
          194.1,
          217.7,
          248.4,
          273.8,
          181.3,
          96.7,
          18.9,
          227,
          227,
          9.5,
          91.3,
          276.3,
          15,
          4.6,
          9,
          96.7,
          181.3,
          231.1,
          49.5,
          49.5,
          88.2,
          227,
          194.1,
          84.8,
          212.1,
          291.3,
          8.2,
          290,
          96.2,
          7.3,
          3.2,
          92.1,
          231.1,
          235.1,
          222.4,
          164.1,
          17.3,
          203.2,
          181.3,
          191.4,
          217.7,
          263.1,
          94.3,
          231.1,
          248.4,
          248.4,
          207,
          222.4,
          181.3,
          287.2,
          178,
          222.4,
          235.1,
          269.8,
          84.7,
          207,
          253.6,
          231.1,
          91.3,
          290,
          207,
          24.9,
          80.9,
          290,
          47.9,
          203.2,
          17.3,
          284.9,
          181.3,
          217.7,
          196.8,
          238.2,
          266.2,
          248.4,
          160,
          248.4,
          191.4,
          231.1,
          273.8,
          231.1,
          231.1,
          276.3,
          4.4,
          4.4,
          3.6,
          15.1,
          18.5,
          20.6,
          14.6,
          14.6,
          25.4,
          96.2,
          61.1,
          103.8,
          121.7,
          85.3,
          101.3,
          101.3,
          103.9,
          114.4,
          114.4,
          130.3,
          130.3,
          130.3,
          135.5,
          141.3,
          141.3,
          141.3,
          141.3,
          141.3,
          152,
          158,
          158,
          164,
          175.5,
          175.5,
          181.1,
          181.1,
          181.1,
          181.1,
          181.1,
          181.1,
          139.4,
          139.4,
          163.2,
          166.9,
          166.9,
          166.9,
          166.9,
          166.9,
          56.7,
          56.7,
          56.7,
          56.7,
          146,
          3
         ],
         "xaxis": "x2",
         "yaxis": "y2"
        }
       ],
       "layout": {
        "barmode": "relative",
        "height": 600,
        "legend": {
         "tracegroupgap": 0
        },
        "margin": {
         "t": 60
        },
        "template": {
         "data": {
          "bar": [
           {
            "error_x": {
             "color": "#2a3f5f"
            },
            "error_y": {
             "color": "#2a3f5f"
            },
            "marker": {
             "line": {
              "color": "#E5ECF6",
              "width": 0.5
             },
             "pattern": {
              "fillmode": "overlay",
              "size": 10,
              "solidity": 0.2
             }
            },
            "type": "bar"
           }
          ],
          "barpolar": [
           {
            "marker": {
             "line": {
              "color": "#E5ECF6",
              "width": 0.5
             },
             "pattern": {
              "fillmode": "overlay",
              "size": 10,
              "solidity": 0.2
             }
            },
            "type": "barpolar"
           }
          ],
          "carpet": [
           {
            "aaxis": {
             "endlinecolor": "#2a3f5f",
             "gridcolor": "white",
             "linecolor": "white",
             "minorgridcolor": "white",
             "startlinecolor": "#2a3f5f"
            },
            "baxis": {
             "endlinecolor": "#2a3f5f",
             "gridcolor": "white",
             "linecolor": "white",
             "minorgridcolor": "white",
             "startlinecolor": "#2a3f5f"
            },
            "type": "carpet"
           }
          ],
          "choropleth": [
           {
            "colorbar": {
             "outlinewidth": 0,
             "ticks": ""
            },
            "type": "choropleth"
           }
          ],
          "contour": [
           {
            "colorbar": {
             "outlinewidth": 0,
             "ticks": ""
            },
            "colorscale": [
             [
              0,
              "#0d0887"
             ],
             [
              0.1111111111111111,
              "#46039f"
             ],
             [
              0.2222222222222222,
              "#7201a8"
             ],
             [
              0.3333333333333333,
              "#9c179e"
             ],
             [
              0.4444444444444444,
              "#bd3786"
             ],
             [
              0.5555555555555556,
              "#d8576b"
             ],
             [
              0.6666666666666666,
              "#ed7953"
             ],
             [
              0.7777777777777778,
              "#fb9f3a"
             ],
             [
              0.8888888888888888,
              "#fdca26"
             ],
             [
              1,
              "#f0f921"
             ]
            ],
            "type": "contour"
           }
          ],
          "contourcarpet": [
           {
            "colorbar": {
             "outlinewidth": 0,
             "ticks": ""
            },
            "type": "contourcarpet"
           }
          ],
          "heatmap": [
           {
            "colorbar": {
             "outlinewidth": 0,
             "ticks": ""
            },
            "colorscale": [
             [
              0,
              "#0d0887"
             ],
             [
              0.1111111111111111,
              "#46039f"
             ],
             [
              0.2222222222222222,
              "#7201a8"
             ],
             [
              0.3333333333333333,
              "#9c179e"
             ],
             [
              0.4444444444444444,
              "#bd3786"
             ],
             [
              0.5555555555555556,
              "#d8576b"
             ],
             [
              0.6666666666666666,
              "#ed7953"
             ],
             [
              0.7777777777777778,
              "#fb9f3a"
             ],
             [
              0.8888888888888888,
              "#fdca26"
             ],
             [
              1,
              "#f0f921"
             ]
            ],
            "type": "heatmap"
           }
          ],
          "heatmapgl": [
           {
            "colorbar": {
             "outlinewidth": 0,
             "ticks": ""
            },
            "colorscale": [
             [
              0,
              "#0d0887"
             ],
             [
              0.1111111111111111,
              "#46039f"
             ],
             [
              0.2222222222222222,
              "#7201a8"
             ],
             [
              0.3333333333333333,
              "#9c179e"
             ],
             [
              0.4444444444444444,
              "#bd3786"
             ],
             [
              0.5555555555555556,
              "#d8576b"
             ],
             [
              0.6666666666666666,
              "#ed7953"
             ],
             [
              0.7777777777777778,
              "#fb9f3a"
             ],
             [
              0.8888888888888888,
              "#fdca26"
             ],
             [
              1,
              "#f0f921"
             ]
            ],
            "type": "heatmapgl"
           }
          ],
          "histogram": [
           {
            "marker": {
             "pattern": {
              "fillmode": "overlay",
              "size": 10,
              "solidity": 0.2
             }
            },
            "type": "histogram"
           }
          ],
          "histogram2d": [
           {
            "colorbar": {
             "outlinewidth": 0,
             "ticks": ""
            },
            "colorscale": [
             [
              0,
              "#0d0887"
             ],
             [
              0.1111111111111111,
              "#46039f"
             ],
             [
              0.2222222222222222,
              "#7201a8"
             ],
             [
              0.3333333333333333,
              "#9c179e"
             ],
             [
              0.4444444444444444,
              "#bd3786"
             ],
             [
              0.5555555555555556,
              "#d8576b"
             ],
             [
              0.6666666666666666,
              "#ed7953"
             ],
             [
              0.7777777777777778,
              "#fb9f3a"
             ],
             [
              0.8888888888888888,
              "#fdca26"
             ],
             [
              1,
              "#f0f921"
             ]
            ],
            "type": "histogram2d"
           }
          ],
          "histogram2dcontour": [
           {
            "colorbar": {
             "outlinewidth": 0,
             "ticks": ""
            },
            "colorscale": [
             [
              0,
              "#0d0887"
             ],
             [
              0.1111111111111111,
              "#46039f"
             ],
             [
              0.2222222222222222,
              "#7201a8"
             ],
             [
              0.3333333333333333,
              "#9c179e"
             ],
             [
              0.4444444444444444,
              "#bd3786"
             ],
             [
              0.5555555555555556,
              "#d8576b"
             ],
             [
              0.6666666666666666,
              "#ed7953"
             ],
             [
              0.7777777777777778,
              "#fb9f3a"
             ],
             [
              0.8888888888888888,
              "#fdca26"
             ],
             [
              1,
              "#f0f921"
             ]
            ],
            "type": "histogram2dcontour"
           }
          ],
          "mesh3d": [
           {
            "colorbar": {
             "outlinewidth": 0,
             "ticks": ""
            },
            "type": "mesh3d"
           }
          ],
          "parcoords": [
           {
            "line": {
             "colorbar": {
              "outlinewidth": 0,
              "ticks": ""
             }
            },
            "type": "parcoords"
           }
          ],
          "pie": [
           {
            "automargin": true,
            "type": "pie"
           }
          ],
          "scatter": [
           {
            "fillpattern": {
             "fillmode": "overlay",
             "size": 10,
             "solidity": 0.2
            },
            "type": "scatter"
           }
          ],
          "scatter3d": [
           {
            "line": {
             "colorbar": {
              "outlinewidth": 0,
              "ticks": ""
             }
            },
            "marker": {
             "colorbar": {
              "outlinewidth": 0,
              "ticks": ""
             }
            },
            "type": "scatter3d"
           }
          ],
          "scattercarpet": [
           {
            "marker": {
             "colorbar": {
              "outlinewidth": 0,
              "ticks": ""
             }
            },
            "type": "scattercarpet"
           }
          ],
          "scattergeo": [
           {
            "marker": {
             "colorbar": {
              "outlinewidth": 0,
              "ticks": ""
             }
            },
            "type": "scattergeo"
           }
          ],
          "scattergl": [
           {
            "marker": {
             "colorbar": {
              "outlinewidth": 0,
              "ticks": ""
             }
            },
            "type": "scattergl"
           }
          ],
          "scattermapbox": [
           {
            "marker": {
             "colorbar": {
              "outlinewidth": 0,
              "ticks": ""
             }
            },
            "type": "scattermapbox"
           }
          ],
          "scatterpolar": [
           {
            "marker": {
             "colorbar": {
              "outlinewidth": 0,
              "ticks": ""
             }
            },
            "type": "scatterpolar"
           }
          ],
          "scatterpolargl": [
           {
            "marker": {
             "colorbar": {
              "outlinewidth": 0,
              "ticks": ""
             }
            },
            "type": "scatterpolargl"
           }
          ],
          "scatterternary": [
           {
            "marker": {
             "colorbar": {
              "outlinewidth": 0,
              "ticks": ""
             }
            },
            "type": "scatterternary"
           }
          ],
          "surface": [
           {
            "colorbar": {
             "outlinewidth": 0,
             "ticks": ""
            },
            "colorscale": [
             [
              0,
              "#0d0887"
             ],
             [
              0.1111111111111111,
              "#46039f"
             ],
             [
              0.2222222222222222,
              "#7201a8"
             ],
             [
              0.3333333333333333,
              "#9c179e"
             ],
             [
              0.4444444444444444,
              "#bd3786"
             ],
             [
              0.5555555555555556,
              "#d8576b"
             ],
             [
              0.6666666666666666,
              "#ed7953"
             ],
             [
              0.7777777777777778,
              "#fb9f3a"
             ],
             [
              0.8888888888888888,
              "#fdca26"
             ],
             [
              1,
              "#f0f921"
             ]
            ],
            "type": "surface"
           }
          ],
          "table": [
           {
            "cells": {
             "fill": {
              "color": "#EBF0F8"
             },
             "line": {
              "color": "white"
             }
            },
            "header": {
             "fill": {
              "color": "#C8D4E3"
             },
             "line": {
              "color": "white"
             }
            },
            "type": "table"
           }
          ]
         },
         "layout": {
          "annotationdefaults": {
           "arrowcolor": "#2a3f5f",
           "arrowhead": 0,
           "arrowwidth": 1
          },
          "autotypenumbers": "strict",
          "coloraxis": {
           "colorbar": {
            "outlinewidth": 0,
            "ticks": ""
           }
          },
          "colorscale": {
           "diverging": [
            [
             0,
             "#8e0152"
            ],
            [
             0.1,
             "#c51b7d"
            ],
            [
             0.2,
             "#de77ae"
            ],
            [
             0.3,
             "#f1b6da"
            ],
            [
             0.4,
             "#fde0ef"
            ],
            [
             0.5,
             "#f7f7f7"
            ],
            [
             0.6,
             "#e6f5d0"
            ],
            [
             0.7,
             "#b8e186"
            ],
            [
             0.8,
             "#7fbc41"
            ],
            [
             0.9,
             "#4d9221"
            ],
            [
             1,
             "#276419"
            ]
           ],
           "sequential": [
            [
             0,
             "#0d0887"
            ],
            [
             0.1111111111111111,
             "#46039f"
            ],
            [
             0.2222222222222222,
             "#7201a8"
            ],
            [
             0.3333333333333333,
             "#9c179e"
            ],
            [
             0.4444444444444444,
             "#bd3786"
            ],
            [
             0.5555555555555556,
             "#d8576b"
            ],
            [
             0.6666666666666666,
             "#ed7953"
            ],
            [
             0.7777777777777778,
             "#fb9f3a"
            ],
            [
             0.8888888888888888,
             "#fdca26"
            ],
            [
             1,
             "#f0f921"
            ]
           ],
           "sequentialminus": [
            [
             0,
             "#0d0887"
            ],
            [
             0.1111111111111111,
             "#46039f"
            ],
            [
             0.2222222222222222,
             "#7201a8"
            ],
            [
             0.3333333333333333,
             "#9c179e"
            ],
            [
             0.4444444444444444,
             "#bd3786"
            ],
            [
             0.5555555555555556,
             "#d8576b"
            ],
            [
             0.6666666666666666,
             "#ed7953"
            ],
            [
             0.7777777777777778,
             "#fb9f3a"
            ],
            [
             0.8888888888888888,
             "#fdca26"
            ],
            [
             1,
             "#f0f921"
            ]
           ]
          },
          "colorway": [
           "#636efa",
           "#EF553B",
           "#00cc96",
           "#ab63fa",
           "#FFA15A",
           "#19d3f3",
           "#FF6692",
           "#B6E880",
           "#FF97FF",
           "#FECB52"
          ],
          "font": {
           "color": "#2a3f5f"
          },
          "geo": {
           "bgcolor": "white",
           "lakecolor": "white",
           "landcolor": "#E5ECF6",
           "showlakes": true,
           "showland": true,
           "subunitcolor": "white"
          },
          "hoverlabel": {
           "align": "left"
          },
          "hovermode": "closest",
          "mapbox": {
           "style": "light"
          },
          "paper_bgcolor": "white",
          "plot_bgcolor": "#E5ECF6",
          "polar": {
           "angularaxis": {
            "gridcolor": "white",
            "linecolor": "white",
            "ticks": ""
           },
           "bgcolor": "#E5ECF6",
           "radialaxis": {
            "gridcolor": "white",
            "linecolor": "white",
            "ticks": ""
           }
          },
          "scene": {
           "xaxis": {
            "backgroundcolor": "#E5ECF6",
            "gridcolor": "white",
            "gridwidth": 2,
            "linecolor": "white",
            "showbackground": true,
            "ticks": "",
            "zerolinecolor": "white"
           },
           "yaxis": {
            "backgroundcolor": "#E5ECF6",
            "gridcolor": "white",
            "gridwidth": 2,
            "linecolor": "white",
            "showbackground": true,
            "ticks": "",
            "zerolinecolor": "white"
           },
           "zaxis": {
            "backgroundcolor": "#E5ECF6",
            "gridcolor": "white",
            "gridwidth": 2,
            "linecolor": "white",
            "showbackground": true,
            "ticks": "",
            "zerolinecolor": "white"
           }
          },
          "shapedefaults": {
           "line": {
            "color": "#2a3f5f"
           }
          },
          "ternary": {
           "aaxis": {
            "gridcolor": "white",
            "linecolor": "white",
            "ticks": ""
           },
           "baxis": {
            "gridcolor": "white",
            "linecolor": "white",
            "ticks": ""
           },
           "bgcolor": "#E5ECF6",
           "caxis": {
            "gridcolor": "white",
            "linecolor": "white",
            "ticks": ""
           }
          },
          "title": {
           "x": 0.05
          },
          "xaxis": {
           "automargin": true,
           "gridcolor": "white",
           "linecolor": "white",
           "ticks": "",
           "title": {
            "standoff": 15
           },
           "zerolinecolor": "white",
           "zerolinewidth": 2
          },
          "yaxis": {
           "automargin": true,
           "gridcolor": "white",
           "linecolor": "white",
           "ticks": "",
           "title": {
            "standoff": 15
           },
           "zerolinecolor": "white",
           "zerolinewidth": 2
          }
         }
        },
        "title": {
         "font": {
          "family": "Gulliver",
          "size": 40
         },
         "text": "DMC",
         "x": 0.5
        },
        "width": 1000,
        "xaxis": {
         "anchor": "y",
         "domain": [
          0,
          1
         ],
         "tickfont": {
          "size": 20
         },
         "title": {
          "text": "DMC"
         }
        },
        "xaxis2": {
         "anchor": "y2",
         "domain": [
          0,
          1
         ],
         "matches": "x",
         "showgrid": true,
         "showticklabels": false
        },
        "yaxis": {
         "anchor": "x",
         "domain": [
          0,
          0.8316
         ],
         "tickfont": {
          "size": 20
         },
         "title": {
          "text": "Density"
         }
        },
        "yaxis2": {
         "anchor": "x2",
         "domain": [
          0.8416,
          1
         ],
         "matches": "y2",
         "showgrid": false,
         "showline": false,
         "showticklabels": false,
         "ticks": ""
        }
       }
      }
     },
     "metadata": {},
     "output_type": "display_data"
    },
    {
     "data": {
      "application/vnd.plotly.v1+json": {
       "config": {
        "plotlyServerURL": "https://plotly.com"
       },
       "data": [
        {
         "alignmentgroup": "True",
         "bingroup": "x",
         "histnorm": "density",
         "hovertemplate": "DC=%{x}<br>density=%{y}<extra></extra>",
         "legendgroup": "",
         "marker": {
          "color": "#636efa",
          "pattern": {
           "shape": ""
          }
         },
         "name": "",
         "nbinsx": 100,
         "offsetgroup": "",
         "opacity": 1,
         "orientation": "v",
         "showlegend": false,
         "type": "histogram",
         "x": [
          94.3,
          669.1,
          686.9,
          77.5,
          102.2,
          488,
          495.6,
          608.2,
          692.6,
          698.6,
          698.6,
          713,
          665.3,
          686.5,
          699.6,
          713.9,
          80.8,
          664.2,
          70.8,
          97.1,
          692.6,
          724.3,
          200,
          537.4,
          594.2,
          601.4,
          668,
          686.5,
          721.4,
          728.6,
          692.3,
          709.9,
          706.8,
          718.3,
          724.3,
          730.2,
          669.1,
          682.6,
          686.9,
          67.6,
          366.7,
          624.2,
          647.1,
          698.6,
          735.7,
          692.3,
          686.5,
          442.9,
          64.7,
          103.8,
          706.4,
          631.2,
          654.1,
          654.1,
          661.3,
          706.4,
          730.2,
          691.8,
          34,
          43,
          102.2,
          102.2,
          466.6,
          631.2,
          638.8,
          661.3,
          668,
          668,
          668,
          77.5,
          97.8,
          692.3,
          77.5,
          614.5,
          713.9,
          26.6,
          43,
          103.8,
          529.8,
          561.6,
          601.4,
          631.2,
          647.1,
          654.1,
          661.3,
          706.4,
          706.4,
          706.4,
          728.6,
          80.8,
          624.2,
          80.8,
          488,
          601.4,
          638.8,
          704.4,
          30.2,
          15.5,
          601.4,
          601.4,
          601.4,
          614.5,
          647.1,
          674.4,
          9.3,
          57.3,
          74.3,
          631.2,
          698.6,
          709.9,
          57.3,
          77.5,
          704.4,
          724.3,
          67.6,
          67.6,
          80.8,
          80.8,
          86.6,
          466.6,
          608.2,
          608.2,
          680.7,
          671.9,
          692.3,
          691.8,
          103.8,
          728.6,
          673.8,
          691.8,
          87.2,
          64.7,
          102.2,
          685.2,
          67.6,
          594.2,
          680.7,
          686.5,
          313.4,
          692.6,
          686.5,
          513.3,
          529.8,
          296.3,
          513.3,
          578.8,
          86.6,
          671.9,
          647.1,
          685.2,
          433.3,
          355.2,
          424.1,
          692.3,
          721.4,
          647.1,
          721.4,
          654.1,
          654.1,
          668,
          86.6,
          578.8,
          100.4,
          674.4,
          704.4,
          55,
          654.1,
          570.5,
          97.8,
          578.8,
          699.6,
          609.6,
          601.4,
          686.5,
          624.2,
          624.2,
          55.2,
          631.2,
          735.7,
          614.5,
          680.7,
          664.2,
          48.3,
          696.1,
          586.7,
          692.6,
          102.2,
          686.5,
          89.4,
          92.4,
          97.8,
          578.8,
          647.1,
          699.6,
          647.1,
          586.7,
          55.2,
          706.4,
          692.6,
          665.3,
          692.6,
          83.7,
          32.1,
          673.8,
          100.4,
          706.4,
          594.2,
          692.6,
          668,
          685.2,
          686.9,
          594.2,
          692.3,
          103.8,
          80.8,
          80.8,
          680.7,
          709.9,
          699.6,
          86.6,
          631.2,
          713.9,
          103.8,
          309.9,
          735.7,
          728.6,
          696.1,
          480.8,
          728.6,
          480.8,
          699.6,
          728.6,
          692.6,
          671.9,
          674.4,
          601.4,
          674.4,
          692.6,
          674.4,
          7.9,
          43.5,
          85.3,
          589.9,
          700.7,
          700.7,
          700.7,
          700.7,
          503.6,
          666.7,
          666.7,
          666.7,
          666.7,
          666.7,
          565.5,
          621.7,
          694.8,
          581.1,
          581.1,
          692.3,
          692.3,
          542,
          573,
          573,
          629.1,
          684.4,
          550.3,
          607.1,
          658.2,
          658.2,
          658.2,
          658.2,
          658.2,
          658.2,
          353.5,
          354.6,
          352,
          349.7,
          349.7,
          349.7,
          349.7,
          352.6,
          349.7,
          353.5,
          18.7,
          15.8,
          411.8,
          437.7,
          474.9,
          474.9,
          474.9,
          474.9,
          474.9,
          466.3,
          430.8,
          440.9,
          430.8,
          290.8,
          290.8,
          377.2,
          233.8,
          298.1,
          298.1,
          232.1,
          232.1,
          113.8,
          714.3,
          714.3,
          714.3,
          758.1,
          758.1,
          758.1,
          758.1,
          706.6,
          777.1,
          777.1,
          817.5,
          739.4,
          739.4,
          783.5,
          783.5,
          783.5,
          783.5,
          783.5,
          822.8,
          726.9,
          751.5,
          751.5,
          751.5,
          751.5,
          751.5,
          751.5,
          795.3,
          795.3,
          721.1,
          764,
          764,
          764,
          764,
          764,
          764,
          764,
          770.3,
          807.1,
          807.1,
          807.1,
          807.1,
          807.1,
          745.3,
          745.3,
          745.3,
          745.3,
          745.3,
          745.3,
          745.3,
          745.3,
          745.3,
          745.3,
          789.7,
          789.7,
          789.7,
          789.7,
          789.7,
          732.3,
          770.3,
          770.3,
          770.3,
          812.1,
          812.1,
          744.4,
          825.1,
          825.1,
          520.5,
          664.5,
          698.6,
          855.3,
          744.4,
          672.6,
          715.1,
          30.6,
          171.4,
          458.8,
          643,
          690,
          753.8,
          819.1,
          613,
          750.5,
          30.6,
          706.7,
          706.7,
          58.3,
          738.1,
          825.1,
          25.6,
          46.7,
          56.9,
          750.5,
          613,
          715.1,
          297.7,
          297.7,
          731.7,
          706.7,
          643,
          725.1,
          680.9,
          860.6,
          55,
          855.3,
          450.2,
          52.8,
          43.6,
          442.1,
          715.1,
          723.1,
          698.6,
          575.8,
          28.3,
          664.5,
          613,
          635.9,
          690,
          795.9,
          744.4,
          715.1,
          753.8,
          753.8,
          672.6,
          698.6,
          613,
          849.3,
          605.3,
          698.6,
          723.1,
          811.2,
          376.6,
          672.6,
          768.4,
          715.1,
          738.1,
          855.3,
          672.6,
          41.6,
          368.3,
          855.3,
          100.7,
          664.5,
          28.3,
          844,
          613,
          690,
          649.9,
          730.6,
          803.3,
          753.8,
          567.2,
          753.8,
          635.9,
          715.1,
          819.1,
          715.1,
          715.1,
          825.1,
          16.2,
          16.2,
          15.3,
          36.9,
          41.1,
          43.5,
          25.6,
          25.6,
          73.7,
          229,
          252.6,
          316.7,
          350.2,
          395,
          423.4,
          423.4,
          431.6,
          560,
          560,
          587.1,
          587.1,
          587.1,
          596.3,
          605.8,
          605.8,
          605.8,
          605.8,
          605.8,
          624.1,
          633.6,
          633.6,
          643,
          661.8,
          661.8,
          671.2,
          671.2,
          671.2,
          671.2,
          671.2,
          671.2,
          689.1,
          689.1,
          744.4,
          752.6,
          752.6,
          752.6,
          752.6,
          752.6,
          665.6,
          665.6,
          665.6,
          665.6,
          614.7,
          106.7
         ],
         "xaxis": "x",
         "yaxis": "y"
        },
        {
         "alignmentgroup": "True",
         "hovertemplate": "DC=%{x}<extra></extra>",
         "legendgroup": "",
         "marker": {
          "color": "#636efa"
         },
         "name": "",
         "notched": true,
         "offsetgroup": "",
         "opacity": 1,
         "showlegend": false,
         "type": "box",
         "x": [
          94.3,
          669.1,
          686.9,
          77.5,
          102.2,
          488,
          495.6,
          608.2,
          692.6,
          698.6,
          698.6,
          713,
          665.3,
          686.5,
          699.6,
          713.9,
          80.8,
          664.2,
          70.8,
          97.1,
          692.6,
          724.3,
          200,
          537.4,
          594.2,
          601.4,
          668,
          686.5,
          721.4,
          728.6,
          692.3,
          709.9,
          706.8,
          718.3,
          724.3,
          730.2,
          669.1,
          682.6,
          686.9,
          67.6,
          366.7,
          624.2,
          647.1,
          698.6,
          735.7,
          692.3,
          686.5,
          442.9,
          64.7,
          103.8,
          706.4,
          631.2,
          654.1,
          654.1,
          661.3,
          706.4,
          730.2,
          691.8,
          34,
          43,
          102.2,
          102.2,
          466.6,
          631.2,
          638.8,
          661.3,
          668,
          668,
          668,
          77.5,
          97.8,
          692.3,
          77.5,
          614.5,
          713.9,
          26.6,
          43,
          103.8,
          529.8,
          561.6,
          601.4,
          631.2,
          647.1,
          654.1,
          661.3,
          706.4,
          706.4,
          706.4,
          728.6,
          80.8,
          624.2,
          80.8,
          488,
          601.4,
          638.8,
          704.4,
          30.2,
          15.5,
          601.4,
          601.4,
          601.4,
          614.5,
          647.1,
          674.4,
          9.3,
          57.3,
          74.3,
          631.2,
          698.6,
          709.9,
          57.3,
          77.5,
          704.4,
          724.3,
          67.6,
          67.6,
          80.8,
          80.8,
          86.6,
          466.6,
          608.2,
          608.2,
          680.7,
          671.9,
          692.3,
          691.8,
          103.8,
          728.6,
          673.8,
          691.8,
          87.2,
          64.7,
          102.2,
          685.2,
          67.6,
          594.2,
          680.7,
          686.5,
          313.4,
          692.6,
          686.5,
          513.3,
          529.8,
          296.3,
          513.3,
          578.8,
          86.6,
          671.9,
          647.1,
          685.2,
          433.3,
          355.2,
          424.1,
          692.3,
          721.4,
          647.1,
          721.4,
          654.1,
          654.1,
          668,
          86.6,
          578.8,
          100.4,
          674.4,
          704.4,
          55,
          654.1,
          570.5,
          97.8,
          578.8,
          699.6,
          609.6,
          601.4,
          686.5,
          624.2,
          624.2,
          55.2,
          631.2,
          735.7,
          614.5,
          680.7,
          664.2,
          48.3,
          696.1,
          586.7,
          692.6,
          102.2,
          686.5,
          89.4,
          92.4,
          97.8,
          578.8,
          647.1,
          699.6,
          647.1,
          586.7,
          55.2,
          706.4,
          692.6,
          665.3,
          692.6,
          83.7,
          32.1,
          673.8,
          100.4,
          706.4,
          594.2,
          692.6,
          668,
          685.2,
          686.9,
          594.2,
          692.3,
          103.8,
          80.8,
          80.8,
          680.7,
          709.9,
          699.6,
          86.6,
          631.2,
          713.9,
          103.8,
          309.9,
          735.7,
          728.6,
          696.1,
          480.8,
          728.6,
          480.8,
          699.6,
          728.6,
          692.6,
          671.9,
          674.4,
          601.4,
          674.4,
          692.6,
          674.4,
          7.9,
          43.5,
          85.3,
          589.9,
          700.7,
          700.7,
          700.7,
          700.7,
          503.6,
          666.7,
          666.7,
          666.7,
          666.7,
          666.7,
          565.5,
          621.7,
          694.8,
          581.1,
          581.1,
          692.3,
          692.3,
          542,
          573,
          573,
          629.1,
          684.4,
          550.3,
          607.1,
          658.2,
          658.2,
          658.2,
          658.2,
          658.2,
          658.2,
          353.5,
          354.6,
          352,
          349.7,
          349.7,
          349.7,
          349.7,
          352.6,
          349.7,
          353.5,
          18.7,
          15.8,
          411.8,
          437.7,
          474.9,
          474.9,
          474.9,
          474.9,
          474.9,
          466.3,
          430.8,
          440.9,
          430.8,
          290.8,
          290.8,
          377.2,
          233.8,
          298.1,
          298.1,
          232.1,
          232.1,
          113.8,
          714.3,
          714.3,
          714.3,
          758.1,
          758.1,
          758.1,
          758.1,
          706.6,
          777.1,
          777.1,
          817.5,
          739.4,
          739.4,
          783.5,
          783.5,
          783.5,
          783.5,
          783.5,
          822.8,
          726.9,
          751.5,
          751.5,
          751.5,
          751.5,
          751.5,
          751.5,
          795.3,
          795.3,
          721.1,
          764,
          764,
          764,
          764,
          764,
          764,
          764,
          770.3,
          807.1,
          807.1,
          807.1,
          807.1,
          807.1,
          745.3,
          745.3,
          745.3,
          745.3,
          745.3,
          745.3,
          745.3,
          745.3,
          745.3,
          745.3,
          789.7,
          789.7,
          789.7,
          789.7,
          789.7,
          732.3,
          770.3,
          770.3,
          770.3,
          812.1,
          812.1,
          744.4,
          825.1,
          825.1,
          520.5,
          664.5,
          698.6,
          855.3,
          744.4,
          672.6,
          715.1,
          30.6,
          171.4,
          458.8,
          643,
          690,
          753.8,
          819.1,
          613,
          750.5,
          30.6,
          706.7,
          706.7,
          58.3,
          738.1,
          825.1,
          25.6,
          46.7,
          56.9,
          750.5,
          613,
          715.1,
          297.7,
          297.7,
          731.7,
          706.7,
          643,
          725.1,
          680.9,
          860.6,
          55,
          855.3,
          450.2,
          52.8,
          43.6,
          442.1,
          715.1,
          723.1,
          698.6,
          575.8,
          28.3,
          664.5,
          613,
          635.9,
          690,
          795.9,
          744.4,
          715.1,
          753.8,
          753.8,
          672.6,
          698.6,
          613,
          849.3,
          605.3,
          698.6,
          723.1,
          811.2,
          376.6,
          672.6,
          768.4,
          715.1,
          738.1,
          855.3,
          672.6,
          41.6,
          368.3,
          855.3,
          100.7,
          664.5,
          28.3,
          844,
          613,
          690,
          649.9,
          730.6,
          803.3,
          753.8,
          567.2,
          753.8,
          635.9,
          715.1,
          819.1,
          715.1,
          715.1,
          825.1,
          16.2,
          16.2,
          15.3,
          36.9,
          41.1,
          43.5,
          25.6,
          25.6,
          73.7,
          229,
          252.6,
          316.7,
          350.2,
          395,
          423.4,
          423.4,
          431.6,
          560,
          560,
          587.1,
          587.1,
          587.1,
          596.3,
          605.8,
          605.8,
          605.8,
          605.8,
          605.8,
          624.1,
          633.6,
          633.6,
          643,
          661.8,
          661.8,
          671.2,
          671.2,
          671.2,
          671.2,
          671.2,
          671.2,
          689.1,
          689.1,
          744.4,
          752.6,
          752.6,
          752.6,
          752.6,
          752.6,
          665.6,
          665.6,
          665.6,
          665.6,
          614.7,
          106.7
         ],
         "xaxis": "x2",
         "yaxis": "y2"
        }
       ],
       "layout": {
        "barmode": "relative",
        "height": 600,
        "legend": {
         "tracegroupgap": 0
        },
        "margin": {
         "t": 60
        },
        "template": {
         "data": {
          "bar": [
           {
            "error_x": {
             "color": "#2a3f5f"
            },
            "error_y": {
             "color": "#2a3f5f"
            },
            "marker": {
             "line": {
              "color": "#E5ECF6",
              "width": 0.5
             },
             "pattern": {
              "fillmode": "overlay",
              "size": 10,
              "solidity": 0.2
             }
            },
            "type": "bar"
           }
          ],
          "barpolar": [
           {
            "marker": {
             "line": {
              "color": "#E5ECF6",
              "width": 0.5
             },
             "pattern": {
              "fillmode": "overlay",
              "size": 10,
              "solidity": 0.2
             }
            },
            "type": "barpolar"
           }
          ],
          "carpet": [
           {
            "aaxis": {
             "endlinecolor": "#2a3f5f",
             "gridcolor": "white",
             "linecolor": "white",
             "minorgridcolor": "white",
             "startlinecolor": "#2a3f5f"
            },
            "baxis": {
             "endlinecolor": "#2a3f5f",
             "gridcolor": "white",
             "linecolor": "white",
             "minorgridcolor": "white",
             "startlinecolor": "#2a3f5f"
            },
            "type": "carpet"
           }
          ],
          "choropleth": [
           {
            "colorbar": {
             "outlinewidth": 0,
             "ticks": ""
            },
            "type": "choropleth"
           }
          ],
          "contour": [
           {
            "colorbar": {
             "outlinewidth": 0,
             "ticks": ""
            },
            "colorscale": [
             [
              0,
              "#0d0887"
             ],
             [
              0.1111111111111111,
              "#46039f"
             ],
             [
              0.2222222222222222,
              "#7201a8"
             ],
             [
              0.3333333333333333,
              "#9c179e"
             ],
             [
              0.4444444444444444,
              "#bd3786"
             ],
             [
              0.5555555555555556,
              "#d8576b"
             ],
             [
              0.6666666666666666,
              "#ed7953"
             ],
             [
              0.7777777777777778,
              "#fb9f3a"
             ],
             [
              0.8888888888888888,
              "#fdca26"
             ],
             [
              1,
              "#f0f921"
             ]
            ],
            "type": "contour"
           }
          ],
          "contourcarpet": [
           {
            "colorbar": {
             "outlinewidth": 0,
             "ticks": ""
            },
            "type": "contourcarpet"
           }
          ],
          "heatmap": [
           {
            "colorbar": {
             "outlinewidth": 0,
             "ticks": ""
            },
            "colorscale": [
             [
              0,
              "#0d0887"
             ],
             [
              0.1111111111111111,
              "#46039f"
             ],
             [
              0.2222222222222222,
              "#7201a8"
             ],
             [
              0.3333333333333333,
              "#9c179e"
             ],
             [
              0.4444444444444444,
              "#bd3786"
             ],
             [
              0.5555555555555556,
              "#d8576b"
             ],
             [
              0.6666666666666666,
              "#ed7953"
             ],
             [
              0.7777777777777778,
              "#fb9f3a"
             ],
             [
              0.8888888888888888,
              "#fdca26"
             ],
             [
              1,
              "#f0f921"
             ]
            ],
            "type": "heatmap"
           }
          ],
          "heatmapgl": [
           {
            "colorbar": {
             "outlinewidth": 0,
             "ticks": ""
            },
            "colorscale": [
             [
              0,
              "#0d0887"
             ],
             [
              0.1111111111111111,
              "#46039f"
             ],
             [
              0.2222222222222222,
              "#7201a8"
             ],
             [
              0.3333333333333333,
              "#9c179e"
             ],
             [
              0.4444444444444444,
              "#bd3786"
             ],
             [
              0.5555555555555556,
              "#d8576b"
             ],
             [
              0.6666666666666666,
              "#ed7953"
             ],
             [
              0.7777777777777778,
              "#fb9f3a"
             ],
             [
              0.8888888888888888,
              "#fdca26"
             ],
             [
              1,
              "#f0f921"
             ]
            ],
            "type": "heatmapgl"
           }
          ],
          "histogram": [
           {
            "marker": {
             "pattern": {
              "fillmode": "overlay",
              "size": 10,
              "solidity": 0.2
             }
            },
            "type": "histogram"
           }
          ],
          "histogram2d": [
           {
            "colorbar": {
             "outlinewidth": 0,
             "ticks": ""
            },
            "colorscale": [
             [
              0,
              "#0d0887"
             ],
             [
              0.1111111111111111,
              "#46039f"
             ],
             [
              0.2222222222222222,
              "#7201a8"
             ],
             [
              0.3333333333333333,
              "#9c179e"
             ],
             [
              0.4444444444444444,
              "#bd3786"
             ],
             [
              0.5555555555555556,
              "#d8576b"
             ],
             [
              0.6666666666666666,
              "#ed7953"
             ],
             [
              0.7777777777777778,
              "#fb9f3a"
             ],
             [
              0.8888888888888888,
              "#fdca26"
             ],
             [
              1,
              "#f0f921"
             ]
            ],
            "type": "histogram2d"
           }
          ],
          "histogram2dcontour": [
           {
            "colorbar": {
             "outlinewidth": 0,
             "ticks": ""
            },
            "colorscale": [
             [
              0,
              "#0d0887"
             ],
             [
              0.1111111111111111,
              "#46039f"
             ],
             [
              0.2222222222222222,
              "#7201a8"
             ],
             [
              0.3333333333333333,
              "#9c179e"
             ],
             [
              0.4444444444444444,
              "#bd3786"
             ],
             [
              0.5555555555555556,
              "#d8576b"
             ],
             [
              0.6666666666666666,
              "#ed7953"
             ],
             [
              0.7777777777777778,
              "#fb9f3a"
             ],
             [
              0.8888888888888888,
              "#fdca26"
             ],
             [
              1,
              "#f0f921"
             ]
            ],
            "type": "histogram2dcontour"
           }
          ],
          "mesh3d": [
           {
            "colorbar": {
             "outlinewidth": 0,
             "ticks": ""
            },
            "type": "mesh3d"
           }
          ],
          "parcoords": [
           {
            "line": {
             "colorbar": {
              "outlinewidth": 0,
              "ticks": ""
             }
            },
            "type": "parcoords"
           }
          ],
          "pie": [
           {
            "automargin": true,
            "type": "pie"
           }
          ],
          "scatter": [
           {
            "fillpattern": {
             "fillmode": "overlay",
             "size": 10,
             "solidity": 0.2
            },
            "type": "scatter"
           }
          ],
          "scatter3d": [
           {
            "line": {
             "colorbar": {
              "outlinewidth": 0,
              "ticks": ""
             }
            },
            "marker": {
             "colorbar": {
              "outlinewidth": 0,
              "ticks": ""
             }
            },
            "type": "scatter3d"
           }
          ],
          "scattercarpet": [
           {
            "marker": {
             "colorbar": {
              "outlinewidth": 0,
              "ticks": ""
             }
            },
            "type": "scattercarpet"
           }
          ],
          "scattergeo": [
           {
            "marker": {
             "colorbar": {
              "outlinewidth": 0,
              "ticks": ""
             }
            },
            "type": "scattergeo"
           }
          ],
          "scattergl": [
           {
            "marker": {
             "colorbar": {
              "outlinewidth": 0,
              "ticks": ""
             }
            },
            "type": "scattergl"
           }
          ],
          "scattermapbox": [
           {
            "marker": {
             "colorbar": {
              "outlinewidth": 0,
              "ticks": ""
             }
            },
            "type": "scattermapbox"
           }
          ],
          "scatterpolar": [
           {
            "marker": {
             "colorbar": {
              "outlinewidth": 0,
              "ticks": ""
             }
            },
            "type": "scatterpolar"
           }
          ],
          "scatterpolargl": [
           {
            "marker": {
             "colorbar": {
              "outlinewidth": 0,
              "ticks": ""
             }
            },
            "type": "scatterpolargl"
           }
          ],
          "scatterternary": [
           {
            "marker": {
             "colorbar": {
              "outlinewidth": 0,
              "ticks": ""
             }
            },
            "type": "scatterternary"
           }
          ],
          "surface": [
           {
            "colorbar": {
             "outlinewidth": 0,
             "ticks": ""
            },
            "colorscale": [
             [
              0,
              "#0d0887"
             ],
             [
              0.1111111111111111,
              "#46039f"
             ],
             [
              0.2222222222222222,
              "#7201a8"
             ],
             [
              0.3333333333333333,
              "#9c179e"
             ],
             [
              0.4444444444444444,
              "#bd3786"
             ],
             [
              0.5555555555555556,
              "#d8576b"
             ],
             [
              0.6666666666666666,
              "#ed7953"
             ],
             [
              0.7777777777777778,
              "#fb9f3a"
             ],
             [
              0.8888888888888888,
              "#fdca26"
             ],
             [
              1,
              "#f0f921"
             ]
            ],
            "type": "surface"
           }
          ],
          "table": [
           {
            "cells": {
             "fill": {
              "color": "#EBF0F8"
             },
             "line": {
              "color": "white"
             }
            },
            "header": {
             "fill": {
              "color": "#C8D4E3"
             },
             "line": {
              "color": "white"
             }
            },
            "type": "table"
           }
          ]
         },
         "layout": {
          "annotationdefaults": {
           "arrowcolor": "#2a3f5f",
           "arrowhead": 0,
           "arrowwidth": 1
          },
          "autotypenumbers": "strict",
          "coloraxis": {
           "colorbar": {
            "outlinewidth": 0,
            "ticks": ""
           }
          },
          "colorscale": {
           "diverging": [
            [
             0,
             "#8e0152"
            ],
            [
             0.1,
             "#c51b7d"
            ],
            [
             0.2,
             "#de77ae"
            ],
            [
             0.3,
             "#f1b6da"
            ],
            [
             0.4,
             "#fde0ef"
            ],
            [
             0.5,
             "#f7f7f7"
            ],
            [
             0.6,
             "#e6f5d0"
            ],
            [
             0.7,
             "#b8e186"
            ],
            [
             0.8,
             "#7fbc41"
            ],
            [
             0.9,
             "#4d9221"
            ],
            [
             1,
             "#276419"
            ]
           ],
           "sequential": [
            [
             0,
             "#0d0887"
            ],
            [
             0.1111111111111111,
             "#46039f"
            ],
            [
             0.2222222222222222,
             "#7201a8"
            ],
            [
             0.3333333333333333,
             "#9c179e"
            ],
            [
             0.4444444444444444,
             "#bd3786"
            ],
            [
             0.5555555555555556,
             "#d8576b"
            ],
            [
             0.6666666666666666,
             "#ed7953"
            ],
            [
             0.7777777777777778,
             "#fb9f3a"
            ],
            [
             0.8888888888888888,
             "#fdca26"
            ],
            [
             1,
             "#f0f921"
            ]
           ],
           "sequentialminus": [
            [
             0,
             "#0d0887"
            ],
            [
             0.1111111111111111,
             "#46039f"
            ],
            [
             0.2222222222222222,
             "#7201a8"
            ],
            [
             0.3333333333333333,
             "#9c179e"
            ],
            [
             0.4444444444444444,
             "#bd3786"
            ],
            [
             0.5555555555555556,
             "#d8576b"
            ],
            [
             0.6666666666666666,
             "#ed7953"
            ],
            [
             0.7777777777777778,
             "#fb9f3a"
            ],
            [
             0.8888888888888888,
             "#fdca26"
            ],
            [
             1,
             "#f0f921"
            ]
           ]
          },
          "colorway": [
           "#636efa",
           "#EF553B",
           "#00cc96",
           "#ab63fa",
           "#FFA15A",
           "#19d3f3",
           "#FF6692",
           "#B6E880",
           "#FF97FF",
           "#FECB52"
          ],
          "font": {
           "color": "#2a3f5f"
          },
          "geo": {
           "bgcolor": "white",
           "lakecolor": "white",
           "landcolor": "#E5ECF6",
           "showlakes": true,
           "showland": true,
           "subunitcolor": "white"
          },
          "hoverlabel": {
           "align": "left"
          },
          "hovermode": "closest",
          "mapbox": {
           "style": "light"
          },
          "paper_bgcolor": "white",
          "plot_bgcolor": "#E5ECF6",
          "polar": {
           "angularaxis": {
            "gridcolor": "white",
            "linecolor": "white",
            "ticks": ""
           },
           "bgcolor": "#E5ECF6",
           "radialaxis": {
            "gridcolor": "white",
            "linecolor": "white",
            "ticks": ""
           }
          },
          "scene": {
           "xaxis": {
            "backgroundcolor": "#E5ECF6",
            "gridcolor": "white",
            "gridwidth": 2,
            "linecolor": "white",
            "showbackground": true,
            "ticks": "",
            "zerolinecolor": "white"
           },
           "yaxis": {
            "backgroundcolor": "#E5ECF6",
            "gridcolor": "white",
            "gridwidth": 2,
            "linecolor": "white",
            "showbackground": true,
            "ticks": "",
            "zerolinecolor": "white"
           },
           "zaxis": {
            "backgroundcolor": "#E5ECF6",
            "gridcolor": "white",
            "gridwidth": 2,
            "linecolor": "white",
            "showbackground": true,
            "ticks": "",
            "zerolinecolor": "white"
           }
          },
          "shapedefaults": {
           "line": {
            "color": "#2a3f5f"
           }
          },
          "ternary": {
           "aaxis": {
            "gridcolor": "white",
            "linecolor": "white",
            "ticks": ""
           },
           "baxis": {
            "gridcolor": "white",
            "linecolor": "white",
            "ticks": ""
           },
           "bgcolor": "#E5ECF6",
           "caxis": {
            "gridcolor": "white",
            "linecolor": "white",
            "ticks": ""
           }
          },
          "title": {
           "x": 0.05
          },
          "xaxis": {
           "automargin": true,
           "gridcolor": "white",
           "linecolor": "white",
           "ticks": "",
           "title": {
            "standoff": 15
           },
           "zerolinecolor": "white",
           "zerolinewidth": 2
          },
          "yaxis": {
           "automargin": true,
           "gridcolor": "white",
           "linecolor": "white",
           "ticks": "",
           "title": {
            "standoff": 15
           },
           "zerolinecolor": "white",
           "zerolinewidth": 2
          }
         }
        },
        "title": {
         "font": {
          "family": "Gulliver",
          "size": 40
         },
         "text": "DC",
         "x": 0.5
        },
        "width": 1000,
        "xaxis": {
         "anchor": "y",
         "domain": [
          0,
          1
         ],
         "tickfont": {
          "size": 20
         },
         "title": {
          "text": "DC"
         }
        },
        "xaxis2": {
         "anchor": "y2",
         "domain": [
          0,
          1
         ],
         "matches": "x",
         "showgrid": true,
         "showticklabels": false
        },
        "yaxis": {
         "anchor": "x",
         "domain": [
          0,
          0.8316
         ],
         "tickfont": {
          "size": 20
         },
         "title": {
          "text": "Density"
         }
        },
        "yaxis2": {
         "anchor": "x2",
         "domain": [
          0.8416,
          1
         ],
         "matches": "y2",
         "showgrid": false,
         "showline": false,
         "showticklabels": false,
         "ticks": ""
        }
       }
      }
     },
     "metadata": {},
     "output_type": "display_data"
    },
    {
     "data": {
      "application/vnd.plotly.v1+json": {
       "config": {
        "plotlyServerURL": "https://plotly.com"
       },
       "data": [
        {
         "alignmentgroup": "True",
         "bingroup": "x",
         "histnorm": "density",
         "hovertemplate": "ISI=%{x}<br>density=%{y}<extra></extra>",
         "legendgroup": "",
         "marker": {
          "color": "#636efa",
          "pattern": {
           "shape": ""
          }
         },
         "name": "",
         "nbinsx": 100,
         "offsetgroup": "",
         "opacity": 1,
         "orientation": "v",
         "showlegend": false,
         "type": "histogram",
         "x": [
          5.1,
          6.7,
          6.7,
          9,
          9.6,
          14.7,
          8.5,
          10.7,
          7,
          7.1,
          7.1,
          22.6,
          0.8,
          7,
          9.2,
          13.9,
          7.8,
          3,
          6.3,
          5.1,
          7,
          9.2,
          56.1,
          6.2,
          20.3,
          10.6,
          12.2,
          7,
          8.1,
          8.1,
          15.9,
          7.1,
          5.8,
          7.8,
          9.2,
          6.3,
          6.7,
          8.7,
          6.7,
          3.8,
          1.5,
          8.9,
          17,
          7.1,
          6.2,
          15.9,
          7,
          11,
          4.1,
          5,
          9.2,
          6.3,
          9.6,
          9.6,
          6.3,
          9.2,
          6.3,
          8.8,
          2.1,
          5.3,
          9.6,
          9.6,
          7.7,
          6.3,
          5.8,
          6.3,
          12.2,
          12.2,
          12.2,
          9,
          12.5,
          15.9,
          9,
          9,
          13.9,
          7.7,
          5.3,
          5,
          12.5,
          7,
          10.6,
          6.3,
          17,
          9.6,
          6.3,
          9.2,
          9.2,
          9.2,
          8.1,
          7.8,
          8.9,
          7.8,
          14.7,
          10.6,
          5.8,
          4.8,
          2.6,
          0.7,
          10.6,
          10.6,
          10.6,
          9,
          17,
          8.6,
          2.9,
          2.8,
          7.5,
          6.3,
          7.1,
          7.1,
          2.8,
          9,
          4.8,
          9.2,
          3.8,
          3.8,
          7.8,
          7.8,
          6.2,
          7.7,
          10.7,
          10.7,
          8.5,
          3.2,
          15.9,
          8.8,
          5,
          8.1,
          5.2,
          8.8,
          0.8,
          4.1,
          9.6,
          17.9,
          3.8,
          20.3,
          8.5,
          7,
          3.9,
          7,
          7,
          13.2,
          12.5,
          8.7,
          13.2,
          10.4,
          6.2,
          3.2,
          17,
          17.9,
          7.1,
          7.2,
          6.2,
          15.9,
          8.1,
          17,
          8.1,
          9.6,
          9.6,
          12.2,
          6.2,
          10.4,
          7.8,
          8.6,
          4.8,
          3,
          9.6,
          16.5,
          12.5,
          10.4,
          9.2,
          6.6,
          10.6,
          7,
          8.9,
          8.9,
          2.7,
          6.3,
          6.2,
          9,
          8.5,
          3,
          3.9,
          11.1,
          15.1,
          7,
          9.6,
          7,
          7.9,
          5.5,
          12.5,
          10.4,
          17,
          9.2,
          17,
          15.1,
          2.7,
          9.2,
          7,
          0.8,
          7,
          7.2,
          2.1,
          5.2,
          7.8,
          9.2,
          20.3,
          7,
          12.2,
          17.9,
          6.7,
          20.3,
          15.9,
          5,
          7.8,
          7.8,
          8.5,
          7.1,
          9.2,
          6.2,
          6.3,
          13.9,
          5,
          6.8,
          6.2,
          8.1,
          11.1,
          11.9,
          8.1,
          11.9,
          9.2,
          8.1,
          7,
          3.2,
          8.6,
          10.6,
          8.6,
          7,
          8.6,
          3.5,
          3.8,
          2.3,
          12.9,
          13.8,
          13.8,
          13.8,
          13.8,
          9.6,
          13.5,
          13.5,
          13.5,
          13.5,
          13.5,
          8,
          6.3,
          5,
          11,
          11,
          13.7,
          13.7,
          14.4,
          8.9,
          8.9,
          7.1,
          13,
          14.6,
          22.7,
          14.3,
          14.3,
          14.3,
          14.3,
          14.3,
          14.3,
          6.8,
          5.3,
          2,
          2.6,
          2.6,
          2.6,
          2.6,
          4.1,
          2.6,
          3.4,
          3.2,
          6.3,
          12.3,
          12.5,
          9,
          9,
          9,
          9,
          9,
          6.3,
          11,
          8.5,
          11,
          6.4,
          6.4,
          12.7,
          0.4,
          7.5,
          7.5,
          7.1,
          7.1,
          3.5,
          5.7,
          5.7,
          5.7,
          9.9,
          9.9,
          9.9,
          9.9,
          0.4,
          8.8,
          8.8,
          7.2,
          8.6,
          8.6,
          7.5,
          7.5,
          7.5,
          7.5,
          7.5,
          6.8,
          5.4,
          8.4,
          8.4,
          8.4,
          8.4,
          8.4,
          8.4,
          8.5,
          8.5,
          9.5,
          6.2,
          6.2,
          6.2,
          6.2,
          6.2,
          6.2,
          6.2,
          6.5,
          7.5,
          7.5,
          7.5,
          7.5,
          7.5,
          9.6,
          9.6,
          9.6,
          9.6,
          9.6,
          9.6,
          9.6,
          9.6,
          9.6,
          9.6,
          10.2,
          10.2,
          10.2,
          10.2,
          10.2,
          11.6,
          6.5,
          6.5,
          6.5,
          12.5,
          12.5,
          8.4,
          7.1,
          7.1,
          8,
          8.1,
          13.9,
          7.4,
          8.4,
          8.2,
          8.4,
          8,
          0,
          11.9,
          6.8,
          18,
          6.3,
          7.7,
          7.6,
          11.4,
          8,
          12,
          12,
          4.1,
          7.2,
          7.1,
          11.4,
          2.2,
          3.5,
          11.4,
          7.6,
          8.4,
          14,
          14,
          8.3,
          12,
          6.8,
          3.7,
          9.5,
          4,
          2.9,
          7.4,
          12.1,
          2.7,
          3.3,
          9.8,
          8.4,
          10.1,
          13.9,
          8.9,
          9.9,
          8.1,
          7.6,
          7.8,
          18,
          5.2,
          8.4,
          8.4,
          6.3,
          6.3,
          8.2,
          13.9,
          7.6,
          6.8,
          9.6,
          13.9,
          10.1,
          5.5,
          5.6,
          8.2,
          9.7,
          8.4,
          7.2,
          7.4,
          8.2,
          3.7,
          16.8,
          7.4,
          10.7,
          8.1,
          9.9,
          10.1,
          7.6,
          18,
          16.3,
          7.5,
          5.6,
          6.3,
          16.7,
          6.3,
          7.8,
          8.4,
          7.7,
          8.4,
          8.4,
          7.1,
          1.9,
          1.9,
          1.8,
          7.1,
          7.3,
          8.5,
          12.3,
          12.3,
          5.7,
          4.7,
          9.4,
          10.8,
          18,
          9.9,
          14.7,
          14.7,
          6.4,
          9.5,
          9.5,
          14.1,
          14.1,
          14.1,
          21.3,
          17.7,
          17.7,
          17.7,
          17.7,
          17.7,
          13.8,
          11.3,
          11.3,
          14,
          16.8,
          16.8,
          14.3,
          14.3,
          14.3,
          14.3,
          14.3,
          14.3,
          20,
          20,
          10.1,
          7.1,
          7.1,
          7.1,
          7.1,
          7.1,
          1.9,
          1.9,
          1.9,
          1.9,
          11.3,
          1.1
         ],
         "xaxis": "x",
         "yaxis": "y"
        },
        {
         "alignmentgroup": "True",
         "hovertemplate": "ISI=%{x}<extra></extra>",
         "legendgroup": "",
         "marker": {
          "color": "#636efa"
         },
         "name": "",
         "notched": true,
         "offsetgroup": "",
         "opacity": 1,
         "showlegend": false,
         "type": "box",
         "x": [
          5.1,
          6.7,
          6.7,
          9,
          9.6,
          14.7,
          8.5,
          10.7,
          7,
          7.1,
          7.1,
          22.6,
          0.8,
          7,
          9.2,
          13.9,
          7.8,
          3,
          6.3,
          5.1,
          7,
          9.2,
          56.1,
          6.2,
          20.3,
          10.6,
          12.2,
          7,
          8.1,
          8.1,
          15.9,
          7.1,
          5.8,
          7.8,
          9.2,
          6.3,
          6.7,
          8.7,
          6.7,
          3.8,
          1.5,
          8.9,
          17,
          7.1,
          6.2,
          15.9,
          7,
          11,
          4.1,
          5,
          9.2,
          6.3,
          9.6,
          9.6,
          6.3,
          9.2,
          6.3,
          8.8,
          2.1,
          5.3,
          9.6,
          9.6,
          7.7,
          6.3,
          5.8,
          6.3,
          12.2,
          12.2,
          12.2,
          9,
          12.5,
          15.9,
          9,
          9,
          13.9,
          7.7,
          5.3,
          5,
          12.5,
          7,
          10.6,
          6.3,
          17,
          9.6,
          6.3,
          9.2,
          9.2,
          9.2,
          8.1,
          7.8,
          8.9,
          7.8,
          14.7,
          10.6,
          5.8,
          4.8,
          2.6,
          0.7,
          10.6,
          10.6,
          10.6,
          9,
          17,
          8.6,
          2.9,
          2.8,
          7.5,
          6.3,
          7.1,
          7.1,
          2.8,
          9,
          4.8,
          9.2,
          3.8,
          3.8,
          7.8,
          7.8,
          6.2,
          7.7,
          10.7,
          10.7,
          8.5,
          3.2,
          15.9,
          8.8,
          5,
          8.1,
          5.2,
          8.8,
          0.8,
          4.1,
          9.6,
          17.9,
          3.8,
          20.3,
          8.5,
          7,
          3.9,
          7,
          7,
          13.2,
          12.5,
          8.7,
          13.2,
          10.4,
          6.2,
          3.2,
          17,
          17.9,
          7.1,
          7.2,
          6.2,
          15.9,
          8.1,
          17,
          8.1,
          9.6,
          9.6,
          12.2,
          6.2,
          10.4,
          7.8,
          8.6,
          4.8,
          3,
          9.6,
          16.5,
          12.5,
          10.4,
          9.2,
          6.6,
          10.6,
          7,
          8.9,
          8.9,
          2.7,
          6.3,
          6.2,
          9,
          8.5,
          3,
          3.9,
          11.1,
          15.1,
          7,
          9.6,
          7,
          7.9,
          5.5,
          12.5,
          10.4,
          17,
          9.2,
          17,
          15.1,
          2.7,
          9.2,
          7,
          0.8,
          7,
          7.2,
          2.1,
          5.2,
          7.8,
          9.2,
          20.3,
          7,
          12.2,
          17.9,
          6.7,
          20.3,
          15.9,
          5,
          7.8,
          7.8,
          8.5,
          7.1,
          9.2,
          6.2,
          6.3,
          13.9,
          5,
          6.8,
          6.2,
          8.1,
          11.1,
          11.9,
          8.1,
          11.9,
          9.2,
          8.1,
          7,
          3.2,
          8.6,
          10.6,
          8.6,
          7,
          8.6,
          3.5,
          3.8,
          2.3,
          12.9,
          13.8,
          13.8,
          13.8,
          13.8,
          9.6,
          13.5,
          13.5,
          13.5,
          13.5,
          13.5,
          8,
          6.3,
          5,
          11,
          11,
          13.7,
          13.7,
          14.4,
          8.9,
          8.9,
          7.1,
          13,
          14.6,
          22.7,
          14.3,
          14.3,
          14.3,
          14.3,
          14.3,
          14.3,
          6.8,
          5.3,
          2,
          2.6,
          2.6,
          2.6,
          2.6,
          4.1,
          2.6,
          3.4,
          3.2,
          6.3,
          12.3,
          12.5,
          9,
          9,
          9,
          9,
          9,
          6.3,
          11,
          8.5,
          11,
          6.4,
          6.4,
          12.7,
          0.4,
          7.5,
          7.5,
          7.1,
          7.1,
          3.5,
          5.7,
          5.7,
          5.7,
          9.9,
          9.9,
          9.9,
          9.9,
          0.4,
          8.8,
          8.8,
          7.2,
          8.6,
          8.6,
          7.5,
          7.5,
          7.5,
          7.5,
          7.5,
          6.8,
          5.4,
          8.4,
          8.4,
          8.4,
          8.4,
          8.4,
          8.4,
          8.5,
          8.5,
          9.5,
          6.2,
          6.2,
          6.2,
          6.2,
          6.2,
          6.2,
          6.2,
          6.5,
          7.5,
          7.5,
          7.5,
          7.5,
          7.5,
          9.6,
          9.6,
          9.6,
          9.6,
          9.6,
          9.6,
          9.6,
          9.6,
          9.6,
          9.6,
          10.2,
          10.2,
          10.2,
          10.2,
          10.2,
          11.6,
          6.5,
          6.5,
          6.5,
          12.5,
          12.5,
          8.4,
          7.1,
          7.1,
          8,
          8.1,
          13.9,
          7.4,
          8.4,
          8.2,
          8.4,
          8,
          0,
          11.9,
          6.8,
          18,
          6.3,
          7.7,
          7.6,
          11.4,
          8,
          12,
          12,
          4.1,
          7.2,
          7.1,
          11.4,
          2.2,
          3.5,
          11.4,
          7.6,
          8.4,
          14,
          14,
          8.3,
          12,
          6.8,
          3.7,
          9.5,
          4,
          2.9,
          7.4,
          12.1,
          2.7,
          3.3,
          9.8,
          8.4,
          10.1,
          13.9,
          8.9,
          9.9,
          8.1,
          7.6,
          7.8,
          18,
          5.2,
          8.4,
          8.4,
          6.3,
          6.3,
          8.2,
          13.9,
          7.6,
          6.8,
          9.6,
          13.9,
          10.1,
          5.5,
          5.6,
          8.2,
          9.7,
          8.4,
          7.2,
          7.4,
          8.2,
          3.7,
          16.8,
          7.4,
          10.7,
          8.1,
          9.9,
          10.1,
          7.6,
          18,
          16.3,
          7.5,
          5.6,
          6.3,
          16.7,
          6.3,
          7.8,
          8.4,
          7.7,
          8.4,
          8.4,
          7.1,
          1.9,
          1.9,
          1.8,
          7.1,
          7.3,
          8.5,
          12.3,
          12.3,
          5.7,
          4.7,
          9.4,
          10.8,
          18,
          9.9,
          14.7,
          14.7,
          6.4,
          9.5,
          9.5,
          14.1,
          14.1,
          14.1,
          21.3,
          17.7,
          17.7,
          17.7,
          17.7,
          17.7,
          13.8,
          11.3,
          11.3,
          14,
          16.8,
          16.8,
          14.3,
          14.3,
          14.3,
          14.3,
          14.3,
          14.3,
          20,
          20,
          10.1,
          7.1,
          7.1,
          7.1,
          7.1,
          7.1,
          1.9,
          1.9,
          1.9,
          1.9,
          11.3,
          1.1
         ],
         "xaxis": "x2",
         "yaxis": "y2"
        }
       ],
       "layout": {
        "barmode": "relative",
        "height": 600,
        "legend": {
         "tracegroupgap": 0
        },
        "margin": {
         "t": 60
        },
        "template": {
         "data": {
          "bar": [
           {
            "error_x": {
             "color": "#2a3f5f"
            },
            "error_y": {
             "color": "#2a3f5f"
            },
            "marker": {
             "line": {
              "color": "#E5ECF6",
              "width": 0.5
             },
             "pattern": {
              "fillmode": "overlay",
              "size": 10,
              "solidity": 0.2
             }
            },
            "type": "bar"
           }
          ],
          "barpolar": [
           {
            "marker": {
             "line": {
              "color": "#E5ECF6",
              "width": 0.5
             },
             "pattern": {
              "fillmode": "overlay",
              "size": 10,
              "solidity": 0.2
             }
            },
            "type": "barpolar"
           }
          ],
          "carpet": [
           {
            "aaxis": {
             "endlinecolor": "#2a3f5f",
             "gridcolor": "white",
             "linecolor": "white",
             "minorgridcolor": "white",
             "startlinecolor": "#2a3f5f"
            },
            "baxis": {
             "endlinecolor": "#2a3f5f",
             "gridcolor": "white",
             "linecolor": "white",
             "minorgridcolor": "white",
             "startlinecolor": "#2a3f5f"
            },
            "type": "carpet"
           }
          ],
          "choropleth": [
           {
            "colorbar": {
             "outlinewidth": 0,
             "ticks": ""
            },
            "type": "choropleth"
           }
          ],
          "contour": [
           {
            "colorbar": {
             "outlinewidth": 0,
             "ticks": ""
            },
            "colorscale": [
             [
              0,
              "#0d0887"
             ],
             [
              0.1111111111111111,
              "#46039f"
             ],
             [
              0.2222222222222222,
              "#7201a8"
             ],
             [
              0.3333333333333333,
              "#9c179e"
             ],
             [
              0.4444444444444444,
              "#bd3786"
             ],
             [
              0.5555555555555556,
              "#d8576b"
             ],
             [
              0.6666666666666666,
              "#ed7953"
             ],
             [
              0.7777777777777778,
              "#fb9f3a"
             ],
             [
              0.8888888888888888,
              "#fdca26"
             ],
             [
              1,
              "#f0f921"
             ]
            ],
            "type": "contour"
           }
          ],
          "contourcarpet": [
           {
            "colorbar": {
             "outlinewidth": 0,
             "ticks": ""
            },
            "type": "contourcarpet"
           }
          ],
          "heatmap": [
           {
            "colorbar": {
             "outlinewidth": 0,
             "ticks": ""
            },
            "colorscale": [
             [
              0,
              "#0d0887"
             ],
             [
              0.1111111111111111,
              "#46039f"
             ],
             [
              0.2222222222222222,
              "#7201a8"
             ],
             [
              0.3333333333333333,
              "#9c179e"
             ],
             [
              0.4444444444444444,
              "#bd3786"
             ],
             [
              0.5555555555555556,
              "#d8576b"
             ],
             [
              0.6666666666666666,
              "#ed7953"
             ],
             [
              0.7777777777777778,
              "#fb9f3a"
             ],
             [
              0.8888888888888888,
              "#fdca26"
             ],
             [
              1,
              "#f0f921"
             ]
            ],
            "type": "heatmap"
           }
          ],
          "heatmapgl": [
           {
            "colorbar": {
             "outlinewidth": 0,
             "ticks": ""
            },
            "colorscale": [
             [
              0,
              "#0d0887"
             ],
             [
              0.1111111111111111,
              "#46039f"
             ],
             [
              0.2222222222222222,
              "#7201a8"
             ],
             [
              0.3333333333333333,
              "#9c179e"
             ],
             [
              0.4444444444444444,
              "#bd3786"
             ],
             [
              0.5555555555555556,
              "#d8576b"
             ],
             [
              0.6666666666666666,
              "#ed7953"
             ],
             [
              0.7777777777777778,
              "#fb9f3a"
             ],
             [
              0.8888888888888888,
              "#fdca26"
             ],
             [
              1,
              "#f0f921"
             ]
            ],
            "type": "heatmapgl"
           }
          ],
          "histogram": [
           {
            "marker": {
             "pattern": {
              "fillmode": "overlay",
              "size": 10,
              "solidity": 0.2
             }
            },
            "type": "histogram"
           }
          ],
          "histogram2d": [
           {
            "colorbar": {
             "outlinewidth": 0,
             "ticks": ""
            },
            "colorscale": [
             [
              0,
              "#0d0887"
             ],
             [
              0.1111111111111111,
              "#46039f"
             ],
             [
              0.2222222222222222,
              "#7201a8"
             ],
             [
              0.3333333333333333,
              "#9c179e"
             ],
             [
              0.4444444444444444,
              "#bd3786"
             ],
             [
              0.5555555555555556,
              "#d8576b"
             ],
             [
              0.6666666666666666,
              "#ed7953"
             ],
             [
              0.7777777777777778,
              "#fb9f3a"
             ],
             [
              0.8888888888888888,
              "#fdca26"
             ],
             [
              1,
              "#f0f921"
             ]
            ],
            "type": "histogram2d"
           }
          ],
          "histogram2dcontour": [
           {
            "colorbar": {
             "outlinewidth": 0,
             "ticks": ""
            },
            "colorscale": [
             [
              0,
              "#0d0887"
             ],
             [
              0.1111111111111111,
              "#46039f"
             ],
             [
              0.2222222222222222,
              "#7201a8"
             ],
             [
              0.3333333333333333,
              "#9c179e"
             ],
             [
              0.4444444444444444,
              "#bd3786"
             ],
             [
              0.5555555555555556,
              "#d8576b"
             ],
             [
              0.6666666666666666,
              "#ed7953"
             ],
             [
              0.7777777777777778,
              "#fb9f3a"
             ],
             [
              0.8888888888888888,
              "#fdca26"
             ],
             [
              1,
              "#f0f921"
             ]
            ],
            "type": "histogram2dcontour"
           }
          ],
          "mesh3d": [
           {
            "colorbar": {
             "outlinewidth": 0,
             "ticks": ""
            },
            "type": "mesh3d"
           }
          ],
          "parcoords": [
           {
            "line": {
             "colorbar": {
              "outlinewidth": 0,
              "ticks": ""
             }
            },
            "type": "parcoords"
           }
          ],
          "pie": [
           {
            "automargin": true,
            "type": "pie"
           }
          ],
          "scatter": [
           {
            "fillpattern": {
             "fillmode": "overlay",
             "size": 10,
             "solidity": 0.2
            },
            "type": "scatter"
           }
          ],
          "scatter3d": [
           {
            "line": {
             "colorbar": {
              "outlinewidth": 0,
              "ticks": ""
             }
            },
            "marker": {
             "colorbar": {
              "outlinewidth": 0,
              "ticks": ""
             }
            },
            "type": "scatter3d"
           }
          ],
          "scattercarpet": [
           {
            "marker": {
             "colorbar": {
              "outlinewidth": 0,
              "ticks": ""
             }
            },
            "type": "scattercarpet"
           }
          ],
          "scattergeo": [
           {
            "marker": {
             "colorbar": {
              "outlinewidth": 0,
              "ticks": ""
             }
            },
            "type": "scattergeo"
           }
          ],
          "scattergl": [
           {
            "marker": {
             "colorbar": {
              "outlinewidth": 0,
              "ticks": ""
             }
            },
            "type": "scattergl"
           }
          ],
          "scattermapbox": [
           {
            "marker": {
             "colorbar": {
              "outlinewidth": 0,
              "ticks": ""
             }
            },
            "type": "scattermapbox"
           }
          ],
          "scatterpolar": [
           {
            "marker": {
             "colorbar": {
              "outlinewidth": 0,
              "ticks": ""
             }
            },
            "type": "scatterpolar"
           }
          ],
          "scatterpolargl": [
           {
            "marker": {
             "colorbar": {
              "outlinewidth": 0,
              "ticks": ""
             }
            },
            "type": "scatterpolargl"
           }
          ],
          "scatterternary": [
           {
            "marker": {
             "colorbar": {
              "outlinewidth": 0,
              "ticks": ""
             }
            },
            "type": "scatterternary"
           }
          ],
          "surface": [
           {
            "colorbar": {
             "outlinewidth": 0,
             "ticks": ""
            },
            "colorscale": [
             [
              0,
              "#0d0887"
             ],
             [
              0.1111111111111111,
              "#46039f"
             ],
             [
              0.2222222222222222,
              "#7201a8"
             ],
             [
              0.3333333333333333,
              "#9c179e"
             ],
             [
              0.4444444444444444,
              "#bd3786"
             ],
             [
              0.5555555555555556,
              "#d8576b"
             ],
             [
              0.6666666666666666,
              "#ed7953"
             ],
             [
              0.7777777777777778,
              "#fb9f3a"
             ],
             [
              0.8888888888888888,
              "#fdca26"
             ],
             [
              1,
              "#f0f921"
             ]
            ],
            "type": "surface"
           }
          ],
          "table": [
           {
            "cells": {
             "fill": {
              "color": "#EBF0F8"
             },
             "line": {
              "color": "white"
             }
            },
            "header": {
             "fill": {
              "color": "#C8D4E3"
             },
             "line": {
              "color": "white"
             }
            },
            "type": "table"
           }
          ]
         },
         "layout": {
          "annotationdefaults": {
           "arrowcolor": "#2a3f5f",
           "arrowhead": 0,
           "arrowwidth": 1
          },
          "autotypenumbers": "strict",
          "coloraxis": {
           "colorbar": {
            "outlinewidth": 0,
            "ticks": ""
           }
          },
          "colorscale": {
           "diverging": [
            [
             0,
             "#8e0152"
            ],
            [
             0.1,
             "#c51b7d"
            ],
            [
             0.2,
             "#de77ae"
            ],
            [
             0.3,
             "#f1b6da"
            ],
            [
             0.4,
             "#fde0ef"
            ],
            [
             0.5,
             "#f7f7f7"
            ],
            [
             0.6,
             "#e6f5d0"
            ],
            [
             0.7,
             "#b8e186"
            ],
            [
             0.8,
             "#7fbc41"
            ],
            [
             0.9,
             "#4d9221"
            ],
            [
             1,
             "#276419"
            ]
           ],
           "sequential": [
            [
             0,
             "#0d0887"
            ],
            [
             0.1111111111111111,
             "#46039f"
            ],
            [
             0.2222222222222222,
             "#7201a8"
            ],
            [
             0.3333333333333333,
             "#9c179e"
            ],
            [
             0.4444444444444444,
             "#bd3786"
            ],
            [
             0.5555555555555556,
             "#d8576b"
            ],
            [
             0.6666666666666666,
             "#ed7953"
            ],
            [
             0.7777777777777778,
             "#fb9f3a"
            ],
            [
             0.8888888888888888,
             "#fdca26"
            ],
            [
             1,
             "#f0f921"
            ]
           ],
           "sequentialminus": [
            [
             0,
             "#0d0887"
            ],
            [
             0.1111111111111111,
             "#46039f"
            ],
            [
             0.2222222222222222,
             "#7201a8"
            ],
            [
             0.3333333333333333,
             "#9c179e"
            ],
            [
             0.4444444444444444,
             "#bd3786"
            ],
            [
             0.5555555555555556,
             "#d8576b"
            ],
            [
             0.6666666666666666,
             "#ed7953"
            ],
            [
             0.7777777777777778,
             "#fb9f3a"
            ],
            [
             0.8888888888888888,
             "#fdca26"
            ],
            [
             1,
             "#f0f921"
            ]
           ]
          },
          "colorway": [
           "#636efa",
           "#EF553B",
           "#00cc96",
           "#ab63fa",
           "#FFA15A",
           "#19d3f3",
           "#FF6692",
           "#B6E880",
           "#FF97FF",
           "#FECB52"
          ],
          "font": {
           "color": "#2a3f5f"
          },
          "geo": {
           "bgcolor": "white",
           "lakecolor": "white",
           "landcolor": "#E5ECF6",
           "showlakes": true,
           "showland": true,
           "subunitcolor": "white"
          },
          "hoverlabel": {
           "align": "left"
          },
          "hovermode": "closest",
          "mapbox": {
           "style": "light"
          },
          "paper_bgcolor": "white",
          "plot_bgcolor": "#E5ECF6",
          "polar": {
           "angularaxis": {
            "gridcolor": "white",
            "linecolor": "white",
            "ticks": ""
           },
           "bgcolor": "#E5ECF6",
           "radialaxis": {
            "gridcolor": "white",
            "linecolor": "white",
            "ticks": ""
           }
          },
          "scene": {
           "xaxis": {
            "backgroundcolor": "#E5ECF6",
            "gridcolor": "white",
            "gridwidth": 2,
            "linecolor": "white",
            "showbackground": true,
            "ticks": "",
            "zerolinecolor": "white"
           },
           "yaxis": {
            "backgroundcolor": "#E5ECF6",
            "gridcolor": "white",
            "gridwidth": 2,
            "linecolor": "white",
            "showbackground": true,
            "ticks": "",
            "zerolinecolor": "white"
           },
           "zaxis": {
            "backgroundcolor": "#E5ECF6",
            "gridcolor": "white",
            "gridwidth": 2,
            "linecolor": "white",
            "showbackground": true,
            "ticks": "",
            "zerolinecolor": "white"
           }
          },
          "shapedefaults": {
           "line": {
            "color": "#2a3f5f"
           }
          },
          "ternary": {
           "aaxis": {
            "gridcolor": "white",
            "linecolor": "white",
            "ticks": ""
           },
           "baxis": {
            "gridcolor": "white",
            "linecolor": "white",
            "ticks": ""
           },
           "bgcolor": "#E5ECF6",
           "caxis": {
            "gridcolor": "white",
            "linecolor": "white",
            "ticks": ""
           }
          },
          "title": {
           "x": 0.05
          },
          "xaxis": {
           "automargin": true,
           "gridcolor": "white",
           "linecolor": "white",
           "ticks": "",
           "title": {
            "standoff": 15
           },
           "zerolinecolor": "white",
           "zerolinewidth": 2
          },
          "yaxis": {
           "automargin": true,
           "gridcolor": "white",
           "linecolor": "white",
           "ticks": "",
           "title": {
            "standoff": 15
           },
           "zerolinecolor": "white",
           "zerolinewidth": 2
          }
         }
        },
        "title": {
         "font": {
          "family": "Gulliver",
          "size": 40
         },
         "text": "ISI",
         "x": 0.5
        },
        "width": 1000,
        "xaxis": {
         "anchor": "y",
         "domain": [
          0,
          1
         ],
         "tickfont": {
          "size": 20
         },
         "title": {
          "text": "ISI"
         }
        },
        "xaxis2": {
         "anchor": "y2",
         "domain": [
          0,
          1
         ],
         "matches": "x",
         "showgrid": true,
         "showticklabels": false
        },
        "yaxis": {
         "anchor": "x",
         "domain": [
          0,
          0.8316
         ],
         "tickfont": {
          "size": 20
         },
         "title": {
          "text": "Density"
         }
        },
        "yaxis2": {
         "anchor": "x2",
         "domain": [
          0.8416,
          1
         ],
         "matches": "y2",
         "showgrid": false,
         "showline": false,
         "showticklabels": false,
         "ticks": ""
        }
       }
      }
     },
     "metadata": {},
     "output_type": "display_data"
    },
    {
     "data": {
      "application/vnd.plotly.v1+json": {
       "config": {
        "plotlyServerURL": "https://plotly.com"
       },
       "data": [
        {
         "alignmentgroup": "True",
         "bingroup": "x",
         "histnorm": "density",
         "hovertemplate": "temp=%{x}<br>density=%{y}<extra></extra>",
         "legendgroup": "",
         "marker": {
          "color": "#636efa",
          "pattern": {
           "shape": ""
          }
         },
         "name": "",
         "nbinsx": 100,
         "offsetgroup": "",
         "opacity": 1,
         "orientation": "v",
         "showlegend": false,
         "type": "histogram",
         "x": [
          8.2,
          18,
          14.6,
          8.3,
          11.4,
          22.2,
          24.1,
          8,
          13.1,
          22.8,
          17.8,
          19.3,
          17,
          21.3,
          26.4,
          22.9,
          15.1,
          16.7,
          15.9,
          9.3,
          18.3,
          19.1,
          21,
          19.5,
          23.7,
          16.3,
          19,
          19.4,
          30.2,
          22.8,
          25.4,
          11.2,
          20.6,
          17.7,
          21.2,
          18.2,
          21.7,
          11.3,
          17.8,
          14.1,
          23.3,
          18.4,
          16.6,
          19.6,
          12.9,
          25.9,
          14.7,
          23,
          11.8,
          11,
          20.8,
          21.5,
          20.4,
          20.4,
          17.6,
          27.7,
          17.8,
          13.8,
          13.9,
          12.3,
          11.5,
          5.5,
          18.8,
          20.8,
          23.1,
          18.6,
          23,
          19.6,
          19.6,
          17.2,
          15.8,
          17.7,
          15.6,
          17.3,
          27.6,
          6.7,
          15.7,
          8.3,
          14.7,
          21.6,
          19.5,
          17.9,
          18.6,
          16.6,
          20.2,
          21.5,
          25.4,
          22.4,
          25.3,
          17.4,
          14.7,
          17.4,
          20.8,
          18.2,
          23.4,
          17.8,
          12.7,
          17.4,
          11.6,
          19.8,
          19.8,
          14.4,
          20.1,
          24.1,
          5.3,
          12.7,
          18.2,
          21.4,
          20.3,
          17.4,
          13.7,
          18.8,
          22.8,
          18.9,
          15.8,
          15.5,
          11.6,
          15.2,
          10.6,
          19.6,
          10.3,
          17.1,
          22.5,
          17.9,
          19.8,
          20.6,
          9,
          17.2,
          15.9,
          15.4,
          15.4,
          14,
          10.6,
          17.6,
          14.9,
          17.6,
          17.2,
          15.6,
          18,
          21.7,
          21.9,
          23.3,
          21.2,
          16.6,
          23.8,
          27.4,
          13.2,
          24.2,
          17.4,
          23.7,
          23.2,
          24.8,
          24.6,
          20.1,
          29.6,
          16.4,
          28.6,
          18.4,
          20.5,
          19,
          16.1,
          20.3,
          15.2,
          17.8,
          17.8,
          5.3,
          16.6,
          23.4,
          14.6,
          20.7,
          21.9,
          17.4,
          20.1,
          17.7,
          14.2,
          20.3,
          5.8,
          19.2,
          18.3,
          14.4,
          23.9,
          19.1,
          12.4,
          16.8,
          20.8,
          17.6,
          11.5,
          21,
          13.3,
          11.5,
          11.7,
          24.2,
          24.6,
          24.3,
          24.6,
          23.5,
          5.8,
          21.5,
          13.9,
          22.6,
          21.6,
          12.4,
          8.8,
          20.2,
          15.1,
          22.1,
          22.9,
          20.7,
          19.6,
          23.2,
          18.4,
          5.1,
          20.1,
          11,
          17,
          17,
          16.9,
          12.4,
          19.4,
          15.2,
          16.2,
          18.6,
          11,
          13.4,
          15.4,
          22.9,
          16.1,
          20.1,
          28.3,
          16.4,
          26.4,
          27.8,
          18.7,
          24.3,
          17.7,
          19.6,
          18.2,
          18.8,
          25.1,
          13.4,
          15.2,
          16.7,
          15.4,
          21.9,
          22.4,
          26.8,
          25.7,
          20.7,
          28.7,
          21.7,
          26.8,
          24,
          22.1,
          21.4,
          18.9,
          22.3,
          23.9,
          21.4,
          20.6,
          23.7,
          28.3,
          11.2,
          21.4,
          19.3,
          21.8,
          22.1,
          19.4,
          23.7,
          21,
          19.1,
          21.8,
          20.1,
          20.2,
          4.8,
          5.1,
          5.1,
          4.6,
          4.6,
          4.6,
          4.6,
          2.2,
          5.1,
          4.2,
          8.8,
          7.5,
          23.4,
          12.6,
          22.1,
          24.2,
          24.3,
          18.7,
          25.3,
          22.9,
          26.9,
          17.1,
          22.2,
          14.3,
          15.4,
          19.6,
          10.6,
          20.7,
          19.1,
          19.2,
          19.2,
          11.3,
          19,
          17.1,
          23.8,
          16,
          24.9,
          25.3,
          24.8,
          12.2,
          24.3,
          19.7,
          18.5,
          18.6,
          19.2,
          21.6,
          21.6,
          18.9,
          16.8,
          16.8,
          12.9,
          13.7,
          24.2,
          24.1,
          21.2,
          19.7,
          23.5,
          24.2,
          21.5,
          17.1,
          18.1,
          18,
          9.8,
          19.3,
          23,
          22.7,
          20.4,
          19.3,
          15.7,
          20.6,
          15.9,
          12.2,
          16.8,
          21.3,
          10.1,
          17.4,
          12.8,
          10.1,
          15.4,
          20.6,
          19.8,
          18.7,
          20.8,
          20.8,
          15.9,
          19.7,
          21.1,
          18.4,
          17.3,
          15.2,
          15.9,
          21.1,
          19.6,
          15.9,
          16.4,
          16.8,
          13.8,
          13.8,
          14.2,
          10.4,
          20.3,
          10.3,
          15.4,
          21.1,
          21.9,
          8.7,
          5.2,
          19.3,
          16.2,
          28.2,
          20.5,
          21.3,
          20.9,
          20.6,
          11.6,
          23.3,
          23.3,
          7.5,
          20.7,
          21.9,
          15.2,
          5.3,
          10.1,
          20.4,
          24.3,
          25.9,
          28,
          28,
          22.8,
          25,
          21.3,
          21.8,
          27.9,
          17,
          14.2,
          19.9,
          23.4,
          14.7,
          8.2,
          22.8,
          26.4,
          24.1,
          27.5,
          26.3,
          13.8,
          24.9,
          24.8,
          26.2,
          30.8,
          29.3,
          22.3,
          26.9,
          20.4,
          20.4,
          27.9,
          26.2,
          24.6,
          19.4,
          23.3,
          23.9,
          20.9,
          22.2,
          23.8,
          26.8,
          14.2,
          23.6,
          19.1,
          16.2,
          25.5,
          10.9,
          14.8,
          16.2,
          17.3,
          19.1,
          8.9,
          10.5,
          19.3,
          23.4,
          11.8,
          17.7,
          17.4,
          16.8,
          17.9,
          16.6,
          19.9,
          18.9,
          15.5,
          18.9,
          18.9,
          14.5,
          4.6,
          5.1,
          4.6,
          10.2,
          11.2,
          13.3,
          13.7,
          17.6,
          18,
          14.3,
          24.5,
          26.4,
          22.7,
          27.2,
          26.1,
          18.2,
          22.6,
          30.2,
          30.2,
          23.4,
          31,
          33.1,
          30.6,
          24.1,
          26.4,
          19.4,
          20.6,
          28.7,
          32.4,
          32.4,
          27.5,
          30.8,
          23.9,
          32.6,
          32.3,
          33.3,
          27.3,
          21.6,
          21.6,
          20.7,
          29.2,
          28.9,
          26.7,
          18.5,
          25.9,
          25.9,
          21.1,
          18.2,
          27.8,
          27.8,
          21.9,
          21.2,
          25.6,
          11.8
         ],
         "xaxis": "x",
         "yaxis": "y"
        },
        {
         "alignmentgroup": "True",
         "hovertemplate": "temp=%{x}<extra></extra>",
         "legendgroup": "",
         "marker": {
          "color": "#636efa"
         },
         "name": "",
         "notched": true,
         "offsetgroup": "",
         "opacity": 1,
         "showlegend": false,
         "type": "box",
         "x": [
          8.2,
          18,
          14.6,
          8.3,
          11.4,
          22.2,
          24.1,
          8,
          13.1,
          22.8,
          17.8,
          19.3,
          17,
          21.3,
          26.4,
          22.9,
          15.1,
          16.7,
          15.9,
          9.3,
          18.3,
          19.1,
          21,
          19.5,
          23.7,
          16.3,
          19,
          19.4,
          30.2,
          22.8,
          25.4,
          11.2,
          20.6,
          17.7,
          21.2,
          18.2,
          21.7,
          11.3,
          17.8,
          14.1,
          23.3,
          18.4,
          16.6,
          19.6,
          12.9,
          25.9,
          14.7,
          23,
          11.8,
          11,
          20.8,
          21.5,
          20.4,
          20.4,
          17.6,
          27.7,
          17.8,
          13.8,
          13.9,
          12.3,
          11.5,
          5.5,
          18.8,
          20.8,
          23.1,
          18.6,
          23,
          19.6,
          19.6,
          17.2,
          15.8,
          17.7,
          15.6,
          17.3,
          27.6,
          6.7,
          15.7,
          8.3,
          14.7,
          21.6,
          19.5,
          17.9,
          18.6,
          16.6,
          20.2,
          21.5,
          25.4,
          22.4,
          25.3,
          17.4,
          14.7,
          17.4,
          20.8,
          18.2,
          23.4,
          17.8,
          12.7,
          17.4,
          11.6,
          19.8,
          19.8,
          14.4,
          20.1,
          24.1,
          5.3,
          12.7,
          18.2,
          21.4,
          20.3,
          17.4,
          13.7,
          18.8,
          22.8,
          18.9,
          15.8,
          15.5,
          11.6,
          15.2,
          10.6,
          19.6,
          10.3,
          17.1,
          22.5,
          17.9,
          19.8,
          20.6,
          9,
          17.2,
          15.9,
          15.4,
          15.4,
          14,
          10.6,
          17.6,
          14.9,
          17.6,
          17.2,
          15.6,
          18,
          21.7,
          21.9,
          23.3,
          21.2,
          16.6,
          23.8,
          27.4,
          13.2,
          24.2,
          17.4,
          23.7,
          23.2,
          24.8,
          24.6,
          20.1,
          29.6,
          16.4,
          28.6,
          18.4,
          20.5,
          19,
          16.1,
          20.3,
          15.2,
          17.8,
          17.8,
          5.3,
          16.6,
          23.4,
          14.6,
          20.7,
          21.9,
          17.4,
          20.1,
          17.7,
          14.2,
          20.3,
          5.8,
          19.2,
          18.3,
          14.4,
          23.9,
          19.1,
          12.4,
          16.8,
          20.8,
          17.6,
          11.5,
          21,
          13.3,
          11.5,
          11.7,
          24.2,
          24.6,
          24.3,
          24.6,
          23.5,
          5.8,
          21.5,
          13.9,
          22.6,
          21.6,
          12.4,
          8.8,
          20.2,
          15.1,
          22.1,
          22.9,
          20.7,
          19.6,
          23.2,
          18.4,
          5.1,
          20.1,
          11,
          17,
          17,
          16.9,
          12.4,
          19.4,
          15.2,
          16.2,
          18.6,
          11,
          13.4,
          15.4,
          22.9,
          16.1,
          20.1,
          28.3,
          16.4,
          26.4,
          27.8,
          18.7,
          24.3,
          17.7,
          19.6,
          18.2,
          18.8,
          25.1,
          13.4,
          15.2,
          16.7,
          15.4,
          21.9,
          22.4,
          26.8,
          25.7,
          20.7,
          28.7,
          21.7,
          26.8,
          24,
          22.1,
          21.4,
          18.9,
          22.3,
          23.9,
          21.4,
          20.6,
          23.7,
          28.3,
          11.2,
          21.4,
          19.3,
          21.8,
          22.1,
          19.4,
          23.7,
          21,
          19.1,
          21.8,
          20.1,
          20.2,
          4.8,
          5.1,
          5.1,
          4.6,
          4.6,
          4.6,
          4.6,
          2.2,
          5.1,
          4.2,
          8.8,
          7.5,
          23.4,
          12.6,
          22.1,
          24.2,
          24.3,
          18.7,
          25.3,
          22.9,
          26.9,
          17.1,
          22.2,
          14.3,
          15.4,
          19.6,
          10.6,
          20.7,
          19.1,
          19.2,
          19.2,
          11.3,
          19,
          17.1,
          23.8,
          16,
          24.9,
          25.3,
          24.8,
          12.2,
          24.3,
          19.7,
          18.5,
          18.6,
          19.2,
          21.6,
          21.6,
          18.9,
          16.8,
          16.8,
          12.9,
          13.7,
          24.2,
          24.1,
          21.2,
          19.7,
          23.5,
          24.2,
          21.5,
          17.1,
          18.1,
          18,
          9.8,
          19.3,
          23,
          22.7,
          20.4,
          19.3,
          15.7,
          20.6,
          15.9,
          12.2,
          16.8,
          21.3,
          10.1,
          17.4,
          12.8,
          10.1,
          15.4,
          20.6,
          19.8,
          18.7,
          20.8,
          20.8,
          15.9,
          19.7,
          21.1,
          18.4,
          17.3,
          15.2,
          15.9,
          21.1,
          19.6,
          15.9,
          16.4,
          16.8,
          13.8,
          13.8,
          14.2,
          10.4,
          20.3,
          10.3,
          15.4,
          21.1,
          21.9,
          8.7,
          5.2,
          19.3,
          16.2,
          28.2,
          20.5,
          21.3,
          20.9,
          20.6,
          11.6,
          23.3,
          23.3,
          7.5,
          20.7,
          21.9,
          15.2,
          5.3,
          10.1,
          20.4,
          24.3,
          25.9,
          28,
          28,
          22.8,
          25,
          21.3,
          21.8,
          27.9,
          17,
          14.2,
          19.9,
          23.4,
          14.7,
          8.2,
          22.8,
          26.4,
          24.1,
          27.5,
          26.3,
          13.8,
          24.9,
          24.8,
          26.2,
          30.8,
          29.3,
          22.3,
          26.9,
          20.4,
          20.4,
          27.9,
          26.2,
          24.6,
          19.4,
          23.3,
          23.9,
          20.9,
          22.2,
          23.8,
          26.8,
          14.2,
          23.6,
          19.1,
          16.2,
          25.5,
          10.9,
          14.8,
          16.2,
          17.3,
          19.1,
          8.9,
          10.5,
          19.3,
          23.4,
          11.8,
          17.7,
          17.4,
          16.8,
          17.9,
          16.6,
          19.9,
          18.9,
          15.5,
          18.9,
          18.9,
          14.5,
          4.6,
          5.1,
          4.6,
          10.2,
          11.2,
          13.3,
          13.7,
          17.6,
          18,
          14.3,
          24.5,
          26.4,
          22.7,
          27.2,
          26.1,
          18.2,
          22.6,
          30.2,
          30.2,
          23.4,
          31,
          33.1,
          30.6,
          24.1,
          26.4,
          19.4,
          20.6,
          28.7,
          32.4,
          32.4,
          27.5,
          30.8,
          23.9,
          32.6,
          32.3,
          33.3,
          27.3,
          21.6,
          21.6,
          20.7,
          29.2,
          28.9,
          26.7,
          18.5,
          25.9,
          25.9,
          21.1,
          18.2,
          27.8,
          27.8,
          21.9,
          21.2,
          25.6,
          11.8
         ],
         "xaxis": "x2",
         "yaxis": "y2"
        }
       ],
       "layout": {
        "barmode": "relative",
        "height": 600,
        "legend": {
         "tracegroupgap": 0
        },
        "margin": {
         "t": 60
        },
        "template": {
         "data": {
          "bar": [
           {
            "error_x": {
             "color": "#2a3f5f"
            },
            "error_y": {
             "color": "#2a3f5f"
            },
            "marker": {
             "line": {
              "color": "#E5ECF6",
              "width": 0.5
             },
             "pattern": {
              "fillmode": "overlay",
              "size": 10,
              "solidity": 0.2
             }
            },
            "type": "bar"
           }
          ],
          "barpolar": [
           {
            "marker": {
             "line": {
              "color": "#E5ECF6",
              "width": 0.5
             },
             "pattern": {
              "fillmode": "overlay",
              "size": 10,
              "solidity": 0.2
             }
            },
            "type": "barpolar"
           }
          ],
          "carpet": [
           {
            "aaxis": {
             "endlinecolor": "#2a3f5f",
             "gridcolor": "white",
             "linecolor": "white",
             "minorgridcolor": "white",
             "startlinecolor": "#2a3f5f"
            },
            "baxis": {
             "endlinecolor": "#2a3f5f",
             "gridcolor": "white",
             "linecolor": "white",
             "minorgridcolor": "white",
             "startlinecolor": "#2a3f5f"
            },
            "type": "carpet"
           }
          ],
          "choropleth": [
           {
            "colorbar": {
             "outlinewidth": 0,
             "ticks": ""
            },
            "type": "choropleth"
           }
          ],
          "contour": [
           {
            "colorbar": {
             "outlinewidth": 0,
             "ticks": ""
            },
            "colorscale": [
             [
              0,
              "#0d0887"
             ],
             [
              0.1111111111111111,
              "#46039f"
             ],
             [
              0.2222222222222222,
              "#7201a8"
             ],
             [
              0.3333333333333333,
              "#9c179e"
             ],
             [
              0.4444444444444444,
              "#bd3786"
             ],
             [
              0.5555555555555556,
              "#d8576b"
             ],
             [
              0.6666666666666666,
              "#ed7953"
             ],
             [
              0.7777777777777778,
              "#fb9f3a"
             ],
             [
              0.8888888888888888,
              "#fdca26"
             ],
             [
              1,
              "#f0f921"
             ]
            ],
            "type": "contour"
           }
          ],
          "contourcarpet": [
           {
            "colorbar": {
             "outlinewidth": 0,
             "ticks": ""
            },
            "type": "contourcarpet"
           }
          ],
          "heatmap": [
           {
            "colorbar": {
             "outlinewidth": 0,
             "ticks": ""
            },
            "colorscale": [
             [
              0,
              "#0d0887"
             ],
             [
              0.1111111111111111,
              "#46039f"
             ],
             [
              0.2222222222222222,
              "#7201a8"
             ],
             [
              0.3333333333333333,
              "#9c179e"
             ],
             [
              0.4444444444444444,
              "#bd3786"
             ],
             [
              0.5555555555555556,
              "#d8576b"
             ],
             [
              0.6666666666666666,
              "#ed7953"
             ],
             [
              0.7777777777777778,
              "#fb9f3a"
             ],
             [
              0.8888888888888888,
              "#fdca26"
             ],
             [
              1,
              "#f0f921"
             ]
            ],
            "type": "heatmap"
           }
          ],
          "heatmapgl": [
           {
            "colorbar": {
             "outlinewidth": 0,
             "ticks": ""
            },
            "colorscale": [
             [
              0,
              "#0d0887"
             ],
             [
              0.1111111111111111,
              "#46039f"
             ],
             [
              0.2222222222222222,
              "#7201a8"
             ],
             [
              0.3333333333333333,
              "#9c179e"
             ],
             [
              0.4444444444444444,
              "#bd3786"
             ],
             [
              0.5555555555555556,
              "#d8576b"
             ],
             [
              0.6666666666666666,
              "#ed7953"
             ],
             [
              0.7777777777777778,
              "#fb9f3a"
             ],
             [
              0.8888888888888888,
              "#fdca26"
             ],
             [
              1,
              "#f0f921"
             ]
            ],
            "type": "heatmapgl"
           }
          ],
          "histogram": [
           {
            "marker": {
             "pattern": {
              "fillmode": "overlay",
              "size": 10,
              "solidity": 0.2
             }
            },
            "type": "histogram"
           }
          ],
          "histogram2d": [
           {
            "colorbar": {
             "outlinewidth": 0,
             "ticks": ""
            },
            "colorscale": [
             [
              0,
              "#0d0887"
             ],
             [
              0.1111111111111111,
              "#46039f"
             ],
             [
              0.2222222222222222,
              "#7201a8"
             ],
             [
              0.3333333333333333,
              "#9c179e"
             ],
             [
              0.4444444444444444,
              "#bd3786"
             ],
             [
              0.5555555555555556,
              "#d8576b"
             ],
             [
              0.6666666666666666,
              "#ed7953"
             ],
             [
              0.7777777777777778,
              "#fb9f3a"
             ],
             [
              0.8888888888888888,
              "#fdca26"
             ],
             [
              1,
              "#f0f921"
             ]
            ],
            "type": "histogram2d"
           }
          ],
          "histogram2dcontour": [
           {
            "colorbar": {
             "outlinewidth": 0,
             "ticks": ""
            },
            "colorscale": [
             [
              0,
              "#0d0887"
             ],
             [
              0.1111111111111111,
              "#46039f"
             ],
             [
              0.2222222222222222,
              "#7201a8"
             ],
             [
              0.3333333333333333,
              "#9c179e"
             ],
             [
              0.4444444444444444,
              "#bd3786"
             ],
             [
              0.5555555555555556,
              "#d8576b"
             ],
             [
              0.6666666666666666,
              "#ed7953"
             ],
             [
              0.7777777777777778,
              "#fb9f3a"
             ],
             [
              0.8888888888888888,
              "#fdca26"
             ],
             [
              1,
              "#f0f921"
             ]
            ],
            "type": "histogram2dcontour"
           }
          ],
          "mesh3d": [
           {
            "colorbar": {
             "outlinewidth": 0,
             "ticks": ""
            },
            "type": "mesh3d"
           }
          ],
          "parcoords": [
           {
            "line": {
             "colorbar": {
              "outlinewidth": 0,
              "ticks": ""
             }
            },
            "type": "parcoords"
           }
          ],
          "pie": [
           {
            "automargin": true,
            "type": "pie"
           }
          ],
          "scatter": [
           {
            "fillpattern": {
             "fillmode": "overlay",
             "size": 10,
             "solidity": 0.2
            },
            "type": "scatter"
           }
          ],
          "scatter3d": [
           {
            "line": {
             "colorbar": {
              "outlinewidth": 0,
              "ticks": ""
             }
            },
            "marker": {
             "colorbar": {
              "outlinewidth": 0,
              "ticks": ""
             }
            },
            "type": "scatter3d"
           }
          ],
          "scattercarpet": [
           {
            "marker": {
             "colorbar": {
              "outlinewidth": 0,
              "ticks": ""
             }
            },
            "type": "scattercarpet"
           }
          ],
          "scattergeo": [
           {
            "marker": {
             "colorbar": {
              "outlinewidth": 0,
              "ticks": ""
             }
            },
            "type": "scattergeo"
           }
          ],
          "scattergl": [
           {
            "marker": {
             "colorbar": {
              "outlinewidth": 0,
              "ticks": ""
             }
            },
            "type": "scattergl"
           }
          ],
          "scattermapbox": [
           {
            "marker": {
             "colorbar": {
              "outlinewidth": 0,
              "ticks": ""
             }
            },
            "type": "scattermapbox"
           }
          ],
          "scatterpolar": [
           {
            "marker": {
             "colorbar": {
              "outlinewidth": 0,
              "ticks": ""
             }
            },
            "type": "scatterpolar"
           }
          ],
          "scatterpolargl": [
           {
            "marker": {
             "colorbar": {
              "outlinewidth": 0,
              "ticks": ""
             }
            },
            "type": "scatterpolargl"
           }
          ],
          "scatterternary": [
           {
            "marker": {
             "colorbar": {
              "outlinewidth": 0,
              "ticks": ""
             }
            },
            "type": "scatterternary"
           }
          ],
          "surface": [
           {
            "colorbar": {
             "outlinewidth": 0,
             "ticks": ""
            },
            "colorscale": [
             [
              0,
              "#0d0887"
             ],
             [
              0.1111111111111111,
              "#46039f"
             ],
             [
              0.2222222222222222,
              "#7201a8"
             ],
             [
              0.3333333333333333,
              "#9c179e"
             ],
             [
              0.4444444444444444,
              "#bd3786"
             ],
             [
              0.5555555555555556,
              "#d8576b"
             ],
             [
              0.6666666666666666,
              "#ed7953"
             ],
             [
              0.7777777777777778,
              "#fb9f3a"
             ],
             [
              0.8888888888888888,
              "#fdca26"
             ],
             [
              1,
              "#f0f921"
             ]
            ],
            "type": "surface"
           }
          ],
          "table": [
           {
            "cells": {
             "fill": {
              "color": "#EBF0F8"
             },
             "line": {
              "color": "white"
             }
            },
            "header": {
             "fill": {
              "color": "#C8D4E3"
             },
             "line": {
              "color": "white"
             }
            },
            "type": "table"
           }
          ]
         },
         "layout": {
          "annotationdefaults": {
           "arrowcolor": "#2a3f5f",
           "arrowhead": 0,
           "arrowwidth": 1
          },
          "autotypenumbers": "strict",
          "coloraxis": {
           "colorbar": {
            "outlinewidth": 0,
            "ticks": ""
           }
          },
          "colorscale": {
           "diverging": [
            [
             0,
             "#8e0152"
            ],
            [
             0.1,
             "#c51b7d"
            ],
            [
             0.2,
             "#de77ae"
            ],
            [
             0.3,
             "#f1b6da"
            ],
            [
             0.4,
             "#fde0ef"
            ],
            [
             0.5,
             "#f7f7f7"
            ],
            [
             0.6,
             "#e6f5d0"
            ],
            [
             0.7,
             "#b8e186"
            ],
            [
             0.8,
             "#7fbc41"
            ],
            [
             0.9,
             "#4d9221"
            ],
            [
             1,
             "#276419"
            ]
           ],
           "sequential": [
            [
             0,
             "#0d0887"
            ],
            [
             0.1111111111111111,
             "#46039f"
            ],
            [
             0.2222222222222222,
             "#7201a8"
            ],
            [
             0.3333333333333333,
             "#9c179e"
            ],
            [
             0.4444444444444444,
             "#bd3786"
            ],
            [
             0.5555555555555556,
             "#d8576b"
            ],
            [
             0.6666666666666666,
             "#ed7953"
            ],
            [
             0.7777777777777778,
             "#fb9f3a"
            ],
            [
             0.8888888888888888,
             "#fdca26"
            ],
            [
             1,
             "#f0f921"
            ]
           ],
           "sequentialminus": [
            [
             0,
             "#0d0887"
            ],
            [
             0.1111111111111111,
             "#46039f"
            ],
            [
             0.2222222222222222,
             "#7201a8"
            ],
            [
             0.3333333333333333,
             "#9c179e"
            ],
            [
             0.4444444444444444,
             "#bd3786"
            ],
            [
             0.5555555555555556,
             "#d8576b"
            ],
            [
             0.6666666666666666,
             "#ed7953"
            ],
            [
             0.7777777777777778,
             "#fb9f3a"
            ],
            [
             0.8888888888888888,
             "#fdca26"
            ],
            [
             1,
             "#f0f921"
            ]
           ]
          },
          "colorway": [
           "#636efa",
           "#EF553B",
           "#00cc96",
           "#ab63fa",
           "#FFA15A",
           "#19d3f3",
           "#FF6692",
           "#B6E880",
           "#FF97FF",
           "#FECB52"
          ],
          "font": {
           "color": "#2a3f5f"
          },
          "geo": {
           "bgcolor": "white",
           "lakecolor": "white",
           "landcolor": "#E5ECF6",
           "showlakes": true,
           "showland": true,
           "subunitcolor": "white"
          },
          "hoverlabel": {
           "align": "left"
          },
          "hovermode": "closest",
          "mapbox": {
           "style": "light"
          },
          "paper_bgcolor": "white",
          "plot_bgcolor": "#E5ECF6",
          "polar": {
           "angularaxis": {
            "gridcolor": "white",
            "linecolor": "white",
            "ticks": ""
           },
           "bgcolor": "#E5ECF6",
           "radialaxis": {
            "gridcolor": "white",
            "linecolor": "white",
            "ticks": ""
           }
          },
          "scene": {
           "xaxis": {
            "backgroundcolor": "#E5ECF6",
            "gridcolor": "white",
            "gridwidth": 2,
            "linecolor": "white",
            "showbackground": true,
            "ticks": "",
            "zerolinecolor": "white"
           },
           "yaxis": {
            "backgroundcolor": "#E5ECF6",
            "gridcolor": "white",
            "gridwidth": 2,
            "linecolor": "white",
            "showbackground": true,
            "ticks": "",
            "zerolinecolor": "white"
           },
           "zaxis": {
            "backgroundcolor": "#E5ECF6",
            "gridcolor": "white",
            "gridwidth": 2,
            "linecolor": "white",
            "showbackground": true,
            "ticks": "",
            "zerolinecolor": "white"
           }
          },
          "shapedefaults": {
           "line": {
            "color": "#2a3f5f"
           }
          },
          "ternary": {
           "aaxis": {
            "gridcolor": "white",
            "linecolor": "white",
            "ticks": ""
           },
           "baxis": {
            "gridcolor": "white",
            "linecolor": "white",
            "ticks": ""
           },
           "bgcolor": "#E5ECF6",
           "caxis": {
            "gridcolor": "white",
            "linecolor": "white",
            "ticks": ""
           }
          },
          "title": {
           "x": 0.05
          },
          "xaxis": {
           "automargin": true,
           "gridcolor": "white",
           "linecolor": "white",
           "ticks": "",
           "title": {
            "standoff": 15
           },
           "zerolinecolor": "white",
           "zerolinewidth": 2
          },
          "yaxis": {
           "automargin": true,
           "gridcolor": "white",
           "linecolor": "white",
           "ticks": "",
           "title": {
            "standoff": 15
           },
           "zerolinecolor": "white",
           "zerolinewidth": 2
          }
         }
        },
        "title": {
         "font": {
          "family": "Gulliver",
          "size": 40
         },
         "text": "temp",
         "x": 0.5
        },
        "width": 1000,
        "xaxis": {
         "anchor": "y",
         "domain": [
          0,
          1
         ],
         "tickfont": {
          "size": 20
         },
         "title": {
          "text": "temp"
         }
        },
        "xaxis2": {
         "anchor": "y2",
         "domain": [
          0,
          1
         ],
         "matches": "x",
         "showgrid": true,
         "showticklabels": false
        },
        "yaxis": {
         "anchor": "x",
         "domain": [
          0,
          0.8316
         ],
         "tickfont": {
          "size": 20
         },
         "title": {
          "text": "Density"
         }
        },
        "yaxis2": {
         "anchor": "x2",
         "domain": [
          0.8416,
          1
         ],
         "matches": "y2",
         "showgrid": false,
         "showline": false,
         "showticklabels": false,
         "ticks": ""
        }
       }
      }
     },
     "metadata": {},
     "output_type": "display_data"
    },
    {
     "data": {
      "application/vnd.plotly.v1+json": {
       "config": {
        "plotlyServerURL": "https://plotly.com"
       },
       "data": [
        {
         "alignmentgroup": "True",
         "bingroup": "x",
         "histnorm": "density",
         "hovertemplate": "RH=%{x}<br>density=%{y}<extra></extra>",
         "legendgroup": "",
         "marker": {
          "color": "#636efa",
          "pattern": {
           "shape": ""
          }
         },
         "name": "",
         "nbinsx": 100,
         "offsetgroup": "",
         "opacity": 1,
         "orientation": "v",
         "showlegend": false,
         "type": "histogram",
         "x": [
          51,
          33,
          33,
          97,
          99,
          29,
          27,
          86,
          63,
          40,
          51,
          38,
          72,
          42,
          21,
          44,
          27,
          47,
          35,
          44,
          40,
          38,
          44,
          43,
          32,
          60,
          34,
          48,
          24,
          39,
          24,
          78,
          37,
          39,
          32,
          62,
          24,
          60,
          27,
          43,
          37,
          42,
          54,
          48,
          74,
          24,
          70,
          36,
          35,
          46,
          17,
          34,
          42,
          42,
          45,
          24,
          63,
          50,
          40,
          51,
          39,
          59,
          35,
          33,
          31,
          44,
          37,
          33,
          33,
          26,
          27,
          37,
          25,
          43,
          30,
          79,
          43,
          72,
          66,
          19,
          39,
          44,
          51,
          47,
          45,
          15,
          27,
          34,
          36,
          25,
          59,
          24,
          32,
          43,
          22,
          64,
          48,
          24,
          87,
          39,
          39,
          66,
          40,
          29,
          78,
          52,
          29,
          33,
          45,
          56,
          43,
          18,
          39,
          35,
          27,
          27,
          30,
          27,
          30,
          36,
          74,
          43,
          42,
          45,
          50,
          24,
          49,
          43,
          46,
          35,
          40,
          39,
          46,
          42,
          38,
          52,
          58,
          66,
          42,
          38,
          39,
          31,
          51,
          53,
          32,
          22,
          40,
          28,
          43,
          25,
          39,
          29,
          43,
          47,
          27,
          47,
          27,
          45,
          35,
          34,
          29,
          41,
          31,
          56,
          67,
          70,
          47,
          33,
          26,
          45,
          35,
          50,
          39,
          39,
          53,
          39,
          54,
          44,
          45,
          66,
          32,
          32,
          53,
          45,
          34,
          46,
          39,
          42,
          42,
          60,
          33,
          28,
          22,
          25,
          22,
          36,
          54,
          15,
          59,
          38,
          33,
          54,
          68,
          37,
          64,
          34,
          31,
          37,
          33,
          26,
          25,
          96,
          47,
          46,
          27,
          27,
          60,
          73,
          19,
          27,
          59,
          49,
          46,
          79,
          57,
          39,
          44,
          34,
          26,
          43,
          21,
          27,
          43,
          36,
          25,
          41,
          46,
          40,
          27,
          75,
          51,
          20,
          66,
          73,
          54,
          38,
          39,
          70,
          28,
          40,
          25,
          36,
          37,
          38,
          41,
          46,
          41,
          44,
          59,
          40,
          32,
          84,
          42,
          39,
          53,
          54,
          55,
          24,
          32,
          53,
          56,
          58,
          47,
          57,
          61,
          61,
          21,
          21,
          21,
          21,
          59,
          24,
          51,
          35,
          46,
          40,
          90,
          49,
          32,
          30,
          53,
          39,
          40,
          28,
          67,
          48,
          46,
          45,
          43,
          90,
          25,
          39,
          38,
          38,
          94,
          52,
          53,
          35,
          45,
          27,
          27,
          28,
          78,
          27,
          41,
          30,
          24,
          24,
          27,
          28,
          34,
          28,
          28,
          39,
          56,
          27,
          27,
          32,
          35,
          27,
          27,
          28,
          41,
          54,
          51,
          86,
          44,
          34,
          35,
          41,
          44,
          51,
          37,
          51,
          66,
          43,
          35,
          75,
          57,
          64,
          75,
          53,
          43,
          47,
          50,
          35,
          35,
          55,
          39,
          39,
          42,
          45,
          64,
          53,
          35,
          45,
          38,
          27,
          47,
          77,
          77,
          58,
          75,
          42,
          78,
          57,
          54,
          42,
          51,
          100,
          39,
          63,
          29,
          58,
          44,
          50,
          55,
          48,
          34,
          34,
          71,
          46,
          43,
          19,
          68,
          62,
          55,
          33,
          32,
          34,
          34,
          46,
          36,
          41,
          34,
          27,
          67,
          46,
          44,
          31,
          42,
          53,
          27,
          33,
          50,
          27,
          39,
          24,
          42,
          36,
          36,
          19,
          27,
          48,
          31,
          56,
          56,
          33,
          34,
          44,
          45,
          40,
          38,
          66,
          45,
          51,
          35,
          73,
          53,
          46,
          58,
          29,
          64,
          78,
          58,
          80,
          70,
          35,
          77,
          61,
          49,
          88,
          65,
          54,
          56,
          48,
          59,
          50,
          64,
          72,
          64,
          64,
          76,
          82,
          77,
          59,
          45,
          41,
          27,
          33,
          27,
          40,
          79,
          50,
          35,
          40,
          28,
          45,
          82,
          57,
          25,
          22,
          40,
          27,
          25,
          28,
          43,
          34,
          71,
          58,
          33,
          21,
          27,
          29,
          30,
          42,
          26,
          27,
          26,
          63,
          65,
          65,
          69,
          30,
          29,
          35,
          73,
          41,
          41,
          71,
          62,
          35,
          32,
          71,
          70,
          42,
          31
         ],
         "xaxis": "x",
         "yaxis": "y"
        },
        {
         "alignmentgroup": "True",
         "hovertemplate": "RH=%{x}<extra></extra>",
         "legendgroup": "",
         "marker": {
          "color": "#636efa"
         },
         "name": "",
         "notched": true,
         "offsetgroup": "",
         "opacity": 1,
         "showlegend": false,
         "type": "box",
         "x": [
          51,
          33,
          33,
          97,
          99,
          29,
          27,
          86,
          63,
          40,
          51,
          38,
          72,
          42,
          21,
          44,
          27,
          47,
          35,
          44,
          40,
          38,
          44,
          43,
          32,
          60,
          34,
          48,
          24,
          39,
          24,
          78,
          37,
          39,
          32,
          62,
          24,
          60,
          27,
          43,
          37,
          42,
          54,
          48,
          74,
          24,
          70,
          36,
          35,
          46,
          17,
          34,
          42,
          42,
          45,
          24,
          63,
          50,
          40,
          51,
          39,
          59,
          35,
          33,
          31,
          44,
          37,
          33,
          33,
          26,
          27,
          37,
          25,
          43,
          30,
          79,
          43,
          72,
          66,
          19,
          39,
          44,
          51,
          47,
          45,
          15,
          27,
          34,
          36,
          25,
          59,
          24,
          32,
          43,
          22,
          64,
          48,
          24,
          87,
          39,
          39,
          66,
          40,
          29,
          78,
          52,
          29,
          33,
          45,
          56,
          43,
          18,
          39,
          35,
          27,
          27,
          30,
          27,
          30,
          36,
          74,
          43,
          42,
          45,
          50,
          24,
          49,
          43,
          46,
          35,
          40,
          39,
          46,
          42,
          38,
          52,
          58,
          66,
          42,
          38,
          39,
          31,
          51,
          53,
          32,
          22,
          40,
          28,
          43,
          25,
          39,
          29,
          43,
          47,
          27,
          47,
          27,
          45,
          35,
          34,
          29,
          41,
          31,
          56,
          67,
          70,
          47,
          33,
          26,
          45,
          35,
          50,
          39,
          39,
          53,
          39,
          54,
          44,
          45,
          66,
          32,
          32,
          53,
          45,
          34,
          46,
          39,
          42,
          42,
          60,
          33,
          28,
          22,
          25,
          22,
          36,
          54,
          15,
          59,
          38,
          33,
          54,
          68,
          37,
          64,
          34,
          31,
          37,
          33,
          26,
          25,
          96,
          47,
          46,
          27,
          27,
          60,
          73,
          19,
          27,
          59,
          49,
          46,
          79,
          57,
          39,
          44,
          34,
          26,
          43,
          21,
          27,
          43,
          36,
          25,
          41,
          46,
          40,
          27,
          75,
          51,
          20,
          66,
          73,
          54,
          38,
          39,
          70,
          28,
          40,
          25,
          36,
          37,
          38,
          41,
          46,
          41,
          44,
          59,
          40,
          32,
          84,
          42,
          39,
          53,
          54,
          55,
          24,
          32,
          53,
          56,
          58,
          47,
          57,
          61,
          61,
          21,
          21,
          21,
          21,
          59,
          24,
          51,
          35,
          46,
          40,
          90,
          49,
          32,
          30,
          53,
          39,
          40,
          28,
          67,
          48,
          46,
          45,
          43,
          90,
          25,
          39,
          38,
          38,
          94,
          52,
          53,
          35,
          45,
          27,
          27,
          28,
          78,
          27,
          41,
          30,
          24,
          24,
          27,
          28,
          34,
          28,
          28,
          39,
          56,
          27,
          27,
          32,
          35,
          27,
          27,
          28,
          41,
          54,
          51,
          86,
          44,
          34,
          35,
          41,
          44,
          51,
          37,
          51,
          66,
          43,
          35,
          75,
          57,
          64,
          75,
          53,
          43,
          47,
          50,
          35,
          35,
          55,
          39,
          39,
          42,
          45,
          64,
          53,
          35,
          45,
          38,
          27,
          47,
          77,
          77,
          58,
          75,
          42,
          78,
          57,
          54,
          42,
          51,
          100,
          39,
          63,
          29,
          58,
          44,
          50,
          55,
          48,
          34,
          34,
          71,
          46,
          43,
          19,
          68,
          62,
          55,
          33,
          32,
          34,
          34,
          46,
          36,
          41,
          34,
          27,
          67,
          46,
          44,
          31,
          42,
          53,
          27,
          33,
          50,
          27,
          39,
          24,
          42,
          36,
          36,
          19,
          27,
          48,
          31,
          56,
          56,
          33,
          34,
          44,
          45,
          40,
          38,
          66,
          45,
          51,
          35,
          73,
          53,
          46,
          58,
          29,
          64,
          78,
          58,
          80,
          70,
          35,
          77,
          61,
          49,
          88,
          65,
          54,
          56,
          48,
          59,
          50,
          64,
          72,
          64,
          64,
          76,
          82,
          77,
          59,
          45,
          41,
          27,
          33,
          27,
          40,
          79,
          50,
          35,
          40,
          28,
          45,
          82,
          57,
          25,
          22,
          40,
          27,
          25,
          28,
          43,
          34,
          71,
          58,
          33,
          21,
          27,
          29,
          30,
          42,
          26,
          27,
          26,
          63,
          65,
          65,
          69,
          30,
          29,
          35,
          73,
          41,
          41,
          71,
          62,
          35,
          32,
          71,
          70,
          42,
          31
         ],
         "xaxis": "x2",
         "yaxis": "y2"
        }
       ],
       "layout": {
        "barmode": "relative",
        "height": 600,
        "legend": {
         "tracegroupgap": 0
        },
        "margin": {
         "t": 60
        },
        "template": {
         "data": {
          "bar": [
           {
            "error_x": {
             "color": "#2a3f5f"
            },
            "error_y": {
             "color": "#2a3f5f"
            },
            "marker": {
             "line": {
              "color": "#E5ECF6",
              "width": 0.5
             },
             "pattern": {
              "fillmode": "overlay",
              "size": 10,
              "solidity": 0.2
             }
            },
            "type": "bar"
           }
          ],
          "barpolar": [
           {
            "marker": {
             "line": {
              "color": "#E5ECF6",
              "width": 0.5
             },
             "pattern": {
              "fillmode": "overlay",
              "size": 10,
              "solidity": 0.2
             }
            },
            "type": "barpolar"
           }
          ],
          "carpet": [
           {
            "aaxis": {
             "endlinecolor": "#2a3f5f",
             "gridcolor": "white",
             "linecolor": "white",
             "minorgridcolor": "white",
             "startlinecolor": "#2a3f5f"
            },
            "baxis": {
             "endlinecolor": "#2a3f5f",
             "gridcolor": "white",
             "linecolor": "white",
             "minorgridcolor": "white",
             "startlinecolor": "#2a3f5f"
            },
            "type": "carpet"
           }
          ],
          "choropleth": [
           {
            "colorbar": {
             "outlinewidth": 0,
             "ticks": ""
            },
            "type": "choropleth"
           }
          ],
          "contour": [
           {
            "colorbar": {
             "outlinewidth": 0,
             "ticks": ""
            },
            "colorscale": [
             [
              0,
              "#0d0887"
             ],
             [
              0.1111111111111111,
              "#46039f"
             ],
             [
              0.2222222222222222,
              "#7201a8"
             ],
             [
              0.3333333333333333,
              "#9c179e"
             ],
             [
              0.4444444444444444,
              "#bd3786"
             ],
             [
              0.5555555555555556,
              "#d8576b"
             ],
             [
              0.6666666666666666,
              "#ed7953"
             ],
             [
              0.7777777777777778,
              "#fb9f3a"
             ],
             [
              0.8888888888888888,
              "#fdca26"
             ],
             [
              1,
              "#f0f921"
             ]
            ],
            "type": "contour"
           }
          ],
          "contourcarpet": [
           {
            "colorbar": {
             "outlinewidth": 0,
             "ticks": ""
            },
            "type": "contourcarpet"
           }
          ],
          "heatmap": [
           {
            "colorbar": {
             "outlinewidth": 0,
             "ticks": ""
            },
            "colorscale": [
             [
              0,
              "#0d0887"
             ],
             [
              0.1111111111111111,
              "#46039f"
             ],
             [
              0.2222222222222222,
              "#7201a8"
             ],
             [
              0.3333333333333333,
              "#9c179e"
             ],
             [
              0.4444444444444444,
              "#bd3786"
             ],
             [
              0.5555555555555556,
              "#d8576b"
             ],
             [
              0.6666666666666666,
              "#ed7953"
             ],
             [
              0.7777777777777778,
              "#fb9f3a"
             ],
             [
              0.8888888888888888,
              "#fdca26"
             ],
             [
              1,
              "#f0f921"
             ]
            ],
            "type": "heatmap"
           }
          ],
          "heatmapgl": [
           {
            "colorbar": {
             "outlinewidth": 0,
             "ticks": ""
            },
            "colorscale": [
             [
              0,
              "#0d0887"
             ],
             [
              0.1111111111111111,
              "#46039f"
             ],
             [
              0.2222222222222222,
              "#7201a8"
             ],
             [
              0.3333333333333333,
              "#9c179e"
             ],
             [
              0.4444444444444444,
              "#bd3786"
             ],
             [
              0.5555555555555556,
              "#d8576b"
             ],
             [
              0.6666666666666666,
              "#ed7953"
             ],
             [
              0.7777777777777778,
              "#fb9f3a"
             ],
             [
              0.8888888888888888,
              "#fdca26"
             ],
             [
              1,
              "#f0f921"
             ]
            ],
            "type": "heatmapgl"
           }
          ],
          "histogram": [
           {
            "marker": {
             "pattern": {
              "fillmode": "overlay",
              "size": 10,
              "solidity": 0.2
             }
            },
            "type": "histogram"
           }
          ],
          "histogram2d": [
           {
            "colorbar": {
             "outlinewidth": 0,
             "ticks": ""
            },
            "colorscale": [
             [
              0,
              "#0d0887"
             ],
             [
              0.1111111111111111,
              "#46039f"
             ],
             [
              0.2222222222222222,
              "#7201a8"
             ],
             [
              0.3333333333333333,
              "#9c179e"
             ],
             [
              0.4444444444444444,
              "#bd3786"
             ],
             [
              0.5555555555555556,
              "#d8576b"
             ],
             [
              0.6666666666666666,
              "#ed7953"
             ],
             [
              0.7777777777777778,
              "#fb9f3a"
             ],
             [
              0.8888888888888888,
              "#fdca26"
             ],
             [
              1,
              "#f0f921"
             ]
            ],
            "type": "histogram2d"
           }
          ],
          "histogram2dcontour": [
           {
            "colorbar": {
             "outlinewidth": 0,
             "ticks": ""
            },
            "colorscale": [
             [
              0,
              "#0d0887"
             ],
             [
              0.1111111111111111,
              "#46039f"
             ],
             [
              0.2222222222222222,
              "#7201a8"
             ],
             [
              0.3333333333333333,
              "#9c179e"
             ],
             [
              0.4444444444444444,
              "#bd3786"
             ],
             [
              0.5555555555555556,
              "#d8576b"
             ],
             [
              0.6666666666666666,
              "#ed7953"
             ],
             [
              0.7777777777777778,
              "#fb9f3a"
             ],
             [
              0.8888888888888888,
              "#fdca26"
             ],
             [
              1,
              "#f0f921"
             ]
            ],
            "type": "histogram2dcontour"
           }
          ],
          "mesh3d": [
           {
            "colorbar": {
             "outlinewidth": 0,
             "ticks": ""
            },
            "type": "mesh3d"
           }
          ],
          "parcoords": [
           {
            "line": {
             "colorbar": {
              "outlinewidth": 0,
              "ticks": ""
             }
            },
            "type": "parcoords"
           }
          ],
          "pie": [
           {
            "automargin": true,
            "type": "pie"
           }
          ],
          "scatter": [
           {
            "fillpattern": {
             "fillmode": "overlay",
             "size": 10,
             "solidity": 0.2
            },
            "type": "scatter"
           }
          ],
          "scatter3d": [
           {
            "line": {
             "colorbar": {
              "outlinewidth": 0,
              "ticks": ""
             }
            },
            "marker": {
             "colorbar": {
              "outlinewidth": 0,
              "ticks": ""
             }
            },
            "type": "scatter3d"
           }
          ],
          "scattercarpet": [
           {
            "marker": {
             "colorbar": {
              "outlinewidth": 0,
              "ticks": ""
             }
            },
            "type": "scattercarpet"
           }
          ],
          "scattergeo": [
           {
            "marker": {
             "colorbar": {
              "outlinewidth": 0,
              "ticks": ""
             }
            },
            "type": "scattergeo"
           }
          ],
          "scattergl": [
           {
            "marker": {
             "colorbar": {
              "outlinewidth": 0,
              "ticks": ""
             }
            },
            "type": "scattergl"
           }
          ],
          "scattermapbox": [
           {
            "marker": {
             "colorbar": {
              "outlinewidth": 0,
              "ticks": ""
             }
            },
            "type": "scattermapbox"
           }
          ],
          "scatterpolar": [
           {
            "marker": {
             "colorbar": {
              "outlinewidth": 0,
              "ticks": ""
             }
            },
            "type": "scatterpolar"
           }
          ],
          "scatterpolargl": [
           {
            "marker": {
             "colorbar": {
              "outlinewidth": 0,
              "ticks": ""
             }
            },
            "type": "scatterpolargl"
           }
          ],
          "scatterternary": [
           {
            "marker": {
             "colorbar": {
              "outlinewidth": 0,
              "ticks": ""
             }
            },
            "type": "scatterternary"
           }
          ],
          "surface": [
           {
            "colorbar": {
             "outlinewidth": 0,
             "ticks": ""
            },
            "colorscale": [
             [
              0,
              "#0d0887"
             ],
             [
              0.1111111111111111,
              "#46039f"
             ],
             [
              0.2222222222222222,
              "#7201a8"
             ],
             [
              0.3333333333333333,
              "#9c179e"
             ],
             [
              0.4444444444444444,
              "#bd3786"
             ],
             [
              0.5555555555555556,
              "#d8576b"
             ],
             [
              0.6666666666666666,
              "#ed7953"
             ],
             [
              0.7777777777777778,
              "#fb9f3a"
             ],
             [
              0.8888888888888888,
              "#fdca26"
             ],
             [
              1,
              "#f0f921"
             ]
            ],
            "type": "surface"
           }
          ],
          "table": [
           {
            "cells": {
             "fill": {
              "color": "#EBF0F8"
             },
             "line": {
              "color": "white"
             }
            },
            "header": {
             "fill": {
              "color": "#C8D4E3"
             },
             "line": {
              "color": "white"
             }
            },
            "type": "table"
           }
          ]
         },
         "layout": {
          "annotationdefaults": {
           "arrowcolor": "#2a3f5f",
           "arrowhead": 0,
           "arrowwidth": 1
          },
          "autotypenumbers": "strict",
          "coloraxis": {
           "colorbar": {
            "outlinewidth": 0,
            "ticks": ""
           }
          },
          "colorscale": {
           "diverging": [
            [
             0,
             "#8e0152"
            ],
            [
             0.1,
             "#c51b7d"
            ],
            [
             0.2,
             "#de77ae"
            ],
            [
             0.3,
             "#f1b6da"
            ],
            [
             0.4,
             "#fde0ef"
            ],
            [
             0.5,
             "#f7f7f7"
            ],
            [
             0.6,
             "#e6f5d0"
            ],
            [
             0.7,
             "#b8e186"
            ],
            [
             0.8,
             "#7fbc41"
            ],
            [
             0.9,
             "#4d9221"
            ],
            [
             1,
             "#276419"
            ]
           ],
           "sequential": [
            [
             0,
             "#0d0887"
            ],
            [
             0.1111111111111111,
             "#46039f"
            ],
            [
             0.2222222222222222,
             "#7201a8"
            ],
            [
             0.3333333333333333,
             "#9c179e"
            ],
            [
             0.4444444444444444,
             "#bd3786"
            ],
            [
             0.5555555555555556,
             "#d8576b"
            ],
            [
             0.6666666666666666,
             "#ed7953"
            ],
            [
             0.7777777777777778,
             "#fb9f3a"
            ],
            [
             0.8888888888888888,
             "#fdca26"
            ],
            [
             1,
             "#f0f921"
            ]
           ],
           "sequentialminus": [
            [
             0,
             "#0d0887"
            ],
            [
             0.1111111111111111,
             "#46039f"
            ],
            [
             0.2222222222222222,
             "#7201a8"
            ],
            [
             0.3333333333333333,
             "#9c179e"
            ],
            [
             0.4444444444444444,
             "#bd3786"
            ],
            [
             0.5555555555555556,
             "#d8576b"
            ],
            [
             0.6666666666666666,
             "#ed7953"
            ],
            [
             0.7777777777777778,
             "#fb9f3a"
            ],
            [
             0.8888888888888888,
             "#fdca26"
            ],
            [
             1,
             "#f0f921"
            ]
           ]
          },
          "colorway": [
           "#636efa",
           "#EF553B",
           "#00cc96",
           "#ab63fa",
           "#FFA15A",
           "#19d3f3",
           "#FF6692",
           "#B6E880",
           "#FF97FF",
           "#FECB52"
          ],
          "font": {
           "color": "#2a3f5f"
          },
          "geo": {
           "bgcolor": "white",
           "lakecolor": "white",
           "landcolor": "#E5ECF6",
           "showlakes": true,
           "showland": true,
           "subunitcolor": "white"
          },
          "hoverlabel": {
           "align": "left"
          },
          "hovermode": "closest",
          "mapbox": {
           "style": "light"
          },
          "paper_bgcolor": "white",
          "plot_bgcolor": "#E5ECF6",
          "polar": {
           "angularaxis": {
            "gridcolor": "white",
            "linecolor": "white",
            "ticks": ""
           },
           "bgcolor": "#E5ECF6",
           "radialaxis": {
            "gridcolor": "white",
            "linecolor": "white",
            "ticks": ""
           }
          },
          "scene": {
           "xaxis": {
            "backgroundcolor": "#E5ECF6",
            "gridcolor": "white",
            "gridwidth": 2,
            "linecolor": "white",
            "showbackground": true,
            "ticks": "",
            "zerolinecolor": "white"
           },
           "yaxis": {
            "backgroundcolor": "#E5ECF6",
            "gridcolor": "white",
            "gridwidth": 2,
            "linecolor": "white",
            "showbackground": true,
            "ticks": "",
            "zerolinecolor": "white"
           },
           "zaxis": {
            "backgroundcolor": "#E5ECF6",
            "gridcolor": "white",
            "gridwidth": 2,
            "linecolor": "white",
            "showbackground": true,
            "ticks": "",
            "zerolinecolor": "white"
           }
          },
          "shapedefaults": {
           "line": {
            "color": "#2a3f5f"
           }
          },
          "ternary": {
           "aaxis": {
            "gridcolor": "white",
            "linecolor": "white",
            "ticks": ""
           },
           "baxis": {
            "gridcolor": "white",
            "linecolor": "white",
            "ticks": ""
           },
           "bgcolor": "#E5ECF6",
           "caxis": {
            "gridcolor": "white",
            "linecolor": "white",
            "ticks": ""
           }
          },
          "title": {
           "x": 0.05
          },
          "xaxis": {
           "automargin": true,
           "gridcolor": "white",
           "linecolor": "white",
           "ticks": "",
           "title": {
            "standoff": 15
           },
           "zerolinecolor": "white",
           "zerolinewidth": 2
          },
          "yaxis": {
           "automargin": true,
           "gridcolor": "white",
           "linecolor": "white",
           "ticks": "",
           "title": {
            "standoff": 15
           },
           "zerolinecolor": "white",
           "zerolinewidth": 2
          }
         }
        },
        "title": {
         "font": {
          "family": "Gulliver",
          "size": 40
         },
         "text": "RH",
         "x": 0.5
        },
        "width": 1000,
        "xaxis": {
         "anchor": "y",
         "domain": [
          0,
          1
         ],
         "tickfont": {
          "size": 20
         },
         "title": {
          "text": "RH"
         }
        },
        "xaxis2": {
         "anchor": "y2",
         "domain": [
          0,
          1
         ],
         "matches": "x",
         "showgrid": true,
         "showticklabels": false
        },
        "yaxis": {
         "anchor": "x",
         "domain": [
          0,
          0.8316
         ],
         "tickfont": {
          "size": 20
         },
         "title": {
          "text": "Density"
         }
        },
        "yaxis2": {
         "anchor": "x2",
         "domain": [
          0.8416,
          1
         ],
         "matches": "y2",
         "showgrid": false,
         "showline": false,
         "showticklabels": false,
         "ticks": ""
        }
       }
      }
     },
     "metadata": {},
     "output_type": "display_data"
    },
    {
     "data": {
      "application/vnd.plotly.v1+json": {
       "config": {
        "plotlyServerURL": "https://plotly.com"
       },
       "data": [
        {
         "alignmentgroup": "True",
         "bingroup": "x",
         "histnorm": "density",
         "hovertemplate": "wind=%{x}<br>density=%{y}<extra></extra>",
         "legendgroup": "",
         "marker": {
          "color": "#636efa",
          "pattern": {
           "shape": ""
          }
         },
         "name": "",
         "nbinsx": 100,
         "offsetgroup": "",
         "opacity": 1,
         "orientation": "v",
         "showlegend": false,
         "type": "histogram",
         "x": [
          6.7,
          0.9,
          1.3,
          4,
          1.8,
          5.4,
          3.1,
          2.2,
          5.4,
          4,
          7.2,
          4,
          6.7,
          2.2,
          4.5,
          5.4,
          5.4,
          4.9,
          4,
          4.5,
          2.7,
          2.7,
          4.5,
          5.8,
          5.8,
          5.4,
          5.8,
          1.3,
          2.7,
          3.6,
          3.6,
          7.6,
          1.8,
          3.6,
          2.7,
          4.5,
          4.5,
          5.4,
          4,
          2.7,
          3.1,
          6.7,
          5.4,
          2.7,
          4.9,
          4,
          3.6,
          3.1,
          1.8,
          5.8,
          1.3,
          2.2,
          4.9,
          4.9,
          3.6,
          2.2,
          4.9,
          2.7,
          5.4,
          0.9,
          5.8,
          6.3,
          4.9,
          2.7,
          3.1,
          4.5,
          4.5,
          5.4,
          6.3,
          4.5,
          7.6,
          3.6,
          6.3,
          4.5,
          1.3,
          3.1,
          3.1,
          3.1,
          2.7,
          6.7,
          6.3,
          2.2,
          4.5,
          0.9,
          3.6,
          0.9,
          2.2,
          2.2,
          3.6,
          4.9,
          5.8,
          5.4,
          6.3,
          4.9,
          2.7,
          1.3,
          1.8,
          5.4,
          4.5,
          5.4,
          5.4,
          5.4,
          4,
          4.5,
          3.1,
          6.3,
          3.1,
          3.1,
          3.1,
          5.4,
          5.8,
          4.5,
          3.6,
          2.7,
          7.6,
          6.3,
          6.3,
          4.9,
          4,
          3.1,
          2.2,
          5.4,
          5.4,
          3.1,
          5.4,
          5.4,
          2.2,
          3.1,
          3.6,
          0.9,
          2.7,
          3.1,
          4.9,
          3.1,
          2.7,
          5.8,
          1.3,
          3.1,
          2.7,
          2.2,
          1.8,
          4.5,
          8.9,
          5.4,
          5.4,
          4,
          5.4,
          3.6,
          6.7,
          4.5,
          5.4,
          2.2,
          1.8,
          4.9,
          2.7,
          1.3,
          2.2,
          3.6,
          4,
          5.8,
          3.1,
          4,
          8.5,
          1.8,
          2.2,
          4.5,
          0.9,
          4.5,
          9.4,
          2.2,
          1.8,
          4,
          5.4,
          2.2,
          1.8,
          4.9,
          5.8,
          2.7,
          2.2,
          5.4,
          6.7,
          4,
          2.2,
          4.5,
          4.9,
          3.1,
          5.8,
          2.2,
          0.9,
          4,
          4,
          2.7,
          4.5,
          4,
          4.5,
          5.4,
          5.8,
          0.9,
          6.3,
          3.6,
          2.2,
          3.6,
          2.2,
          2.7,
          4,
          1.8,
          7.2,
          2.2,
          6.3,
          4.9,
          3.1,
          5.8,
          4.9,
          5.8,
          4.9,
          4.9,
          1.3,
          6.3,
          1.3,
          3.1,
          3.1,
          3.6,
          5.8,
          3.6,
          4.5,
          4.9,
          4,
          4.5,
          3.1,
          4,
          4.5,
          3.1,
          2.7,
          3.1,
          3.1,
          5.8,
          1.8,
          2.2,
          4,
          1.8,
          2.7,
          3.1,
          4,
          7.6,
          7.6,
          6.3,
          5.4,
          2.2,
          2.7,
          0.4,
          3.1,
          3.1,
          3.6,
          2.7,
          3.1,
          4,
          2.2,
          2.7,
          0.9,
          1.8,
          4,
          7.6,
          3.1,
          3.6,
          3.1,
          7.6,
          4,
          3.1,
          3.1,
          2.7,
          3.1,
          4.5,
          4,
          8.5,
          8,
          4.9,
          8.5,
          8.5,
          8.5,
          8.5,
          4.9,
          8.5,
          4,
          3.1,
          8,
          6.3,
          7.6,
          2.7,
          1.8,
          1.8,
          1.8,
          0.9,
          1.3,
          5.4,
          3.6,
          1.3,
          1.8,
          2.2,
          4.9,
          2.7,
          4.9,
          5.4,
          4.5,
          4.5,
          4.9,
          2.2,
          5.4,
          3.6,
          1.8,
          2.2,
          2.7,
          1.8,
          6.3,
          4.9,
          1.8,
          2.7,
          5.8,
          4.9,
          2.2,
          6.3,
          7.2,
          4,
          4,
          2.7,
          1.8,
          3.1,
          3.1,
          2.2,
          1.8,
          4,
          3.1,
          4.5,
          2.2,
          3.1,
          5.4,
          1.8,
          2.2,
          2.2,
          2.2,
          1.8,
          2.2,
          2.2,
          1.8,
          4.5,
          4.9,
          3.1,
          2.2,
          3.6,
          4.5,
          3.6,
          3.6,
          6.3,
          3.6,
          2.7,
          2.2,
          4.9,
          4.9,
          3.6,
          2.7,
          2.2,
          2.2,
          4,
          3.1,
          2.2,
          2.7,
          3.1,
          5.4,
          3.6,
          4.9,
          7.6,
          7.6,
          4,
          0.9,
          2.7,
          4,
          4.9,
          2.2,
          2.2,
          5.8,
          0.9,
          7.2,
          2.7,
          1.8,
          2.7,
          4.5,
          2.2,
          5.4,
          5.4,
          3.1,
          3.1,
          6.3,
          2.7,
          4,
          7.6,
          1.8,
          1.8,
          4.9,
          3.6,
          3.1,
          4.5,
          4.5,
          4,
          4,
          3.6,
          2.2,
          2.2,
          4.9,
          4,
          3.1,
          5.4,
          2.7,
          9.4,
          4.5,
          3.6,
          4,
          4.9,
          3.1,
          5.8,
          5.4,
          4,
          4.5,
          4.5,
          3.6,
          4,
          3.6,
          2.2,
          2.2,
          2.2,
          5.8,
          4,
          3.6,
          4,
          6.7,
          4.9,
          3.6,
          1.8,
          1.3,
          2.7,
          4,
          2.2,
          3.6,
          1.8,
          3.1,
          8,
          3.6,
          4.5,
          2.2,
          8,
          4,
          4.9,
          5.4,
          4.9,
          4,
          3.1,
          3.1,
          2.7,
          2.7,
          4,
          4.9,
          8,
          4.9,
          4.9,
          7.6,
          6.3,
          5.4,
          0.9,
          5.8,
          5.4,
          3.6,
          9.4,
          5.8,
          4,
          4,
          3.1,
          2.7,
          9.4,
          1.3,
          4,
          4.5,
          4.9,
          4.5,
          4.9,
          5.8,
          5.4,
          4,
          3.6,
          6.3,
          3.6,
          7.6,
          1.3,
          4,
          4.5,
          2.2,
          4.5,
          4.9,
          2.2,
          3.1,
          2.2,
          2.7,
          4.9,
          4.9,
          4.9,
          4.9,
          4.9,
          4.9,
          1.8,
          8.5,
          3.6,
          3.6,
          7.6,
          5.4,
          2.7,
          2.7,
          5.8,
          6.7,
          4,
          4.5
         ],
         "xaxis": "x",
         "yaxis": "y"
        },
        {
         "alignmentgroup": "True",
         "hovertemplate": "wind=%{x}<extra></extra>",
         "legendgroup": "",
         "marker": {
          "color": "#636efa"
         },
         "name": "",
         "notched": true,
         "offsetgroup": "",
         "opacity": 1,
         "showlegend": false,
         "type": "box",
         "x": [
          6.7,
          0.9,
          1.3,
          4,
          1.8,
          5.4,
          3.1,
          2.2,
          5.4,
          4,
          7.2,
          4,
          6.7,
          2.2,
          4.5,
          5.4,
          5.4,
          4.9,
          4,
          4.5,
          2.7,
          2.7,
          4.5,
          5.8,
          5.8,
          5.4,
          5.8,
          1.3,
          2.7,
          3.6,
          3.6,
          7.6,
          1.8,
          3.6,
          2.7,
          4.5,
          4.5,
          5.4,
          4,
          2.7,
          3.1,
          6.7,
          5.4,
          2.7,
          4.9,
          4,
          3.6,
          3.1,
          1.8,
          5.8,
          1.3,
          2.2,
          4.9,
          4.9,
          3.6,
          2.2,
          4.9,
          2.7,
          5.4,
          0.9,
          5.8,
          6.3,
          4.9,
          2.7,
          3.1,
          4.5,
          4.5,
          5.4,
          6.3,
          4.5,
          7.6,
          3.6,
          6.3,
          4.5,
          1.3,
          3.1,
          3.1,
          3.1,
          2.7,
          6.7,
          6.3,
          2.2,
          4.5,
          0.9,
          3.6,
          0.9,
          2.2,
          2.2,
          3.6,
          4.9,
          5.8,
          5.4,
          6.3,
          4.9,
          2.7,
          1.3,
          1.8,
          5.4,
          4.5,
          5.4,
          5.4,
          5.4,
          4,
          4.5,
          3.1,
          6.3,
          3.1,
          3.1,
          3.1,
          5.4,
          5.8,
          4.5,
          3.6,
          2.7,
          7.6,
          6.3,
          6.3,
          4.9,
          4,
          3.1,
          2.2,
          5.4,
          5.4,
          3.1,
          5.4,
          5.4,
          2.2,
          3.1,
          3.6,
          0.9,
          2.7,
          3.1,
          4.9,
          3.1,
          2.7,
          5.8,
          1.3,
          3.1,
          2.7,
          2.2,
          1.8,
          4.5,
          8.9,
          5.4,
          5.4,
          4,
          5.4,
          3.6,
          6.7,
          4.5,
          5.4,
          2.2,
          1.8,
          4.9,
          2.7,
          1.3,
          2.2,
          3.6,
          4,
          5.8,
          3.1,
          4,
          8.5,
          1.8,
          2.2,
          4.5,
          0.9,
          4.5,
          9.4,
          2.2,
          1.8,
          4,
          5.4,
          2.2,
          1.8,
          4.9,
          5.8,
          2.7,
          2.2,
          5.4,
          6.7,
          4,
          2.2,
          4.5,
          4.9,
          3.1,
          5.8,
          2.2,
          0.9,
          4,
          4,
          2.7,
          4.5,
          4,
          4.5,
          5.4,
          5.8,
          0.9,
          6.3,
          3.6,
          2.2,
          3.6,
          2.2,
          2.7,
          4,
          1.8,
          7.2,
          2.2,
          6.3,
          4.9,
          3.1,
          5.8,
          4.9,
          5.8,
          4.9,
          4.9,
          1.3,
          6.3,
          1.3,
          3.1,
          3.1,
          3.6,
          5.8,
          3.6,
          4.5,
          4.9,
          4,
          4.5,
          3.1,
          4,
          4.5,
          3.1,
          2.7,
          3.1,
          3.1,
          5.8,
          1.8,
          2.2,
          4,
          1.8,
          2.7,
          3.1,
          4,
          7.6,
          7.6,
          6.3,
          5.4,
          2.2,
          2.7,
          0.4,
          3.1,
          3.1,
          3.6,
          2.7,
          3.1,
          4,
          2.2,
          2.7,
          0.9,
          1.8,
          4,
          7.6,
          3.1,
          3.6,
          3.1,
          7.6,
          4,
          3.1,
          3.1,
          2.7,
          3.1,
          4.5,
          4,
          8.5,
          8,
          4.9,
          8.5,
          8.5,
          8.5,
          8.5,
          4.9,
          8.5,
          4,
          3.1,
          8,
          6.3,
          7.6,
          2.7,
          1.8,
          1.8,
          1.8,
          0.9,
          1.3,
          5.4,
          3.6,
          1.3,
          1.8,
          2.2,
          4.9,
          2.7,
          4.9,
          5.4,
          4.5,
          4.5,
          4.9,
          2.2,
          5.4,
          3.6,
          1.8,
          2.2,
          2.7,
          1.8,
          6.3,
          4.9,
          1.8,
          2.7,
          5.8,
          4.9,
          2.2,
          6.3,
          7.2,
          4,
          4,
          2.7,
          1.8,
          3.1,
          3.1,
          2.2,
          1.8,
          4,
          3.1,
          4.5,
          2.2,
          3.1,
          5.4,
          1.8,
          2.2,
          2.2,
          2.2,
          1.8,
          2.2,
          2.2,
          1.8,
          4.5,
          4.9,
          3.1,
          2.2,
          3.6,
          4.5,
          3.6,
          3.6,
          6.3,
          3.6,
          2.7,
          2.2,
          4.9,
          4.9,
          3.6,
          2.7,
          2.2,
          2.2,
          4,
          3.1,
          2.2,
          2.7,
          3.1,
          5.4,
          3.6,
          4.9,
          7.6,
          7.6,
          4,
          0.9,
          2.7,
          4,
          4.9,
          2.2,
          2.2,
          5.8,
          0.9,
          7.2,
          2.7,
          1.8,
          2.7,
          4.5,
          2.2,
          5.4,
          5.4,
          3.1,
          3.1,
          6.3,
          2.7,
          4,
          7.6,
          1.8,
          1.8,
          4.9,
          3.6,
          3.1,
          4.5,
          4.5,
          4,
          4,
          3.6,
          2.2,
          2.2,
          4.9,
          4,
          3.1,
          5.4,
          2.7,
          9.4,
          4.5,
          3.6,
          4,
          4.9,
          3.1,
          5.8,
          5.4,
          4,
          4.5,
          4.5,
          3.6,
          4,
          3.6,
          2.2,
          2.2,
          2.2,
          5.8,
          4,
          3.6,
          4,
          6.7,
          4.9,
          3.6,
          1.8,
          1.3,
          2.7,
          4,
          2.2,
          3.6,
          1.8,
          3.1,
          8,
          3.6,
          4.5,
          2.2,
          8,
          4,
          4.9,
          5.4,
          4.9,
          4,
          3.1,
          3.1,
          2.7,
          2.7,
          4,
          4.9,
          8,
          4.9,
          4.9,
          7.6,
          6.3,
          5.4,
          0.9,
          5.8,
          5.4,
          3.6,
          9.4,
          5.8,
          4,
          4,
          3.1,
          2.7,
          9.4,
          1.3,
          4,
          4.5,
          4.9,
          4.5,
          4.9,
          5.8,
          5.4,
          4,
          3.6,
          6.3,
          3.6,
          7.6,
          1.3,
          4,
          4.5,
          2.2,
          4.5,
          4.9,
          2.2,
          3.1,
          2.2,
          2.7,
          4.9,
          4.9,
          4.9,
          4.9,
          4.9,
          4.9,
          1.8,
          8.5,
          3.6,
          3.6,
          7.6,
          5.4,
          2.7,
          2.7,
          5.8,
          6.7,
          4,
          4.5
         ],
         "xaxis": "x2",
         "yaxis": "y2"
        }
       ],
       "layout": {
        "barmode": "relative",
        "height": 600,
        "legend": {
         "tracegroupgap": 0
        },
        "margin": {
         "t": 60
        },
        "template": {
         "data": {
          "bar": [
           {
            "error_x": {
             "color": "#2a3f5f"
            },
            "error_y": {
             "color": "#2a3f5f"
            },
            "marker": {
             "line": {
              "color": "#E5ECF6",
              "width": 0.5
             },
             "pattern": {
              "fillmode": "overlay",
              "size": 10,
              "solidity": 0.2
             }
            },
            "type": "bar"
           }
          ],
          "barpolar": [
           {
            "marker": {
             "line": {
              "color": "#E5ECF6",
              "width": 0.5
             },
             "pattern": {
              "fillmode": "overlay",
              "size": 10,
              "solidity": 0.2
             }
            },
            "type": "barpolar"
           }
          ],
          "carpet": [
           {
            "aaxis": {
             "endlinecolor": "#2a3f5f",
             "gridcolor": "white",
             "linecolor": "white",
             "minorgridcolor": "white",
             "startlinecolor": "#2a3f5f"
            },
            "baxis": {
             "endlinecolor": "#2a3f5f",
             "gridcolor": "white",
             "linecolor": "white",
             "minorgridcolor": "white",
             "startlinecolor": "#2a3f5f"
            },
            "type": "carpet"
           }
          ],
          "choropleth": [
           {
            "colorbar": {
             "outlinewidth": 0,
             "ticks": ""
            },
            "type": "choropleth"
           }
          ],
          "contour": [
           {
            "colorbar": {
             "outlinewidth": 0,
             "ticks": ""
            },
            "colorscale": [
             [
              0,
              "#0d0887"
             ],
             [
              0.1111111111111111,
              "#46039f"
             ],
             [
              0.2222222222222222,
              "#7201a8"
             ],
             [
              0.3333333333333333,
              "#9c179e"
             ],
             [
              0.4444444444444444,
              "#bd3786"
             ],
             [
              0.5555555555555556,
              "#d8576b"
             ],
             [
              0.6666666666666666,
              "#ed7953"
             ],
             [
              0.7777777777777778,
              "#fb9f3a"
             ],
             [
              0.8888888888888888,
              "#fdca26"
             ],
             [
              1,
              "#f0f921"
             ]
            ],
            "type": "contour"
           }
          ],
          "contourcarpet": [
           {
            "colorbar": {
             "outlinewidth": 0,
             "ticks": ""
            },
            "type": "contourcarpet"
           }
          ],
          "heatmap": [
           {
            "colorbar": {
             "outlinewidth": 0,
             "ticks": ""
            },
            "colorscale": [
             [
              0,
              "#0d0887"
             ],
             [
              0.1111111111111111,
              "#46039f"
             ],
             [
              0.2222222222222222,
              "#7201a8"
             ],
             [
              0.3333333333333333,
              "#9c179e"
             ],
             [
              0.4444444444444444,
              "#bd3786"
             ],
             [
              0.5555555555555556,
              "#d8576b"
             ],
             [
              0.6666666666666666,
              "#ed7953"
             ],
             [
              0.7777777777777778,
              "#fb9f3a"
             ],
             [
              0.8888888888888888,
              "#fdca26"
             ],
             [
              1,
              "#f0f921"
             ]
            ],
            "type": "heatmap"
           }
          ],
          "heatmapgl": [
           {
            "colorbar": {
             "outlinewidth": 0,
             "ticks": ""
            },
            "colorscale": [
             [
              0,
              "#0d0887"
             ],
             [
              0.1111111111111111,
              "#46039f"
             ],
             [
              0.2222222222222222,
              "#7201a8"
             ],
             [
              0.3333333333333333,
              "#9c179e"
             ],
             [
              0.4444444444444444,
              "#bd3786"
             ],
             [
              0.5555555555555556,
              "#d8576b"
             ],
             [
              0.6666666666666666,
              "#ed7953"
             ],
             [
              0.7777777777777778,
              "#fb9f3a"
             ],
             [
              0.8888888888888888,
              "#fdca26"
             ],
             [
              1,
              "#f0f921"
             ]
            ],
            "type": "heatmapgl"
           }
          ],
          "histogram": [
           {
            "marker": {
             "pattern": {
              "fillmode": "overlay",
              "size": 10,
              "solidity": 0.2
             }
            },
            "type": "histogram"
           }
          ],
          "histogram2d": [
           {
            "colorbar": {
             "outlinewidth": 0,
             "ticks": ""
            },
            "colorscale": [
             [
              0,
              "#0d0887"
             ],
             [
              0.1111111111111111,
              "#46039f"
             ],
             [
              0.2222222222222222,
              "#7201a8"
             ],
             [
              0.3333333333333333,
              "#9c179e"
             ],
             [
              0.4444444444444444,
              "#bd3786"
             ],
             [
              0.5555555555555556,
              "#d8576b"
             ],
             [
              0.6666666666666666,
              "#ed7953"
             ],
             [
              0.7777777777777778,
              "#fb9f3a"
             ],
             [
              0.8888888888888888,
              "#fdca26"
             ],
             [
              1,
              "#f0f921"
             ]
            ],
            "type": "histogram2d"
           }
          ],
          "histogram2dcontour": [
           {
            "colorbar": {
             "outlinewidth": 0,
             "ticks": ""
            },
            "colorscale": [
             [
              0,
              "#0d0887"
             ],
             [
              0.1111111111111111,
              "#46039f"
             ],
             [
              0.2222222222222222,
              "#7201a8"
             ],
             [
              0.3333333333333333,
              "#9c179e"
             ],
             [
              0.4444444444444444,
              "#bd3786"
             ],
             [
              0.5555555555555556,
              "#d8576b"
             ],
             [
              0.6666666666666666,
              "#ed7953"
             ],
             [
              0.7777777777777778,
              "#fb9f3a"
             ],
             [
              0.8888888888888888,
              "#fdca26"
             ],
             [
              1,
              "#f0f921"
             ]
            ],
            "type": "histogram2dcontour"
           }
          ],
          "mesh3d": [
           {
            "colorbar": {
             "outlinewidth": 0,
             "ticks": ""
            },
            "type": "mesh3d"
           }
          ],
          "parcoords": [
           {
            "line": {
             "colorbar": {
              "outlinewidth": 0,
              "ticks": ""
             }
            },
            "type": "parcoords"
           }
          ],
          "pie": [
           {
            "automargin": true,
            "type": "pie"
           }
          ],
          "scatter": [
           {
            "fillpattern": {
             "fillmode": "overlay",
             "size": 10,
             "solidity": 0.2
            },
            "type": "scatter"
           }
          ],
          "scatter3d": [
           {
            "line": {
             "colorbar": {
              "outlinewidth": 0,
              "ticks": ""
             }
            },
            "marker": {
             "colorbar": {
              "outlinewidth": 0,
              "ticks": ""
             }
            },
            "type": "scatter3d"
           }
          ],
          "scattercarpet": [
           {
            "marker": {
             "colorbar": {
              "outlinewidth": 0,
              "ticks": ""
             }
            },
            "type": "scattercarpet"
           }
          ],
          "scattergeo": [
           {
            "marker": {
             "colorbar": {
              "outlinewidth": 0,
              "ticks": ""
             }
            },
            "type": "scattergeo"
           }
          ],
          "scattergl": [
           {
            "marker": {
             "colorbar": {
              "outlinewidth": 0,
              "ticks": ""
             }
            },
            "type": "scattergl"
           }
          ],
          "scattermapbox": [
           {
            "marker": {
             "colorbar": {
              "outlinewidth": 0,
              "ticks": ""
             }
            },
            "type": "scattermapbox"
           }
          ],
          "scatterpolar": [
           {
            "marker": {
             "colorbar": {
              "outlinewidth": 0,
              "ticks": ""
             }
            },
            "type": "scatterpolar"
           }
          ],
          "scatterpolargl": [
           {
            "marker": {
             "colorbar": {
              "outlinewidth": 0,
              "ticks": ""
             }
            },
            "type": "scatterpolargl"
           }
          ],
          "scatterternary": [
           {
            "marker": {
             "colorbar": {
              "outlinewidth": 0,
              "ticks": ""
             }
            },
            "type": "scatterternary"
           }
          ],
          "surface": [
           {
            "colorbar": {
             "outlinewidth": 0,
             "ticks": ""
            },
            "colorscale": [
             [
              0,
              "#0d0887"
             ],
             [
              0.1111111111111111,
              "#46039f"
             ],
             [
              0.2222222222222222,
              "#7201a8"
             ],
             [
              0.3333333333333333,
              "#9c179e"
             ],
             [
              0.4444444444444444,
              "#bd3786"
             ],
             [
              0.5555555555555556,
              "#d8576b"
             ],
             [
              0.6666666666666666,
              "#ed7953"
             ],
             [
              0.7777777777777778,
              "#fb9f3a"
             ],
             [
              0.8888888888888888,
              "#fdca26"
             ],
             [
              1,
              "#f0f921"
             ]
            ],
            "type": "surface"
           }
          ],
          "table": [
           {
            "cells": {
             "fill": {
              "color": "#EBF0F8"
             },
             "line": {
              "color": "white"
             }
            },
            "header": {
             "fill": {
              "color": "#C8D4E3"
             },
             "line": {
              "color": "white"
             }
            },
            "type": "table"
           }
          ]
         },
         "layout": {
          "annotationdefaults": {
           "arrowcolor": "#2a3f5f",
           "arrowhead": 0,
           "arrowwidth": 1
          },
          "autotypenumbers": "strict",
          "coloraxis": {
           "colorbar": {
            "outlinewidth": 0,
            "ticks": ""
           }
          },
          "colorscale": {
           "diverging": [
            [
             0,
             "#8e0152"
            ],
            [
             0.1,
             "#c51b7d"
            ],
            [
             0.2,
             "#de77ae"
            ],
            [
             0.3,
             "#f1b6da"
            ],
            [
             0.4,
             "#fde0ef"
            ],
            [
             0.5,
             "#f7f7f7"
            ],
            [
             0.6,
             "#e6f5d0"
            ],
            [
             0.7,
             "#b8e186"
            ],
            [
             0.8,
             "#7fbc41"
            ],
            [
             0.9,
             "#4d9221"
            ],
            [
             1,
             "#276419"
            ]
           ],
           "sequential": [
            [
             0,
             "#0d0887"
            ],
            [
             0.1111111111111111,
             "#46039f"
            ],
            [
             0.2222222222222222,
             "#7201a8"
            ],
            [
             0.3333333333333333,
             "#9c179e"
            ],
            [
             0.4444444444444444,
             "#bd3786"
            ],
            [
             0.5555555555555556,
             "#d8576b"
            ],
            [
             0.6666666666666666,
             "#ed7953"
            ],
            [
             0.7777777777777778,
             "#fb9f3a"
            ],
            [
             0.8888888888888888,
             "#fdca26"
            ],
            [
             1,
             "#f0f921"
            ]
           ],
           "sequentialminus": [
            [
             0,
             "#0d0887"
            ],
            [
             0.1111111111111111,
             "#46039f"
            ],
            [
             0.2222222222222222,
             "#7201a8"
            ],
            [
             0.3333333333333333,
             "#9c179e"
            ],
            [
             0.4444444444444444,
             "#bd3786"
            ],
            [
             0.5555555555555556,
             "#d8576b"
            ],
            [
             0.6666666666666666,
             "#ed7953"
            ],
            [
             0.7777777777777778,
             "#fb9f3a"
            ],
            [
             0.8888888888888888,
             "#fdca26"
            ],
            [
             1,
             "#f0f921"
            ]
           ]
          },
          "colorway": [
           "#636efa",
           "#EF553B",
           "#00cc96",
           "#ab63fa",
           "#FFA15A",
           "#19d3f3",
           "#FF6692",
           "#B6E880",
           "#FF97FF",
           "#FECB52"
          ],
          "font": {
           "color": "#2a3f5f"
          },
          "geo": {
           "bgcolor": "white",
           "lakecolor": "white",
           "landcolor": "#E5ECF6",
           "showlakes": true,
           "showland": true,
           "subunitcolor": "white"
          },
          "hoverlabel": {
           "align": "left"
          },
          "hovermode": "closest",
          "mapbox": {
           "style": "light"
          },
          "paper_bgcolor": "white",
          "plot_bgcolor": "#E5ECF6",
          "polar": {
           "angularaxis": {
            "gridcolor": "white",
            "linecolor": "white",
            "ticks": ""
           },
           "bgcolor": "#E5ECF6",
           "radialaxis": {
            "gridcolor": "white",
            "linecolor": "white",
            "ticks": ""
           }
          },
          "scene": {
           "xaxis": {
            "backgroundcolor": "#E5ECF6",
            "gridcolor": "white",
            "gridwidth": 2,
            "linecolor": "white",
            "showbackground": true,
            "ticks": "",
            "zerolinecolor": "white"
           },
           "yaxis": {
            "backgroundcolor": "#E5ECF6",
            "gridcolor": "white",
            "gridwidth": 2,
            "linecolor": "white",
            "showbackground": true,
            "ticks": "",
            "zerolinecolor": "white"
           },
           "zaxis": {
            "backgroundcolor": "#E5ECF6",
            "gridcolor": "white",
            "gridwidth": 2,
            "linecolor": "white",
            "showbackground": true,
            "ticks": "",
            "zerolinecolor": "white"
           }
          },
          "shapedefaults": {
           "line": {
            "color": "#2a3f5f"
           }
          },
          "ternary": {
           "aaxis": {
            "gridcolor": "white",
            "linecolor": "white",
            "ticks": ""
           },
           "baxis": {
            "gridcolor": "white",
            "linecolor": "white",
            "ticks": ""
           },
           "bgcolor": "#E5ECF6",
           "caxis": {
            "gridcolor": "white",
            "linecolor": "white",
            "ticks": ""
           }
          },
          "title": {
           "x": 0.05
          },
          "xaxis": {
           "automargin": true,
           "gridcolor": "white",
           "linecolor": "white",
           "ticks": "",
           "title": {
            "standoff": 15
           },
           "zerolinecolor": "white",
           "zerolinewidth": 2
          },
          "yaxis": {
           "automargin": true,
           "gridcolor": "white",
           "linecolor": "white",
           "ticks": "",
           "title": {
            "standoff": 15
           },
           "zerolinecolor": "white",
           "zerolinewidth": 2
          }
         }
        },
        "title": {
         "font": {
          "family": "Gulliver",
          "size": 40
         },
         "text": "wind",
         "x": 0.5
        },
        "width": 1000,
        "xaxis": {
         "anchor": "y",
         "domain": [
          0,
          1
         ],
         "tickfont": {
          "size": 20
         },
         "title": {
          "text": "wind"
         }
        },
        "xaxis2": {
         "anchor": "y2",
         "domain": [
          0,
          1
         ],
         "matches": "x",
         "showgrid": true,
         "showticklabels": false
        },
        "yaxis": {
         "anchor": "x",
         "domain": [
          0,
          0.8316
         ],
         "tickfont": {
          "size": 20
         },
         "title": {
          "text": "Density"
         }
        },
        "yaxis2": {
         "anchor": "x2",
         "domain": [
          0.8416,
          1
         ],
         "matches": "y2",
         "showgrid": false,
         "showline": false,
         "showticklabels": false,
         "ticks": ""
        }
       }
      }
     },
     "metadata": {},
     "output_type": "display_data"
    },
    {
     "data": {
      "application/vnd.plotly.v1+json": {
       "config": {
        "plotlyServerURL": "https://plotly.com"
       },
       "data": [
        {
         "alignmentgroup": "True",
         "bingroup": "x",
         "histnorm": "density",
         "hovertemplate": "rain=%{x}<br>density=%{y}<extra></extra>",
         "legendgroup": "",
         "marker": {
          "color": "#636efa",
          "pattern": {
           "shape": ""
          }
         },
         "name": "",
         "nbinsx": 100,
         "offsetgroup": "",
         "opacity": 1,
         "orientation": "v",
         "showlegend": false,
         "type": "histogram",
         "x": [
          0,
          0,
          0,
          0.2,
          0,
          0,
          0,
          0,
          0,
          0,
          0,
          0,
          0,
          0,
          0,
          0,
          0,
          0,
          0,
          0,
          0,
          0,
          0,
          0,
          0,
          0,
          0,
          0,
          0,
          0,
          0,
          0,
          0,
          0,
          0,
          0,
          0,
          0,
          0,
          0,
          0,
          0,
          0,
          0,
          0,
          0,
          0,
          0,
          0,
          0,
          0,
          0,
          0,
          0,
          0,
          0,
          0,
          0,
          0,
          0,
          0,
          0,
          0,
          0,
          0,
          0,
          0,
          0,
          0,
          0,
          0,
          0,
          0,
          0,
          0,
          0,
          0,
          0,
          0,
          0,
          0,
          0,
          0,
          0,
          0,
          0,
          0,
          0,
          0,
          0,
          0,
          0,
          0,
          0,
          0,
          0,
          0,
          0,
          0,
          0,
          0,
          0,
          0,
          0,
          0,
          0,
          0,
          0,
          0,
          0,
          0,
          0,
          0,
          0,
          0,
          0,
          0,
          0,
          0,
          0,
          0,
          0,
          0,
          0,
          0,
          0,
          0,
          0,
          0,
          0,
          0,
          0,
          0,
          0,
          0,
          0,
          0,
          0,
          0,
          0,
          0,
          0,
          0,
          0,
          0,
          0,
          0,
          0,
          0,
          0,
          0,
          0,
          0,
          0,
          0,
          0,
          0,
          0,
          0,
          0,
          0,
          0,
          0,
          0,
          0,
          0,
          0,
          0,
          0,
          0,
          0,
          0,
          0,
          0,
          0,
          0,
          0,
          0,
          0,
          0,
          0,
          0,
          0,
          0,
          0,
          0,
          0,
          0,
          0,
          0,
          0,
          0,
          0,
          0,
          0,
          0,
          0,
          0,
          0,
          0,
          0,
          0,
          0,
          0,
          0,
          0,
          0,
          0,
          0,
          0,
          0,
          0,
          0,
          0,
          0,
          0,
          0,
          0,
          0,
          0,
          0,
          0,
          0,
          0,
          0,
          0,
          0,
          0,
          0,
          0,
          0,
          0,
          0,
          0,
          0,
          0,
          0,
          0,
          0,
          0,
          0,
          0,
          0,
          1,
          0,
          0,
          0,
          0,
          0,
          0,
          0,
          0,
          0,
          0,
          0,
          0,
          0,
          0,
          0,
          0,
          0,
          0,
          0,
          0,
          0,
          0,
          0,
          0,
          0,
          0,
          0,
          0,
          0,
          0,
          0,
          0,
          0,
          0,
          0,
          0,
          0,
          0,
          0,
          0,
          0,
          0,
          0.2,
          0,
          0,
          0,
          0,
          0,
          0,
          0,
          0,
          0,
          0,
          0,
          0,
          0,
          0,
          0,
          0,
          0,
          0,
          0,
          0,
          0,
          0,
          0,
          0,
          0,
          0,
          0,
          0,
          0,
          0,
          0,
          0,
          0,
          0,
          0,
          0,
          0,
          0,
          0,
          0,
          0,
          0,
          0,
          0,
          0,
          0,
          0,
          0,
          0,
          0,
          0,
          0,
          0,
          0,
          0,
          0,
          0,
          0,
          0,
          0,
          0,
          0,
          0,
          0,
          0,
          0,
          0,
          0,
          0,
          0,
          0,
          0,
          0,
          0,
          0,
          0,
          0,
          0,
          0,
          0,
          0,
          0,
          0,
          0,
          0,
          0,
          0,
          0,
          0,
          0,
          0,
          0,
          0,
          0,
          0,
          0,
          0,
          0,
          0,
          0,
          0,
          0,
          0,
          0,
          0,
          0,
          0,
          0,
          0,
          0,
          0,
          0,
          0,
          0,
          0,
          0,
          0,
          0,
          0,
          0,
          0,
          0,
          0,
          0,
          0,
          0,
          0,
          0,
          0,
          0,
          0,
          0,
          0,
          0,
          0,
          0,
          0,
          0,
          0,
          0,
          0,
          0,
          0,
          0,
          0,
          0,
          0,
          0,
          0,
          0,
          0,
          0,
          0,
          0,
          0,
          0,
          0,
          0,
          0,
          0,
          0,
          0,
          0,
          0,
          0,
          0,
          0,
          0,
          0,
          0,
          0,
          0,
          0,
          0,
          0,
          0,
          0,
          0,
          0,
          0,
          0,
          0,
          0,
          0,
          0,
          0,
          0,
          0,
          0,
          0,
          0,
          0,
          0,
          0,
          0,
          0,
          0,
          0,
          0,
          0,
          0,
          0,
          0,
          0,
          0,
          0,
          0,
          0,
          0,
          0,
          0,
          0,
          6.4,
          0.8,
          0.8,
          0.4,
          0,
          0,
          0,
          0,
          0,
          0,
          1.4,
          0,
          0,
          0,
          0,
          0,
          0,
          0
         ],
         "xaxis": "x",
         "yaxis": "y"
        },
        {
         "alignmentgroup": "True",
         "hovertemplate": "rain=%{x}<extra></extra>",
         "legendgroup": "",
         "marker": {
          "color": "#636efa"
         },
         "name": "",
         "notched": true,
         "offsetgroup": "",
         "opacity": 1,
         "showlegend": false,
         "type": "box",
         "x": [
          0,
          0,
          0,
          0.2,
          0,
          0,
          0,
          0,
          0,
          0,
          0,
          0,
          0,
          0,
          0,
          0,
          0,
          0,
          0,
          0,
          0,
          0,
          0,
          0,
          0,
          0,
          0,
          0,
          0,
          0,
          0,
          0,
          0,
          0,
          0,
          0,
          0,
          0,
          0,
          0,
          0,
          0,
          0,
          0,
          0,
          0,
          0,
          0,
          0,
          0,
          0,
          0,
          0,
          0,
          0,
          0,
          0,
          0,
          0,
          0,
          0,
          0,
          0,
          0,
          0,
          0,
          0,
          0,
          0,
          0,
          0,
          0,
          0,
          0,
          0,
          0,
          0,
          0,
          0,
          0,
          0,
          0,
          0,
          0,
          0,
          0,
          0,
          0,
          0,
          0,
          0,
          0,
          0,
          0,
          0,
          0,
          0,
          0,
          0,
          0,
          0,
          0,
          0,
          0,
          0,
          0,
          0,
          0,
          0,
          0,
          0,
          0,
          0,
          0,
          0,
          0,
          0,
          0,
          0,
          0,
          0,
          0,
          0,
          0,
          0,
          0,
          0,
          0,
          0,
          0,
          0,
          0,
          0,
          0,
          0,
          0,
          0,
          0,
          0,
          0,
          0,
          0,
          0,
          0,
          0,
          0,
          0,
          0,
          0,
          0,
          0,
          0,
          0,
          0,
          0,
          0,
          0,
          0,
          0,
          0,
          0,
          0,
          0,
          0,
          0,
          0,
          0,
          0,
          0,
          0,
          0,
          0,
          0,
          0,
          0,
          0,
          0,
          0,
          0,
          0,
          0,
          0,
          0,
          0,
          0,
          0,
          0,
          0,
          0,
          0,
          0,
          0,
          0,
          0,
          0,
          0,
          0,
          0,
          0,
          0,
          0,
          0,
          0,
          0,
          0,
          0,
          0,
          0,
          0,
          0,
          0,
          0,
          0,
          0,
          0,
          0,
          0,
          0,
          0,
          0,
          0,
          0,
          0,
          0,
          0,
          0,
          0,
          0,
          0,
          0,
          0,
          0,
          0,
          0,
          0,
          0,
          0,
          0,
          0,
          0,
          0,
          0,
          0,
          1,
          0,
          0,
          0,
          0,
          0,
          0,
          0,
          0,
          0,
          0,
          0,
          0,
          0,
          0,
          0,
          0,
          0,
          0,
          0,
          0,
          0,
          0,
          0,
          0,
          0,
          0,
          0,
          0,
          0,
          0,
          0,
          0,
          0,
          0,
          0,
          0,
          0,
          0,
          0,
          0,
          0,
          0,
          0.2,
          0,
          0,
          0,
          0,
          0,
          0,
          0,
          0,
          0,
          0,
          0,
          0,
          0,
          0,
          0,
          0,
          0,
          0,
          0,
          0,
          0,
          0,
          0,
          0,
          0,
          0,
          0,
          0,
          0,
          0,
          0,
          0,
          0,
          0,
          0,
          0,
          0,
          0,
          0,
          0,
          0,
          0,
          0,
          0,
          0,
          0,
          0,
          0,
          0,
          0,
          0,
          0,
          0,
          0,
          0,
          0,
          0,
          0,
          0,
          0,
          0,
          0,
          0,
          0,
          0,
          0,
          0,
          0,
          0,
          0,
          0,
          0,
          0,
          0,
          0,
          0,
          0,
          0,
          0,
          0,
          0,
          0,
          0,
          0,
          0,
          0,
          0,
          0,
          0,
          0,
          0,
          0,
          0,
          0,
          0,
          0,
          0,
          0,
          0,
          0,
          0,
          0,
          0,
          0,
          0,
          0,
          0,
          0,
          0,
          0,
          0,
          0,
          0,
          0,
          0,
          0,
          0,
          0,
          0,
          0,
          0,
          0,
          0,
          0,
          0,
          0,
          0,
          0,
          0,
          0,
          0,
          0,
          0,
          0,
          0,
          0,
          0,
          0,
          0,
          0,
          0,
          0,
          0,
          0,
          0,
          0,
          0,
          0,
          0,
          0,
          0,
          0,
          0,
          0,
          0,
          0,
          0,
          0,
          0,
          0,
          0,
          0,
          0,
          0,
          0,
          0,
          0,
          0,
          0,
          0,
          0,
          0,
          0,
          0,
          0,
          0,
          0,
          0,
          0,
          0,
          0,
          0,
          0,
          0,
          0,
          0,
          0,
          0,
          0,
          0,
          0,
          0,
          0,
          0,
          0,
          0,
          0,
          0,
          0,
          0,
          0,
          0,
          0,
          0,
          0,
          0,
          0,
          0,
          0,
          0,
          0,
          0,
          6.4,
          0.8,
          0.8,
          0.4,
          0,
          0,
          0,
          0,
          0,
          0,
          1.4,
          0,
          0,
          0,
          0,
          0,
          0,
          0
         ],
         "xaxis": "x2",
         "yaxis": "y2"
        }
       ],
       "layout": {
        "barmode": "relative",
        "height": 600,
        "legend": {
         "tracegroupgap": 0
        },
        "margin": {
         "t": 60
        },
        "template": {
         "data": {
          "bar": [
           {
            "error_x": {
             "color": "#2a3f5f"
            },
            "error_y": {
             "color": "#2a3f5f"
            },
            "marker": {
             "line": {
              "color": "#E5ECF6",
              "width": 0.5
             },
             "pattern": {
              "fillmode": "overlay",
              "size": 10,
              "solidity": 0.2
             }
            },
            "type": "bar"
           }
          ],
          "barpolar": [
           {
            "marker": {
             "line": {
              "color": "#E5ECF6",
              "width": 0.5
             },
             "pattern": {
              "fillmode": "overlay",
              "size": 10,
              "solidity": 0.2
             }
            },
            "type": "barpolar"
           }
          ],
          "carpet": [
           {
            "aaxis": {
             "endlinecolor": "#2a3f5f",
             "gridcolor": "white",
             "linecolor": "white",
             "minorgridcolor": "white",
             "startlinecolor": "#2a3f5f"
            },
            "baxis": {
             "endlinecolor": "#2a3f5f",
             "gridcolor": "white",
             "linecolor": "white",
             "minorgridcolor": "white",
             "startlinecolor": "#2a3f5f"
            },
            "type": "carpet"
           }
          ],
          "choropleth": [
           {
            "colorbar": {
             "outlinewidth": 0,
             "ticks": ""
            },
            "type": "choropleth"
           }
          ],
          "contour": [
           {
            "colorbar": {
             "outlinewidth": 0,
             "ticks": ""
            },
            "colorscale": [
             [
              0,
              "#0d0887"
             ],
             [
              0.1111111111111111,
              "#46039f"
             ],
             [
              0.2222222222222222,
              "#7201a8"
             ],
             [
              0.3333333333333333,
              "#9c179e"
             ],
             [
              0.4444444444444444,
              "#bd3786"
             ],
             [
              0.5555555555555556,
              "#d8576b"
             ],
             [
              0.6666666666666666,
              "#ed7953"
             ],
             [
              0.7777777777777778,
              "#fb9f3a"
             ],
             [
              0.8888888888888888,
              "#fdca26"
             ],
             [
              1,
              "#f0f921"
             ]
            ],
            "type": "contour"
           }
          ],
          "contourcarpet": [
           {
            "colorbar": {
             "outlinewidth": 0,
             "ticks": ""
            },
            "type": "contourcarpet"
           }
          ],
          "heatmap": [
           {
            "colorbar": {
             "outlinewidth": 0,
             "ticks": ""
            },
            "colorscale": [
             [
              0,
              "#0d0887"
             ],
             [
              0.1111111111111111,
              "#46039f"
             ],
             [
              0.2222222222222222,
              "#7201a8"
             ],
             [
              0.3333333333333333,
              "#9c179e"
             ],
             [
              0.4444444444444444,
              "#bd3786"
             ],
             [
              0.5555555555555556,
              "#d8576b"
             ],
             [
              0.6666666666666666,
              "#ed7953"
             ],
             [
              0.7777777777777778,
              "#fb9f3a"
             ],
             [
              0.8888888888888888,
              "#fdca26"
             ],
             [
              1,
              "#f0f921"
             ]
            ],
            "type": "heatmap"
           }
          ],
          "heatmapgl": [
           {
            "colorbar": {
             "outlinewidth": 0,
             "ticks": ""
            },
            "colorscale": [
             [
              0,
              "#0d0887"
             ],
             [
              0.1111111111111111,
              "#46039f"
             ],
             [
              0.2222222222222222,
              "#7201a8"
             ],
             [
              0.3333333333333333,
              "#9c179e"
             ],
             [
              0.4444444444444444,
              "#bd3786"
             ],
             [
              0.5555555555555556,
              "#d8576b"
             ],
             [
              0.6666666666666666,
              "#ed7953"
             ],
             [
              0.7777777777777778,
              "#fb9f3a"
             ],
             [
              0.8888888888888888,
              "#fdca26"
             ],
             [
              1,
              "#f0f921"
             ]
            ],
            "type": "heatmapgl"
           }
          ],
          "histogram": [
           {
            "marker": {
             "pattern": {
              "fillmode": "overlay",
              "size": 10,
              "solidity": 0.2
             }
            },
            "type": "histogram"
           }
          ],
          "histogram2d": [
           {
            "colorbar": {
             "outlinewidth": 0,
             "ticks": ""
            },
            "colorscale": [
             [
              0,
              "#0d0887"
             ],
             [
              0.1111111111111111,
              "#46039f"
             ],
             [
              0.2222222222222222,
              "#7201a8"
             ],
             [
              0.3333333333333333,
              "#9c179e"
             ],
             [
              0.4444444444444444,
              "#bd3786"
             ],
             [
              0.5555555555555556,
              "#d8576b"
             ],
             [
              0.6666666666666666,
              "#ed7953"
             ],
             [
              0.7777777777777778,
              "#fb9f3a"
             ],
             [
              0.8888888888888888,
              "#fdca26"
             ],
             [
              1,
              "#f0f921"
             ]
            ],
            "type": "histogram2d"
           }
          ],
          "histogram2dcontour": [
           {
            "colorbar": {
             "outlinewidth": 0,
             "ticks": ""
            },
            "colorscale": [
             [
              0,
              "#0d0887"
             ],
             [
              0.1111111111111111,
              "#46039f"
             ],
             [
              0.2222222222222222,
              "#7201a8"
             ],
             [
              0.3333333333333333,
              "#9c179e"
             ],
             [
              0.4444444444444444,
              "#bd3786"
             ],
             [
              0.5555555555555556,
              "#d8576b"
             ],
             [
              0.6666666666666666,
              "#ed7953"
             ],
             [
              0.7777777777777778,
              "#fb9f3a"
             ],
             [
              0.8888888888888888,
              "#fdca26"
             ],
             [
              1,
              "#f0f921"
             ]
            ],
            "type": "histogram2dcontour"
           }
          ],
          "mesh3d": [
           {
            "colorbar": {
             "outlinewidth": 0,
             "ticks": ""
            },
            "type": "mesh3d"
           }
          ],
          "parcoords": [
           {
            "line": {
             "colorbar": {
              "outlinewidth": 0,
              "ticks": ""
             }
            },
            "type": "parcoords"
           }
          ],
          "pie": [
           {
            "automargin": true,
            "type": "pie"
           }
          ],
          "scatter": [
           {
            "fillpattern": {
             "fillmode": "overlay",
             "size": 10,
             "solidity": 0.2
            },
            "type": "scatter"
           }
          ],
          "scatter3d": [
           {
            "line": {
             "colorbar": {
              "outlinewidth": 0,
              "ticks": ""
             }
            },
            "marker": {
             "colorbar": {
              "outlinewidth": 0,
              "ticks": ""
             }
            },
            "type": "scatter3d"
           }
          ],
          "scattercarpet": [
           {
            "marker": {
             "colorbar": {
              "outlinewidth": 0,
              "ticks": ""
             }
            },
            "type": "scattercarpet"
           }
          ],
          "scattergeo": [
           {
            "marker": {
             "colorbar": {
              "outlinewidth": 0,
              "ticks": ""
             }
            },
            "type": "scattergeo"
           }
          ],
          "scattergl": [
           {
            "marker": {
             "colorbar": {
              "outlinewidth": 0,
              "ticks": ""
             }
            },
            "type": "scattergl"
           }
          ],
          "scattermapbox": [
           {
            "marker": {
             "colorbar": {
              "outlinewidth": 0,
              "ticks": ""
             }
            },
            "type": "scattermapbox"
           }
          ],
          "scatterpolar": [
           {
            "marker": {
             "colorbar": {
              "outlinewidth": 0,
              "ticks": ""
             }
            },
            "type": "scatterpolar"
           }
          ],
          "scatterpolargl": [
           {
            "marker": {
             "colorbar": {
              "outlinewidth": 0,
              "ticks": ""
             }
            },
            "type": "scatterpolargl"
           }
          ],
          "scatterternary": [
           {
            "marker": {
             "colorbar": {
              "outlinewidth": 0,
              "ticks": ""
             }
            },
            "type": "scatterternary"
           }
          ],
          "surface": [
           {
            "colorbar": {
             "outlinewidth": 0,
             "ticks": ""
            },
            "colorscale": [
             [
              0,
              "#0d0887"
             ],
             [
              0.1111111111111111,
              "#46039f"
             ],
             [
              0.2222222222222222,
              "#7201a8"
             ],
             [
              0.3333333333333333,
              "#9c179e"
             ],
             [
              0.4444444444444444,
              "#bd3786"
             ],
             [
              0.5555555555555556,
              "#d8576b"
             ],
             [
              0.6666666666666666,
              "#ed7953"
             ],
             [
              0.7777777777777778,
              "#fb9f3a"
             ],
             [
              0.8888888888888888,
              "#fdca26"
             ],
             [
              1,
              "#f0f921"
             ]
            ],
            "type": "surface"
           }
          ],
          "table": [
           {
            "cells": {
             "fill": {
              "color": "#EBF0F8"
             },
             "line": {
              "color": "white"
             }
            },
            "header": {
             "fill": {
              "color": "#C8D4E3"
             },
             "line": {
              "color": "white"
             }
            },
            "type": "table"
           }
          ]
         },
         "layout": {
          "annotationdefaults": {
           "arrowcolor": "#2a3f5f",
           "arrowhead": 0,
           "arrowwidth": 1
          },
          "autotypenumbers": "strict",
          "coloraxis": {
           "colorbar": {
            "outlinewidth": 0,
            "ticks": ""
           }
          },
          "colorscale": {
           "diverging": [
            [
             0,
             "#8e0152"
            ],
            [
             0.1,
             "#c51b7d"
            ],
            [
             0.2,
             "#de77ae"
            ],
            [
             0.3,
             "#f1b6da"
            ],
            [
             0.4,
             "#fde0ef"
            ],
            [
             0.5,
             "#f7f7f7"
            ],
            [
             0.6,
             "#e6f5d0"
            ],
            [
             0.7,
             "#b8e186"
            ],
            [
             0.8,
             "#7fbc41"
            ],
            [
             0.9,
             "#4d9221"
            ],
            [
             1,
             "#276419"
            ]
           ],
           "sequential": [
            [
             0,
             "#0d0887"
            ],
            [
             0.1111111111111111,
             "#46039f"
            ],
            [
             0.2222222222222222,
             "#7201a8"
            ],
            [
             0.3333333333333333,
             "#9c179e"
            ],
            [
             0.4444444444444444,
             "#bd3786"
            ],
            [
             0.5555555555555556,
             "#d8576b"
            ],
            [
             0.6666666666666666,
             "#ed7953"
            ],
            [
             0.7777777777777778,
             "#fb9f3a"
            ],
            [
             0.8888888888888888,
             "#fdca26"
            ],
            [
             1,
             "#f0f921"
            ]
           ],
           "sequentialminus": [
            [
             0,
             "#0d0887"
            ],
            [
             0.1111111111111111,
             "#46039f"
            ],
            [
             0.2222222222222222,
             "#7201a8"
            ],
            [
             0.3333333333333333,
             "#9c179e"
            ],
            [
             0.4444444444444444,
             "#bd3786"
            ],
            [
             0.5555555555555556,
             "#d8576b"
            ],
            [
             0.6666666666666666,
             "#ed7953"
            ],
            [
             0.7777777777777778,
             "#fb9f3a"
            ],
            [
             0.8888888888888888,
             "#fdca26"
            ],
            [
             1,
             "#f0f921"
            ]
           ]
          },
          "colorway": [
           "#636efa",
           "#EF553B",
           "#00cc96",
           "#ab63fa",
           "#FFA15A",
           "#19d3f3",
           "#FF6692",
           "#B6E880",
           "#FF97FF",
           "#FECB52"
          ],
          "font": {
           "color": "#2a3f5f"
          },
          "geo": {
           "bgcolor": "white",
           "lakecolor": "white",
           "landcolor": "#E5ECF6",
           "showlakes": true,
           "showland": true,
           "subunitcolor": "white"
          },
          "hoverlabel": {
           "align": "left"
          },
          "hovermode": "closest",
          "mapbox": {
           "style": "light"
          },
          "paper_bgcolor": "white",
          "plot_bgcolor": "#E5ECF6",
          "polar": {
           "angularaxis": {
            "gridcolor": "white",
            "linecolor": "white",
            "ticks": ""
           },
           "bgcolor": "#E5ECF6",
           "radialaxis": {
            "gridcolor": "white",
            "linecolor": "white",
            "ticks": ""
           }
          },
          "scene": {
           "xaxis": {
            "backgroundcolor": "#E5ECF6",
            "gridcolor": "white",
            "gridwidth": 2,
            "linecolor": "white",
            "showbackground": true,
            "ticks": "",
            "zerolinecolor": "white"
           },
           "yaxis": {
            "backgroundcolor": "#E5ECF6",
            "gridcolor": "white",
            "gridwidth": 2,
            "linecolor": "white",
            "showbackground": true,
            "ticks": "",
            "zerolinecolor": "white"
           },
           "zaxis": {
            "backgroundcolor": "#E5ECF6",
            "gridcolor": "white",
            "gridwidth": 2,
            "linecolor": "white",
            "showbackground": true,
            "ticks": "",
            "zerolinecolor": "white"
           }
          },
          "shapedefaults": {
           "line": {
            "color": "#2a3f5f"
           }
          },
          "ternary": {
           "aaxis": {
            "gridcolor": "white",
            "linecolor": "white",
            "ticks": ""
           },
           "baxis": {
            "gridcolor": "white",
            "linecolor": "white",
            "ticks": ""
           },
           "bgcolor": "#E5ECF6",
           "caxis": {
            "gridcolor": "white",
            "linecolor": "white",
            "ticks": ""
           }
          },
          "title": {
           "x": 0.05
          },
          "xaxis": {
           "automargin": true,
           "gridcolor": "white",
           "linecolor": "white",
           "ticks": "",
           "title": {
            "standoff": 15
           },
           "zerolinecolor": "white",
           "zerolinewidth": 2
          },
          "yaxis": {
           "automargin": true,
           "gridcolor": "white",
           "linecolor": "white",
           "ticks": "",
           "title": {
            "standoff": 15
           },
           "zerolinecolor": "white",
           "zerolinewidth": 2
          }
         }
        },
        "title": {
         "font": {
          "family": "Gulliver",
          "size": 40
         },
         "text": "rain",
         "x": 0.5
        },
        "width": 1000,
        "xaxis": {
         "anchor": "y",
         "domain": [
          0,
          1
         ],
         "tickfont": {
          "size": 20
         },
         "title": {
          "text": "rain"
         }
        },
        "xaxis2": {
         "anchor": "y2",
         "domain": [
          0,
          1
         ],
         "matches": "x",
         "showgrid": true,
         "showticklabels": false
        },
        "yaxis": {
         "anchor": "x",
         "domain": [
          0,
          0.8316
         ],
         "tickfont": {
          "size": 20
         },
         "title": {
          "text": "Density"
         }
        },
        "yaxis2": {
         "anchor": "x2",
         "domain": [
          0.8416,
          1
         ],
         "matches": "y2",
         "showgrid": false,
         "showline": false,
         "showticklabels": false,
         "ticks": ""
        }
       }
      }
     },
     "metadata": {},
     "output_type": "display_data"
    },
    {
     "data": {
      "application/vnd.plotly.v1+json": {
       "config": {
        "plotlyServerURL": "https://plotly.com"
       },
       "data": [
        {
         "alignmentgroup": "True",
         "bingroup": "x",
         "histnorm": "density",
         "hovertemplate": "area=%{x}<br>density=%{y}<extra></extra>",
         "legendgroup": "",
         "marker": {
          "color": "#636efa",
          "pattern": {
           "shape": ""
          }
         },
         "name": "",
         "nbinsx": 100,
         "offsetgroup": "",
         "opacity": 1,
         "orientation": "v",
         "showlegend": false,
         "type": "histogram",
         "x": [
          0,
          0,
          0,
          0,
          0,
          0,
          0,
          0,
          0,
          0,
          0,
          0,
          0,
          0,
          0,
          0,
          0,
          0,
          0,
          0,
          0,
          0,
          0,
          0,
          0,
          0,
          0,
          0,
          0,
          0,
          0,
          0,
          0,
          0,
          0,
          0,
          0,
          0,
          0,
          0,
          0,
          0,
          0,
          0,
          0,
          0,
          0,
          0,
          0,
          0,
          0,
          0,
          0,
          0,
          0,
          0,
          0,
          0,
          0,
          0,
          0,
          0,
          0,
          0,
          0,
          0,
          0,
          0,
          0,
          0,
          0,
          0,
          0,
          0,
          0,
          0,
          0,
          0,
          0,
          0,
          0,
          0,
          0,
          0,
          0,
          0,
          0,
          0,
          0,
          0,
          0,
          0,
          0,
          0,
          0,
          0,
          0,
          0,
          0,
          0,
          0,
          0,
          0,
          0,
          0,
          0,
          0,
          0,
          0,
          0,
          0,
          0,
          0,
          0,
          0,
          0,
          0,
          0,
          0,
          0,
          0,
          0,
          0,
          0,
          0,
          0,
          0,
          0,
          0,
          0,
          0,
          0,
          0,
          0,
          0,
          0,
          0,
          0,
          0.36,
          0.43,
          0.47,
          0.55,
          0.61,
          0.71,
          0.77,
          0.9,
          0.95,
          0.96,
          1.07,
          1.12,
          1.19,
          1.36,
          1.43,
          1.46,
          1.46,
          1.56,
          1.61,
          1.63,
          1.64,
          1.69,
          1.75,
          1.9,
          1.94,
          1.95,
          2.01,
          2.14,
          2.29,
          2.51,
          2.53,
          2.55,
          2.57,
          2.69,
          2.74,
          3.07,
          3.5,
          4.53,
          4.61,
          4.69,
          4.88,
          5.23,
          5.33,
          5.44,
          6.38,
          6.83,
          6.96,
          7.04,
          7.19,
          7.3,
          7.4,
          8.24,
          8.31,
          8.68,
          8.71,
          9.41,
          10.01,
          10.02,
          10.93,
          11.06,
          11.24,
          11.32,
          11.53,
          12.1,
          13.05,
          13.7,
          13.99,
          14.57,
          15.45,
          17.2,
          19.23,
          23.41,
          24.23,
          26,
          26.13,
          27.35,
          28.66,
          28.66,
          29.48,
          30.32,
          31.72,
          31.86,
          32.07,
          35.88,
          36.85,
          37.02,
          37.71,
          48.55,
          49.37,
          58.3,
          64.1,
          71.3,
          88.49,
          95.18,
          103.39,
          105.66,
          154.88,
          196.48,
          200.94,
          212.88,
          1090.84,
          0,
          0,
          0,
          10.13,
          0,
          2.87,
          0.76,
          0.09,
          0.75,
          0,
          2.47,
          0.68,
          0.24,
          0.21,
          1.52,
          10.34,
          0,
          8.02,
          0.68,
          0,
          1.38,
          8.85,
          3.3,
          4.25,
          1.56,
          6.54,
          0.79,
          0.17,
          0,
          0,
          4.4,
          0.52,
          9.27,
          3.09,
          8.98,
          11.19,
          5.38,
          17.85,
          10.73,
          22.03,
          9.77,
          9.27,
          24.77,
          0,
          1.1,
          24.24,
          0,
          0,
          0,
          0,
          0,
          0,
          8,
          2.64,
          86.45,
          6.57,
          0,
          0.9,
          0,
          0,
          0,
          0,
          3.52,
          0,
          0,
          0,
          0,
          0.41,
          5.18,
          0,
          0,
          0,
          14.29,
          0,
          0,
          1.58,
          0,
          0,
          3.78,
          0,
          4.41,
          34.36,
          7.21,
          1.01,
          2.18,
          4.42,
          0,
          0,
          0,
          0,
          3.33,
          6.58,
          15.64,
          11.22,
          2.13,
          0,
          0,
          0,
          56.04,
          7.48,
          1.47,
          3.93,
          0,
          0,
          2.18,
          6.1,
          5.83,
          28.19,
          0,
          0,
          1.64,
          3.71,
          7.31,
          2.03,
          1.72,
          5.97,
          13.06,
          1.26,
          0,
          0,
          8.12,
          1.09,
          3.94,
          0.52,
          2.93,
          5.65,
          20.03,
          1.75,
          0,
          12.64,
          0,
          11.06,
          0,
          0,
          0,
          18.3,
          39.35,
          0,
          174.63,
          0,
          0,
          7.73,
          16.33,
          5.86,
          42.87,
          12.18,
          16,
          24.59,
          0,
          28.74,
          0,
          9.96,
          30.18,
          70.76,
          0,
          0,
          51.78,
          3.64,
          3.63,
          0,
          0,
          8.16,
          4.95,
          0,
          0,
          6.04,
          0,
          3.95,
          0,
          7.8,
          0,
          0,
          4.62,
          1.63,
          0,
          0,
          746.28,
          7.02,
          0,
          2.44,
          3.05,
          185.76,
          0,
          6.3,
          0.72,
          4.96,
          0,
          0,
          2.35,
          0,
          3.2,
          0,
          6.36,
          0,
          15.34,
          0,
          0,
          0.54,
          0,
          6.43,
          0.33,
          0,
          1.23,
          3.35,
          0,
          9.96,
          0,
          0,
          0,
          0,
          0,
          6.43,
          9.71,
          0,
          0,
          0,
          0,
          0,
          82.75,
          3.32,
          1.94,
          0,
          0,
          3.71,
          5.39,
          2.14,
          6.84,
          3.18,
          5.55,
          6.61,
          61.13,
          0,
          38.48,
          1.94,
          70.32,
          10.08,
          3.19,
          1.76,
          7.36,
          2.21,
          278.53,
          2.75,
          0,
          1.29,
          0,
          26.43,
          2.07,
          2,
          16.4,
          46.7,
          0,
          0,
          0,
          0,
          43.32,
          8.59,
          0,
          2.77,
          14.68,
          40.54,
          10.82,
          0,
          0,
          0,
          1.95,
          49.59,
          5.8,
          0,
          0,
          0,
          2.17,
          0.43,
          0,
          6.44,
          54.29,
          11.16,
          0,
          0
         ],
         "xaxis": "x",
         "yaxis": "y"
        },
        {
         "alignmentgroup": "True",
         "hovertemplate": "area=%{x}<extra></extra>",
         "legendgroup": "",
         "marker": {
          "color": "#636efa"
         },
         "name": "",
         "notched": true,
         "offsetgroup": "",
         "opacity": 1,
         "showlegend": false,
         "type": "box",
         "x": [
          0,
          0,
          0,
          0,
          0,
          0,
          0,
          0,
          0,
          0,
          0,
          0,
          0,
          0,
          0,
          0,
          0,
          0,
          0,
          0,
          0,
          0,
          0,
          0,
          0,
          0,
          0,
          0,
          0,
          0,
          0,
          0,
          0,
          0,
          0,
          0,
          0,
          0,
          0,
          0,
          0,
          0,
          0,
          0,
          0,
          0,
          0,
          0,
          0,
          0,
          0,
          0,
          0,
          0,
          0,
          0,
          0,
          0,
          0,
          0,
          0,
          0,
          0,
          0,
          0,
          0,
          0,
          0,
          0,
          0,
          0,
          0,
          0,
          0,
          0,
          0,
          0,
          0,
          0,
          0,
          0,
          0,
          0,
          0,
          0,
          0,
          0,
          0,
          0,
          0,
          0,
          0,
          0,
          0,
          0,
          0,
          0,
          0,
          0,
          0,
          0,
          0,
          0,
          0,
          0,
          0,
          0,
          0,
          0,
          0,
          0,
          0,
          0,
          0,
          0,
          0,
          0,
          0,
          0,
          0,
          0,
          0,
          0,
          0,
          0,
          0,
          0,
          0,
          0,
          0,
          0,
          0,
          0,
          0,
          0,
          0,
          0,
          0,
          0.36,
          0.43,
          0.47,
          0.55,
          0.61,
          0.71,
          0.77,
          0.9,
          0.95,
          0.96,
          1.07,
          1.12,
          1.19,
          1.36,
          1.43,
          1.46,
          1.46,
          1.56,
          1.61,
          1.63,
          1.64,
          1.69,
          1.75,
          1.9,
          1.94,
          1.95,
          2.01,
          2.14,
          2.29,
          2.51,
          2.53,
          2.55,
          2.57,
          2.69,
          2.74,
          3.07,
          3.5,
          4.53,
          4.61,
          4.69,
          4.88,
          5.23,
          5.33,
          5.44,
          6.38,
          6.83,
          6.96,
          7.04,
          7.19,
          7.3,
          7.4,
          8.24,
          8.31,
          8.68,
          8.71,
          9.41,
          10.01,
          10.02,
          10.93,
          11.06,
          11.24,
          11.32,
          11.53,
          12.1,
          13.05,
          13.7,
          13.99,
          14.57,
          15.45,
          17.2,
          19.23,
          23.41,
          24.23,
          26,
          26.13,
          27.35,
          28.66,
          28.66,
          29.48,
          30.32,
          31.72,
          31.86,
          32.07,
          35.88,
          36.85,
          37.02,
          37.71,
          48.55,
          49.37,
          58.3,
          64.1,
          71.3,
          88.49,
          95.18,
          103.39,
          105.66,
          154.88,
          196.48,
          200.94,
          212.88,
          1090.84,
          0,
          0,
          0,
          10.13,
          0,
          2.87,
          0.76,
          0.09,
          0.75,
          0,
          2.47,
          0.68,
          0.24,
          0.21,
          1.52,
          10.34,
          0,
          8.02,
          0.68,
          0,
          1.38,
          8.85,
          3.3,
          4.25,
          1.56,
          6.54,
          0.79,
          0.17,
          0,
          0,
          4.4,
          0.52,
          9.27,
          3.09,
          8.98,
          11.19,
          5.38,
          17.85,
          10.73,
          22.03,
          9.77,
          9.27,
          24.77,
          0,
          1.1,
          24.24,
          0,
          0,
          0,
          0,
          0,
          0,
          8,
          2.64,
          86.45,
          6.57,
          0,
          0.9,
          0,
          0,
          0,
          0,
          3.52,
          0,
          0,
          0,
          0,
          0.41,
          5.18,
          0,
          0,
          0,
          14.29,
          0,
          0,
          1.58,
          0,
          0,
          3.78,
          0,
          4.41,
          34.36,
          7.21,
          1.01,
          2.18,
          4.42,
          0,
          0,
          0,
          0,
          3.33,
          6.58,
          15.64,
          11.22,
          2.13,
          0,
          0,
          0,
          56.04,
          7.48,
          1.47,
          3.93,
          0,
          0,
          2.18,
          6.1,
          5.83,
          28.19,
          0,
          0,
          1.64,
          3.71,
          7.31,
          2.03,
          1.72,
          5.97,
          13.06,
          1.26,
          0,
          0,
          8.12,
          1.09,
          3.94,
          0.52,
          2.93,
          5.65,
          20.03,
          1.75,
          0,
          12.64,
          0,
          11.06,
          0,
          0,
          0,
          18.3,
          39.35,
          0,
          174.63,
          0,
          0,
          7.73,
          16.33,
          5.86,
          42.87,
          12.18,
          16,
          24.59,
          0,
          28.74,
          0,
          9.96,
          30.18,
          70.76,
          0,
          0,
          51.78,
          3.64,
          3.63,
          0,
          0,
          8.16,
          4.95,
          0,
          0,
          6.04,
          0,
          3.95,
          0,
          7.8,
          0,
          0,
          4.62,
          1.63,
          0,
          0,
          746.28,
          7.02,
          0,
          2.44,
          3.05,
          185.76,
          0,
          6.3,
          0.72,
          4.96,
          0,
          0,
          2.35,
          0,
          3.2,
          0,
          6.36,
          0,
          15.34,
          0,
          0,
          0.54,
          0,
          6.43,
          0.33,
          0,
          1.23,
          3.35,
          0,
          9.96,
          0,
          0,
          0,
          0,
          0,
          6.43,
          9.71,
          0,
          0,
          0,
          0,
          0,
          82.75,
          3.32,
          1.94,
          0,
          0,
          3.71,
          5.39,
          2.14,
          6.84,
          3.18,
          5.55,
          6.61,
          61.13,
          0,
          38.48,
          1.94,
          70.32,
          10.08,
          3.19,
          1.76,
          7.36,
          2.21,
          278.53,
          2.75,
          0,
          1.29,
          0,
          26.43,
          2.07,
          2,
          16.4,
          46.7,
          0,
          0,
          0,
          0,
          43.32,
          8.59,
          0,
          2.77,
          14.68,
          40.54,
          10.82,
          0,
          0,
          0,
          1.95,
          49.59,
          5.8,
          0,
          0,
          0,
          2.17,
          0.43,
          0,
          6.44,
          54.29,
          11.16,
          0,
          0
         ],
         "xaxis": "x2",
         "yaxis": "y2"
        }
       ],
       "layout": {
        "barmode": "relative",
        "height": 600,
        "legend": {
         "tracegroupgap": 0
        },
        "margin": {
         "t": 60
        },
        "template": {
         "data": {
          "bar": [
           {
            "error_x": {
             "color": "#2a3f5f"
            },
            "error_y": {
             "color": "#2a3f5f"
            },
            "marker": {
             "line": {
              "color": "#E5ECF6",
              "width": 0.5
             },
             "pattern": {
              "fillmode": "overlay",
              "size": 10,
              "solidity": 0.2
             }
            },
            "type": "bar"
           }
          ],
          "barpolar": [
           {
            "marker": {
             "line": {
              "color": "#E5ECF6",
              "width": 0.5
             },
             "pattern": {
              "fillmode": "overlay",
              "size": 10,
              "solidity": 0.2
             }
            },
            "type": "barpolar"
           }
          ],
          "carpet": [
           {
            "aaxis": {
             "endlinecolor": "#2a3f5f",
             "gridcolor": "white",
             "linecolor": "white",
             "minorgridcolor": "white",
             "startlinecolor": "#2a3f5f"
            },
            "baxis": {
             "endlinecolor": "#2a3f5f",
             "gridcolor": "white",
             "linecolor": "white",
             "minorgridcolor": "white",
             "startlinecolor": "#2a3f5f"
            },
            "type": "carpet"
           }
          ],
          "choropleth": [
           {
            "colorbar": {
             "outlinewidth": 0,
             "ticks": ""
            },
            "type": "choropleth"
           }
          ],
          "contour": [
           {
            "colorbar": {
             "outlinewidth": 0,
             "ticks": ""
            },
            "colorscale": [
             [
              0,
              "#0d0887"
             ],
             [
              0.1111111111111111,
              "#46039f"
             ],
             [
              0.2222222222222222,
              "#7201a8"
             ],
             [
              0.3333333333333333,
              "#9c179e"
             ],
             [
              0.4444444444444444,
              "#bd3786"
             ],
             [
              0.5555555555555556,
              "#d8576b"
             ],
             [
              0.6666666666666666,
              "#ed7953"
             ],
             [
              0.7777777777777778,
              "#fb9f3a"
             ],
             [
              0.8888888888888888,
              "#fdca26"
             ],
             [
              1,
              "#f0f921"
             ]
            ],
            "type": "contour"
           }
          ],
          "contourcarpet": [
           {
            "colorbar": {
             "outlinewidth": 0,
             "ticks": ""
            },
            "type": "contourcarpet"
           }
          ],
          "heatmap": [
           {
            "colorbar": {
             "outlinewidth": 0,
             "ticks": ""
            },
            "colorscale": [
             [
              0,
              "#0d0887"
             ],
             [
              0.1111111111111111,
              "#46039f"
             ],
             [
              0.2222222222222222,
              "#7201a8"
             ],
             [
              0.3333333333333333,
              "#9c179e"
             ],
             [
              0.4444444444444444,
              "#bd3786"
             ],
             [
              0.5555555555555556,
              "#d8576b"
             ],
             [
              0.6666666666666666,
              "#ed7953"
             ],
             [
              0.7777777777777778,
              "#fb9f3a"
             ],
             [
              0.8888888888888888,
              "#fdca26"
             ],
             [
              1,
              "#f0f921"
             ]
            ],
            "type": "heatmap"
           }
          ],
          "heatmapgl": [
           {
            "colorbar": {
             "outlinewidth": 0,
             "ticks": ""
            },
            "colorscale": [
             [
              0,
              "#0d0887"
             ],
             [
              0.1111111111111111,
              "#46039f"
             ],
             [
              0.2222222222222222,
              "#7201a8"
             ],
             [
              0.3333333333333333,
              "#9c179e"
             ],
             [
              0.4444444444444444,
              "#bd3786"
             ],
             [
              0.5555555555555556,
              "#d8576b"
             ],
             [
              0.6666666666666666,
              "#ed7953"
             ],
             [
              0.7777777777777778,
              "#fb9f3a"
             ],
             [
              0.8888888888888888,
              "#fdca26"
             ],
             [
              1,
              "#f0f921"
             ]
            ],
            "type": "heatmapgl"
           }
          ],
          "histogram": [
           {
            "marker": {
             "pattern": {
              "fillmode": "overlay",
              "size": 10,
              "solidity": 0.2
             }
            },
            "type": "histogram"
           }
          ],
          "histogram2d": [
           {
            "colorbar": {
             "outlinewidth": 0,
             "ticks": ""
            },
            "colorscale": [
             [
              0,
              "#0d0887"
             ],
             [
              0.1111111111111111,
              "#46039f"
             ],
             [
              0.2222222222222222,
              "#7201a8"
             ],
             [
              0.3333333333333333,
              "#9c179e"
             ],
             [
              0.4444444444444444,
              "#bd3786"
             ],
             [
              0.5555555555555556,
              "#d8576b"
             ],
             [
              0.6666666666666666,
              "#ed7953"
             ],
             [
              0.7777777777777778,
              "#fb9f3a"
             ],
             [
              0.8888888888888888,
              "#fdca26"
             ],
             [
              1,
              "#f0f921"
             ]
            ],
            "type": "histogram2d"
           }
          ],
          "histogram2dcontour": [
           {
            "colorbar": {
             "outlinewidth": 0,
             "ticks": ""
            },
            "colorscale": [
             [
              0,
              "#0d0887"
             ],
             [
              0.1111111111111111,
              "#46039f"
             ],
             [
              0.2222222222222222,
              "#7201a8"
             ],
             [
              0.3333333333333333,
              "#9c179e"
             ],
             [
              0.4444444444444444,
              "#bd3786"
             ],
             [
              0.5555555555555556,
              "#d8576b"
             ],
             [
              0.6666666666666666,
              "#ed7953"
             ],
             [
              0.7777777777777778,
              "#fb9f3a"
             ],
             [
              0.8888888888888888,
              "#fdca26"
             ],
             [
              1,
              "#f0f921"
             ]
            ],
            "type": "histogram2dcontour"
           }
          ],
          "mesh3d": [
           {
            "colorbar": {
             "outlinewidth": 0,
             "ticks": ""
            },
            "type": "mesh3d"
           }
          ],
          "parcoords": [
           {
            "line": {
             "colorbar": {
              "outlinewidth": 0,
              "ticks": ""
             }
            },
            "type": "parcoords"
           }
          ],
          "pie": [
           {
            "automargin": true,
            "type": "pie"
           }
          ],
          "scatter": [
           {
            "fillpattern": {
             "fillmode": "overlay",
             "size": 10,
             "solidity": 0.2
            },
            "type": "scatter"
           }
          ],
          "scatter3d": [
           {
            "line": {
             "colorbar": {
              "outlinewidth": 0,
              "ticks": ""
             }
            },
            "marker": {
             "colorbar": {
              "outlinewidth": 0,
              "ticks": ""
             }
            },
            "type": "scatter3d"
           }
          ],
          "scattercarpet": [
           {
            "marker": {
             "colorbar": {
              "outlinewidth": 0,
              "ticks": ""
             }
            },
            "type": "scattercarpet"
           }
          ],
          "scattergeo": [
           {
            "marker": {
             "colorbar": {
              "outlinewidth": 0,
              "ticks": ""
             }
            },
            "type": "scattergeo"
           }
          ],
          "scattergl": [
           {
            "marker": {
             "colorbar": {
              "outlinewidth": 0,
              "ticks": ""
             }
            },
            "type": "scattergl"
           }
          ],
          "scattermapbox": [
           {
            "marker": {
             "colorbar": {
              "outlinewidth": 0,
              "ticks": ""
             }
            },
            "type": "scattermapbox"
           }
          ],
          "scatterpolar": [
           {
            "marker": {
             "colorbar": {
              "outlinewidth": 0,
              "ticks": ""
             }
            },
            "type": "scatterpolar"
           }
          ],
          "scatterpolargl": [
           {
            "marker": {
             "colorbar": {
              "outlinewidth": 0,
              "ticks": ""
             }
            },
            "type": "scatterpolargl"
           }
          ],
          "scatterternary": [
           {
            "marker": {
             "colorbar": {
              "outlinewidth": 0,
              "ticks": ""
             }
            },
            "type": "scatterternary"
           }
          ],
          "surface": [
           {
            "colorbar": {
             "outlinewidth": 0,
             "ticks": ""
            },
            "colorscale": [
             [
              0,
              "#0d0887"
             ],
             [
              0.1111111111111111,
              "#46039f"
             ],
             [
              0.2222222222222222,
              "#7201a8"
             ],
             [
              0.3333333333333333,
              "#9c179e"
             ],
             [
              0.4444444444444444,
              "#bd3786"
             ],
             [
              0.5555555555555556,
              "#d8576b"
             ],
             [
              0.6666666666666666,
              "#ed7953"
             ],
             [
              0.7777777777777778,
              "#fb9f3a"
             ],
             [
              0.8888888888888888,
              "#fdca26"
             ],
             [
              1,
              "#f0f921"
             ]
            ],
            "type": "surface"
           }
          ],
          "table": [
           {
            "cells": {
             "fill": {
              "color": "#EBF0F8"
             },
             "line": {
              "color": "white"
             }
            },
            "header": {
             "fill": {
              "color": "#C8D4E3"
             },
             "line": {
              "color": "white"
             }
            },
            "type": "table"
           }
          ]
         },
         "layout": {
          "annotationdefaults": {
           "arrowcolor": "#2a3f5f",
           "arrowhead": 0,
           "arrowwidth": 1
          },
          "autotypenumbers": "strict",
          "coloraxis": {
           "colorbar": {
            "outlinewidth": 0,
            "ticks": ""
           }
          },
          "colorscale": {
           "diverging": [
            [
             0,
             "#8e0152"
            ],
            [
             0.1,
             "#c51b7d"
            ],
            [
             0.2,
             "#de77ae"
            ],
            [
             0.3,
             "#f1b6da"
            ],
            [
             0.4,
             "#fde0ef"
            ],
            [
             0.5,
             "#f7f7f7"
            ],
            [
             0.6,
             "#e6f5d0"
            ],
            [
             0.7,
             "#b8e186"
            ],
            [
             0.8,
             "#7fbc41"
            ],
            [
             0.9,
             "#4d9221"
            ],
            [
             1,
             "#276419"
            ]
           ],
           "sequential": [
            [
             0,
             "#0d0887"
            ],
            [
             0.1111111111111111,
             "#46039f"
            ],
            [
             0.2222222222222222,
             "#7201a8"
            ],
            [
             0.3333333333333333,
             "#9c179e"
            ],
            [
             0.4444444444444444,
             "#bd3786"
            ],
            [
             0.5555555555555556,
             "#d8576b"
            ],
            [
             0.6666666666666666,
             "#ed7953"
            ],
            [
             0.7777777777777778,
             "#fb9f3a"
            ],
            [
             0.8888888888888888,
             "#fdca26"
            ],
            [
             1,
             "#f0f921"
            ]
           ],
           "sequentialminus": [
            [
             0,
             "#0d0887"
            ],
            [
             0.1111111111111111,
             "#46039f"
            ],
            [
             0.2222222222222222,
             "#7201a8"
            ],
            [
             0.3333333333333333,
             "#9c179e"
            ],
            [
             0.4444444444444444,
             "#bd3786"
            ],
            [
             0.5555555555555556,
             "#d8576b"
            ],
            [
             0.6666666666666666,
             "#ed7953"
            ],
            [
             0.7777777777777778,
             "#fb9f3a"
            ],
            [
             0.8888888888888888,
             "#fdca26"
            ],
            [
             1,
             "#f0f921"
            ]
           ]
          },
          "colorway": [
           "#636efa",
           "#EF553B",
           "#00cc96",
           "#ab63fa",
           "#FFA15A",
           "#19d3f3",
           "#FF6692",
           "#B6E880",
           "#FF97FF",
           "#FECB52"
          ],
          "font": {
           "color": "#2a3f5f"
          },
          "geo": {
           "bgcolor": "white",
           "lakecolor": "white",
           "landcolor": "#E5ECF6",
           "showlakes": true,
           "showland": true,
           "subunitcolor": "white"
          },
          "hoverlabel": {
           "align": "left"
          },
          "hovermode": "closest",
          "mapbox": {
           "style": "light"
          },
          "paper_bgcolor": "white",
          "plot_bgcolor": "#E5ECF6",
          "polar": {
           "angularaxis": {
            "gridcolor": "white",
            "linecolor": "white",
            "ticks": ""
           },
           "bgcolor": "#E5ECF6",
           "radialaxis": {
            "gridcolor": "white",
            "linecolor": "white",
            "ticks": ""
           }
          },
          "scene": {
           "xaxis": {
            "backgroundcolor": "#E5ECF6",
            "gridcolor": "white",
            "gridwidth": 2,
            "linecolor": "white",
            "showbackground": true,
            "ticks": "",
            "zerolinecolor": "white"
           },
           "yaxis": {
            "backgroundcolor": "#E5ECF6",
            "gridcolor": "white",
            "gridwidth": 2,
            "linecolor": "white",
            "showbackground": true,
            "ticks": "",
            "zerolinecolor": "white"
           },
           "zaxis": {
            "backgroundcolor": "#E5ECF6",
            "gridcolor": "white",
            "gridwidth": 2,
            "linecolor": "white",
            "showbackground": true,
            "ticks": "",
            "zerolinecolor": "white"
           }
          },
          "shapedefaults": {
           "line": {
            "color": "#2a3f5f"
           }
          },
          "ternary": {
           "aaxis": {
            "gridcolor": "white",
            "linecolor": "white",
            "ticks": ""
           },
           "baxis": {
            "gridcolor": "white",
            "linecolor": "white",
            "ticks": ""
           },
           "bgcolor": "#E5ECF6",
           "caxis": {
            "gridcolor": "white",
            "linecolor": "white",
            "ticks": ""
           }
          },
          "title": {
           "x": 0.05
          },
          "xaxis": {
           "automargin": true,
           "gridcolor": "white",
           "linecolor": "white",
           "ticks": "",
           "title": {
            "standoff": 15
           },
           "zerolinecolor": "white",
           "zerolinewidth": 2
          },
          "yaxis": {
           "automargin": true,
           "gridcolor": "white",
           "linecolor": "white",
           "ticks": "",
           "title": {
            "standoff": 15
           },
           "zerolinecolor": "white",
           "zerolinewidth": 2
          }
         }
        },
        "title": {
         "font": {
          "family": "Gulliver",
          "size": 40
         },
         "text": "area",
         "x": 0.5
        },
        "width": 1000,
        "xaxis": {
         "anchor": "y",
         "domain": [
          0,
          1
         ],
         "tickfont": {
          "size": 20
         },
         "title": {
          "text": "area"
         }
        },
        "xaxis2": {
         "anchor": "y2",
         "domain": [
          0,
          1
         ],
         "matches": "x",
         "showgrid": true,
         "showticklabels": false
        },
        "yaxis": {
         "anchor": "x",
         "domain": [
          0,
          0.8316
         ],
         "tickfont": {
          "size": 20
         },
         "title": {
          "text": "Density"
         }
        },
        "yaxis2": {
         "anchor": "x2",
         "domain": [
          0.8416,
          1
         ],
         "matches": "y2",
         "showgrid": false,
         "showline": false,
         "showticklabels": false,
         "ticks": ""
        }
       }
      }
     },
     "metadata": {},
     "output_type": "display_data"
    }
   ],
   "source": [
    "import plotly.express as px\n",
    "\n",
    "select_col = ['FFMC', 'DMC', 'DC', 'ISI', 'temp', 'RH', 'wind', 'rain','area']\n",
    "\n",
    "for i in select_col:\n",
    "    fig = px.histogram(\n",
    "        df,\n",
    "        x=i,\n",
    "        histnorm = 'density',  # Set histnorm to 'density' for KDE\n",
    "        nbins=100,  # Set number of bins for the histogram\n",
    "        marginal = 'box'\n",
    "    )\n",
    "    fig.update_traces(\n",
    "        opacity=1,  # Set opacity for the histogram bars\n",
    "    )\n",
    "\n",
    "    fig.update_layout(\n",
    "        title=f'{i}',\n",
    "        xaxis_title=i,\n",
    "        yaxis_title = 'Density',\n",
    "        width=1000,\n",
    "        height=600,\n",
    "        xaxis_tickfont = dict(size = 20),\n",
    "        yaxis_tickfont = dict(size = 20)\n",
    "    )\n",
    "    fig.update_layout(\n",
    "        title = {\n",
    "        'font': {'size': 40, 'family': 'Gulliver'},\n",
    "        'x': 0.5\n",
    "        }\n",
    "    )\n",
    "    fig.show()\n",
    "    fig.write_image(f\"{i}.png\")\n"
   ]
  },
  {
   "cell_type": "code",
   "execution_count": 75,
   "metadata": {},
   "outputs": [
    {
     "data": {
      "text/html": [
       "<div>\n",
       "<style scoped>\n",
       "    .dataframe tbody tr th:only-of-type {\n",
       "        vertical-align: middle;\n",
       "    }\n",
       "\n",
       "    .dataframe tbody tr th {\n",
       "        vertical-align: top;\n",
       "    }\n",
       "\n",
       "    .dataframe thead th {\n",
       "        text-align: right;\n",
       "    }\n",
       "</style>\n",
       "<table border=\"1\" class=\"dataframe\">\n",
       "  <thead>\n",
       "    <tr style=\"text-align: right;\">\n",
       "      <th></th>\n",
       "      <th>rain</th>\n",
       "      <th>area</th>\n",
       "    </tr>\n",
       "  </thead>\n",
       "  <tbody>\n",
       "    <tr>\n",
       "      <th>3</th>\n",
       "      <td>0.2</td>\n",
       "      <td>0.00</td>\n",
       "    </tr>\n",
       "    <tr>\n",
       "      <th>243</th>\n",
       "      <td>1.0</td>\n",
       "      <td>0.00</td>\n",
       "    </tr>\n",
       "    <tr>\n",
       "      <th>286</th>\n",
       "      <td>0.2</td>\n",
       "      <td>0.00</td>\n",
       "    </tr>\n",
       "    <tr>\n",
       "      <th>499</th>\n",
       "      <td>6.4</td>\n",
       "      <td>10.82</td>\n",
       "    </tr>\n",
       "    <tr>\n",
       "      <th>500</th>\n",
       "      <td>0.8</td>\n",
       "      <td>0.00</td>\n",
       "    </tr>\n",
       "    <tr>\n",
       "      <th>501</th>\n",
       "      <td>0.8</td>\n",
       "      <td>0.00</td>\n",
       "    </tr>\n",
       "    <tr>\n",
       "      <th>502</th>\n",
       "      <td>0.4</td>\n",
       "      <td>0.00</td>\n",
       "    </tr>\n",
       "    <tr>\n",
       "      <th>509</th>\n",
       "      <td>1.4</td>\n",
       "      <td>2.17</td>\n",
       "    </tr>\n",
       "  </tbody>\n",
       "</table>\n",
       "</div>"
      ],
      "text/plain": [
       "     rain   area\n",
       "3     0.2   0.00\n",
       "243   1.0   0.00\n",
       "286   0.2   0.00\n",
       "499   6.4  10.82\n",
       "500   0.8   0.00\n",
       "501   0.8   0.00\n",
       "502   0.4   0.00\n",
       "509   1.4   2.17"
      ]
     },
     "execution_count": 75,
     "metadata": {},
     "output_type": "execute_result"
    }
   ],
   "source": [
    "rain_V_area = df[['rain', 'area']]\n",
    "result_rain = rain_V_area[rain_V_area['rain'] != 0]\n",
    "result_rain\n"
   ]
  },
  {
   "cell_type": "code",
   "execution_count": 77,
   "metadata": {},
   "outputs": [
    {
     "data": {
      "text/html": [
       "<div>\n",
       "<style scoped>\n",
       "    .dataframe tbody tr th:only-of-type {\n",
       "        vertical-align: middle;\n",
       "    }\n",
       "\n",
       "    .dataframe tbody tr th {\n",
       "        vertical-align: top;\n",
       "    }\n",
       "\n",
       "    .dataframe thead th {\n",
       "        text-align: right;\n",
       "    }\n",
       "</style>\n",
       "<table border=\"1\" class=\"dataframe\">\n",
       "  <thead>\n",
       "    <tr style=\"text-align: right;\">\n",
       "      <th></th>\n",
       "      <th>rain</th>\n",
       "      <th>area</th>\n",
       "    </tr>\n",
       "  </thead>\n",
       "  <tbody>\n",
       "    <tr>\n",
       "      <th>138</th>\n",
       "      <td>0.0</td>\n",
       "      <td>0.36</td>\n",
       "    </tr>\n",
       "    <tr>\n",
       "      <th>139</th>\n",
       "      <td>0.0</td>\n",
       "      <td>0.43</td>\n",
       "    </tr>\n",
       "    <tr>\n",
       "      <th>140</th>\n",
       "      <td>0.0</td>\n",
       "      <td>0.47</td>\n",
       "    </tr>\n",
       "    <tr>\n",
       "      <th>141</th>\n",
       "      <td>0.0</td>\n",
       "      <td>0.55</td>\n",
       "    </tr>\n",
       "    <tr>\n",
       "      <th>142</th>\n",
       "      <td>0.0</td>\n",
       "      <td>0.61</td>\n",
       "    </tr>\n",
       "    <tr>\n",
       "      <th>143</th>\n",
       "      <td>0.0</td>\n",
       "      <td>0.71</td>\n",
       "    </tr>\n",
       "    <tr>\n",
       "      <th>144</th>\n",
       "      <td>0.0</td>\n",
       "      <td>0.77</td>\n",
       "    </tr>\n",
       "    <tr>\n",
       "      <th>145</th>\n",
       "      <td>0.0</td>\n",
       "      <td>0.90</td>\n",
       "    </tr>\n",
       "    <tr>\n",
       "      <th>146</th>\n",
       "      <td>0.0</td>\n",
       "      <td>0.95</td>\n",
       "    </tr>\n",
       "    <tr>\n",
       "      <th>147</th>\n",
       "      <td>0.0</td>\n",
       "      <td>0.96</td>\n",
       "    </tr>\n",
       "    <tr>\n",
       "      <th>148</th>\n",
       "      <td>0.0</td>\n",
       "      <td>1.07</td>\n",
       "    </tr>\n",
       "    <tr>\n",
       "      <th>149</th>\n",
       "      <td>0.0</td>\n",
       "      <td>1.12</td>\n",
       "    </tr>\n",
       "    <tr>\n",
       "      <th>150</th>\n",
       "      <td>0.0</td>\n",
       "      <td>1.19</td>\n",
       "    </tr>\n",
       "    <tr>\n",
       "      <th>151</th>\n",
       "      <td>0.0</td>\n",
       "      <td>1.36</td>\n",
       "    </tr>\n",
       "    <tr>\n",
       "      <th>152</th>\n",
       "      <td>0.0</td>\n",
       "      <td>1.43</td>\n",
       "    </tr>\n",
       "    <tr>\n",
       "      <th>153</th>\n",
       "      <td>0.0</td>\n",
       "      <td>1.46</td>\n",
       "    </tr>\n",
       "    <tr>\n",
       "      <th>154</th>\n",
       "      <td>0.0</td>\n",
       "      <td>1.46</td>\n",
       "    </tr>\n",
       "    <tr>\n",
       "      <th>155</th>\n",
       "      <td>0.0</td>\n",
       "      <td>1.56</td>\n",
       "    </tr>\n",
       "    <tr>\n",
       "      <th>156</th>\n",
       "      <td>0.0</td>\n",
       "      <td>1.61</td>\n",
       "    </tr>\n",
       "    <tr>\n",
       "      <th>157</th>\n",
       "      <td>0.0</td>\n",
       "      <td>1.63</td>\n",
       "    </tr>\n",
       "    <tr>\n",
       "      <th>158</th>\n",
       "      <td>0.0</td>\n",
       "      <td>1.64</td>\n",
       "    </tr>\n",
       "    <tr>\n",
       "      <th>159</th>\n",
       "      <td>0.0</td>\n",
       "      <td>1.69</td>\n",
       "    </tr>\n",
       "    <tr>\n",
       "      <th>160</th>\n",
       "      <td>0.0</td>\n",
       "      <td>1.75</td>\n",
       "    </tr>\n",
       "    <tr>\n",
       "      <th>161</th>\n",
       "      <td>0.0</td>\n",
       "      <td>1.90</td>\n",
       "    </tr>\n",
       "    <tr>\n",
       "      <th>162</th>\n",
       "      <td>0.0</td>\n",
       "      <td>1.94</td>\n",
       "    </tr>\n",
       "    <tr>\n",
       "      <th>163</th>\n",
       "      <td>0.0</td>\n",
       "      <td>1.95</td>\n",
       "    </tr>\n",
       "    <tr>\n",
       "      <th>164</th>\n",
       "      <td>0.0</td>\n",
       "      <td>2.01</td>\n",
       "    </tr>\n",
       "    <tr>\n",
       "      <th>165</th>\n",
       "      <td>0.0</td>\n",
       "      <td>2.14</td>\n",
       "    </tr>\n",
       "    <tr>\n",
       "      <th>166</th>\n",
       "      <td>0.0</td>\n",
       "      <td>2.29</td>\n",
       "    </tr>\n",
       "    <tr>\n",
       "      <th>167</th>\n",
       "      <td>0.0</td>\n",
       "      <td>2.51</td>\n",
       "    </tr>\n",
       "    <tr>\n",
       "      <th>168</th>\n",
       "      <td>0.0</td>\n",
       "      <td>2.53</td>\n",
       "    </tr>\n",
       "    <tr>\n",
       "      <th>169</th>\n",
       "      <td>0.0</td>\n",
       "      <td>2.55</td>\n",
       "    </tr>\n",
       "    <tr>\n",
       "      <th>170</th>\n",
       "      <td>0.0</td>\n",
       "      <td>2.57</td>\n",
       "    </tr>\n",
       "    <tr>\n",
       "      <th>171</th>\n",
       "      <td>0.0</td>\n",
       "      <td>2.69</td>\n",
       "    </tr>\n",
       "    <tr>\n",
       "      <th>172</th>\n",
       "      <td>0.0</td>\n",
       "      <td>2.74</td>\n",
       "    </tr>\n",
       "    <tr>\n",
       "      <th>173</th>\n",
       "      <td>0.0</td>\n",
       "      <td>3.07</td>\n",
       "    </tr>\n",
       "    <tr>\n",
       "      <th>174</th>\n",
       "      <td>0.0</td>\n",
       "      <td>3.50</td>\n",
       "    </tr>\n",
       "    <tr>\n",
       "      <th>175</th>\n",
       "      <td>0.0</td>\n",
       "      <td>4.53</td>\n",
       "    </tr>\n",
       "    <tr>\n",
       "      <th>176</th>\n",
       "      <td>0.0</td>\n",
       "      <td>4.61</td>\n",
       "    </tr>\n",
       "    <tr>\n",
       "      <th>177</th>\n",
       "      <td>0.0</td>\n",
       "      <td>4.69</td>\n",
       "    </tr>\n",
       "    <tr>\n",
       "      <th>178</th>\n",
       "      <td>0.0</td>\n",
       "      <td>4.88</td>\n",
       "    </tr>\n",
       "    <tr>\n",
       "      <th>179</th>\n",
       "      <td>0.0</td>\n",
       "      <td>5.23</td>\n",
       "    </tr>\n",
       "    <tr>\n",
       "      <th>180</th>\n",
       "      <td>0.0</td>\n",
       "      <td>5.33</td>\n",
       "    </tr>\n",
       "    <tr>\n",
       "      <th>181</th>\n",
       "      <td>0.0</td>\n",
       "      <td>5.44</td>\n",
       "    </tr>\n",
       "    <tr>\n",
       "      <th>182</th>\n",
       "      <td>0.0</td>\n",
       "      <td>6.38</td>\n",
       "    </tr>\n",
       "    <tr>\n",
       "      <th>183</th>\n",
       "      <td>0.0</td>\n",
       "      <td>6.83</td>\n",
       "    </tr>\n",
       "    <tr>\n",
       "      <th>184</th>\n",
       "      <td>0.0</td>\n",
       "      <td>6.96</td>\n",
       "    </tr>\n",
       "    <tr>\n",
       "      <th>185</th>\n",
       "      <td>0.0</td>\n",
       "      <td>7.04</td>\n",
       "    </tr>\n",
       "    <tr>\n",
       "      <th>186</th>\n",
       "      <td>0.0</td>\n",
       "      <td>7.19</td>\n",
       "    </tr>\n",
       "    <tr>\n",
       "      <th>187</th>\n",
       "      <td>0.0</td>\n",
       "      <td>7.30</td>\n",
       "    </tr>\n",
       "  </tbody>\n",
       "</table>\n",
       "</div>"
      ],
      "text/plain": [
       "     rain  area\n",
       "138   0.0  0.36\n",
       "139   0.0  0.43\n",
       "140   0.0  0.47\n",
       "141   0.0  0.55\n",
       "142   0.0  0.61\n",
       "143   0.0  0.71\n",
       "144   0.0  0.77\n",
       "145   0.0  0.90\n",
       "146   0.0  0.95\n",
       "147   0.0  0.96\n",
       "148   0.0  1.07\n",
       "149   0.0  1.12\n",
       "150   0.0  1.19\n",
       "151   0.0  1.36\n",
       "152   0.0  1.43\n",
       "153   0.0  1.46\n",
       "154   0.0  1.46\n",
       "155   0.0  1.56\n",
       "156   0.0  1.61\n",
       "157   0.0  1.63\n",
       "158   0.0  1.64\n",
       "159   0.0  1.69\n",
       "160   0.0  1.75\n",
       "161   0.0  1.90\n",
       "162   0.0  1.94\n",
       "163   0.0  1.95\n",
       "164   0.0  2.01\n",
       "165   0.0  2.14\n",
       "166   0.0  2.29\n",
       "167   0.0  2.51\n",
       "168   0.0  2.53\n",
       "169   0.0  2.55\n",
       "170   0.0  2.57\n",
       "171   0.0  2.69\n",
       "172   0.0  2.74\n",
       "173   0.0  3.07\n",
       "174   0.0  3.50\n",
       "175   0.0  4.53\n",
       "176   0.0  4.61\n",
       "177   0.0  4.69\n",
       "178   0.0  4.88\n",
       "179   0.0  5.23\n",
       "180   0.0  5.33\n",
       "181   0.0  5.44\n",
       "182   0.0  6.38\n",
       "183   0.0  6.83\n",
       "184   0.0  6.96\n",
       "185   0.0  7.04\n",
       "186   0.0  7.19\n",
       "187   0.0  7.30"
      ]
     },
     "execution_count": 77,
     "metadata": {},
     "output_type": "execute_result"
    }
   ],
   "source": [
    "rain_V_area = df[['rain', 'area']]\n",
    "result_rain = rain_V_area[rain_V_area['area'] != 0]\n",
    "result_rain.head(50)"
   ]
  },
  {
   "cell_type": "code",
   "execution_count": 54,
   "metadata": {},
   "outputs": [
    {
     "data": {
      "text/html": [
       "<div>\n",
       "<style scoped>\n",
       "    .dataframe tbody tr th:only-of-type {\n",
       "        vertical-align: middle;\n",
       "    }\n",
       "\n",
       "    .dataframe tbody tr th {\n",
       "        vertical-align: top;\n",
       "    }\n",
       "\n",
       "    .dataframe thead th {\n",
       "        text-align: right;\n",
       "    }\n",
       "</style>\n",
       "<table border=\"1\" class=\"dataframe\">\n",
       "  <thead>\n",
       "    <tr style=\"text-align: right;\">\n",
       "      <th></th>\n",
       "      <th>X</th>\n",
       "      <th>Y</th>\n",
       "      <th>month</th>\n",
       "      <th>day</th>\n",
       "      <th>FFMC</th>\n",
       "      <th>DMC</th>\n",
       "      <th>DC</th>\n",
       "      <th>ISI</th>\n",
       "      <th>temp</th>\n",
       "      <th>RH</th>\n",
       "      <th>wind</th>\n",
       "      <th>rain</th>\n",
       "      <th>area</th>\n",
       "    </tr>\n",
       "  </thead>\n",
       "  <tbody>\n",
       "    <tr>\n",
       "      <th>234</th>\n",
       "      <td>4</td>\n",
       "      <td>5</td>\n",
       "      <td>sep</td>\n",
       "      <td>sat</td>\n",
       "      <td>92.5</td>\n",
       "      <td>121.1</td>\n",
       "      <td>674.4</td>\n",
       "      <td>8.6</td>\n",
       "      <td>17.7</td>\n",
       "      <td>25</td>\n",
       "      <td>3.1</td>\n",
       "      <td>0.0</td>\n",
       "      <td>154.88</td>\n",
       "    </tr>\n",
       "    <tr>\n",
       "      <th>235</th>\n",
       "      <td>8</td>\n",
       "      <td>6</td>\n",
       "      <td>aug</td>\n",
       "      <td>sun</td>\n",
       "      <td>91.4</td>\n",
       "      <td>142.4</td>\n",
       "      <td>601.4</td>\n",
       "      <td>10.6</td>\n",
       "      <td>19.6</td>\n",
       "      <td>41</td>\n",
       "      <td>5.8</td>\n",
       "      <td>0.0</td>\n",
       "      <td>196.48</td>\n",
       "    </tr>\n",
       "    <tr>\n",
       "      <th>236</th>\n",
       "      <td>2</td>\n",
       "      <td>2</td>\n",
       "      <td>sep</td>\n",
       "      <td>sat</td>\n",
       "      <td>92.5</td>\n",
       "      <td>121.1</td>\n",
       "      <td>674.4</td>\n",
       "      <td>8.6</td>\n",
       "      <td>18.2</td>\n",
       "      <td>46</td>\n",
       "      <td>1.8</td>\n",
       "      <td>0.0</td>\n",
       "      <td>200.94</td>\n",
       "    </tr>\n",
       "    <tr>\n",
       "      <th>237</th>\n",
       "      <td>1</td>\n",
       "      <td>2</td>\n",
       "      <td>sep</td>\n",
       "      <td>tue</td>\n",
       "      <td>91.0</td>\n",
       "      <td>129.5</td>\n",
       "      <td>692.6</td>\n",
       "      <td>7.0</td>\n",
       "      <td>18.8</td>\n",
       "      <td>40</td>\n",
       "      <td>2.2</td>\n",
       "      <td>0.0</td>\n",
       "      <td>212.88</td>\n",
       "    </tr>\n",
       "    <tr>\n",
       "      <th>238</th>\n",
       "      <td>6</td>\n",
       "      <td>5</td>\n",
       "      <td>sep</td>\n",
       "      <td>sat</td>\n",
       "      <td>92.5</td>\n",
       "      <td>121.1</td>\n",
       "      <td>674.4</td>\n",
       "      <td>8.6</td>\n",
       "      <td>25.1</td>\n",
       "      <td>27</td>\n",
       "      <td>4.0</td>\n",
       "      <td>0.0</td>\n",
       "      <td>1090.84</td>\n",
       "    </tr>\n",
       "    <tr>\n",
       "      <th>377</th>\n",
       "      <td>2</td>\n",
       "      <td>2</td>\n",
       "      <td>aug</td>\n",
       "      <td>sat</td>\n",
       "      <td>93.7</td>\n",
       "      <td>231.1</td>\n",
       "      <td>715.1</td>\n",
       "      <td>8.4</td>\n",
       "      <td>21.9</td>\n",
       "      <td>42</td>\n",
       "      <td>2.2</td>\n",
       "      <td>0.0</td>\n",
       "      <td>174.63</td>\n",
       "    </tr>\n",
       "    <tr>\n",
       "      <th>415</th>\n",
       "      <td>8</td>\n",
       "      <td>6</td>\n",
       "      <td>aug</td>\n",
       "      <td>thu</td>\n",
       "      <td>94.8</td>\n",
       "      <td>222.4</td>\n",
       "      <td>698.6</td>\n",
       "      <td>13.9</td>\n",
       "      <td>27.5</td>\n",
       "      <td>27</td>\n",
       "      <td>4.9</td>\n",
       "      <td>0.0</td>\n",
       "      <td>746.28</td>\n",
       "    </tr>\n",
       "    <tr>\n",
       "      <th>420</th>\n",
       "      <td>8</td>\n",
       "      <td>8</td>\n",
       "      <td>aug</td>\n",
       "      <td>wed</td>\n",
       "      <td>91.7</td>\n",
       "      <td>191.4</td>\n",
       "      <td>635.9</td>\n",
       "      <td>7.8</td>\n",
       "      <td>26.2</td>\n",
       "      <td>36</td>\n",
       "      <td>4.5</td>\n",
       "      <td>0.0</td>\n",
       "      <td>185.76</td>\n",
       "    </tr>\n",
       "    <tr>\n",
       "      <th>479</th>\n",
       "      <td>7</td>\n",
       "      <td>4</td>\n",
       "      <td>jul</td>\n",
       "      <td>mon</td>\n",
       "      <td>89.2</td>\n",
       "      <td>103.9</td>\n",
       "      <td>431.6</td>\n",
       "      <td>6.4</td>\n",
       "      <td>22.6</td>\n",
       "      <td>57</td>\n",
       "      <td>4.9</td>\n",
       "      <td>0.0</td>\n",
       "      <td>278.53</td>\n",
       "    </tr>\n",
       "  </tbody>\n",
       "</table>\n",
       "</div>"
      ],
      "text/plain": [
       "     X  Y month  day  FFMC    DMC     DC   ISI  temp  RH  wind  rain     area\n",
       "234  4  5   sep  sat  92.5  121.1  674.4   8.6  17.7  25   3.1   0.0   154.88\n",
       "235  8  6   aug  sun  91.4  142.4  601.4  10.6  19.6  41   5.8   0.0   196.48\n",
       "236  2  2   sep  sat  92.5  121.1  674.4   8.6  18.2  46   1.8   0.0   200.94\n",
       "237  1  2   sep  tue  91.0  129.5  692.6   7.0  18.8  40   2.2   0.0   212.88\n",
       "238  6  5   sep  sat  92.5  121.1  674.4   8.6  25.1  27   4.0   0.0  1090.84\n",
       "377  2  2   aug  sat  93.7  231.1  715.1   8.4  21.9  42   2.2   0.0   174.63\n",
       "415  8  6   aug  thu  94.8  222.4  698.6  13.9  27.5  27   4.9   0.0   746.28\n",
       "420  8  8   aug  wed  91.7  191.4  635.9   7.8  26.2  36   4.5   0.0   185.76\n",
       "479  7  4   jul  mon  89.2  103.9  431.6   6.4  22.6  57   4.9   0.0   278.53"
      ]
     },
     "execution_count": 54,
     "metadata": {},
     "output_type": "execute_result"
    }
   ],
   "source": [
    "from scipy.stats import zscore\n",
    "\n",
    "area_outliers = df[abs(zscore(np.log(df['area']+1))) >= 2.58]\n",
    "\n",
    "area_outliers"
   ]
  },
  {
   "cell_type": "code",
   "execution_count": 17,
   "metadata": {},
   "outputs": [
    {
     "data": {
      "text/html": [
       "<div>\n",
       "<style scoped>\n",
       "    .dataframe tbody tr th:only-of-type {\n",
       "        vertical-align: middle;\n",
       "    }\n",
       "\n",
       "    .dataframe tbody tr th {\n",
       "        vertical-align: top;\n",
       "    }\n",
       "\n",
       "    .dataframe thead th {\n",
       "        text-align: right;\n",
       "    }\n",
       "</style>\n",
       "<table border=\"1\" class=\"dataframe\">\n",
       "  <thead>\n",
       "    <tr style=\"text-align: right;\">\n",
       "      <th></th>\n",
       "      <th>X</th>\n",
       "      <th>Y</th>\n",
       "      <th>month</th>\n",
       "      <th>day</th>\n",
       "      <th>FFMC</th>\n",
       "      <th>DMC</th>\n",
       "      <th>DC</th>\n",
       "      <th>ISI</th>\n",
       "      <th>temp</th>\n",
       "      <th>RH</th>\n",
       "      <th>wind</th>\n",
       "      <th>rain</th>\n",
       "      <th>area</th>\n",
       "      <th>damage_category</th>\n",
       "    </tr>\n",
       "  </thead>\n",
       "  <tbody>\n",
       "    <tr>\n",
       "      <th>0</th>\n",
       "      <td>7</td>\n",
       "      <td>5</td>\n",
       "      <td>mar</td>\n",
       "      <td>fri</td>\n",
       "      <td>86.2</td>\n",
       "      <td>26.2</td>\n",
       "      <td>94.3</td>\n",
       "      <td>5.1</td>\n",
       "      <td>8.2</td>\n",
       "      <td>51</td>\n",
       "      <td>6.7</td>\n",
       "      <td>0.0</td>\n",
       "      <td>0.0</td>\n",
       "      <td>No damage</td>\n",
       "    </tr>\n",
       "    <tr>\n",
       "      <th>1</th>\n",
       "      <td>7</td>\n",
       "      <td>4</td>\n",
       "      <td>oct</td>\n",
       "      <td>tue</td>\n",
       "      <td>90.6</td>\n",
       "      <td>35.4</td>\n",
       "      <td>669.1</td>\n",
       "      <td>6.7</td>\n",
       "      <td>18.0</td>\n",
       "      <td>33</td>\n",
       "      <td>0.9</td>\n",
       "      <td>0.0</td>\n",
       "      <td>0.0</td>\n",
       "      <td>No damage</td>\n",
       "    </tr>\n",
       "    <tr>\n",
       "      <th>2</th>\n",
       "      <td>7</td>\n",
       "      <td>4</td>\n",
       "      <td>oct</td>\n",
       "      <td>sat</td>\n",
       "      <td>90.6</td>\n",
       "      <td>43.7</td>\n",
       "      <td>686.9</td>\n",
       "      <td>6.7</td>\n",
       "      <td>14.6</td>\n",
       "      <td>33</td>\n",
       "      <td>1.3</td>\n",
       "      <td>0.0</td>\n",
       "      <td>0.0</td>\n",
       "      <td>No damage</td>\n",
       "    </tr>\n",
       "    <tr>\n",
       "      <th>3</th>\n",
       "      <td>8</td>\n",
       "      <td>6</td>\n",
       "      <td>mar</td>\n",
       "      <td>fri</td>\n",
       "      <td>91.7</td>\n",
       "      <td>33.3</td>\n",
       "      <td>77.5</td>\n",
       "      <td>9.0</td>\n",
       "      <td>8.3</td>\n",
       "      <td>97</td>\n",
       "      <td>4.0</td>\n",
       "      <td>0.2</td>\n",
       "      <td>0.0</td>\n",
       "      <td>No damage</td>\n",
       "    </tr>\n",
       "    <tr>\n",
       "      <th>4</th>\n",
       "      <td>8</td>\n",
       "      <td>6</td>\n",
       "      <td>mar</td>\n",
       "      <td>sun</td>\n",
       "      <td>89.3</td>\n",
       "      <td>51.3</td>\n",
       "      <td>102.2</td>\n",
       "      <td>9.6</td>\n",
       "      <td>11.4</td>\n",
       "      <td>99</td>\n",
       "      <td>1.8</td>\n",
       "      <td>0.0</td>\n",
       "      <td>0.0</td>\n",
       "      <td>No damage</td>\n",
       "    </tr>\n",
       "  </tbody>\n",
       "</table>\n",
       "</div>"
      ],
      "text/plain": [
       "   X  Y month  day  FFMC   DMC     DC  ISI  temp  RH  wind  rain  area  \\\n",
       "0  7  5   mar  fri  86.2  26.2   94.3  5.1   8.2  51   6.7   0.0   0.0   \n",
       "1  7  4   oct  tue  90.6  35.4  669.1  6.7  18.0  33   0.9   0.0   0.0   \n",
       "2  7  4   oct  sat  90.6  43.7  686.9  6.7  14.6  33   1.3   0.0   0.0   \n",
       "3  8  6   mar  fri  91.7  33.3   77.5  9.0   8.3  97   4.0   0.2   0.0   \n",
       "4  8  6   mar  sun  89.3  51.3  102.2  9.6  11.4  99   1.8   0.0   0.0   \n",
       "\n",
       "  damage_category  \n",
       "0       No damage  \n",
       "1       No damage  \n",
       "2       No damage  \n",
       "3       No damage  \n",
       "4       No damage  "
      ]
     },
     "execution_count": 17,
     "metadata": {},
     "output_type": "execute_result"
    }
   ],
   "source": [
    "def area_cat(area):\n",
    "    if area == 0.0:\n",
    "        return \"No damage\"\n",
    "    elif area <= 1:\n",
    "        return \"low\"\n",
    "    elif area <= 25:\n",
    "        return \"moderate\"\n",
    "    elif area <= 100:\n",
    "        return \"high\"\n",
    "    elif area >= 100:\n",
    "        return \"very high\"\n",
    "\n",
    "df['damage_category'] = df['area'].apply(area_cat)\n",
    "df.head()"
   ]
  },
  {
   "cell_type": "code",
   "execution_count": 18,
   "metadata": {},
   "outputs": [
    {
     "data": {
      "text/html": [
       "<div>\n",
       "<style scoped>\n",
       "    .dataframe tbody tr th:only-of-type {\n",
       "        vertical-align: middle;\n",
       "    }\n",
       "\n",
       "    .dataframe tbody tr th {\n",
       "        vertical-align: top;\n",
       "    }\n",
       "\n",
       "    .dataframe thead th {\n",
       "        text-align: right;\n",
       "    }\n",
       "</style>\n",
       "<table border=\"1\" class=\"dataframe\">\n",
       "  <thead>\n",
       "    <tr style=\"text-align: right;\">\n",
       "      <th></th>\n",
       "      <th>X</th>\n",
       "      <th>Y</th>\n",
       "      <th>month</th>\n",
       "      <th>day</th>\n",
       "      <th>FFMC</th>\n",
       "      <th>DMC</th>\n",
       "      <th>DC</th>\n",
       "      <th>ISI</th>\n",
       "      <th>temp</th>\n",
       "      <th>RH</th>\n",
       "      <th>wind</th>\n",
       "      <th>rain</th>\n",
       "      <th>area</th>\n",
       "      <th>damage_category</th>\n",
       "    </tr>\n",
       "  </thead>\n",
       "  <tbody>\n",
       "    <tr>\n",
       "      <th>469</th>\n",
       "      <td>6</td>\n",
       "      <td>3</td>\n",
       "      <td>apr</td>\n",
       "      <td>sun</td>\n",
       "      <td>91.0</td>\n",
       "      <td>14.6</td>\n",
       "      <td>25.6</td>\n",
       "      <td>12.3</td>\n",
       "      <td>13.7</td>\n",
       "      <td>33</td>\n",
       "      <td>9.4</td>\n",
       "      <td>0.0</td>\n",
       "      <td>61.13</td>\n",
       "      <td>high</td>\n",
       "    </tr>\n",
       "    <tr>\n",
       "      <th>211</th>\n",
       "      <td>7</td>\n",
       "      <td>4</td>\n",
       "      <td>aug</td>\n",
       "      <td>sat</td>\n",
       "      <td>93.5</td>\n",
       "      <td>139.4</td>\n",
       "      <td>594.2</td>\n",
       "      <td>20.3</td>\n",
       "      <td>5.1</td>\n",
       "      <td>96</td>\n",
       "      <td>5.8</td>\n",
       "      <td>0.0</td>\n",
       "      <td>26.00</td>\n",
       "      <td>high</td>\n",
       "    </tr>\n",
       "    <tr>\n",
       "      <th>498</th>\n",
       "      <td>6</td>\n",
       "      <td>5</td>\n",
       "      <td>aug</td>\n",
       "      <td>tue</td>\n",
       "      <td>96.1</td>\n",
       "      <td>181.1</td>\n",
       "      <td>671.2</td>\n",
       "      <td>14.3</td>\n",
       "      <td>33.3</td>\n",
       "      <td>26</td>\n",
       "      <td>2.7</td>\n",
       "      <td>0.0</td>\n",
       "      <td>40.54</td>\n",
       "      <td>high</td>\n",
       "    </tr>\n",
       "    <tr>\n",
       "      <th>493</th>\n",
       "      <td>1</td>\n",
       "      <td>3</td>\n",
       "      <td>aug</td>\n",
       "      <td>fri</td>\n",
       "      <td>95.9</td>\n",
       "      <td>158.0</td>\n",
       "      <td>633.6</td>\n",
       "      <td>11.3</td>\n",
       "      <td>27.5</td>\n",
       "      <td>29</td>\n",
       "      <td>4.5</td>\n",
       "      <td>0.0</td>\n",
       "      <td>43.32</td>\n",
       "      <td>high</td>\n",
       "    </tr>\n",
       "    <tr>\n",
       "      <th>488</th>\n",
       "      <td>4</td>\n",
       "      <td>4</td>\n",
       "      <td>aug</td>\n",
       "      <td>tue</td>\n",
       "      <td>95.1</td>\n",
       "      <td>141.3</td>\n",
       "      <td>605.8</td>\n",
       "      <td>17.7</td>\n",
       "      <td>19.4</td>\n",
       "      <td>71</td>\n",
       "      <td>7.6</td>\n",
       "      <td>0.0</td>\n",
       "      <td>46.70</td>\n",
       "      <td>high</td>\n",
       "    </tr>\n",
       "    <tr>\n",
       "      <th>484</th>\n",
       "      <td>2</td>\n",
       "      <td>5</td>\n",
       "      <td>aug</td>\n",
       "      <td>sun</td>\n",
       "      <td>94.9</td>\n",
       "      <td>130.3</td>\n",
       "      <td>587.1</td>\n",
       "      <td>14.1</td>\n",
       "      <td>33.1</td>\n",
       "      <td>25</td>\n",
       "      <td>4.0</td>\n",
       "      <td>0.0</td>\n",
       "      <td>26.43</td>\n",
       "      <td>high</td>\n",
       "    </tr>\n",
       "    <tr>\n",
       "      <th>457</th>\n",
       "      <td>1</td>\n",
       "      <td>4</td>\n",
       "      <td>aug</td>\n",
       "      <td>wed</td>\n",
       "      <td>91.7</td>\n",
       "      <td>191.4</td>\n",
       "      <td>635.9</td>\n",
       "      <td>7.8</td>\n",
       "      <td>19.9</td>\n",
       "      <td>50</td>\n",
       "      <td>4.0</td>\n",
       "      <td>0.0</td>\n",
       "      <td>82.75</td>\n",
       "      <td>high</td>\n",
       "    </tr>\n",
       "    <tr>\n",
       "      <th>420</th>\n",
       "      <td>8</td>\n",
       "      <td>8</td>\n",
       "      <td>aug</td>\n",
       "      <td>wed</td>\n",
       "      <td>91.7</td>\n",
       "      <td>191.4</td>\n",
       "      <td>635.9</td>\n",
       "      <td>7.8</td>\n",
       "      <td>26.2</td>\n",
       "      <td>36</td>\n",
       "      <td>4.5</td>\n",
       "      <td>0.0</td>\n",
       "      <td>185.76</td>\n",
       "      <td>very high</td>\n",
       "    </tr>\n",
       "    <tr>\n",
       "      <th>415</th>\n",
       "      <td>8</td>\n",
       "      <td>6</td>\n",
       "      <td>aug</td>\n",
       "      <td>thu</td>\n",
       "      <td>94.8</td>\n",
       "      <td>222.4</td>\n",
       "      <td>698.6</td>\n",
       "      <td>13.9</td>\n",
       "      <td>27.5</td>\n",
       "      <td>27</td>\n",
       "      <td>4.9</td>\n",
       "      <td>0.0</td>\n",
       "      <td>746.28</td>\n",
       "      <td>very high</td>\n",
       "    </tr>\n",
       "    <tr>\n",
       "      <th>388</th>\n",
       "      <td>6</td>\n",
       "      <td>4</td>\n",
       "      <td>aug</td>\n",
       "      <td>fri</td>\n",
       "      <td>94.8</td>\n",
       "      <td>227.0</td>\n",
       "      <td>706.7</td>\n",
       "      <td>12.0</td>\n",
       "      <td>23.3</td>\n",
       "      <td>34</td>\n",
       "      <td>3.1</td>\n",
       "      <td>0.0</td>\n",
       "      <td>28.74</td>\n",
       "      <td>high</td>\n",
       "    </tr>\n",
       "    <tr>\n",
       "      <th>383</th>\n",
       "      <td>9</td>\n",
       "      <td>6</td>\n",
       "      <td>aug</td>\n",
       "      <td>thu</td>\n",
       "      <td>91.6</td>\n",
       "      <td>248.4</td>\n",
       "      <td>753.8</td>\n",
       "      <td>6.3</td>\n",
       "      <td>20.5</td>\n",
       "      <td>58</td>\n",
       "      <td>2.7</td>\n",
       "      <td>0.0</td>\n",
       "      <td>42.87</td>\n",
       "      <td>high</td>\n",
       "    </tr>\n",
       "    <tr>\n",
       "      <th>377</th>\n",
       "      <td>2</td>\n",
       "      <td>2</td>\n",
       "      <td>aug</td>\n",
       "      <td>sat</td>\n",
       "      <td>93.7</td>\n",
       "      <td>231.1</td>\n",
       "      <td>715.1</td>\n",
       "      <td>8.4</td>\n",
       "      <td>21.9</td>\n",
       "      <td>42</td>\n",
       "      <td>2.2</td>\n",
       "      <td>0.0</td>\n",
       "      <td>174.63</td>\n",
       "      <td>very high</td>\n",
       "    </tr>\n",
       "    <tr>\n",
       "      <th>504</th>\n",
       "      <td>4</td>\n",
       "      <td>3</td>\n",
       "      <td>aug</td>\n",
       "      <td>wed</td>\n",
       "      <td>94.5</td>\n",
       "      <td>139.4</td>\n",
       "      <td>689.1</td>\n",
       "      <td>20.0</td>\n",
       "      <td>28.9</td>\n",
       "      <td>29</td>\n",
       "      <td>4.9</td>\n",
       "      <td>0.0</td>\n",
       "      <td>49.59</td>\n",
       "      <td>high</td>\n",
       "    </tr>\n",
       "    <tr>\n",
       "      <th>235</th>\n",
       "      <td>8</td>\n",
       "      <td>6</td>\n",
       "      <td>aug</td>\n",
       "      <td>sun</td>\n",
       "      <td>91.4</td>\n",
       "      <td>142.4</td>\n",
       "      <td>601.4</td>\n",
       "      <td>10.6</td>\n",
       "      <td>19.6</td>\n",
       "      <td>41</td>\n",
       "      <td>5.8</td>\n",
       "      <td>0.0</td>\n",
       "      <td>196.48</td>\n",
       "      <td>very high</td>\n",
       "    </tr>\n",
       "    <tr>\n",
       "      <th>229</th>\n",
       "      <td>8</td>\n",
       "      <td>6</td>\n",
       "      <td>aug</td>\n",
       "      <td>sat</td>\n",
       "      <td>92.2</td>\n",
       "      <td>81.8</td>\n",
       "      <td>480.8</td>\n",
       "      <td>11.9</td>\n",
       "      <td>16.4</td>\n",
       "      <td>43</td>\n",
       "      <td>4.0</td>\n",
       "      <td>0.0</td>\n",
       "      <td>71.30</td>\n",
       "      <td>high</td>\n",
       "    </tr>\n",
       "    <tr>\n",
       "      <th>227</th>\n",
       "      <td>8</td>\n",
       "      <td>6</td>\n",
       "      <td>aug</td>\n",
       "      <td>sat</td>\n",
       "      <td>92.2</td>\n",
       "      <td>81.8</td>\n",
       "      <td>480.8</td>\n",
       "      <td>11.9</td>\n",
       "      <td>20.1</td>\n",
       "      <td>34</td>\n",
       "      <td>4.5</td>\n",
       "      <td>0.0</td>\n",
       "      <td>58.30</td>\n",
       "      <td>high</td>\n",
       "    </tr>\n",
       "    <tr>\n",
       "      <th>513</th>\n",
       "      <td>2</td>\n",
       "      <td>4</td>\n",
       "      <td>aug</td>\n",
       "      <td>sun</td>\n",
       "      <td>81.6</td>\n",
       "      <td>56.7</td>\n",
       "      <td>665.6</td>\n",
       "      <td>1.9</td>\n",
       "      <td>21.9</td>\n",
       "      <td>71</td>\n",
       "      <td>5.8</td>\n",
       "      <td>0.0</td>\n",
       "      <td>54.29</td>\n",
       "      <td>high</td>\n",
       "    </tr>\n",
       "    <tr>\n",
       "      <th>220</th>\n",
       "      <td>8</td>\n",
       "      <td>6</td>\n",
       "      <td>aug</td>\n",
       "      <td>sun</td>\n",
       "      <td>90.2</td>\n",
       "      <td>99.6</td>\n",
       "      <td>631.2</td>\n",
       "      <td>6.3</td>\n",
       "      <td>16.2</td>\n",
       "      <td>59</td>\n",
       "      <td>3.1</td>\n",
       "      <td>0.0</td>\n",
       "      <td>32.07</td>\n",
       "      <td>high</td>\n",
       "    </tr>\n",
       "    <tr>\n",
       "      <th>395</th>\n",
       "      <td>4</td>\n",
       "      <td>5</td>\n",
       "      <td>feb</td>\n",
       "      <td>sun</td>\n",
       "      <td>85.0</td>\n",
       "      <td>9.0</td>\n",
       "      <td>56.9</td>\n",
       "      <td>3.5</td>\n",
       "      <td>10.1</td>\n",
       "      <td>62</td>\n",
       "      <td>1.8</td>\n",
       "      <td>0.0</td>\n",
       "      <td>51.78</td>\n",
       "      <td>high</td>\n",
       "    </tr>\n",
       "    <tr>\n",
       "      <th>479</th>\n",
       "      <td>7</td>\n",
       "      <td>4</td>\n",
       "      <td>jul</td>\n",
       "      <td>mon</td>\n",
       "      <td>89.2</td>\n",
       "      <td>103.9</td>\n",
       "      <td>431.6</td>\n",
       "      <td>6.4</td>\n",
       "      <td>22.6</td>\n",
       "      <td>57</td>\n",
       "      <td>4.9</td>\n",
       "      <td>0.0</td>\n",
       "      <td>278.53</td>\n",
       "      <td>very high</td>\n",
       "    </tr>\n",
       "    <tr>\n",
       "      <th>223</th>\n",
       "      <td>2</td>\n",
       "      <td>2</td>\n",
       "      <td>jul</td>\n",
       "      <td>fri</td>\n",
       "      <td>88.3</td>\n",
       "      <td>150.3</td>\n",
       "      <td>309.9</td>\n",
       "      <td>6.8</td>\n",
       "      <td>13.4</td>\n",
       "      <td>79</td>\n",
       "      <td>3.6</td>\n",
       "      <td>0.0</td>\n",
       "      <td>37.02</td>\n",
       "      <td>high</td>\n",
       "    </tr>\n",
       "    <tr>\n",
       "      <th>293</th>\n",
       "      <td>7</td>\n",
       "      <td>6</td>\n",
       "      <td>jul</td>\n",
       "      <td>tue</td>\n",
       "      <td>93.1</td>\n",
       "      <td>180.4</td>\n",
       "      <td>430.8</td>\n",
       "      <td>11.0</td>\n",
       "      <td>26.9</td>\n",
       "      <td>28</td>\n",
       "      <td>5.4</td>\n",
       "      <td>0.0</td>\n",
       "      <td>86.45</td>\n",
       "      <td>high</td>\n",
       "    </tr>\n",
       "    <tr>\n",
       "      <th>473</th>\n",
       "      <td>9</td>\n",
       "      <td>4</td>\n",
       "      <td>jun</td>\n",
       "      <td>sat</td>\n",
       "      <td>90.5</td>\n",
       "      <td>61.1</td>\n",
       "      <td>252.6</td>\n",
       "      <td>9.4</td>\n",
       "      <td>24.5</td>\n",
       "      <td>50</td>\n",
       "      <td>3.1</td>\n",
       "      <td>0.0</td>\n",
       "      <td>70.32</td>\n",
       "      <td>high</td>\n",
       "    </tr>\n",
       "    <tr>\n",
       "      <th>222</th>\n",
       "      <td>4</td>\n",
       "      <td>3</td>\n",
       "      <td>mar</td>\n",
       "      <td>mon</td>\n",
       "      <td>87.6</td>\n",
       "      <td>52.2</td>\n",
       "      <td>103.8</td>\n",
       "      <td>5.0</td>\n",
       "      <td>11.0</td>\n",
       "      <td>46</td>\n",
       "      <td>5.8</td>\n",
       "      <td>0.0</td>\n",
       "      <td>36.85</td>\n",
       "      <td>high</td>\n",
       "    </tr>\n",
       "    <tr>\n",
       "      <th>213</th>\n",
       "      <td>7</td>\n",
       "      <td>3</td>\n",
       "      <td>mar</td>\n",
       "      <td>mon</td>\n",
       "      <td>87.6</td>\n",
       "      <td>52.2</td>\n",
       "      <td>103.8</td>\n",
       "      <td>5.0</td>\n",
       "      <td>11.0</td>\n",
       "      <td>46</td>\n",
       "      <td>5.8</td>\n",
       "      <td>0.0</td>\n",
       "      <td>27.35</td>\n",
       "      <td>high</td>\n",
       "    </tr>\n",
       "    <tr>\n",
       "      <th>214</th>\n",
       "      <td>4</td>\n",
       "      <td>4</td>\n",
       "      <td>mar</td>\n",
       "      <td>sat</td>\n",
       "      <td>91.7</td>\n",
       "      <td>35.8</td>\n",
       "      <td>80.8</td>\n",
       "      <td>7.8</td>\n",
       "      <td>17.0</td>\n",
       "      <td>27</td>\n",
       "      <td>4.9</td>\n",
       "      <td>0.0</td>\n",
       "      <td>28.66</td>\n",
       "      <td>high</td>\n",
       "    </tr>\n",
       "    <tr>\n",
       "      <th>215</th>\n",
       "      <td>4</td>\n",
       "      <td>4</td>\n",
       "      <td>mar</td>\n",
       "      <td>sat</td>\n",
       "      <td>91.7</td>\n",
       "      <td>35.8</td>\n",
       "      <td>80.8</td>\n",
       "      <td>7.8</td>\n",
       "      <td>17.0</td>\n",
       "      <td>27</td>\n",
       "      <td>4.9</td>\n",
       "      <td>0.0</td>\n",
       "      <td>28.66</td>\n",
       "      <td>high</td>\n",
       "    </tr>\n",
       "    <tr>\n",
       "      <th>219</th>\n",
       "      <td>6</td>\n",
       "      <td>5</td>\n",
       "      <td>mar</td>\n",
       "      <td>mon</td>\n",
       "      <td>90.1</td>\n",
       "      <td>39.7</td>\n",
       "      <td>86.6</td>\n",
       "      <td>6.2</td>\n",
       "      <td>15.2</td>\n",
       "      <td>27</td>\n",
       "      <td>3.1</td>\n",
       "      <td>0.0</td>\n",
       "      <td>31.86</td>\n",
       "      <td>high</td>\n",
       "    </tr>\n",
       "    <tr>\n",
       "      <th>471</th>\n",
       "      <td>4</td>\n",
       "      <td>3</td>\n",
       "      <td>may</td>\n",
       "      <td>fri</td>\n",
       "      <td>89.6</td>\n",
       "      <td>25.4</td>\n",
       "      <td>73.7</td>\n",
       "      <td>5.7</td>\n",
       "      <td>18.0</td>\n",
       "      <td>40</td>\n",
       "      <td>4.0</td>\n",
       "      <td>0.0</td>\n",
       "      <td>38.48</td>\n",
       "      <td>high</td>\n",
       "    </tr>\n",
       "    <tr>\n",
       "      <th>226</th>\n",
       "      <td>7</td>\n",
       "      <td>5</td>\n",
       "      <td>oct</td>\n",
       "      <td>mon</td>\n",
       "      <td>91.7</td>\n",
       "      <td>48.5</td>\n",
       "      <td>696.1</td>\n",
       "      <td>11.1</td>\n",
       "      <td>16.1</td>\n",
       "      <td>44</td>\n",
       "      <td>4.0</td>\n",
       "      <td>0.0</td>\n",
       "      <td>49.37</td>\n",
       "      <td>high</td>\n",
       "    </tr>\n",
       "    <tr>\n",
       "      <th>392</th>\n",
       "      <td>1</td>\n",
       "      <td>3</td>\n",
       "      <td>sep</td>\n",
       "      <td>sun</td>\n",
       "      <td>91.0</td>\n",
       "      <td>276.3</td>\n",
       "      <td>825.1</td>\n",
       "      <td>7.1</td>\n",
       "      <td>21.9</td>\n",
       "      <td>43</td>\n",
       "      <td>4.0</td>\n",
       "      <td>0.0</td>\n",
       "      <td>70.76</td>\n",
       "      <td>high</td>\n",
       "    </tr>\n",
       "    <tr>\n",
       "      <th>228</th>\n",
       "      <td>4</td>\n",
       "      <td>6</td>\n",
       "      <td>sep</td>\n",
       "      <td>sun</td>\n",
       "      <td>93.5</td>\n",
       "      <td>149.3</td>\n",
       "      <td>728.6</td>\n",
       "      <td>8.1</td>\n",
       "      <td>28.3</td>\n",
       "      <td>26</td>\n",
       "      <td>3.1</td>\n",
       "      <td>0.0</td>\n",
       "      <td>64.10</td>\n",
       "      <td>high</td>\n",
       "    </tr>\n",
       "    <tr>\n",
       "      <th>217</th>\n",
       "      <td>1</td>\n",
       "      <td>3</td>\n",
       "      <td>sep</td>\n",
       "      <td>mon</td>\n",
       "      <td>88.6</td>\n",
       "      <td>91.8</td>\n",
       "      <td>709.9</td>\n",
       "      <td>7.1</td>\n",
       "      <td>12.4</td>\n",
       "      <td>73</td>\n",
       "      <td>6.3</td>\n",
       "      <td>0.0</td>\n",
       "      <td>30.32</td>\n",
       "      <td>high</td>\n",
       "    </tr>\n",
       "    <tr>\n",
       "      <th>212</th>\n",
       "      <td>7</td>\n",
       "      <td>4</td>\n",
       "      <td>sep</td>\n",
       "      <td>fri</td>\n",
       "      <td>94.3</td>\n",
       "      <td>85.1</td>\n",
       "      <td>692.3</td>\n",
       "      <td>15.9</td>\n",
       "      <td>20.1</td>\n",
       "      <td>47</td>\n",
       "      <td>4.9</td>\n",
       "      <td>0.0</td>\n",
       "      <td>26.13</td>\n",
       "      <td>high</td>\n",
       "    </tr>\n",
       "    <tr>\n",
       "      <th>218</th>\n",
       "      <td>4</td>\n",
       "      <td>5</td>\n",
       "      <td>sep</td>\n",
       "      <td>wed</td>\n",
       "      <td>92.9</td>\n",
       "      <td>133.3</td>\n",
       "      <td>699.6</td>\n",
       "      <td>9.2</td>\n",
       "      <td>19.4</td>\n",
       "      <td>19</td>\n",
       "      <td>1.3</td>\n",
       "      <td>0.0</td>\n",
       "      <td>31.72</td>\n",
       "      <td>high</td>\n",
       "    </tr>\n",
       "    <tr>\n",
       "      <th>216</th>\n",
       "      <td>4</td>\n",
       "      <td>4</td>\n",
       "      <td>sep</td>\n",
       "      <td>sun</td>\n",
       "      <td>92.4</td>\n",
       "      <td>124.1</td>\n",
       "      <td>680.7</td>\n",
       "      <td>8.5</td>\n",
       "      <td>16.9</td>\n",
       "      <td>60</td>\n",
       "      <td>1.3</td>\n",
       "      <td>0.0</td>\n",
       "      <td>29.48</td>\n",
       "      <td>high</td>\n",
       "    </tr>\n",
       "    <tr>\n",
       "      <th>221</th>\n",
       "      <td>3</td>\n",
       "      <td>4</td>\n",
       "      <td>sep</td>\n",
       "      <td>fri</td>\n",
       "      <td>93.3</td>\n",
       "      <td>141.2</td>\n",
       "      <td>713.9</td>\n",
       "      <td>13.9</td>\n",
       "      <td>18.6</td>\n",
       "      <td>49</td>\n",
       "      <td>3.6</td>\n",
       "      <td>0.0</td>\n",
       "      <td>35.88</td>\n",
       "      <td>high</td>\n",
       "    </tr>\n",
       "    <tr>\n",
       "      <th>375</th>\n",
       "      <td>6</td>\n",
       "      <td>5</td>\n",
       "      <td>sep</td>\n",
       "      <td>sat</td>\n",
       "      <td>91.2</td>\n",
       "      <td>94.3</td>\n",
       "      <td>744.4</td>\n",
       "      <td>8.4</td>\n",
       "      <td>15.4</td>\n",
       "      <td>57</td>\n",
       "      <td>4.9</td>\n",
       "      <td>0.0</td>\n",
       "      <td>39.35</td>\n",
       "      <td>high</td>\n",
       "    </tr>\n",
       "    <tr>\n",
       "      <th>346</th>\n",
       "      <td>1</td>\n",
       "      <td>4</td>\n",
       "      <td>sep</td>\n",
       "      <td>mon</td>\n",
       "      <td>91.5</td>\n",
       "      <td>130.1</td>\n",
       "      <td>807.1</td>\n",
       "      <td>7.5</td>\n",
       "      <td>21.3</td>\n",
       "      <td>35</td>\n",
       "      <td>2.2</td>\n",
       "      <td>0.0</td>\n",
       "      <td>28.19</td>\n",
       "      <td>high</td>\n",
       "    </tr>\n",
       "    <tr>\n",
       "      <th>337</th>\n",
       "      <td>6</td>\n",
       "      <td>3</td>\n",
       "      <td>sep</td>\n",
       "      <td>mon</td>\n",
       "      <td>91.6</td>\n",
       "      <td>108.4</td>\n",
       "      <td>764.0</td>\n",
       "      <td>6.2</td>\n",
       "      <td>23.0</td>\n",
       "      <td>34</td>\n",
       "      <td>2.2</td>\n",
       "      <td>0.0</td>\n",
       "      <td>56.04</td>\n",
       "      <td>high</td>\n",
       "    </tr>\n",
       "    <tr>\n",
       "      <th>320</th>\n",
       "      <td>6</td>\n",
       "      <td>3</td>\n",
       "      <td>sep</td>\n",
       "      <td>thu</td>\n",
       "      <td>92.8</td>\n",
       "      <td>119.0</td>\n",
       "      <td>783.5</td>\n",
       "      <td>7.5</td>\n",
       "      <td>18.9</td>\n",
       "      <td>34</td>\n",
       "      <td>7.2</td>\n",
       "      <td>0.0</td>\n",
       "      <td>34.36</td>\n",
       "      <td>high</td>\n",
       "    </tr>\n",
       "    <tr>\n",
       "      <th>238</th>\n",
       "      <td>6</td>\n",
       "      <td>5</td>\n",
       "      <td>sep</td>\n",
       "      <td>sat</td>\n",
       "      <td>92.5</td>\n",
       "      <td>121.1</td>\n",
       "      <td>674.4</td>\n",
       "      <td>8.6</td>\n",
       "      <td>25.1</td>\n",
       "      <td>27</td>\n",
       "      <td>4.0</td>\n",
       "      <td>0.0</td>\n",
       "      <td>1090.84</td>\n",
       "      <td>very high</td>\n",
       "    </tr>\n",
       "    <tr>\n",
       "      <th>237</th>\n",
       "      <td>1</td>\n",
       "      <td>2</td>\n",
       "      <td>sep</td>\n",
       "      <td>tue</td>\n",
       "      <td>91.0</td>\n",
       "      <td>129.5</td>\n",
       "      <td>692.6</td>\n",
       "      <td>7.0</td>\n",
       "      <td>18.8</td>\n",
       "      <td>40</td>\n",
       "      <td>2.2</td>\n",
       "      <td>0.0</td>\n",
       "      <td>212.88</td>\n",
       "      <td>very high</td>\n",
       "    </tr>\n",
       "    <tr>\n",
       "      <th>224</th>\n",
       "      <td>7</td>\n",
       "      <td>4</td>\n",
       "      <td>sep</td>\n",
       "      <td>wed</td>\n",
       "      <td>90.1</td>\n",
       "      <td>82.9</td>\n",
       "      <td>735.7</td>\n",
       "      <td>6.2</td>\n",
       "      <td>15.4</td>\n",
       "      <td>57</td>\n",
       "      <td>4.5</td>\n",
       "      <td>0.0</td>\n",
       "      <td>37.71</td>\n",
       "      <td>high</td>\n",
       "    </tr>\n",
       "    <tr>\n",
       "      <th>234</th>\n",
       "      <td>4</td>\n",
       "      <td>5</td>\n",
       "      <td>sep</td>\n",
       "      <td>sat</td>\n",
       "      <td>92.5</td>\n",
       "      <td>121.1</td>\n",
       "      <td>674.4</td>\n",
       "      <td>8.6</td>\n",
       "      <td>17.7</td>\n",
       "      <td>25</td>\n",
       "      <td>3.1</td>\n",
       "      <td>0.0</td>\n",
       "      <td>154.88</td>\n",
       "      <td>very high</td>\n",
       "    </tr>\n",
       "    <tr>\n",
       "      <th>233</th>\n",
       "      <td>9</td>\n",
       "      <td>4</td>\n",
       "      <td>sep</td>\n",
       "      <td>tue</td>\n",
       "      <td>84.4</td>\n",
       "      <td>73.4</td>\n",
       "      <td>671.9</td>\n",
       "      <td>3.2</td>\n",
       "      <td>24.3</td>\n",
       "      <td>36</td>\n",
       "      <td>3.1</td>\n",
       "      <td>0.0</td>\n",
       "      <td>105.66</td>\n",
       "      <td>very high</td>\n",
       "    </tr>\n",
       "    <tr>\n",
       "      <th>232</th>\n",
       "      <td>6</td>\n",
       "      <td>4</td>\n",
       "      <td>sep</td>\n",
       "      <td>tue</td>\n",
       "      <td>91.0</td>\n",
       "      <td>129.5</td>\n",
       "      <td>692.6</td>\n",
       "      <td>7.0</td>\n",
       "      <td>18.7</td>\n",
       "      <td>43</td>\n",
       "      <td>2.7</td>\n",
       "      <td>0.0</td>\n",
       "      <td>103.39</td>\n",
       "      <td>very high</td>\n",
       "    </tr>\n",
       "    <tr>\n",
       "      <th>231</th>\n",
       "      <td>1</td>\n",
       "      <td>5</td>\n",
       "      <td>sep</td>\n",
       "      <td>sun</td>\n",
       "      <td>93.5</td>\n",
       "      <td>149.3</td>\n",
       "      <td>728.6</td>\n",
       "      <td>8.1</td>\n",
       "      <td>27.8</td>\n",
       "      <td>27</td>\n",
       "      <td>3.1</td>\n",
       "      <td>0.0</td>\n",
       "      <td>95.18</td>\n",
       "      <td>high</td>\n",
       "    </tr>\n",
       "    <tr>\n",
       "      <th>230</th>\n",
       "      <td>4</td>\n",
       "      <td>4</td>\n",
       "      <td>sep</td>\n",
       "      <td>wed</td>\n",
       "      <td>92.9</td>\n",
       "      <td>133.3</td>\n",
       "      <td>699.6</td>\n",
       "      <td>9.2</td>\n",
       "      <td>26.4</td>\n",
       "      <td>21</td>\n",
       "      <td>4.5</td>\n",
       "      <td>0.0</td>\n",
       "      <td>88.49</td>\n",
       "      <td>high</td>\n",
       "    </tr>\n",
       "    <tr>\n",
       "      <th>225</th>\n",
       "      <td>4</td>\n",
       "      <td>4</td>\n",
       "      <td>sep</td>\n",
       "      <td>sun</td>\n",
       "      <td>93.5</td>\n",
       "      <td>149.3</td>\n",
       "      <td>728.6</td>\n",
       "      <td>8.1</td>\n",
       "      <td>22.9</td>\n",
       "      <td>39</td>\n",
       "      <td>4.9</td>\n",
       "      <td>0.0</td>\n",
       "      <td>48.55</td>\n",
       "      <td>high</td>\n",
       "    </tr>\n",
       "    <tr>\n",
       "      <th>391</th>\n",
       "      <td>8</td>\n",
       "      <td>6</td>\n",
       "      <td>sep</td>\n",
       "      <td>fri</td>\n",
       "      <td>91.1</td>\n",
       "      <td>91.3</td>\n",
       "      <td>738.1</td>\n",
       "      <td>7.2</td>\n",
       "      <td>20.7</td>\n",
       "      <td>46</td>\n",
       "      <td>2.7</td>\n",
       "      <td>0.0</td>\n",
       "      <td>30.18</td>\n",
       "      <td>high</td>\n",
       "    </tr>\n",
       "    <tr>\n",
       "      <th>236</th>\n",
       "      <td>2</td>\n",
       "      <td>2</td>\n",
       "      <td>sep</td>\n",
       "      <td>sat</td>\n",
       "      <td>92.5</td>\n",
       "      <td>121.1</td>\n",
       "      <td>674.4</td>\n",
       "      <td>8.6</td>\n",
       "      <td>18.2</td>\n",
       "      <td>46</td>\n",
       "      <td>1.8</td>\n",
       "      <td>0.0</td>\n",
       "      <td>200.94</td>\n",
       "      <td>very high</td>\n",
       "    </tr>\n",
       "  </tbody>\n",
       "</table>\n",
       "</div>"
      ],
      "text/plain": [
       "     X  Y month  day  FFMC    DMC     DC   ISI  temp  RH  wind  rain     area  \\\n",
       "469  6  3   apr  sun  91.0   14.6   25.6  12.3  13.7  33   9.4   0.0    61.13   \n",
       "211  7  4   aug  sat  93.5  139.4  594.2  20.3   5.1  96   5.8   0.0    26.00   \n",
       "498  6  5   aug  tue  96.1  181.1  671.2  14.3  33.3  26   2.7   0.0    40.54   \n",
       "493  1  3   aug  fri  95.9  158.0  633.6  11.3  27.5  29   4.5   0.0    43.32   \n",
       "488  4  4   aug  tue  95.1  141.3  605.8  17.7  19.4  71   7.6   0.0    46.70   \n",
       "484  2  5   aug  sun  94.9  130.3  587.1  14.1  33.1  25   4.0   0.0    26.43   \n",
       "457  1  4   aug  wed  91.7  191.4  635.9   7.8  19.9  50   4.0   0.0    82.75   \n",
       "420  8  8   aug  wed  91.7  191.4  635.9   7.8  26.2  36   4.5   0.0   185.76   \n",
       "415  8  6   aug  thu  94.8  222.4  698.6  13.9  27.5  27   4.9   0.0   746.28   \n",
       "388  6  4   aug  fri  94.8  227.0  706.7  12.0  23.3  34   3.1   0.0    28.74   \n",
       "383  9  6   aug  thu  91.6  248.4  753.8   6.3  20.5  58   2.7   0.0    42.87   \n",
       "377  2  2   aug  sat  93.7  231.1  715.1   8.4  21.9  42   2.2   0.0   174.63   \n",
       "504  4  3   aug  wed  94.5  139.4  689.1  20.0  28.9  29   4.9   0.0    49.59   \n",
       "235  8  6   aug  sun  91.4  142.4  601.4  10.6  19.6  41   5.8   0.0   196.48   \n",
       "229  8  6   aug  sat  92.2   81.8  480.8  11.9  16.4  43   4.0   0.0    71.30   \n",
       "227  8  6   aug  sat  92.2   81.8  480.8  11.9  20.1  34   4.5   0.0    58.30   \n",
       "513  2  4   aug  sun  81.6   56.7  665.6   1.9  21.9  71   5.8   0.0    54.29   \n",
       "220  8  6   aug  sun  90.2   99.6  631.2   6.3  16.2  59   3.1   0.0    32.07   \n",
       "395  4  5   feb  sun  85.0    9.0   56.9   3.5  10.1  62   1.8   0.0    51.78   \n",
       "479  7  4   jul  mon  89.2  103.9  431.6   6.4  22.6  57   4.9   0.0   278.53   \n",
       "223  2  2   jul  fri  88.3  150.3  309.9   6.8  13.4  79   3.6   0.0    37.02   \n",
       "293  7  6   jul  tue  93.1  180.4  430.8  11.0  26.9  28   5.4   0.0    86.45   \n",
       "473  9  4   jun  sat  90.5   61.1  252.6   9.4  24.5  50   3.1   0.0    70.32   \n",
       "222  4  3   mar  mon  87.6   52.2  103.8   5.0  11.0  46   5.8   0.0    36.85   \n",
       "213  7  3   mar  mon  87.6   52.2  103.8   5.0  11.0  46   5.8   0.0    27.35   \n",
       "214  4  4   mar  sat  91.7   35.8   80.8   7.8  17.0  27   4.9   0.0    28.66   \n",
       "215  4  4   mar  sat  91.7   35.8   80.8   7.8  17.0  27   4.9   0.0    28.66   \n",
       "219  6  5   mar  mon  90.1   39.7   86.6   6.2  15.2  27   3.1   0.0    31.86   \n",
       "471  4  3   may  fri  89.6   25.4   73.7   5.7  18.0  40   4.0   0.0    38.48   \n",
       "226  7  5   oct  mon  91.7   48.5  696.1  11.1  16.1  44   4.0   0.0    49.37   \n",
       "392  1  3   sep  sun  91.0  276.3  825.1   7.1  21.9  43   4.0   0.0    70.76   \n",
       "228  4  6   sep  sun  93.5  149.3  728.6   8.1  28.3  26   3.1   0.0    64.10   \n",
       "217  1  3   sep  mon  88.6   91.8  709.9   7.1  12.4  73   6.3   0.0    30.32   \n",
       "212  7  4   sep  fri  94.3   85.1  692.3  15.9  20.1  47   4.9   0.0    26.13   \n",
       "218  4  5   sep  wed  92.9  133.3  699.6   9.2  19.4  19   1.3   0.0    31.72   \n",
       "216  4  4   sep  sun  92.4  124.1  680.7   8.5  16.9  60   1.3   0.0    29.48   \n",
       "221  3  4   sep  fri  93.3  141.2  713.9  13.9  18.6  49   3.6   0.0    35.88   \n",
       "375  6  5   sep  sat  91.2   94.3  744.4   8.4  15.4  57   4.9   0.0    39.35   \n",
       "346  1  4   sep  mon  91.5  130.1  807.1   7.5  21.3  35   2.2   0.0    28.19   \n",
       "337  6  3   sep  mon  91.6  108.4  764.0   6.2  23.0  34   2.2   0.0    56.04   \n",
       "320  6  3   sep  thu  92.8  119.0  783.5   7.5  18.9  34   7.2   0.0    34.36   \n",
       "238  6  5   sep  sat  92.5  121.1  674.4   8.6  25.1  27   4.0   0.0  1090.84   \n",
       "237  1  2   sep  tue  91.0  129.5  692.6   7.0  18.8  40   2.2   0.0   212.88   \n",
       "224  7  4   sep  wed  90.1   82.9  735.7   6.2  15.4  57   4.5   0.0    37.71   \n",
       "234  4  5   sep  sat  92.5  121.1  674.4   8.6  17.7  25   3.1   0.0   154.88   \n",
       "233  9  4   sep  tue  84.4   73.4  671.9   3.2  24.3  36   3.1   0.0   105.66   \n",
       "232  6  4   sep  tue  91.0  129.5  692.6   7.0  18.7  43   2.7   0.0   103.39   \n",
       "231  1  5   sep  sun  93.5  149.3  728.6   8.1  27.8  27   3.1   0.0    95.18   \n",
       "230  4  4   sep  wed  92.9  133.3  699.6   9.2  26.4  21   4.5   0.0    88.49   \n",
       "225  4  4   sep  sun  93.5  149.3  728.6   8.1  22.9  39   4.9   0.0    48.55   \n",
       "391  8  6   sep  fri  91.1   91.3  738.1   7.2  20.7  46   2.7   0.0    30.18   \n",
       "236  2  2   sep  sat  92.5  121.1  674.4   8.6  18.2  46   1.8   0.0   200.94   \n",
       "\n",
       "    damage_category  \n",
       "469            high  \n",
       "211            high  \n",
       "498            high  \n",
       "493            high  \n",
       "488            high  \n",
       "484            high  \n",
       "457            high  \n",
       "420       very high  \n",
       "415       very high  \n",
       "388            high  \n",
       "383            high  \n",
       "377       very high  \n",
       "504            high  \n",
       "235       very high  \n",
       "229            high  \n",
       "227            high  \n",
       "513            high  \n",
       "220            high  \n",
       "395            high  \n",
       "479       very high  \n",
       "223            high  \n",
       "293            high  \n",
       "473            high  \n",
       "222            high  \n",
       "213            high  \n",
       "214            high  \n",
       "215            high  \n",
       "219            high  \n",
       "471            high  \n",
       "226            high  \n",
       "392            high  \n",
       "228            high  \n",
       "217            high  \n",
       "212            high  \n",
       "218            high  \n",
       "216            high  \n",
       "221            high  \n",
       "375            high  \n",
       "346            high  \n",
       "337            high  \n",
       "320            high  \n",
       "238       very high  \n",
       "237       very high  \n",
       "224            high  \n",
       "234       very high  \n",
       "233       very high  \n",
       "232       very high  \n",
       "231            high  \n",
       "230            high  \n",
       "225            high  \n",
       "391            high  \n",
       "236       very high  "
      ]
     },
     "execution_count": 18,
     "metadata": {},
     "output_type": "execute_result"
    }
   ],
   "source": [
    "high_damage = df[df['damage_category'].isin(['high', 'very high'])]\n",
    "high_damage.sort_values('month')"
   ]
  },
  {
   "cell_type": "code",
   "execution_count": 93,
   "metadata": {},
   "outputs": [
    {
     "data": {
      "text/html": [
       "<div>\n",
       "<style scoped>\n",
       "    .dataframe tbody tr th:only-of-type {\n",
       "        vertical-align: middle;\n",
       "    }\n",
       "\n",
       "    .dataframe tbody tr th {\n",
       "        vertical-align: top;\n",
       "    }\n",
       "\n",
       "    .dataframe thead th {\n",
       "        text-align: right;\n",
       "    }\n",
       "</style>\n",
       "<table border=\"1\" class=\"dataframe\">\n",
       "  <thead>\n",
       "    <tr style=\"text-align: right;\">\n",
       "      <th></th>\n",
       "      <th>month</th>\n",
       "      <th>area</th>\n",
       "    </tr>\n",
       "  </thead>\n",
       "  <tbody>\n",
       "    <tr>\n",
       "      <th>0</th>\n",
       "      <td>apr</td>\n",
       "      <td>8.891111</td>\n",
       "    </tr>\n",
       "    <tr>\n",
       "      <th>1</th>\n",
       "      <td>aug</td>\n",
       "      <td>12.489076</td>\n",
       "    </tr>\n",
       "    <tr>\n",
       "      <th>2</th>\n",
       "      <td>dec</td>\n",
       "      <td>13.330000</td>\n",
       "    </tr>\n",
       "    <tr>\n",
       "      <th>3</th>\n",
       "      <td>feb</td>\n",
       "      <td>6.275000</td>\n",
       "    </tr>\n",
       "    <tr>\n",
       "      <th>4</th>\n",
       "      <td>jan</td>\n",
       "      <td>0.000000</td>\n",
       "    </tr>\n",
       "    <tr>\n",
       "      <th>5</th>\n",
       "      <td>jul</td>\n",
       "      <td>14.369687</td>\n",
       "    </tr>\n",
       "    <tr>\n",
       "      <th>6</th>\n",
       "      <td>jun</td>\n",
       "      <td>5.841176</td>\n",
       "    </tr>\n",
       "    <tr>\n",
       "      <th>7</th>\n",
       "      <td>mar</td>\n",
       "      <td>4.356667</td>\n",
       "    </tr>\n",
       "    <tr>\n",
       "      <th>8</th>\n",
       "      <td>may</td>\n",
       "      <td>19.240000</td>\n",
       "    </tr>\n",
       "    <tr>\n",
       "      <th>9</th>\n",
       "      <td>nov</td>\n",
       "      <td>0.000000</td>\n",
       "    </tr>\n",
       "    <tr>\n",
       "      <th>10</th>\n",
       "      <td>oct</td>\n",
       "      <td>6.638000</td>\n",
       "    </tr>\n",
       "    <tr>\n",
       "      <th>11</th>\n",
       "      <td>sep</td>\n",
       "      <td>17.942616</td>\n",
       "    </tr>\n",
       "  </tbody>\n",
       "</table>\n",
       "</div>"
      ],
      "text/plain": [
       "   month       area\n",
       "0    apr   8.891111\n",
       "1    aug  12.489076\n",
       "2    dec  13.330000\n",
       "3    feb   6.275000\n",
       "4    jan   0.000000\n",
       "5    jul  14.369687\n",
       "6    jun   5.841176\n",
       "7    mar   4.356667\n",
       "8    may  19.240000\n",
       "9    nov   0.000000\n",
       "10   oct   6.638000\n",
       "11   sep  17.942616"
      ]
     },
     "execution_count": 93,
     "metadata": {},
     "output_type": "execute_result"
    }
   ],
   "source": [
    "# assuming your data is stored in a DataFrame named 'df'\n",
    "area_by_month = df.groupby(['month'])['area'].mean()\n",
    "\n",
    "area_by_month.reset_index()"
   ]
  },
  {
   "cell_type": "code",
   "execution_count": 19,
   "metadata": {},
   "outputs": [
    {
     "data": {
      "text/html": [
       "<div>\n",
       "<style scoped>\n",
       "    .dataframe tbody tr th:only-of-type {\n",
       "        vertical-align: middle;\n",
       "    }\n",
       "\n",
       "    .dataframe tbody tr th {\n",
       "        vertical-align: top;\n",
       "    }\n",
       "\n",
       "    .dataframe thead th {\n",
       "        text-align: right;\n",
       "    }\n",
       "</style>\n",
       "<table border=\"1\" class=\"dataframe\">\n",
       "  <thead>\n",
       "    <tr style=\"text-align: right;\">\n",
       "      <th></th>\n",
       "      <th>X</th>\n",
       "      <th>Y</th>\n",
       "      <th>month</th>\n",
       "      <th>day</th>\n",
       "      <th>FFMC</th>\n",
       "      <th>DMC</th>\n",
       "      <th>DC</th>\n",
       "      <th>ISI</th>\n",
       "      <th>temp</th>\n",
       "      <th>RH</th>\n",
       "      <th>wind</th>\n",
       "      <th>rain</th>\n",
       "      <th>area</th>\n",
       "      <th>damage_category</th>\n",
       "    </tr>\n",
       "  </thead>\n",
       "  <tbody>\n",
       "    <tr>\n",
       "      <th>0</th>\n",
       "      <td>7</td>\n",
       "      <td>5</td>\n",
       "      <td>mar</td>\n",
       "      <td>fri</td>\n",
       "      <td>86.2</td>\n",
       "      <td>26.2</td>\n",
       "      <td>94.3</td>\n",
       "      <td>5.1</td>\n",
       "      <td>8.2</td>\n",
       "      <td>51</td>\n",
       "      <td>6.7</td>\n",
       "      <td>0.0</td>\n",
       "      <td>0.00</td>\n",
       "      <td>No damage</td>\n",
       "    </tr>\n",
       "    <tr>\n",
       "      <th>1</th>\n",
       "      <td>7</td>\n",
       "      <td>4</td>\n",
       "      <td>oct</td>\n",
       "      <td>tue</td>\n",
       "      <td>90.6</td>\n",
       "      <td>35.4</td>\n",
       "      <td>669.1</td>\n",
       "      <td>6.7</td>\n",
       "      <td>18.0</td>\n",
       "      <td>33</td>\n",
       "      <td>0.9</td>\n",
       "      <td>0.0</td>\n",
       "      <td>0.00</td>\n",
       "      <td>No damage</td>\n",
       "    </tr>\n",
       "    <tr>\n",
       "      <th>2</th>\n",
       "      <td>7</td>\n",
       "      <td>4</td>\n",
       "      <td>oct</td>\n",
       "      <td>sat</td>\n",
       "      <td>90.6</td>\n",
       "      <td>43.7</td>\n",
       "      <td>686.9</td>\n",
       "      <td>6.7</td>\n",
       "      <td>14.6</td>\n",
       "      <td>33</td>\n",
       "      <td>1.3</td>\n",
       "      <td>0.0</td>\n",
       "      <td>0.00</td>\n",
       "      <td>No damage</td>\n",
       "    </tr>\n",
       "    <tr>\n",
       "      <th>3</th>\n",
       "      <td>8</td>\n",
       "      <td>6</td>\n",
       "      <td>mar</td>\n",
       "      <td>fri</td>\n",
       "      <td>91.7</td>\n",
       "      <td>33.3</td>\n",
       "      <td>77.5</td>\n",
       "      <td>9.0</td>\n",
       "      <td>8.3</td>\n",
       "      <td>97</td>\n",
       "      <td>4.0</td>\n",
       "      <td>0.2</td>\n",
       "      <td>0.00</td>\n",
       "      <td>No damage</td>\n",
       "    </tr>\n",
       "    <tr>\n",
       "      <th>4</th>\n",
       "      <td>8</td>\n",
       "      <td>6</td>\n",
       "      <td>mar</td>\n",
       "      <td>sun</td>\n",
       "      <td>89.3</td>\n",
       "      <td>51.3</td>\n",
       "      <td>102.2</td>\n",
       "      <td>9.6</td>\n",
       "      <td>11.4</td>\n",
       "      <td>99</td>\n",
       "      <td>1.8</td>\n",
       "      <td>0.0</td>\n",
       "      <td>0.00</td>\n",
       "      <td>No damage</td>\n",
       "    </tr>\n",
       "    <tr>\n",
       "      <th>...</th>\n",
       "      <td>...</td>\n",
       "      <td>...</td>\n",
       "      <td>...</td>\n",
       "      <td>...</td>\n",
       "      <td>...</td>\n",
       "      <td>...</td>\n",
       "      <td>...</td>\n",
       "      <td>...</td>\n",
       "      <td>...</td>\n",
       "      <td>...</td>\n",
       "      <td>...</td>\n",
       "      <td>...</td>\n",
       "      <td>...</td>\n",
       "      <td>...</td>\n",
       "    </tr>\n",
       "    <tr>\n",
       "      <th>512</th>\n",
       "      <td>4</td>\n",
       "      <td>3</td>\n",
       "      <td>aug</td>\n",
       "      <td>sun</td>\n",
       "      <td>81.6</td>\n",
       "      <td>56.7</td>\n",
       "      <td>665.6</td>\n",
       "      <td>1.9</td>\n",
       "      <td>27.8</td>\n",
       "      <td>32</td>\n",
       "      <td>2.7</td>\n",
       "      <td>0.0</td>\n",
       "      <td>6.44</td>\n",
       "      <td>moderate</td>\n",
       "    </tr>\n",
       "    <tr>\n",
       "      <th>513</th>\n",
       "      <td>2</td>\n",
       "      <td>4</td>\n",
       "      <td>aug</td>\n",
       "      <td>sun</td>\n",
       "      <td>81.6</td>\n",
       "      <td>56.7</td>\n",
       "      <td>665.6</td>\n",
       "      <td>1.9</td>\n",
       "      <td>21.9</td>\n",
       "      <td>71</td>\n",
       "      <td>5.8</td>\n",
       "      <td>0.0</td>\n",
       "      <td>54.29</td>\n",
       "      <td>high</td>\n",
       "    </tr>\n",
       "    <tr>\n",
       "      <th>514</th>\n",
       "      <td>7</td>\n",
       "      <td>4</td>\n",
       "      <td>aug</td>\n",
       "      <td>sun</td>\n",
       "      <td>81.6</td>\n",
       "      <td>56.7</td>\n",
       "      <td>665.6</td>\n",
       "      <td>1.9</td>\n",
       "      <td>21.2</td>\n",
       "      <td>70</td>\n",
       "      <td>6.7</td>\n",
       "      <td>0.0</td>\n",
       "      <td>11.16</td>\n",
       "      <td>moderate</td>\n",
       "    </tr>\n",
       "    <tr>\n",
       "      <th>515</th>\n",
       "      <td>1</td>\n",
       "      <td>4</td>\n",
       "      <td>aug</td>\n",
       "      <td>sat</td>\n",
       "      <td>94.4</td>\n",
       "      <td>146.0</td>\n",
       "      <td>614.7</td>\n",
       "      <td>11.3</td>\n",
       "      <td>25.6</td>\n",
       "      <td>42</td>\n",
       "      <td>4.0</td>\n",
       "      <td>0.0</td>\n",
       "      <td>0.00</td>\n",
       "      <td>No damage</td>\n",
       "    </tr>\n",
       "    <tr>\n",
       "      <th>516</th>\n",
       "      <td>6</td>\n",
       "      <td>3</td>\n",
       "      <td>nov</td>\n",
       "      <td>tue</td>\n",
       "      <td>79.5</td>\n",
       "      <td>3.0</td>\n",
       "      <td>106.7</td>\n",
       "      <td>1.1</td>\n",
       "      <td>11.8</td>\n",
       "      <td>31</td>\n",
       "      <td>4.5</td>\n",
       "      <td>0.0</td>\n",
       "      <td>0.00</td>\n",
       "      <td>No damage</td>\n",
       "    </tr>\n",
       "  </tbody>\n",
       "</table>\n",
       "<p>517 rows × 14 columns</p>\n",
       "</div>"
      ],
      "text/plain": [
       "     X  Y month  day  FFMC    DMC     DC   ISI  temp  RH  wind  rain   area  \\\n",
       "0    7  5   mar  fri  86.2   26.2   94.3   5.1   8.2  51   6.7   0.0   0.00   \n",
       "1    7  4   oct  tue  90.6   35.4  669.1   6.7  18.0  33   0.9   0.0   0.00   \n",
       "2    7  4   oct  sat  90.6   43.7  686.9   6.7  14.6  33   1.3   0.0   0.00   \n",
       "3    8  6   mar  fri  91.7   33.3   77.5   9.0   8.3  97   4.0   0.2   0.00   \n",
       "4    8  6   mar  sun  89.3   51.3  102.2   9.6  11.4  99   1.8   0.0   0.00   \n",
       "..  .. ..   ...  ...   ...    ...    ...   ...   ...  ..   ...   ...    ...   \n",
       "512  4  3   aug  sun  81.6   56.7  665.6   1.9  27.8  32   2.7   0.0   6.44   \n",
       "513  2  4   aug  sun  81.6   56.7  665.6   1.9  21.9  71   5.8   0.0  54.29   \n",
       "514  7  4   aug  sun  81.6   56.7  665.6   1.9  21.2  70   6.7   0.0  11.16   \n",
       "515  1  4   aug  sat  94.4  146.0  614.7  11.3  25.6  42   4.0   0.0   0.00   \n",
       "516  6  3   nov  tue  79.5    3.0  106.7   1.1  11.8  31   4.5   0.0   0.00   \n",
       "\n",
       "    damage_category  \n",
       "0         No damage  \n",
       "1         No damage  \n",
       "2         No damage  \n",
       "3         No damage  \n",
       "4         No damage  \n",
       "..              ...  \n",
       "512        moderate  \n",
       "513            high  \n",
       "514        moderate  \n",
       "515       No damage  \n",
       "516       No damage  \n",
       "\n",
       "[517 rows x 14 columns]"
      ]
     },
     "execution_count": 19,
     "metadata": {},
     "output_type": "execute_result"
    }
   ],
   "source": [
    "df"
   ]
  },
  {
   "cell_type": "code",
   "execution_count": 28,
   "metadata": {},
   "outputs": [
    {
     "data": {
      "text/html": [
       "<table class=\"simpletable\">\n",
       "<caption>OLS Regression Results</caption>\n",
       "<tr>\n",
       "  <th>Dep. Variable:</th>          <td>area</td>       <th>  R-squared:         </th> <td>   0.025</td>\n",
       "</tr>\n",
       "<tr>\n",
       "  <th>Model:</th>                   <td>OLS</td>       <th>  Adj. R-squared:    </th> <td>   0.006</td>\n",
       "</tr>\n",
       "<tr>\n",
       "  <th>Method:</th>             <td>Least Squares</td>  <th>  F-statistic:       </th> <td>   1.317</td>\n",
       "</tr>\n",
       "<tr>\n",
       "  <th>Date:</th>             <td>Fri, 24 Mar 2023</td> <th>  Prob (F-statistic):</th>  <td> 0.218</td> \n",
       "</tr>\n",
       "<tr>\n",
       "  <th>Time:</th>                 <td>23:13:50</td>     <th>  Log-Likelihood:    </th> <td> -899.83</td>\n",
       "</tr>\n",
       "<tr>\n",
       "  <th>No. Observations:</th>      <td>   517</td>      <th>  AIC:               </th> <td>   1822.</td>\n",
       "</tr>\n",
       "<tr>\n",
       "  <th>Df Residuals:</th>          <td>   506</td>      <th>  BIC:               </th> <td>   1868.</td>\n",
       "</tr>\n",
       "<tr>\n",
       "  <th>Df Model:</th>              <td>    10</td>      <th>                     </th>     <td> </td>   \n",
       "</tr>\n",
       "<tr>\n",
       "  <th>Covariance Type:</th>      <td>nonrobust</td>    <th>                     </th>     <td> </td>   \n",
       "</tr>\n",
       "</table>\n",
       "<table class=\"simpletable\">\n",
       "<tr>\n",
       "    <td></td>       <th>coef</th>     <th>std err</th>      <th>t</th>      <th>P>|t|</th>  <th>[0.025</th>    <th>0.975]</th>  \n",
       "</tr>\n",
       "<tr>\n",
       "  <th>const</th> <td>    0.0186</td> <td>    1.382</td> <td>    0.013</td> <td> 0.989</td> <td>   -2.696</td> <td>    2.733</td>\n",
       "</tr>\n",
       "<tr>\n",
       "  <th>X</th>     <td>    0.0403</td> <td>    0.032</td> <td>    1.269</td> <td> 0.205</td> <td>   -0.022</td> <td>    0.103</td>\n",
       "</tr>\n",
       "<tr>\n",
       "  <th>Y</th>     <td>    0.0155</td> <td>    0.060</td> <td>    0.258</td> <td> 0.796</td> <td>   -0.102</td> <td>    0.133</td>\n",
       "</tr>\n",
       "<tr>\n",
       "  <th>FFMC</th>  <td>    0.0074</td> <td>    0.014</td> <td>    0.510</td> <td> 0.610</td> <td>   -0.021</td> <td>    0.036</td>\n",
       "</tr>\n",
       "<tr>\n",
       "  <th>DMC</th>   <td>    0.0012</td> <td>    0.001</td> <td>    0.816</td> <td> 0.415</td> <td>   -0.002</td> <td>    0.004</td>\n",
       "</tr>\n",
       "<tr>\n",
       "  <th>DC</th>    <td>    0.0003</td> <td>    0.000</td> <td>    0.909</td> <td> 0.364</td> <td>   -0.000</td> <td>    0.001</td>\n",
       "</tr>\n",
       "<tr>\n",
       "  <th>ISI</th>   <td>   -0.0243</td> <td>    0.017</td> <td>   -1.434</td> <td> 0.152</td> <td>   -0.057</td> <td>    0.009</td>\n",
       "</tr>\n",
       "<tr>\n",
       "  <th>temp</th>  <td>    0.0014</td> <td>    0.017</td> <td>    0.081</td> <td> 0.935</td> <td>   -0.033</td> <td>    0.035</td>\n",
       "</tr>\n",
       "<tr>\n",
       "  <th>RH</th>    <td>   -0.0059</td> <td>    0.005</td> <td>   -1.137</td> <td> 0.256</td> <td>   -0.016</td> <td>    0.004</td>\n",
       "</tr>\n",
       "<tr>\n",
       "  <th>wind</th>  <td>    0.0765</td> <td>    0.037</td> <td>    2.089</td> <td> 0.037</td> <td>    0.005</td> <td>    0.148</td>\n",
       "</tr>\n",
       "<tr>\n",
       "  <th>rain</th>  <td>    0.0779</td> <td>    0.212</td> <td>    0.367</td> <td> 0.714</td> <td>   -0.339</td> <td>    0.495</td>\n",
       "</tr>\n",
       "</table>\n",
       "<table class=\"simpletable\">\n",
       "<tr>\n",
       "  <th>Omnibus:</th>       <td>87.035</td> <th>  Durbin-Watson:     </th> <td>   0.936</td>\n",
       "</tr>\n",
       "<tr>\n",
       "  <th>Prob(Omnibus):</th> <td> 0.000</td> <th>  Jarque-Bera (JB):  </th> <td> 128.352</td>\n",
       "</tr>\n",
       "<tr>\n",
       "  <th>Skew:</th>          <td> 1.158</td> <th>  Prob(JB):          </th> <td>1.35e-28</td>\n",
       "</tr>\n",
       "<tr>\n",
       "  <th>Kurtosis:</th>      <td> 3.773</td> <th>  Cond. No.          </th> <td>1.40e+04</td>\n",
       "</tr>\n",
       "</table><br/><br/>Notes:<br/>[1] Standard Errors assume that the covariance matrix of the errors is correctly specified.<br/>[2] The condition number is large, 1.4e+04. This might indicate that there are<br/>strong multicollinearity or other numerical problems."
      ],
      "text/plain": [
       "<class 'statsmodels.iolib.summary.Summary'>\n",
       "\"\"\"\n",
       "                            OLS Regression Results                            \n",
       "==============================================================================\n",
       "Dep. Variable:                   area   R-squared:                       0.025\n",
       "Model:                            OLS   Adj. R-squared:                  0.006\n",
       "Method:                 Least Squares   F-statistic:                     1.317\n",
       "Date:                Fri, 24 Mar 2023   Prob (F-statistic):              0.218\n",
       "Time:                        23:13:50   Log-Likelihood:                -899.83\n",
       "No. Observations:                 517   AIC:                             1822.\n",
       "Df Residuals:                     506   BIC:                             1868.\n",
       "Df Model:                          10                                         \n",
       "Covariance Type:            nonrobust                                         \n",
       "==============================================================================\n",
       "                 coef    std err          t      P>|t|      [0.025      0.975]\n",
       "------------------------------------------------------------------------------\n",
       "const          0.0186      1.382      0.013      0.989      -2.696       2.733\n",
       "X              0.0403      0.032      1.269      0.205      -0.022       0.103\n",
       "Y              0.0155      0.060      0.258      0.796      -0.102       0.133\n",
       "FFMC           0.0074      0.014      0.510      0.610      -0.021       0.036\n",
       "DMC            0.0012      0.001      0.816      0.415      -0.002       0.004\n",
       "DC             0.0003      0.000      0.909      0.364      -0.000       0.001\n",
       "ISI           -0.0243      0.017     -1.434      0.152      -0.057       0.009\n",
       "temp           0.0014      0.017      0.081      0.935      -0.033       0.035\n",
       "RH            -0.0059      0.005     -1.137      0.256      -0.016       0.004\n",
       "wind           0.0765      0.037      2.089      0.037       0.005       0.148\n",
       "rain           0.0779      0.212      0.367      0.714      -0.339       0.495\n",
       "==============================================================================\n",
       "Omnibus:                       87.035   Durbin-Watson:                   0.936\n",
       "Prob(Omnibus):                  0.000   Jarque-Bera (JB):              128.352\n",
       "Skew:                           1.158   Prob(JB):                     1.35e-28\n",
       "Kurtosis:                       3.773   Cond. No.                     1.40e+04\n",
       "==============================================================================\n",
       "\n",
       "Notes:\n",
       "[1] Standard Errors assume that the covariance matrix of the errors is correctly specified.\n",
       "[2] The condition number is large, 1.4e+04. This might indicate that there are\n",
       "strong multicollinearity or other numerical problems.\n",
       "\"\"\""
      ]
     },
     "execution_count": 28,
     "metadata": {},
     "output_type": "execute_result"
    }
   ],
   "source": [
    "X = df.drop(columns = ['area','damage_category', 'month', 'day'])\n",
    "y = np.log(df['area']+1)\n",
    "X_constant = sm.add_constant(X)\n",
    "\n",
    "# Build OLS model \n",
    "lin_reg = sm.OLS(y,X_constant).fit()\n",
    "lin_reg.summary()"
   ]
  },
  {
   "attachments": {},
   "cell_type": "markdown",
   "metadata": {},
   "source": [
    "## Split the dataset in training set and test set"
   ]
  },
  {
   "attachments": {},
   "cell_type": "markdown",
   "metadata": {},
   "source": [
    "## Train the model on the training set"
   ]
  },
  {
   "attachments": {},
   "cell_type": "markdown",
   "metadata": {},
   "source": [
    "## Predict the test set results"
   ]
  },
  {
   "attachments": {},
   "cell_type": "markdown",
   "metadata": {},
   "source": [
    "## Evaluate the model"
   ]
  },
  {
   "cell_type": "code",
   "execution_count": null,
   "metadata": {},
   "outputs": [],
   "source": []
  }
 ],
 "metadata": {
  "kernelspec": {
   "display_name": "Python 3",
   "language": "python",
   "name": "python3"
  },
  "language_info": {
   "codemirror_mode": {
    "name": "ipython",
    "version": 3
   },
   "file_extension": ".py",
   "mimetype": "text/x-python",
   "name": "python",
   "nbconvert_exporter": "python",
   "pygments_lexer": "ipython3",
   "version": "3.9.16"
  },
  "orig_nbformat": 4
 },
 "nbformat": 4,
 "nbformat_minor": 2
}
