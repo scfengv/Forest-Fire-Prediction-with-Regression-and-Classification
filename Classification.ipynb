{
 "cells": [
  {
   "cell_type": "code",
   "execution_count": 36,
   "metadata": {},
   "outputs": [],
   "source": [
    "import numpy as np\n",
    "import pandas as pd\n",
    "import seaborn as sns\n",
    "import plotly.express as px\n",
    "import matplotlib.pyplot as plt\n",
    "\n",
    "import statsmodels.api as sm\n",
    "import statsmodels.formula.api as smf\n",
    "from statsmodels.sandbox.regression.predstd import wls_prediction_std\n",
    "\n",
    "from patsy import dmatrices\n",
    "\n",
    "from sklearn import svm, metrics\n",
    "from sklearn.model_selection import train_test_split\n",
    "from sklearn.preprocessing import StandardScaler\n",
    "from sklearn.linear_model import LinearRegression, LogisticRegression\n",
    "from sklearn.neural_network import MLPRegressor, MLPClassifier\n",
    "\n",
    "import imblearn\n",
    "\n",
    "from scipy import stats\n",
    "import kaleido\n",
    "\n",
    "import warnings\n",
    "warnings.filterwarnings(action='ignore')"
   ]
  },
  {
   "cell_type": "code",
   "execution_count": 37,
   "metadata": {},
   "outputs": [],
   "source": [
    "import os\n",
    "\n",
    "if not os.path.exists(\"images\"):\n",
    "    os.mkdir(\"images\")"
   ]
  },
  {
   "cell_type": "code",
   "execution_count": 30,
   "metadata": {},
   "outputs": [
    {
     "name": "stdout",
     "output_type": "stream",
     "text": [
      "<class 'pandas.core.frame.DataFrame'>\n",
      "RangeIndex: 517 entries, 0 to 516\n",
      "Data columns (total 13 columns):\n",
      " #   Column  Non-Null Count  Dtype  \n",
      "---  ------  --------------  -----  \n",
      " 0   X       517 non-null    int64  \n",
      " 1   Y       517 non-null    int64  \n",
      " 2   month   517 non-null    object \n",
      " 3   day     517 non-null    object \n",
      " 4   FFMC    517 non-null    float64\n",
      " 5   DMC     517 non-null    float64\n",
      " 6   DC      517 non-null    float64\n",
      " 7   ISI     517 non-null    float64\n",
      " 8   temp    517 non-null    float64\n",
      " 9   RH      517 non-null    int64  \n",
      " 10  wind    517 non-null    float64\n",
      " 11  rain    517 non-null    float64\n",
      " 12  area    517 non-null    float64\n",
      "dtypes: float64(8), int64(3), object(2)\n",
      "memory usage: 52.6+ KB\n"
     ]
    }
   ],
   "source": [
    "f = '/Users/shenchingfeng/Documents/1112/機器學習/Homework 1/forestfires.csv'\n",
    "df = pd.read_csv(f)\n",
    "\n",
    "df.info()"
   ]
  },
  {
   "cell_type": "code",
   "execution_count": 31,
   "metadata": {},
   "outputs": [],
   "source": [
    "df['scale'] = df['area'].apply(lambda x: 'no fire' if (x == 0) else\n",
    "                                              'small fire' if (0 < x < 6) else\n",
    "                                              'large fire'\n",
    "                                    )"
   ]
  },
  {
   "cell_type": "code",
   "execution_count": 39,
   "metadata": {},
   "outputs": [
    {
     "data": {
      "text/plain": [
       "no fire       247\n",
       "large fire    139\n",
       "small fire    131\n",
       "Name: scale, dtype: int64"
      ]
     },
     "execution_count": 39,
     "metadata": {},
     "output_type": "execute_result"
    }
   ],
   "source": [
    "df['scale'].value_counts()"
   ]
  },
  {
   "cell_type": "code",
   "execution_count": 15,
   "metadata": {},
   "outputs": [
    {
     "data": {
      "text/plain": [
       "no fire       47.78\n",
       "large fire    26.89\n",
       "small fire    25.34\n",
       "Name: scale, dtype: float64"
      ]
     },
     "execution_count": 15,
     "metadata": {},
     "output_type": "execute_result"
    }
   ],
   "source": [
    "df['scale'].value_counts(normalize = True).round(4)*100"
   ]
  },
  {
   "cell_type": "code",
   "execution_count": 75,
   "metadata": {},
   "outputs": [
    {
     "data": {
      "text/html": [
       "<div>\n",
       "<style scoped>\n",
       "    .dataframe tbody tr th:only-of-type {\n",
       "        vertical-align: middle;\n",
       "    }\n",
       "\n",
       "    .dataframe tbody tr th {\n",
       "        vertical-align: top;\n",
       "    }\n",
       "\n",
       "    .dataframe thead th {\n",
       "        text-align: right;\n",
       "    }\n",
       "</style>\n",
       "<table border=\"1\" class=\"dataframe\">\n",
       "  <thead>\n",
       "    <tr style=\"text-align: right;\">\n",
       "      <th></th>\n",
       "      <th>scale</th>\n",
       "      <th>count</th>\n",
       "      <th>percentage</th>\n",
       "    </tr>\n",
       "  </thead>\n",
       "  <tbody>\n",
       "    <tr>\n",
       "      <th>0</th>\n",
       "      <td>no fire</td>\n",
       "      <td>247</td>\n",
       "      <td>47.78</td>\n",
       "    </tr>\n",
       "    <tr>\n",
       "      <th>2</th>\n",
       "      <td>small fire</td>\n",
       "      <td>131</td>\n",
       "      <td>25.34</td>\n",
       "    </tr>\n",
       "    <tr>\n",
       "      <th>1</th>\n",
       "      <td>large fire</td>\n",
       "      <td>139</td>\n",
       "      <td>26.89</td>\n",
       "    </tr>\n",
       "  </tbody>\n",
       "</table>\n",
       "</div>"
      ],
      "text/plain": [
       "        scale  count  percentage\n",
       "0     no fire    247       47.78\n",
       "2  small fire    131       25.34\n",
       "1  large fire    139       26.89"
      ]
     },
     "execution_count": 75,
     "metadata": {},
     "output_type": "execute_result"
    }
   ],
   "source": [
    "# count of each value\n",
    "value_counts = df['scale'].value_counts()\n",
    "\n",
    "# convert value_counts to a DataFrame\n",
    "value_counts_df = value_counts.to_frame().reset_index()\n",
    "\n",
    "# rename columns\n",
    "value_counts_df.columns = ['scale', 'count']\n",
    "\n",
    "# add percentage column\n",
    "value_counts_df['percentage'] = (value_counts_df['count'] / len(df)) * 100\n",
    "\n",
    "# round percentage to 2 decimal places\n",
    "value_counts_df['percentage'] = value_counts_df['percentage'].round(2)\n",
    "\n",
    "# sort by scale in the order 'no fire', 'small fire', 'large fire'\n",
    "scale_order = ['no fire', 'small fire', 'large fire']\n",
    "value_counts_df['scale'] = pd.Categorical(value_counts_df['scale'], categories=scale_order, ordered=True)\n",
    "value_counts_df = value_counts_df.sort_values('scale')\n",
    "\n",
    "# display the resulting DataFrame\n",
    "value_counts_df"
   ]
  },
  {
   "attachments": {},
   "cell_type": "markdown",
   "metadata": {},
   "source": [
    "# Classification"
   ]
  },
  {
   "cell_type": "code",
   "execution_count": 298,
   "metadata": {},
   "outputs": [
    {
     "data": {
      "text/html": [
       "<div>\n",
       "<style scoped>\n",
       "    .dataframe tbody tr th:only-of-type {\n",
       "        vertical-align: middle;\n",
       "    }\n",
       "\n",
       "    .dataframe tbody tr th {\n",
       "        vertical-align: top;\n",
       "    }\n",
       "\n",
       "    .dataframe thead th {\n",
       "        text-align: right;\n",
       "    }\n",
       "</style>\n",
       "<table border=\"1\" class=\"dataframe\">\n",
       "  <thead>\n",
       "    <tr style=\"text-align: right;\">\n",
       "      <th>month</th>\n",
       "      <th>jan</th>\n",
       "      <th>feb</th>\n",
       "      <th>mar</th>\n",
       "      <th>apr</th>\n",
       "      <th>may</th>\n",
       "      <th>jun</th>\n",
       "      <th>jul</th>\n",
       "      <th>aug</th>\n",
       "      <th>sep</th>\n",
       "      <th>oct</th>\n",
       "      <th>nov</th>\n",
       "      <th>dec</th>\n",
       "    </tr>\n",
       "    <tr>\n",
       "      <th>scale</th>\n",
       "      <th></th>\n",
       "      <th></th>\n",
       "      <th></th>\n",
       "      <th></th>\n",
       "      <th></th>\n",
       "      <th></th>\n",
       "      <th></th>\n",
       "      <th></th>\n",
       "      <th></th>\n",
       "      <th></th>\n",
       "      <th></th>\n",
       "      <th></th>\n",
       "    </tr>\n",
       "  </thead>\n",
       "  <tbody>\n",
       "    <tr>\n",
       "      <th>no fire</th>\n",
       "      <td>100.0</td>\n",
       "      <td>50.0</td>\n",
       "      <td>64.81</td>\n",
       "      <td>55.56</td>\n",
       "      <td>50.0</td>\n",
       "      <td>52.94</td>\n",
       "      <td>43.75</td>\n",
       "      <td>46.20</td>\n",
       "      <td>43.60</td>\n",
       "      <td>66.67</td>\n",
       "      <td>100.0</td>\n",
       "      <td>0.00</td>\n",
       "    </tr>\n",
       "    <tr>\n",
       "      <th>small fire</th>\n",
       "      <td>0.0</td>\n",
       "      <td>20.0</td>\n",
       "      <td>12.96</td>\n",
       "      <td>22.22</td>\n",
       "      <td>0.0</td>\n",
       "      <td>29.41</td>\n",
       "      <td>28.12</td>\n",
       "      <td>30.43</td>\n",
       "      <td>26.74</td>\n",
       "      <td>6.67</td>\n",
       "      <td>0.0</td>\n",
       "      <td>11.11</td>\n",
       "    </tr>\n",
       "    <tr>\n",
       "      <th>large fire</th>\n",
       "      <td>0.0</td>\n",
       "      <td>30.0</td>\n",
       "      <td>22.22</td>\n",
       "      <td>22.22</td>\n",
       "      <td>50.0</td>\n",
       "      <td>17.65</td>\n",
       "      <td>28.12</td>\n",
       "      <td>23.37</td>\n",
       "      <td>29.65</td>\n",
       "      <td>26.67</td>\n",
       "      <td>0.0</td>\n",
       "      <td>88.89</td>\n",
       "    </tr>\n",
       "  </tbody>\n",
       "</table>\n",
       "</div>"
      ],
      "text/plain": [
       "month         jan   feb    mar    apr   may    jun    jul    aug    sep  \\\n",
       "scale                                                                     \n",
       "no fire     100.0  50.0  64.81  55.56  50.0  52.94  43.75  46.20  43.60   \n",
       "small fire    0.0  20.0  12.96  22.22   0.0  29.41  28.12  30.43  26.74   \n",
       "large fire    0.0  30.0  22.22  22.22  50.0  17.65  28.12  23.37  29.65   \n",
       "\n",
       "month         oct    nov    dec  \n",
       "scale                            \n",
       "no fire     66.67  100.0   0.00  \n",
       "small fire   6.67    0.0  11.11  \n",
       "large fire  26.67    0.0  88.89  "
      ]
     },
     "execution_count": 298,
     "metadata": {},
     "output_type": "execute_result"
    }
   ],
   "source": [
    "X = d.drop(['area', 'scale'], axis=1)\n",
    "y = d['scale']\n",
    "X = pd.get_dummies(X, ['month', 'day'])\n",
    "scale_order = ['no fire', 'small fire', 'large fire']\n",
    "month_order = ['jan', 'feb', 'mar', 'apr', 'may', 'jun', 'jul', 'aug', 'sep', 'oct', 'nov', 'dec']\n",
    "d['scale'] = pd.Categorical(d['scale'], categories = scale_order, ordered = True)\n",
    "d['month'] = pd.Categorical(d['month'], categories = month_order, ordered = True)\n",
    "result = d.groupby(['month', 'scale'])['scale'].count().unstack('scale').fillna(0)\n",
    "result = result.apply(lambda x: x/x.sum()*100, axis = 1).round(2)\n",
    "result = result.reindex(month_order)\n",
    "result = result[['no fire', 'small fire', 'large fire']]\n",
    "result = pd.DataFrame(result)\n",
    "result.T"
   ]
  },
  {
   "attachments": {},
   "cell_type": "markdown",
   "metadata": {},
   "source": [
    "# Upsampling"
   ]
  },
  {
   "attachments": {},
   "cell_type": "markdown",
   "metadata": {},
   "source": [
    "### All data"
   ]
  },
  {
   "cell_type": "code",
   "execution_count": 105,
   "metadata": {},
   "outputs": [
    {
     "name": "stdout",
     "output_type": "stream",
     "text": [
      "(1761, 29) (756, 29)\n"
     ]
    }
   ],
   "source": [
    "d = df.copy()\n",
    "d_up = d.copy()\n",
    "\n",
    "for m in d['month'].unique():\n",
    "    if((m != 'aug') & (m != 'sep')):\n",
    "        temp = d[d['month'] == m].sample(200, replace = True)\n",
    "        if d is d_up:\n",
    "            d_up = pd.concat([d, temp], axis = 0)\n",
    "        else:\n",
    "            d_up = pd.concat([d_up, temp], axis = 0)\n",
    "\n",
    "X = d_up.drop(['area', 'scale'], axis=1)\n",
    "y = d_up['scale']\n",
    "X = pd.get_dummies(X, ['month', 'day'])\n",
    "scale_order = ['no fire', 'small fire', 'large fire']\n",
    "month_order = ['jan', 'feb', 'mar', 'apr', 'may', 'jun', 'jul', 'aug', 'sep', 'oct', 'nov', 'dec']\n",
    "d_up['scale'] = pd.Categorical(d_up['scale'], categories = scale_order, ordered = True)\n",
    "d_up['month'] = pd.Categorical(d_up['month'], categories = month_order, ordered = True)\n",
    "result = d_up.groupby(['month', 'scale'])['scale'].count().unstack('scale').fillna(0)\n",
    "result = result.apply(lambda x: x/x.sum()*100, axis = 1).round(2)\n",
    "result = result.reindex(month_order)\n",
    "result = result[['no fire', 'small fire', 'large fire']]\n",
    "result = pd.DataFrame(result)\n",
    "\n",
    "x_train, x_test, y_train, y_test = train_test_split(X, y, train_size = 0.7, shuffle = True, random_state = 42)\n",
    "\n",
    "print(x_train.shape, x_test.shape)\n"
   ]
  },
  {
   "attachments": {},
   "cell_type": "markdown",
   "metadata": {},
   "source": [
    "### Stepwise selection"
   ]
  },
  {
   "cell_type": "code",
   "execution_count": 132,
   "metadata": {},
   "outputs": [
    {
     "name": "stdout",
     "output_type": "stream",
     "text": [
      "(1761, 9) (756, 9)\n"
     ]
    }
   ],
   "source": [
    "d = df.copy()\n",
    "d_up = d.copy()\n",
    "\n",
    "for m in d['month'].unique():\n",
    "    if((m != 'aug') & (m != 'sep')):\n",
    "        temp = d[d['month'] == m].sample(200, replace = True)\n",
    "        if d is d_up:\n",
    "            d_up = pd.concat([d, temp], axis = 0)\n",
    "        else:\n",
    "            d_up = pd.concat([d_up, temp], axis = 0)\n",
    "\n",
    "X = d_up.drop(['area', 'scale'], axis=1)\n",
    "y = d_up['scale']\n",
    "X = pd.get_dummies(X, ['month', 'day'])\n",
    "X = X[['X', 'FFMC', 'DMC', 'ISI', 'temp', 'wind', 'month_dec', 'month_nov', 'day_fri']]\n",
    "scale_order = ['no fire', 'small fire', 'large fire']\n",
    "# month_order = ['jan', 'feb', 'mar', 'apr', 'may', 'jun', 'jul', 'aug', 'sep', 'oct', 'nov', 'dec']\n",
    "d_up['scale'] = pd.Categorical(d_up['scale'], categories = scale_order, ordered = True)\n",
    "# d_up['month'] = pd.Categorical(d_up['month'], categories = month_order, ordered = True)\n",
    "# result = d_up.groupby(['month', 'scale'])['scale'].count().unstack('scale').fillna(0)\n",
    "# result = result.apply(lambda x: x/x.sum()*100, axis = 1).round(2)\n",
    "# result = result.reindex(month_order)\n",
    "# result = result[['no fire', 'small fire', 'large fire']]\n",
    "# result = pd.DataFrame(result)\n",
    "\n",
    "x_train, x_test, y_train, y_test = train_test_split(X, y, train_size = 0.7, shuffle = True, random_state = 42)\n",
    "print(x_train.shape, x_test.shape)"
   ]
  },
  {
   "attachments": {},
   "cell_type": "markdown",
   "metadata": {},
   "source": [
    "### STFWI"
   ]
  },
  {
   "cell_type": "code",
   "execution_count": 116,
   "metadata": {},
   "outputs": [
    {
     "name": "stdout",
     "output_type": "stream",
     "text": [
      "(1761, 25) (756, 25)\n"
     ]
    }
   ],
   "source": [
    "d = df.copy()\n",
    "d_up = d.copy()\n",
    "\n",
    "for m in d['month'].unique():\n",
    "    if((m != 'aug') & (m != 'sep')):\n",
    "        temp = d[d['month'] == m].sample(200, replace = True)\n",
    "        if d is d_up:\n",
    "            d_up = pd.concat([d, temp], axis = 0)\n",
    "        else:\n",
    "            d_up = pd.concat([d_up, temp], axis = 0)\n",
    "\n",
    "X = d_up.drop(['area', 'scale', 'rain', 'wind', 'temp', 'RH'], axis=1)\n",
    "y = d_up['scale']\n",
    "X = pd.get_dummies(X, ['month', 'day'])\n",
    "scale_order = ['no fire', 'small fire', 'large fire']\n",
    "month_order = ['jan', 'feb', 'mar', 'apr', 'may', 'jun', 'jul', 'aug', 'sep', 'oct', 'nov', 'dec']\n",
    "d_up['scale'] = pd.Categorical(d_up['scale'], categories = scale_order, ordered = True)\n",
    "d_up['month'] = pd.Categorical(d_up['month'], categories = month_order, ordered = True)\n",
    "result = d_up.groupby(['month', 'scale'])['scale'].count().unstack('scale').fillna(0)\n",
    "result = result.apply(lambda x: x/x.sum()*100, axis = 1).round(2)\n",
    "result = result.reindex(month_order)\n",
    "result = result[['no fire', 'small fire', 'large fire']]\n",
    "result = pd.DataFrame(result)\n",
    "\n",
    "x_train, x_test, y_train, y_test = train_test_split(X, y, train_size = 0.7, shuffle = True, random_state = 42)\n",
    "\n",
    "print(x_train.shape, x_test.shape)"
   ]
  },
  {
   "attachments": {},
   "cell_type": "markdown",
   "metadata": {},
   "source": [
    "### STM"
   ]
  },
  {
   "cell_type": "code",
   "execution_count": 119,
   "metadata": {},
   "outputs": [
    {
     "name": "stdout",
     "output_type": "stream",
     "text": [
      "(1761, 25) (756, 25)\n"
     ]
    }
   ],
   "source": [
    "d = df.copy()\n",
    "d_up = d.copy()\n",
    "\n",
    "for m in d['month'].unique():\n",
    "    if((m != 'aug') & (m != 'sep')):\n",
    "        temp = d[d['month'] == m].sample(200, replace = True)\n",
    "        if d is d_up:\n",
    "            d_up = pd.concat([d, temp], axis = 0)\n",
    "        else:\n",
    "            d_up = pd.concat([d_up, temp], axis = 0)\n",
    "\n",
    "X = d_up.drop(['area', 'scale', 'FFMC', 'DMC', 'DC', 'ISI'], axis=1)\n",
    "y = d_up['scale']\n",
    "X = pd.get_dummies(X, ['month', 'day'])\n",
    "scale_order = ['no fire', 'small fire', 'large fire']\n",
    "month_order = ['jan', 'feb', 'mar', 'apr', 'may', 'jun', 'jul', 'aug', 'sep', 'oct', 'nov', 'dec']\n",
    "d_up['scale'] = pd.Categorical(d_up['scale'], categories = scale_order, ordered = True)\n",
    "d_up['month'] = pd.Categorical(d_up['month'], categories = month_order, ordered = True)\n",
    "result = d_up.groupby(['month', 'scale'])['scale'].count().unstack('scale').fillna(0)\n",
    "result = result.apply(lambda x: x/x.sum()*100, axis = 1).round(2)\n",
    "result = result.reindex(month_order)\n",
    "result = result[['no fire', 'small fire', 'large fire']]\n",
    "result = pd.DataFrame(result)\n",
    "\n",
    "x_train, x_test, y_train, y_test = train_test_split(X, y, train_size = 0.7, shuffle = True, random_state = 42)\n",
    "\n",
    "print(x_train.shape, x_test.shape)"
   ]
  },
  {
   "attachments": {},
   "cell_type": "markdown",
   "metadata": {},
   "source": [
    "### FWI"
   ]
  },
  {
   "cell_type": "code",
   "execution_count": 122,
   "metadata": {},
   "outputs": [
    {
     "name": "stdout",
     "output_type": "stream",
     "text": [
      "(1761, 4) (756, 4)\n"
     ]
    }
   ],
   "source": [
    "d = df.copy()\n",
    "d_up = d.copy()\n",
    "\n",
    "for m in d['month'].unique():\n",
    "    if((m != 'aug') & (m != 'sep')):\n",
    "        temp = d[d['month'] == m].sample(200, replace = True)\n",
    "        if d is d_up:\n",
    "            d_up = pd.concat([d, temp], axis = 0)\n",
    "        else:\n",
    "            d_up = pd.concat([d_up, temp], axis = 0)\n",
    "\n",
    "X = d_up.drop(['area', 'scale', 'rain', 'temp', 'RH', 'wind', 'month', 'day', 'X', 'Y'], axis=1)\n",
    "y = d_up['scale']\n",
    "# X = pd.get_dummies(X, ['month', 'day'])\n",
    "scale_order = ['no fire', 'small fire', 'large fire']\n",
    "# month_order = ['jan', 'feb', 'mar', 'apr', 'may', 'jun', 'jul', 'aug', 'sep', 'oct', 'nov', 'dec']\n",
    "d_up['scale'] = pd.Categorical(d_up['scale'], categories = scale_order, ordered = True)\n",
    "# d_up['month'] = pd.Categorical(d_up['month'], categories = month_order, ordered = True)\n",
    "# result = d_up.groupby(['month', 'scale'])['scale'].count().unstack('scale').fillna(0)\n",
    "# result = result.apply(lambda x: x/x.sum()*100, axis = 1).round(2)\n",
    "# result = result.reindex(month_order)\n",
    "# result = result[['no fire', 'small fire', 'large fire']]\n",
    "# result = pd.DataFrame(result)\n",
    "\n",
    "x_train, x_test, y_train, y_test = train_test_split(X, y, train_size = 0.7, shuffle = True, random_state = 42)\n",
    "\n",
    "print(x_train.shape, x_test.shape)\n",
    "# x_train"
   ]
  },
  {
   "attachments": {},
   "cell_type": "markdown",
   "metadata": {},
   "source": [
    "### M"
   ]
  },
  {
   "cell_type": "code",
   "execution_count": 125,
   "metadata": {},
   "outputs": [
    {
     "name": "stdout",
     "output_type": "stream",
     "text": [
      "(1761, 4) (756, 4)\n"
     ]
    }
   ],
   "source": [
    "d = df.copy()\n",
    "d_up = d.copy()\n",
    "\n",
    "for m in d['month'].unique():\n",
    "    if((m != 'aug') & (m != 'sep')):\n",
    "        temp = d[d['month'] == m].sample(200, replace = True)\n",
    "        if d is d_up:\n",
    "            d_up = pd.concat([d, temp], axis = 0)\n",
    "        else:\n",
    "            d_up = pd.concat([d_up, temp], axis = 0)\n",
    "\n",
    "X = d_up.drop(['area', 'scale', 'FFMC', 'DMC', 'DC', 'ISI', 'month', 'day', 'X', 'Y'], axis=1)\n",
    "y = d_up['scale']\n",
    "# X = pd.get_dummies(X, ['month', 'day'])\n",
    "scale_order = ['no fire', 'small fire', 'large fire']\n",
    "# month_order = ['jan', 'feb', 'mar', 'apr', 'may', 'jun', 'jul', 'aug', 'sep', 'oct', 'nov', 'dec']\n",
    "d_up['scale'] = pd.Categorical(d_up['scale'], categories = scale_order, ordered = True)\n",
    "# d_up['month'] = pd.Categorical(d_up['month'], categories = month_order, ordered = True)\n",
    "# result = d_up.groupby(['month', 'scale'])['scale'].count().unstack('scale').fillna(0)\n",
    "# result = result.apply(lambda x: x/x.sum()*100, axis = 1).round(2)\n",
    "# result = result.reindex(month_order)\n",
    "# result = result[['no fire', 'small fire', 'large fire']]\n",
    "# result = pd.DataFrame(result)\n",
    "\n",
    "x_train, x_test, y_train, y_test = train_test_split(X, y, train_size = 0.7, shuffle = True, random_state = 42)\n",
    "\n",
    "print(x_train.shape, x_test.shape)"
   ]
  },
  {
   "attachments": {},
   "cell_type": "markdown",
   "metadata": {},
   "source": [
    "## 1. RandomOverSimpler"
   ]
  },
  {
   "cell_type": "code",
   "execution_count": 76,
   "metadata": {},
   "outputs": [
    {
     "name": "stdout",
     "output_type": "stream",
     "text": [
      "(3078, 9) (756, 9)\n"
     ]
    }
   ],
   "source": [
    "from imblearn.over_sampling import RandomOverSampler\n",
    "ros = RandomOverSampler(sampling_strategy = 'auto')\n",
    "x_train_ros, y_train_ros = ros.fit_resample(x_train, y_train)\n",
    "print(x_train_ros.shape, x_test.shape)"
   ]
  },
  {
   "cell_type": "code",
   "execution_count": 21,
   "metadata": {},
   "outputs": [
    {
     "name": "stdout",
     "output_type": "stream",
     "text": [
      "no fire       0.333333\n",
      "large fire    0.333333\n",
      "small fire    0.333333\n",
      "Name: scale, dtype: float64\n"
     ]
    }
   ],
   "source": [
    "train_proportions = y_train_ros.value_counts(normalize = True)\n",
    "print(train_proportions)"
   ]
  },
  {
   "attachments": {},
   "cell_type": "markdown",
   "metadata": {},
   "source": [
    "## LogisticRegression"
   ]
  },
  {
   "cell_type": "code",
   "execution_count": 604,
   "metadata": {},
   "outputs": [
    {
     "name": "stdout",
     "output_type": "stream",
     "text": [
      "Acurracy:  44.31 %\n",
      "Precision: 50.239999999999995 %\n",
      "Recall: 44.31 %\n",
      "f1: 46.14 %\n"
     ]
    }
   ],
   "source": [
    "clf = LogisticRegression(max_iter = int(1e7) ,solver = 'liblinear', l1_ratio = 0.75)\n",
    "clf.fit(x_train_ros, y_train_ros)\n",
    "\n",
    "y_pred = clf.predict(x_test)\n",
    "\n",
    "acu = metrics.accuracy_score(y_test, y_pred)\n",
    "pre_class, r_class, f_class, sup = metrics.precision_recall_fscore_support(y_test, y_pred, average = 'weighted')\n",
    "\n",
    "\n",
    "print(\"Acurracy: \", round(acu, 4)*100, '%')\n",
    "print('Precision:', round(pre_class, 4)*100, '%')\n",
    "print('Recall:', round(r_class, 4)*100, '%')\n",
    "print('f1:', round(f_class, 4)*100, '%')"
   ]
  },
  {
   "cell_type": "code",
   "execution_count": 605,
   "metadata": {},
   "outputs": [
    {
     "data": {
      "application/vnd.plotly.v1+json": {
       "config": {
        "plotlyServerURL": "https://plotly.com"
       },
       "data": [
        {
         "line": {
          "width": 2
         },
         "mode": "lines",
         "name": "ROC curve of class large fire (AUC = 0.65)",
         "type": "scatter",
         "x": [
          0,
          0,
          0,
          0.0018484288354898336,
          0.005545286506469501,
          0.011090573012939002,
          0.011090573012939002,
          0.018484288354898338,
          0.018484288354898338,
          0.018484288354898338,
          0.022181146025878003,
          0.024029574861367836,
          0.024029574861367836,
          0.029574861367837338,
          0.036968576709796676,
          0.038817005545286505,
          0.04436229205175601,
          0.04436229205175601,
          0.04805914972273567,
          0.059149722735674676,
          0.066543438077634,
          0.07208872458410351,
          0.07393715341959335,
          0.09057301293900184,
          0.18484288354898337,
          0.1866913123844732,
          0.1866913123844732,
          0.19593345656192238,
          0.1977818853974122,
          0.20517560073937152,
          0.2144177449168207,
          0.21811460258780038,
          0.21811460258780038,
          0.22181146025878004,
          0.22181146025878004,
          0.22365988909426987,
          0.22920517560073936,
          0.24584103512014788,
          0.2476894639556377,
          0.2476894639556377,
          0.2513863216266174,
          0.266173752310536,
          0.27911275415896486,
          0.27911275415896486,
          0.2809611829944547,
          0.29390018484288355,
          0.2957486136783734,
          0.2957486136783734,
          0.29944547134935307,
          0.30129390018484287,
          0.3049907578558225,
          0.3049907578558225,
          0.3049907578558225,
          0.30868761552680224,
          0.31608133086876156,
          0.31608133086876156,
          0.3197781885397412,
          0.3364140480591497,
          0.3364140480591497,
          0.33826247689463956,
          0.3419593345656192,
          0.3438077634011091,
          0.3512014787430684,
          0.3512014787430684,
          0.3567467652495379,
          0.3659889094269871,
          0.3659889094269871,
          0.37153419593345655,
          0.37153419593345655,
          0.3733826247689464,
          0.3844731977818854,
          0.38817005545286504,
          0.38817005545286504,
          0.39371534195933455,
          0.4029574861367837,
          0.40850277264325324,
          0.4177449168207024,
          0.43068391866913125,
          0.43068391866913125,
          0.43622920517560076,
          0.4436229205175601,
          0.4454713493530499,
          0.4454713493530499,
          0.4454713493530499,
          0.4510166358595194,
          0.45286506469500926,
          0.45286506469500926,
          0.45471349353049906,
          0.4584103512014787,
          0.4676524953789279,
          0.46950092421441775,
          0.46950092421441775,
          0.47689463955637706,
          0.4805914972273567,
          0.4879852125693161,
          0.49168207024029575,
          0.49722735674676527,
          0.5064695009242144,
          0.5064695009242144,
          0.5138632162661737,
          0.5157116451016636,
          0.5157116451016636,
          0.5175600739371534,
          0.5175600739371534,
          0.5249537892791127,
          0.5249537892791127,
          0.5304990757855823,
          0.5397412199630314,
          0.5489833641404805,
          0.5489833641404805,
          0.5526802218114603,
          0.5526802218114603,
          0.5545286506469501,
          0.5545286506469501,
          0.55637707948244,
          0.55637707948244,
          0.55637707948244,
          0.5600739371534196,
          0.5619223659889094,
          0.5619223659889094,
          0.5637707948243993,
          0.5767097966728281,
          0.5841035120147874,
          0.5859519408502772,
          0.5914972273567468,
          0.5933456561922366,
          0.5933456561922366,
          0.5970425138632163,
          0.600739371534196,
          0.600739371534196,
          0.6081330868761553,
          0.6081330868761553,
          0.609981515711645,
          0.609981515711645,
          0.6155268022181146,
          0.6192236598890942,
          0.6266173752310537,
          0.6266173752310537,
          0.6321626617375231,
          0.6358595194085028,
          0.6358595194085028,
          0.6377079482439926,
          0.6377079482439926,
          0.6395563770794824,
          0.6469500924214417,
          0.6506469500924215,
          0.6561922365988909,
          0.6561922365988909,
          0.6598890942698706,
          0.6598890942698706,
          0.6598890942698706,
          0.6617375231053605,
          0.6691312384473198,
          0.6709796672828097,
          0.6709796672828097,
          0.6765249537892791,
          0.6765249537892791,
          0.678373382624769,
          0.6839186691312384,
          0.6913123844731978,
          0.6913123844731978,
          0.6931608133086876,
          0.6931608133086876,
          0.6987060998151571,
          0.6987060998151571,
          0.6987060998151571,
          0.7467652495378928,
          0.7504621072088724,
          0.7541589648798521,
          0.7541589648798521,
          0.756007393715342,
          0.7597042513863216,
          0.7597042513863216,
          0.767097966728281,
          0.7707948243992606,
          0.7707948243992606,
          0.7744916820702403,
          0.7744916820702403,
          0.7744916820702403,
          0.7837338262476895,
          0.789279112754159,
          0.8576709796672828,
          0.8613678373382625,
          0.8650646950092421,
          0.8650646950092421,
          0.866913123844732,
          0.8743068391866913,
          0.878003696857671,
          0.8817005545286506,
          0.8835489833641405,
          0.8872458410351202,
          0.8872458410351202,
          0.8927911275415896,
          0.8946395563770795,
          0.9168207024029574,
          0.9279112754158965,
          0.9297597042513863,
          0.9981515711645101,
          1
         ],
         "y": [
          0,
          0.12558139534883722,
          0.15348837209302327,
          0.15348837209302327,
          0.15348837209302327,
          0.15348837209302327,
          0.17674418604651163,
          0.17674418604651163,
          0.2,
          0.23255813953488372,
          0.23255813953488372,
          0.23255813953488372,
          0.28837209302325584,
          0.28837209302325584,
          0.28837209302325584,
          0.28837209302325584,
          0.28837209302325584,
          0.3023255813953488,
          0.3023255813953488,
          0.3023255813953488,
          0.3023255813953488,
          0.3023255813953488,
          0.3023255813953488,
          0.33488372093023255,
          0.33488372093023255,
          0.3395348837209302,
          0.3488372093023256,
          0.3488372093023256,
          0.3488372093023256,
          0.3488372093023256,
          0.3488372093023256,
          0.3488372093023256,
          0.3581395348837209,
          0.3581395348837209,
          0.3627906976744186,
          0.3627906976744186,
          0.3627906976744186,
          0.3627906976744186,
          0.3674418604651163,
          0.40930232558139534,
          0.40930232558139534,
          0.40930232558139534,
          0.40930232558139534,
          0.413953488372093,
          0.413953488372093,
          0.413953488372093,
          0.413953488372093,
          0.4232558139534884,
          0.4232558139534884,
          0.4232558139534884,
          0.4232558139534884,
          0.42790697674418604,
          0.4372093023255814,
          0.4372093023255814,
          0.4372093023255814,
          0.4418604651162791,
          0.4418604651162791,
          0.4418604651162791,
          0.4558139534883721,
          0.4558139534883721,
          0.4558139534883721,
          0.4558139534883721,
          0.4558139534883721,
          0.4604651162790698,
          0.4604651162790698,
          0.4604651162790698,
          0.4744186046511628,
          0.4744186046511628,
          0.4883720930232558,
          0.4883720930232558,
          0.4883720930232558,
          0.4883720930232558,
          0.4930232558139535,
          0.4930232558139535,
          0.4930232558139535,
          0.4930232558139535,
          0.4930232558139535,
          0.4930232558139535,
          0.5162790697674419,
          0.5162790697674419,
          0.5162790697674419,
          0.5162790697674419,
          0.641860465116279,
          0.6465116279069767,
          0.6465116279069767,
          0.6465116279069767,
          0.6604651162790698,
          0.6604651162790698,
          0.6604651162790698,
          0.6604651162790698,
          0.6604651162790698,
          0.6651162790697674,
          0.6651162790697674,
          0.6651162790697674,
          0.6651162790697674,
          0.6651162790697674,
          0.6651162790697674,
          0.6651162790697674,
          0.6744186046511628,
          0.6744186046511628,
          0.6744186046511628,
          0.6790697674418604,
          0.6790697674418604,
          0.6837209302325581,
          0.6837209302325581,
          0.6883720930232559,
          0.6883720930232559,
          0.7069767441860465,
          0.7069767441860465,
          0.7116279069767442,
          0.7116279069767442,
          0.7162790697674418,
          0.7162790697674418,
          0.7209302325581395,
          0.7209302325581395,
          0.7302325581395349,
          0.7488372093023256,
          0.7488372093023256,
          0.7488372093023256,
          0.7581395348837209,
          0.7581395348837209,
          0.7581395348837209,
          0.7581395348837209,
          0.7581395348837209,
          0.7581395348837209,
          0.7581395348837209,
          0.7674418604651163,
          0.7674418604651163,
          0.7674418604651163,
          0.772093023255814,
          0.772093023255814,
          0.7767441860465116,
          0.7767441860465116,
          0.786046511627907,
          0.786046511627907,
          0.786046511627907,
          0.786046511627907,
          0.7906976744186046,
          0.7906976744186046,
          0.7906976744186046,
          0.8046511627906977,
          0.8046511627906977,
          0.8093023255813954,
          0.8093023255813954,
          0.8093023255813954,
          0.8093023255813954,
          0.8093023255813954,
          0.8186046511627907,
          0.8186046511627907,
          0.8418604651162791,
          0.8604651162790697,
          0.8604651162790697,
          0.8604651162790697,
          0.8604651162790697,
          0.8651162790697674,
          0.8651162790697674,
          0.8697674418604651,
          0.8697674418604651,
          0.8697674418604651,
          0.8697674418604651,
          0.8744186046511628,
          0.8744186046511628,
          0.8790697674418605,
          0.8790697674418605,
          0.8883720930232558,
          0.8930232558139535,
          0.8930232558139535,
          0.8930232558139535,
          0.8930232558139535,
          0.8976744186046511,
          0.8976744186046511,
          0.8976744186046511,
          0.9023255813953488,
          0.9023255813953488,
          0.9023255813953488,
          0.9116279069767442,
          0.9116279069767442,
          0.9348837209302325,
          0.9627906976744186,
          0.9627906976744186,
          0.9627906976744186,
          0.9627906976744186,
          0.9627906976744186,
          0.9627906976744186,
          0.9720930232558139,
          0.9720930232558139,
          0.9720930232558139,
          0.9720930232558139,
          0.9720930232558139,
          0.9720930232558139,
          0.9720930232558139,
          1,
          1,
          1,
          1,
          1,
          1,
          1,
          1
         ]
        },
        {
         "line": {
          "width": 2
         },
         "mode": "lines",
         "name": "ROC curve of class no fire (AUC = 0.65)",
         "type": "scatter",
         "x": [
          0,
          0,
          0.0058823529411764705,
          0.0058823529411764705,
          0.0058823529411764705,
          0.0058823529411764705,
          0.023529411764705882,
          0.03823529411764706,
          0.03823529411764706,
          0.03823529411764706,
          0.04411764705882353,
          0.04411764705882353,
          0.04411764705882353,
          0.04411764705882353,
          0.04411764705882353,
          0.04411764705882353,
          0.04411764705882353,
          0.047058823529411764,
          0.047058823529411764,
          0.05,
          0.05,
          0.05588235294117647,
          0.05588235294117647,
          0.061764705882352944,
          0.061764705882352944,
          0.07352941176470588,
          0.07941176470588235,
          0.07941176470588235,
          0.07941176470588235,
          0.07941176470588235,
          0.08529411764705883,
          0.08529411764705883,
          0.08529411764705883,
          0.08823529411764706,
          0.1,
          0.1,
          0.10294117647058823,
          0.12941176470588237,
          0.12941176470588237,
          0.13529411764705881,
          0.13529411764705881,
          0.15294117647058825,
          0.15294117647058825,
          0.15588235294117647,
          0.15588235294117647,
          0.17352941176470588,
          0.2,
          0.2,
          0.20294117647058824,
          0.21764705882352942,
          0.21764705882352942,
          0.22941176470588234,
          0.22941176470588234,
          0.24411764705882352,
          0.24411764705882352,
          0.24705882352941178,
          0.24705882352941178,
          0.24705882352941178,
          0.2676470588235294,
          0.2676470588235294,
          0.27058823529411763,
          0.27058823529411763,
          0.2823529411764706,
          0.2823529411764706,
          0.28823529411764703,
          0.28823529411764703,
          0.29705882352941176,
          0.29705882352941176,
          0.29705882352941176,
          0.3058823529411765,
          0.3088235294117647,
          0.3088235294117647,
          0.3088235294117647,
          0.3088235294117647,
          0.3088235294117647,
          0.3088235294117647,
          0.3205882352941177,
          0.3264705882352941,
          0.32941176470588235,
          0.3352941176470588,
          0.3352941176470588,
          0.3352941176470588,
          0.3382352941176471,
          0.3382352941176471,
          0.3382352941176471,
          0.34411764705882353,
          0.34411764705882353,
          0.34411764705882353,
          0.3911764705882353,
          0.3911764705882353,
          0.4,
          0.4,
          0.40294117647058825,
          0.42058823529411765,
          0.4264705882352941,
          0.4294117647058823,
          0.4294117647058823,
          0.4294117647058823,
          0.4323529411764706,
          0.4323529411764706,
          0.4323529411764706,
          0.43823529411764706,
          0.43823529411764706,
          0.4411764705882353,
          0.5205882352941177,
          0.5205882352941177,
          0.5205882352941177,
          0.5264705882352941,
          0.5323529411764706,
          0.5323529411764706,
          0.5470588235294118,
          0.5529411764705883,
          0.5529411764705883,
          0.5558823529411765,
          0.5705882352941176,
          0.5705882352941176,
          0.5735294117647058,
          0.5823529411764706,
          0.5852941176470589,
          0.5852941176470589,
          0.5882352941176471,
          0.5882352941176471,
          0.5911764705882353,
          0.5911764705882353,
          0.5970588235294118,
          0.6088235294117647,
          0.6088235294117647,
          0.6147058823529412,
          0.6147058823529412,
          0.6147058823529412,
          0.6147058823529412,
          0.6147058823529412,
          0.6235294117647059,
          0.6264705882352941,
          0.6264705882352941,
          0.6352941176470588,
          0.6352941176470588,
          0.6352941176470588,
          0.6352941176470588,
          0.638235294117647,
          0.638235294117647,
          0.65,
          0.65,
          0.6529411764705882,
          0.6529411764705882,
          0.6529411764705882,
          0.6529411764705882,
          0.6617647058823529,
          0.6617647058823529,
          0.6647058823529411,
          0.6705882352941176,
          0.6735294117647059,
          0.7088235294117647,
          0.711764705882353,
          0.711764705882353,
          0.711764705882353,
          0.7147058823529412,
          0.7147058823529412,
          0.7205882352941176,
          0.7411764705882353,
          0.7470588235294118,
          0.75,
          0.75,
          0.75,
          0.75,
          0.7558823529411764,
          0.7558823529411764,
          0.7764705882352941,
          0.7764705882352941,
          0.7794117647058824,
          0.7852941176470588,
          0.788235294117647,
          0.788235294117647,
          0.7911764705882353,
          0.8058823529411765,
          0.8058823529411765,
          0.8058823529411765,
          0.8088235294117647,
          0.8088235294117647,
          0.8088235294117647,
          0.8235294117647058,
          0.8352941176470589,
          0.8382352941176471,
          0.8382352941176471,
          0.8411764705882353,
          0.8411764705882353,
          0.8411764705882353,
          0.85,
          0.8676470588235294,
          0.9470588235294117,
          0.95,
          0.9588235294117647,
          0.9588235294117647,
          0.961764705882353,
          0.961764705882353,
          0.9735294117647059,
          0.9735294117647059,
          0.9735294117647059,
          0.9882352941176471,
          1
         ],
         "y": [
          0,
          0.0889423076923077,
          0.0889423076923077,
          0.09375,
          0.09615384615384616,
          0.10096153846153846,
          0.10096153846153846,
          0.10096153846153846,
          0.16346153846153846,
          0.1658653846153846,
          0.1658653846153846,
          0.17548076923076922,
          0.20432692307692307,
          0.21875,
          0.2283653846153846,
          0.23557692307692307,
          0.23798076923076922,
          0.23798076923076922,
          0.24278846153846154,
          0.24278846153846154,
          0.25,
          0.25,
          0.25240384615384615,
          0.25240384615384615,
          0.2620192307692308,
          0.2620192307692308,
          0.2620192307692308,
          0.2644230769230769,
          0.2692307692307692,
          0.27884615384615385,
          0.27884615384615385,
          0.28846153846153844,
          0.2932692307692308,
          0.2932692307692308,
          0.2932692307692308,
          0.2980769230769231,
          0.2980769230769231,
          0.2980769230769231,
          0.30528846153846156,
          0.30528846153846156,
          0.3173076923076923,
          0.3173076923076923,
          0.3245192307692308,
          0.3245192307692308,
          0.33413461538461536,
          0.33413461538461536,
          0.33413461538461536,
          0.33653846153846156,
          0.33653846153846156,
          0.33653846153846156,
          0.3389423076923077,
          0.3389423076923077,
          0.34375,
          0.34375,
          0.4326923076923077,
          0.4326923076923077,
          0.4423076923076923,
          0.4495192307692308,
          0.4495192307692308,
          0.4519230769230769,
          0.4519230769230769,
          0.4543269230769231,
          0.4543269230769231,
          0.4567307692307692,
          0.4567307692307692,
          0.46153846153846156,
          0.46153846153846156,
          0.4831730769230769,
          0.4855769230769231,
          0.4855769230769231,
          0.4855769230769231,
          0.49278846153846156,
          0.4951923076923077,
          0.5072115384615384,
          0.5096153846153846,
          0.5168269230769231,
          0.5168269230769231,
          0.5168269230769231,
          0.5168269230769231,
          0.5168269230769231,
          0.5192307692307693,
          0.5288461538461539,
          0.5288461538461539,
          0.53125,
          0.5360576923076923,
          0.5360576923076923,
          0.5528846153846154,
          0.5552884615384616,
          0.5552884615384616,
          0.5576923076923077,
          0.5576923076923077,
          0.5649038461538461,
          0.5649038461538461,
          0.5649038461538461,
          0.5649038461538461,
          0.5649038461538461,
          0.5697115384615384,
          0.6923076923076923,
          0.6923076923076923,
          0.6971153846153846,
          0.7091346153846154,
          0.7091346153846154,
          0.7115384615384616,
          0.7115384615384616,
          0.7115384615384616,
          0.7163461538461539,
          0.7259615384615384,
          0.7259615384615384,
          0.7259615384615384,
          0.7307692307692307,
          0.7307692307692307,
          0.7307692307692307,
          0.7355769230769231,
          0.7355769230769231,
          0.7355769230769231,
          0.7403846153846154,
          0.7403846153846154,
          0.7403846153846154,
          0.7403846153846154,
          0.7451923076923077,
          0.7475961538461539,
          0.7524038461538461,
          0.7524038461538461,
          0.7548076923076923,
          0.7548076923076923,
          0.7548076923076923,
          0.7572115384615384,
          0.7572115384615384,
          0.7692307692307693,
          0.7788461538461539,
          0.7932692307692307,
          0.7980769230769231,
          0.7980769230769231,
          0.7980769230769231,
          0.8028846153846154,
          0.8028846153846154,
          0.8052884615384616,
          0.8149038461538461,
          0.8173076923076923,
          0.8173076923076923,
          0.8221153846153846,
          0.8221153846153846,
          0.8389423076923077,
          0.8389423076923077,
          0.8413461538461539,
          0.8557692307692307,
          0.8581730769230769,
          0.8581730769230769,
          0.8605769230769231,
          0.8605769230769231,
          0.8605769230769231,
          0.8605769230769231,
          0.8605769230769231,
          0.8605769230769231,
          0.8653846153846154,
          0.8846153846153846,
          0.8846153846153846,
          0.8870192307692307,
          0.8870192307692307,
          0.8870192307692307,
          0.8870192307692307,
          0.8870192307692307,
          0.8918269230769231,
          0.8942307692307693,
          0.8990384615384616,
          0.8990384615384616,
          0.9014423076923077,
          0.9014423076923077,
          0.9038461538461539,
          0.9038461538461539,
          0.9038461538461539,
          0.9038461538461539,
          0.9182692307692307,
          0.9182692307692307,
          0.9182692307692307,
          0.9278846153846154,
          0.9399038461538461,
          0.9399038461538461,
          0.9423076923076923,
          0.9495192307692307,
          0.9495192307692307,
          0.9615384615384616,
          0.9615384615384616,
          0.9663461538461539,
          0.9663461538461539,
          0.96875,
          0.9759615384615384,
          0.9759615384615384,
          0.9759615384615384,
          0.9759615384615384,
          0.9759615384615384,
          0.9759615384615384,
          0.9855769230769231,
          0.9855769230769231,
          0.9927884615384616,
          0.9927884615384616,
          0.9975961538461539,
          1,
          1,
          1
         ]
        },
        {
         "line": {
          "width": 2
         },
         "mode": "lines",
         "name": "ROC curve of class small fire (AUC = 0.60)",
         "type": "scatter",
         "x": [
          0,
          0.001584786053882726,
          0.003169572107765452,
          0.003169572107765452,
          0.00792393026941363,
          0.00792393026941363,
          0.022187004754358162,
          0.02377179080824089,
          0.02377179080824089,
          0.02377179080824089,
          0.025356576862123614,
          0.03486529318541997,
          0.039619651347068144,
          0.042789223454833596,
          0.0491283676703645,
          0.0491283676703645,
          0.05229793977812995,
          0.0554675118858954,
          0.060221870047543584,
          0.060221870047543584,
          0.06656101426307448,
          0.07131537242472266,
          0.07131537242472266,
          0.07448494453248812,
          0.07606973058637084,
          0.08399366085578447,
          0.08557844690966719,
          0.08557844690966719,
          0.08874801901743265,
          0.08874801901743265,
          0.0919175911251981,
          0.0919175911251981,
          0.09667194928684628,
          0.09667194928684628,
          0.10301109350237718,
          0.10618066561014262,
          0.10618066561014262,
          0.10776545166402536,
          0.10776545166402536,
          0.10935023771790808,
          0.10935023771790808,
          0.11251980982567353,
          0.11568938193343899,
          0.11727416798732171,
          0.11727416798732171,
          0.12361331220285261,
          0.1347068145800317,
          0.13629160063391443,
          0.13629160063391443,
          0.13787638668779714,
          0.13787638668779714,
          0.13946117274167988,
          0.13946117274167988,
          0.14421553090332806,
          0.1473851030110935,
          0.1473851030110935,
          0.14896988906497624,
          0.14896988906497624,
          0.14896988906497624,
          0.15213946117274169,
          0.1537242472266244,
          0.1537242472266244,
          0.15689381933438987,
          0.15689381933438987,
          0.15847860538827258,
          0.1664025356576862,
          0.179080824088748,
          0.18225039619651348,
          0.18225039619651348,
          0.18541996830427893,
          0.18541996830427893,
          0.1949286846275753,
          0.19809825673534073,
          0.2076069730586371,
          0.21236133122028525,
          0.21394611727416799,
          0.21870047543581617,
          0.277337559429477,
          0.2836767036450079,
          0.2836767036450079,
          0.29160063391442154,
          0.2931854199683043,
          0.2931854199683043,
          0.29635499207606975,
          0.29635499207606975,
          0.29952456418383516,
          0.3011093502377179,
          0.31061806656101426,
          0.3185419968304279,
          0.32171156893819336,
          0.32171156893819336,
          0.32171156893819336,
          0.36450079239302696,
          0.36450079239302696,
          0.36608557844690964,
          0.36608557844690964,
          0.3676703645007924,
          0.37400950871632327,
          0.37717908082408874,
          0.37717908082408874,
          0.3803486529318542,
          0.38510301109350237,
          0.38510301109350237,
          0.3866877971473851,
          0.393026941362916,
          0.3977812995245642,
          0.3977812995245642,
          0.40729001584786056,
          0.40887480190174325,
          0.41362916006339145,
          0.4152139461172742,
          0.4215530903328051,
          0.4247226624405705,
          0.4326465927099842,
          0.4326465927099842,
          0.4405705229793978,
          0.4469096671949287,
          0.4548335974643423,
          0.4548335974643423,
          0.45641838351822506,
          0.45641838351822506,
          0.4611727416798732,
          0.46275752773375595,
          0.4659270998415214,
          0.4675118858954041,
          0.46909667194928684,
          0.47385103011093505,
          0.47702060221870046,
          0.48335974643423135,
          0.4865293185419968,
          0.48811410459587956,
          0.49128367670364503,
          0.4928684627575277,
          0.49920760697305866,
          0.49920760697305866,
          0.5023771790808241,
          0.5071315372424723,
          0.5103011093502378,
          0.5150554675118859,
          0.5166402535657686,
          0.5245641838351822,
          0.5340729001584786,
          0.5530903328050714,
          0.554675118858954,
          0.5594294770206022,
          0.5625990491283677,
          0.5625990491283677,
          0.5625990491283677,
          0.5736925515055468,
          0.5752773375594294,
          0.5752773375594294,
          0.5942947702060222,
          0.606973058637084,
          0.618066561014263,
          0.6228209191759112,
          0.6259904912836767,
          0.6339144215530903,
          0.6386687797147385,
          0.6418383518225039,
          0.6434231378763867,
          0.6481774960380349,
          0.6481774960380349,
          0.652931854199683,
          0.652931854199683,
          0.652931854199683,
          0.659270998415214,
          0.659270998415214,
          0.7400950871632329,
          0.7400950871632329,
          0.7432646592709984,
          0.7496038034865293,
          0.7638668779714739,
          0.7654516640253566,
          0.7765451664025357,
          0.7797147385103012,
          0.7797147385103012,
          0.7923930269413629,
          0.7939778129952456,
          0.7939778129952456,
          0.803486529318542,
          0.8082408874801902,
          0.8082408874801902,
          0.8161648177496038,
          0.8256735340729001,
          0.8684627575277337,
          0.8748019017432647,
          0.9160063391442155,
          0.9175911251980983,
          0.9175911251980983,
          0.9762282091917591,
          0.9904912836767037,
          1
         ],
         "y": [
          0,
          0,
          0,
          0.008,
          0.008,
          0.016,
          0.016,
          0.016,
          0.032,
          0.048,
          0.048,
          0.048,
          0.048,
          0.048,
          0.048,
          0.056,
          0.056,
          0.056,
          0.056,
          0.096,
          0.096,
          0.096,
          0.112,
          0.112,
          0.112,
          0.112,
          0.112,
          0.12,
          0.12,
          0.128,
          0.128,
          0.144,
          0.144,
          0.152,
          0.152,
          0.152,
          0.16,
          0.16,
          0.168,
          0.168,
          0.184,
          0.184,
          0.184,
          0.184,
          0.192,
          0.192,
          0.192,
          0.192,
          0.2,
          0.2,
          0.208,
          0.208,
          0.224,
          0.224,
          0.224,
          0.232,
          0.232,
          0.288,
          0.296,
          0.296,
          0.296,
          0.304,
          0.304,
          0.352,
          0.352,
          0.352,
          0.352,
          0.352,
          0.36,
          0.36,
          0.376,
          0.376,
          0.376,
          0.376,
          0.376,
          0.376,
          0.376,
          0.376,
          0.376,
          0.416,
          0.416,
          0.416,
          0.432,
          0.432,
          0.448,
          0.448,
          0.448,
          0.448,
          0.448,
          0.448,
          0.456,
          0.48,
          0.48,
          0.488,
          0.488,
          0.496,
          0.496,
          0.496,
          0.496,
          0.512,
          0.512,
          0.512,
          0.544,
          0.544,
          0.544,
          0.544,
          0.56,
          0.56,
          0.56,
          0.56,
          0.56,
          0.56,
          0.56,
          0.56,
          0.616,
          0.616,
          0.616,
          0.616,
          0.624,
          0.624,
          0.64,
          0.64,
          0.64,
          0.64,
          0.648,
          0.648,
          0.648,
          0.648,
          0.648,
          0.648,
          0.648,
          0.648,
          0.648,
          0.648,
          0.656,
          0.656,
          0.656,
          0.656,
          0.656,
          0.656,
          0.656,
          0.656,
          0.656,
          0.656,
          0.656,
          0.656,
          0.68,
          0.688,
          0.688,
          0.688,
          0.696,
          0.696,
          0.696,
          0.696,
          0.696,
          0.696,
          0.696,
          0.696,
          0.696,
          0.696,
          0.696,
          0.728,
          0.728,
          0.736,
          0.776,
          0.776,
          0.784,
          0.784,
          0.8,
          0.8,
          0.8,
          0.8,
          0.8,
          0.872,
          0.872,
          0.888,
          0.888,
          0.888,
          0.896,
          0.896,
          0.896,
          0.968,
          0.968,
          0.968,
          0.968,
          0.968,
          0.968,
          0.968,
          1,
          1,
          1,
          1
         ]
        },
        {
         "line": {
          "color": "navy",
          "dash": "dash",
          "width": 2
         },
         "mode": "lines",
         "showlegend": false,
         "type": "scatter",
         "x": [
          0,
          1
         ],
         "y": [
          0,
          1
         ]
        }
       ],
       "layout": {
        "annotations": [
         {
          "align": "center",
          "showarrow": false,
          "text": "Micro-average ROC curve (AUC = 0.64)\nComputed using all classes as positive samples\n(3-way classification)",
          "x": 0.5,
          "xref": "paper",
          "y": -0.2,
          "yref": "paper"
         }
        ],
        "height": 800,
        "legend": {
         "x": 0.1,
         "y": 0.9
        },
        "template": {
         "data": {
          "bar": [
           {
            "error_x": {
             "color": "#2a3f5f"
            },
            "error_y": {
             "color": "#2a3f5f"
            },
            "marker": {
             "line": {
              "color": "#E5ECF6",
              "width": 0.5
             },
             "pattern": {
              "fillmode": "overlay",
              "size": 10,
              "solidity": 0.2
             }
            },
            "type": "bar"
           }
          ],
          "barpolar": [
           {
            "marker": {
             "line": {
              "color": "#E5ECF6",
              "width": 0.5
             },
             "pattern": {
              "fillmode": "overlay",
              "size": 10,
              "solidity": 0.2
             }
            },
            "type": "barpolar"
           }
          ],
          "carpet": [
           {
            "aaxis": {
             "endlinecolor": "#2a3f5f",
             "gridcolor": "white",
             "linecolor": "white",
             "minorgridcolor": "white",
             "startlinecolor": "#2a3f5f"
            },
            "baxis": {
             "endlinecolor": "#2a3f5f",
             "gridcolor": "white",
             "linecolor": "white",
             "minorgridcolor": "white",
             "startlinecolor": "#2a3f5f"
            },
            "type": "carpet"
           }
          ],
          "choropleth": [
           {
            "colorbar": {
             "outlinewidth": 0,
             "ticks": ""
            },
            "type": "choropleth"
           }
          ],
          "contour": [
           {
            "colorbar": {
             "outlinewidth": 0,
             "ticks": ""
            },
            "colorscale": [
             [
              0,
              "#0d0887"
             ],
             [
              0.1111111111111111,
              "#46039f"
             ],
             [
              0.2222222222222222,
              "#7201a8"
             ],
             [
              0.3333333333333333,
              "#9c179e"
             ],
             [
              0.4444444444444444,
              "#bd3786"
             ],
             [
              0.5555555555555556,
              "#d8576b"
             ],
             [
              0.6666666666666666,
              "#ed7953"
             ],
             [
              0.7777777777777778,
              "#fb9f3a"
             ],
             [
              0.8888888888888888,
              "#fdca26"
             ],
             [
              1,
              "#f0f921"
             ]
            ],
            "type": "contour"
           }
          ],
          "contourcarpet": [
           {
            "colorbar": {
             "outlinewidth": 0,
             "ticks": ""
            },
            "type": "contourcarpet"
           }
          ],
          "heatmap": [
           {
            "colorbar": {
             "outlinewidth": 0,
             "ticks": ""
            },
            "colorscale": [
             [
              0,
              "#0d0887"
             ],
             [
              0.1111111111111111,
              "#46039f"
             ],
             [
              0.2222222222222222,
              "#7201a8"
             ],
             [
              0.3333333333333333,
              "#9c179e"
             ],
             [
              0.4444444444444444,
              "#bd3786"
             ],
             [
              0.5555555555555556,
              "#d8576b"
             ],
             [
              0.6666666666666666,
              "#ed7953"
             ],
             [
              0.7777777777777778,
              "#fb9f3a"
             ],
             [
              0.8888888888888888,
              "#fdca26"
             ],
             [
              1,
              "#f0f921"
             ]
            ],
            "type": "heatmap"
           }
          ],
          "heatmapgl": [
           {
            "colorbar": {
             "outlinewidth": 0,
             "ticks": ""
            },
            "colorscale": [
             [
              0,
              "#0d0887"
             ],
             [
              0.1111111111111111,
              "#46039f"
             ],
             [
              0.2222222222222222,
              "#7201a8"
             ],
             [
              0.3333333333333333,
              "#9c179e"
             ],
             [
              0.4444444444444444,
              "#bd3786"
             ],
             [
              0.5555555555555556,
              "#d8576b"
             ],
             [
              0.6666666666666666,
              "#ed7953"
             ],
             [
              0.7777777777777778,
              "#fb9f3a"
             ],
             [
              0.8888888888888888,
              "#fdca26"
             ],
             [
              1,
              "#f0f921"
             ]
            ],
            "type": "heatmapgl"
           }
          ],
          "histogram": [
           {
            "marker": {
             "pattern": {
              "fillmode": "overlay",
              "size": 10,
              "solidity": 0.2
             }
            },
            "type": "histogram"
           }
          ],
          "histogram2d": [
           {
            "colorbar": {
             "outlinewidth": 0,
             "ticks": ""
            },
            "colorscale": [
             [
              0,
              "#0d0887"
             ],
             [
              0.1111111111111111,
              "#46039f"
             ],
             [
              0.2222222222222222,
              "#7201a8"
             ],
             [
              0.3333333333333333,
              "#9c179e"
             ],
             [
              0.4444444444444444,
              "#bd3786"
             ],
             [
              0.5555555555555556,
              "#d8576b"
             ],
             [
              0.6666666666666666,
              "#ed7953"
             ],
             [
              0.7777777777777778,
              "#fb9f3a"
             ],
             [
              0.8888888888888888,
              "#fdca26"
             ],
             [
              1,
              "#f0f921"
             ]
            ],
            "type": "histogram2d"
           }
          ],
          "histogram2dcontour": [
           {
            "colorbar": {
             "outlinewidth": 0,
             "ticks": ""
            },
            "colorscale": [
             [
              0,
              "#0d0887"
             ],
             [
              0.1111111111111111,
              "#46039f"
             ],
             [
              0.2222222222222222,
              "#7201a8"
             ],
             [
              0.3333333333333333,
              "#9c179e"
             ],
             [
              0.4444444444444444,
              "#bd3786"
             ],
             [
              0.5555555555555556,
              "#d8576b"
             ],
             [
              0.6666666666666666,
              "#ed7953"
             ],
             [
              0.7777777777777778,
              "#fb9f3a"
             ],
             [
              0.8888888888888888,
              "#fdca26"
             ],
             [
              1,
              "#f0f921"
             ]
            ],
            "type": "histogram2dcontour"
           }
          ],
          "mesh3d": [
           {
            "colorbar": {
             "outlinewidth": 0,
             "ticks": ""
            },
            "type": "mesh3d"
           }
          ],
          "parcoords": [
           {
            "line": {
             "colorbar": {
              "outlinewidth": 0,
              "ticks": ""
             }
            },
            "type": "parcoords"
           }
          ],
          "pie": [
           {
            "automargin": true,
            "type": "pie"
           }
          ],
          "scatter": [
           {
            "fillpattern": {
             "fillmode": "overlay",
             "size": 10,
             "solidity": 0.2
            },
            "type": "scatter"
           }
          ],
          "scatter3d": [
           {
            "line": {
             "colorbar": {
              "outlinewidth": 0,
              "ticks": ""
             }
            },
            "marker": {
             "colorbar": {
              "outlinewidth": 0,
              "ticks": ""
             }
            },
            "type": "scatter3d"
           }
          ],
          "scattercarpet": [
           {
            "marker": {
             "colorbar": {
              "outlinewidth": 0,
              "ticks": ""
             }
            },
            "type": "scattercarpet"
           }
          ],
          "scattergeo": [
           {
            "marker": {
             "colorbar": {
              "outlinewidth": 0,
              "ticks": ""
             }
            },
            "type": "scattergeo"
           }
          ],
          "scattergl": [
           {
            "marker": {
             "colorbar": {
              "outlinewidth": 0,
              "ticks": ""
             }
            },
            "type": "scattergl"
           }
          ],
          "scattermapbox": [
           {
            "marker": {
             "colorbar": {
              "outlinewidth": 0,
              "ticks": ""
             }
            },
            "type": "scattermapbox"
           }
          ],
          "scatterpolar": [
           {
            "marker": {
             "colorbar": {
              "outlinewidth": 0,
              "ticks": ""
             }
            },
            "type": "scatterpolar"
           }
          ],
          "scatterpolargl": [
           {
            "marker": {
             "colorbar": {
              "outlinewidth": 0,
              "ticks": ""
             }
            },
            "type": "scatterpolargl"
           }
          ],
          "scatterternary": [
           {
            "marker": {
             "colorbar": {
              "outlinewidth": 0,
              "ticks": ""
             }
            },
            "type": "scatterternary"
           }
          ],
          "surface": [
           {
            "colorbar": {
             "outlinewidth": 0,
             "ticks": ""
            },
            "colorscale": [
             [
              0,
              "#0d0887"
             ],
             [
              0.1111111111111111,
              "#46039f"
             ],
             [
              0.2222222222222222,
              "#7201a8"
             ],
             [
              0.3333333333333333,
              "#9c179e"
             ],
             [
              0.4444444444444444,
              "#bd3786"
             ],
             [
              0.5555555555555556,
              "#d8576b"
             ],
             [
              0.6666666666666666,
              "#ed7953"
             ],
             [
              0.7777777777777778,
              "#fb9f3a"
             ],
             [
              0.8888888888888888,
              "#fdca26"
             ],
             [
              1,
              "#f0f921"
             ]
            ],
            "type": "surface"
           }
          ],
          "table": [
           {
            "cells": {
             "fill": {
              "color": "#EBF0F8"
             },
             "line": {
              "color": "white"
             }
            },
            "header": {
             "fill": {
              "color": "#C8D4E3"
             },
             "line": {
              "color": "white"
             }
            },
            "type": "table"
           }
          ]
         },
         "layout": {
          "annotationdefaults": {
           "arrowcolor": "#2a3f5f",
           "arrowhead": 0,
           "arrowwidth": 1
          },
          "autotypenumbers": "strict",
          "coloraxis": {
           "colorbar": {
            "outlinewidth": 0,
            "ticks": ""
           }
          },
          "colorscale": {
           "diverging": [
            [
             0,
             "#8e0152"
            ],
            [
             0.1,
             "#c51b7d"
            ],
            [
             0.2,
             "#de77ae"
            ],
            [
             0.3,
             "#f1b6da"
            ],
            [
             0.4,
             "#fde0ef"
            ],
            [
             0.5,
             "#f7f7f7"
            ],
            [
             0.6,
             "#e6f5d0"
            ],
            [
             0.7,
             "#b8e186"
            ],
            [
             0.8,
             "#7fbc41"
            ],
            [
             0.9,
             "#4d9221"
            ],
            [
             1,
             "#276419"
            ]
           ],
           "sequential": [
            [
             0,
             "#0d0887"
            ],
            [
             0.1111111111111111,
             "#46039f"
            ],
            [
             0.2222222222222222,
             "#7201a8"
            ],
            [
             0.3333333333333333,
             "#9c179e"
            ],
            [
             0.4444444444444444,
             "#bd3786"
            ],
            [
             0.5555555555555556,
             "#d8576b"
            ],
            [
             0.6666666666666666,
             "#ed7953"
            ],
            [
             0.7777777777777778,
             "#fb9f3a"
            ],
            [
             0.8888888888888888,
             "#fdca26"
            ],
            [
             1,
             "#f0f921"
            ]
           ],
           "sequentialminus": [
            [
             0,
             "#0d0887"
            ],
            [
             0.1111111111111111,
             "#46039f"
            ],
            [
             0.2222222222222222,
             "#7201a8"
            ],
            [
             0.3333333333333333,
             "#9c179e"
            ],
            [
             0.4444444444444444,
             "#bd3786"
            ],
            [
             0.5555555555555556,
             "#d8576b"
            ],
            [
             0.6666666666666666,
             "#ed7953"
            ],
            [
             0.7777777777777778,
             "#fb9f3a"
            ],
            [
             0.8888888888888888,
             "#fdca26"
            ],
            [
             1,
             "#f0f921"
            ]
           ]
          },
          "colorway": [
           "#636efa",
           "#EF553B",
           "#00cc96",
           "#ab63fa",
           "#FFA15A",
           "#19d3f3",
           "#FF6692",
           "#B6E880",
           "#FF97FF",
           "#FECB52"
          ],
          "font": {
           "color": "#2a3f5f"
          },
          "geo": {
           "bgcolor": "white",
           "lakecolor": "white",
           "landcolor": "#E5ECF6",
           "showlakes": true,
           "showland": true,
           "subunitcolor": "white"
          },
          "hoverlabel": {
           "align": "left"
          },
          "hovermode": "closest",
          "mapbox": {
           "style": "light"
          },
          "paper_bgcolor": "white",
          "plot_bgcolor": "#E5ECF6",
          "polar": {
           "angularaxis": {
            "gridcolor": "white",
            "linecolor": "white",
            "ticks": ""
           },
           "bgcolor": "#E5ECF6",
           "radialaxis": {
            "gridcolor": "white",
            "linecolor": "white",
            "ticks": ""
           }
          },
          "scene": {
           "xaxis": {
            "backgroundcolor": "#E5ECF6",
            "gridcolor": "white",
            "gridwidth": 2,
            "linecolor": "white",
            "showbackground": true,
            "ticks": "",
            "zerolinecolor": "white"
           },
           "yaxis": {
            "backgroundcolor": "#E5ECF6",
            "gridcolor": "white",
            "gridwidth": 2,
            "linecolor": "white",
            "showbackground": true,
            "ticks": "",
            "zerolinecolor": "white"
           },
           "zaxis": {
            "backgroundcolor": "#E5ECF6",
            "gridcolor": "white",
            "gridwidth": 2,
            "linecolor": "white",
            "showbackground": true,
            "ticks": "",
            "zerolinecolor": "white"
           }
          },
          "shapedefaults": {
           "line": {
            "color": "#2a3f5f"
           }
          },
          "ternary": {
           "aaxis": {
            "gridcolor": "white",
            "linecolor": "white",
            "ticks": ""
           },
           "baxis": {
            "gridcolor": "white",
            "linecolor": "white",
            "ticks": ""
           },
           "bgcolor": "#E5ECF6",
           "caxis": {
            "gridcolor": "white",
            "linecolor": "white",
            "ticks": ""
           }
          },
          "title": {
           "x": 0.05
          },
          "xaxis": {
           "automargin": true,
           "gridcolor": "white",
           "linecolor": "white",
           "ticks": "",
           "title": {
            "standoff": 15
           },
           "zerolinecolor": "white",
           "zerolinewidth": 2
          },
          "yaxis": {
           "automargin": true,
           "gridcolor": "white",
           "linecolor": "white",
           "ticks": "",
           "title": {
            "standoff": 15
           },
           "zerolinecolor": "white",
           "zerolinewidth": 2
          }
         }
        },
        "title": {
         "font": {
          "size": 32
         },
         "text": "M / ROC Curve / ROS",
         "x": 0.5
        },
        "width": 1200,
        "xaxis": {
         "title": {
          "font": {
           "size": 20
          },
          "text": "False Positive Rate"
         }
        },
        "yaxis": {
         "title": {
          "font": {
           "size": 20
          },
          "text": "True Positive Rate"
         }
        }
       }
      }
     },
     "metadata": {},
     "output_type": "display_data"
    }
   ],
   "source": [
    "from sklearn.metrics import roc_curve, auc\n",
    "from sklearn.preprocessing import label_binarize\n",
    "import plotly.graph_objects as go\n",
    "\n",
    "# predict probabilities for the test set\n",
    "y_pred_proba = clf.predict_proba(x_test)\n",
    "\n",
    "# binarize the true labels\n",
    "y_test_bin = label_binarize(y_test, classes = clf.classes_)\n",
    "\n",
    "# calculate fpr, tpr and threshold values for each class\n",
    "fpr = dict()\n",
    "tpr = dict()\n",
    "roc_auc = dict()\n",
    "for i in range(len(clf.classes_)):\n",
    "    fpr[i], tpr[i], _ = roc_curve(y_test_bin[:, i], y_pred_proba[:, i])\n",
    "    roc_auc[i] = auc(fpr[i], tpr[i])\n",
    "\n",
    "# compute micro-average ROC curve and ROC area\n",
    "fpr[\"micro\"], tpr[\"micro\"], _ = roc_curve(y_test_bin.ravel(), y_pred_proba.ravel())\n",
    "roc_auc[\"micro\"] = auc(fpr[\"micro\"], tpr[\"micro\"])\n",
    "\n",
    "# plot ROC curve for each class and micro-average ROC curve\n",
    "fig = go.Figure()\n",
    "class_names = clf.classes_\n",
    "for i in range(len(class_names)):\n",
    "    fig.add_trace(go.Scatter(x = fpr[i], y = tpr[i],\n",
    "                             mode = 'lines',\n",
    "                             line = dict(width=2),\n",
    "                             name = 'ROC curve of class {} (AUC = {:.2f})'.format(class_names[i], roc_auc[i])))\n",
    "fig.add_trace(go.Scatter(x = [0, 1], y = [0, 1],\n",
    "                         mode = 'lines',\n",
    "                         line = dict(color = 'navy', width = 2, dash = 'dash'),\n",
    "                         showlegend = False))\n",
    "fig.add_annotation(x = 0.5, y = -0.2,\n",
    "                   text = \"Micro-average ROC curve (AUC = {0:.2f})\"\n",
    "                   \"\\nComputed using all classes as positive samples\"\n",
    "                   \"\\n({1}-way classification)\".format(roc_auc[\"micro\"], len(class_names)),\n",
    "                   showarrow = False,\n",
    "                   xref = 'paper', yref = 'paper', align = 'center')\n",
    "\n",
    "fig.update_layout(title={\n",
    "                'text': 'M / ROC Curve / ROS',\n",
    "                'x':0.5,\n",
    "                'font':{'size' : 32}\n",
    "                },\n",
    "                  xaxis_title = {\n",
    "                'text': 'False Positive Rate',\n",
    "                'font':{'size' : 20}\n",
    "                },\n",
    "                  yaxis_title = {\n",
    "                'text': 'True Positive Rate',\n",
    "                'font':{'size' : 20}\n",
    "                },\n",
    "                  legend=dict(x = 0.1, y = 0.9),\n",
    "                  width = 1200,\n",
    "                  height = 800\n",
    "                  )\n",
    "fig.show()"
   ]
  },
  {
   "attachments": {},
   "cell_type": "markdown",
   "metadata": {},
   "source": [
    "## SVC"
   ]
  },
  {
   "cell_type": "code",
   "execution_count": 139,
   "metadata": {},
   "outputs": [
    {
     "name": "stdout",
     "output_type": "stream",
     "text": [
      "Acurracy:  88.49000000000001 %\n",
      "Precision: 88.67 %\n",
      "Recall: 88.49000000000001 %\n",
      "f1: 88.29 %\n"
     ]
    },
    {
     "data": {
      "application/vnd.plotly.v1+json": {
       "config": {
        "plotlyServerURL": "https://plotly.com"
       },
       "data": [
        {
         "colorscale": [
          [
           0,
           "white"
          ],
          [
           1,
           "red"
          ]
         ],
         "type": "heatmap",
         "x": [
          "no fire",
          "small fire",
          "large fire"
         ],
         "y": [
          "no fire",
          "small fire",
          "large fire"
         ],
         "z": [
          [
           0.9657701711491442,
           0.009779951100244499,
           0.02444987775061125
          ],
          [
           0.21804511278195488,
           0.7669172932330827,
           0.015037593984962405
          ],
          [
           0.1261682242990654,
           0.07009345794392523,
           0.8037383177570093
          ]
         ],
         "zmax": 1,
         "zmin": 0
        }
       ],
       "layout": {
        "height": 600,
        "template": {
         "data": {
          "bar": [
           {
            "error_x": {
             "color": "#2a3f5f"
            },
            "error_y": {
             "color": "#2a3f5f"
            },
            "marker": {
             "line": {
              "color": "#E5ECF6",
              "width": 0.5
             },
             "pattern": {
              "fillmode": "overlay",
              "size": 10,
              "solidity": 0.2
             }
            },
            "type": "bar"
           }
          ],
          "barpolar": [
           {
            "marker": {
             "line": {
              "color": "#E5ECF6",
              "width": 0.5
             },
             "pattern": {
              "fillmode": "overlay",
              "size": 10,
              "solidity": 0.2
             }
            },
            "type": "barpolar"
           }
          ],
          "carpet": [
           {
            "aaxis": {
             "endlinecolor": "#2a3f5f",
             "gridcolor": "white",
             "linecolor": "white",
             "minorgridcolor": "white",
             "startlinecolor": "#2a3f5f"
            },
            "baxis": {
             "endlinecolor": "#2a3f5f",
             "gridcolor": "white",
             "linecolor": "white",
             "minorgridcolor": "white",
             "startlinecolor": "#2a3f5f"
            },
            "type": "carpet"
           }
          ],
          "choropleth": [
           {
            "colorbar": {
             "outlinewidth": 0,
             "ticks": ""
            },
            "type": "choropleth"
           }
          ],
          "contour": [
           {
            "colorbar": {
             "outlinewidth": 0,
             "ticks": ""
            },
            "colorscale": [
             [
              0,
              "#0d0887"
             ],
             [
              0.1111111111111111,
              "#46039f"
             ],
             [
              0.2222222222222222,
              "#7201a8"
             ],
             [
              0.3333333333333333,
              "#9c179e"
             ],
             [
              0.4444444444444444,
              "#bd3786"
             ],
             [
              0.5555555555555556,
              "#d8576b"
             ],
             [
              0.6666666666666666,
              "#ed7953"
             ],
             [
              0.7777777777777778,
              "#fb9f3a"
             ],
             [
              0.8888888888888888,
              "#fdca26"
             ],
             [
              1,
              "#f0f921"
             ]
            ],
            "type": "contour"
           }
          ],
          "contourcarpet": [
           {
            "colorbar": {
             "outlinewidth": 0,
             "ticks": ""
            },
            "type": "contourcarpet"
           }
          ],
          "heatmap": [
           {
            "colorbar": {
             "outlinewidth": 0,
             "ticks": ""
            },
            "colorscale": [
             [
              0,
              "#0d0887"
             ],
             [
              0.1111111111111111,
              "#46039f"
             ],
             [
              0.2222222222222222,
              "#7201a8"
             ],
             [
              0.3333333333333333,
              "#9c179e"
             ],
             [
              0.4444444444444444,
              "#bd3786"
             ],
             [
              0.5555555555555556,
              "#d8576b"
             ],
             [
              0.6666666666666666,
              "#ed7953"
             ],
             [
              0.7777777777777778,
              "#fb9f3a"
             ],
             [
              0.8888888888888888,
              "#fdca26"
             ],
             [
              1,
              "#f0f921"
             ]
            ],
            "type": "heatmap"
           }
          ],
          "heatmapgl": [
           {
            "colorbar": {
             "outlinewidth": 0,
             "ticks": ""
            },
            "colorscale": [
             [
              0,
              "#0d0887"
             ],
             [
              0.1111111111111111,
              "#46039f"
             ],
             [
              0.2222222222222222,
              "#7201a8"
             ],
             [
              0.3333333333333333,
              "#9c179e"
             ],
             [
              0.4444444444444444,
              "#bd3786"
             ],
             [
              0.5555555555555556,
              "#d8576b"
             ],
             [
              0.6666666666666666,
              "#ed7953"
             ],
             [
              0.7777777777777778,
              "#fb9f3a"
             ],
             [
              0.8888888888888888,
              "#fdca26"
             ],
             [
              1,
              "#f0f921"
             ]
            ],
            "type": "heatmapgl"
           }
          ],
          "histogram": [
           {
            "marker": {
             "pattern": {
              "fillmode": "overlay",
              "size": 10,
              "solidity": 0.2
             }
            },
            "type": "histogram"
           }
          ],
          "histogram2d": [
           {
            "colorbar": {
             "outlinewidth": 0,
             "ticks": ""
            },
            "colorscale": [
             [
              0,
              "#0d0887"
             ],
             [
              0.1111111111111111,
              "#46039f"
             ],
             [
              0.2222222222222222,
              "#7201a8"
             ],
             [
              0.3333333333333333,
              "#9c179e"
             ],
             [
              0.4444444444444444,
              "#bd3786"
             ],
             [
              0.5555555555555556,
              "#d8576b"
             ],
             [
              0.6666666666666666,
              "#ed7953"
             ],
             [
              0.7777777777777778,
              "#fb9f3a"
             ],
             [
              0.8888888888888888,
              "#fdca26"
             ],
             [
              1,
              "#f0f921"
             ]
            ],
            "type": "histogram2d"
           }
          ],
          "histogram2dcontour": [
           {
            "colorbar": {
             "outlinewidth": 0,
             "ticks": ""
            },
            "colorscale": [
             [
              0,
              "#0d0887"
             ],
             [
              0.1111111111111111,
              "#46039f"
             ],
             [
              0.2222222222222222,
              "#7201a8"
             ],
             [
              0.3333333333333333,
              "#9c179e"
             ],
             [
              0.4444444444444444,
              "#bd3786"
             ],
             [
              0.5555555555555556,
              "#d8576b"
             ],
             [
              0.6666666666666666,
              "#ed7953"
             ],
             [
              0.7777777777777778,
              "#fb9f3a"
             ],
             [
              0.8888888888888888,
              "#fdca26"
             ],
             [
              1,
              "#f0f921"
             ]
            ],
            "type": "histogram2dcontour"
           }
          ],
          "mesh3d": [
           {
            "colorbar": {
             "outlinewidth": 0,
             "ticks": ""
            },
            "type": "mesh3d"
           }
          ],
          "parcoords": [
           {
            "line": {
             "colorbar": {
              "outlinewidth": 0,
              "ticks": ""
             }
            },
            "type": "parcoords"
           }
          ],
          "pie": [
           {
            "automargin": true,
            "type": "pie"
           }
          ],
          "scatter": [
           {
            "fillpattern": {
             "fillmode": "overlay",
             "size": 10,
             "solidity": 0.2
            },
            "type": "scatter"
           }
          ],
          "scatter3d": [
           {
            "line": {
             "colorbar": {
              "outlinewidth": 0,
              "ticks": ""
             }
            },
            "marker": {
             "colorbar": {
              "outlinewidth": 0,
              "ticks": ""
             }
            },
            "type": "scatter3d"
           }
          ],
          "scattercarpet": [
           {
            "marker": {
             "colorbar": {
              "outlinewidth": 0,
              "ticks": ""
             }
            },
            "type": "scattercarpet"
           }
          ],
          "scattergeo": [
           {
            "marker": {
             "colorbar": {
              "outlinewidth": 0,
              "ticks": ""
             }
            },
            "type": "scattergeo"
           }
          ],
          "scattergl": [
           {
            "marker": {
             "colorbar": {
              "outlinewidth": 0,
              "ticks": ""
             }
            },
            "type": "scattergl"
           }
          ],
          "scattermapbox": [
           {
            "marker": {
             "colorbar": {
              "outlinewidth": 0,
              "ticks": ""
             }
            },
            "type": "scattermapbox"
           }
          ],
          "scatterpolar": [
           {
            "marker": {
             "colorbar": {
              "outlinewidth": 0,
              "ticks": ""
             }
            },
            "type": "scatterpolar"
           }
          ],
          "scatterpolargl": [
           {
            "marker": {
             "colorbar": {
              "outlinewidth": 0,
              "ticks": ""
             }
            },
            "type": "scatterpolargl"
           }
          ],
          "scatterternary": [
           {
            "marker": {
             "colorbar": {
              "outlinewidth": 0,
              "ticks": ""
             }
            },
            "type": "scatterternary"
           }
          ],
          "surface": [
           {
            "colorbar": {
             "outlinewidth": 0,
             "ticks": ""
            },
            "colorscale": [
             [
              0,
              "#0d0887"
             ],
             [
              0.1111111111111111,
              "#46039f"
             ],
             [
              0.2222222222222222,
              "#7201a8"
             ],
             [
              0.3333333333333333,
              "#9c179e"
             ],
             [
              0.4444444444444444,
              "#bd3786"
             ],
             [
              0.5555555555555556,
              "#d8576b"
             ],
             [
              0.6666666666666666,
              "#ed7953"
             ],
             [
              0.7777777777777778,
              "#fb9f3a"
             ],
             [
              0.8888888888888888,
              "#fdca26"
             ],
             [
              1,
              "#f0f921"
             ]
            ],
            "type": "surface"
           }
          ],
          "table": [
           {
            "cells": {
             "fill": {
              "color": "#EBF0F8"
             },
             "line": {
              "color": "white"
             }
            },
            "header": {
             "fill": {
              "color": "#C8D4E3"
             },
             "line": {
              "color": "white"
             }
            },
            "type": "table"
           }
          ]
         },
         "layout": {
          "annotationdefaults": {
           "arrowcolor": "#2a3f5f",
           "arrowhead": 0,
           "arrowwidth": 1
          },
          "autotypenumbers": "strict",
          "coloraxis": {
           "colorbar": {
            "outlinewidth": 0,
            "ticks": ""
           }
          },
          "colorscale": {
           "diverging": [
            [
             0,
             "#8e0152"
            ],
            [
             0.1,
             "#c51b7d"
            ],
            [
             0.2,
             "#de77ae"
            ],
            [
             0.3,
             "#f1b6da"
            ],
            [
             0.4,
             "#fde0ef"
            ],
            [
             0.5,
             "#f7f7f7"
            ],
            [
             0.6,
             "#e6f5d0"
            ],
            [
             0.7,
             "#b8e186"
            ],
            [
             0.8,
             "#7fbc41"
            ],
            [
             0.9,
             "#4d9221"
            ],
            [
             1,
             "#276419"
            ]
           ],
           "sequential": [
            [
             0,
             "#0d0887"
            ],
            [
             0.1111111111111111,
             "#46039f"
            ],
            [
             0.2222222222222222,
             "#7201a8"
            ],
            [
             0.3333333333333333,
             "#9c179e"
            ],
            [
             0.4444444444444444,
             "#bd3786"
            ],
            [
             0.5555555555555556,
             "#d8576b"
            ],
            [
             0.6666666666666666,
             "#ed7953"
            ],
            [
             0.7777777777777778,
             "#fb9f3a"
            ],
            [
             0.8888888888888888,
             "#fdca26"
            ],
            [
             1,
             "#f0f921"
            ]
           ],
           "sequentialminus": [
            [
             0,
             "#0d0887"
            ],
            [
             0.1111111111111111,
             "#46039f"
            ],
            [
             0.2222222222222222,
             "#7201a8"
            ],
            [
             0.3333333333333333,
             "#9c179e"
            ],
            [
             0.4444444444444444,
             "#bd3786"
            ],
            [
             0.5555555555555556,
             "#d8576b"
            ],
            [
             0.6666666666666666,
             "#ed7953"
            ],
            [
             0.7777777777777778,
             "#fb9f3a"
            ],
            [
             0.8888888888888888,
             "#fdca26"
            ],
            [
             1,
             "#f0f921"
            ]
           ]
          },
          "colorway": [
           "#636efa",
           "#EF553B",
           "#00cc96",
           "#ab63fa",
           "#FFA15A",
           "#19d3f3",
           "#FF6692",
           "#B6E880",
           "#FF97FF",
           "#FECB52"
          ],
          "font": {
           "color": "#2a3f5f"
          },
          "geo": {
           "bgcolor": "white",
           "lakecolor": "white",
           "landcolor": "#E5ECF6",
           "showlakes": true,
           "showland": true,
           "subunitcolor": "white"
          },
          "hoverlabel": {
           "align": "left"
          },
          "hovermode": "closest",
          "mapbox": {
           "style": "light"
          },
          "paper_bgcolor": "white",
          "plot_bgcolor": "#E5ECF6",
          "polar": {
           "angularaxis": {
            "gridcolor": "white",
            "linecolor": "white",
            "ticks": ""
           },
           "bgcolor": "#E5ECF6",
           "radialaxis": {
            "gridcolor": "white",
            "linecolor": "white",
            "ticks": ""
           }
          },
          "scene": {
           "xaxis": {
            "backgroundcolor": "#E5ECF6",
            "gridcolor": "white",
            "gridwidth": 2,
            "linecolor": "white",
            "showbackground": true,
            "ticks": "",
            "zerolinecolor": "white"
           },
           "yaxis": {
            "backgroundcolor": "#E5ECF6",
            "gridcolor": "white",
            "gridwidth": 2,
            "linecolor": "white",
            "showbackground": true,
            "ticks": "",
            "zerolinecolor": "white"
           },
           "zaxis": {
            "backgroundcolor": "#E5ECF6",
            "gridcolor": "white",
            "gridwidth": 2,
            "linecolor": "white",
            "showbackground": true,
            "ticks": "",
            "zerolinecolor": "white"
           }
          },
          "shapedefaults": {
           "line": {
            "color": "#2a3f5f"
           }
          },
          "ternary": {
           "aaxis": {
            "gridcolor": "white",
            "linecolor": "white",
            "ticks": ""
           },
           "baxis": {
            "gridcolor": "white",
            "linecolor": "white",
            "ticks": ""
           },
           "bgcolor": "#E5ECF6",
           "caxis": {
            "gridcolor": "white",
            "linecolor": "white",
            "ticks": ""
           }
          },
          "title": {
           "x": 0.05
          },
          "xaxis": {
           "automargin": true,
           "gridcolor": "white",
           "linecolor": "white",
           "ticks": "",
           "title": {
            "standoff": 15
           },
           "zerolinecolor": "white",
           "zerolinewidth": 2
          },
          "yaxis": {
           "automargin": true,
           "gridcolor": "white",
           "linecolor": "white",
           "ticks": "",
           "title": {
            "standoff": 15
           },
           "zerolinecolor": "white",
           "zerolinewidth": 2
          }
         }
        },
        "title": {
         "font": {
          "size": 32
         },
         "text": "Confusion matrix / Minority",
         "x": 0.5
        },
        "width": 600,
        "xaxis": {
         "tickfont": {
          "size": 16
         },
         "title": {
          "font": {
           "size": 20
          },
          "text": "Predicted"
         }
        },
        "yaxis": {
         "tickfont": {
          "size": 16
         },
         "title": {
          "font": {
           "size": 20
          },
          "text": "Actual"
         }
        }
       }
      }
     },
     "metadata": {},
     "output_type": "display_data"
    }
   ],
   "source": [
    "from imblearn.over_sampling import RandomOverSampler\n",
    "ros = RandomOverSampler(sampling_strategy = 'minority')\n",
    "x_train_ros, y_train_ros = ros.fit_resample(x_train, y_train)\n",
    "\n",
    "clf = svm.SVC(C = 1, kernel = 'rbf', gamma = 'auto', max_iter = int(5e4), cache_size = 1000)\n",
    "clf.fit(x_train_ros, y_train_ros)\n",
    "\n",
    "y_pred = clf.predict(x_test)\n",
    "\n",
    "acu = metrics.accuracy_score(y_test, y_pred)\n",
    "pre_class, r_class, f_class, sup = metrics.precision_recall_fscore_support(y_test, y_pred, average = 'weighted')\n",
    "\n",
    "print(\"Acurracy: \", round(acu, 4)*100, '%')\n",
    "print('Precision:', round(pre_class, 4)*100, '%')\n",
    "print('Recall:', round(r_class, 4)*100, '%')\n",
    "print('f1:', round(f_class, 4)*100, '%')\n",
    "\n",
    "\n",
    "labels = ['no fire', 'small fire', 'large fire']\n",
    "cm = metrics.confusion_matrix(y_test, y_pred, labels=labels)\n",
    "cm_norm = cm.astype('float') / cm.sum(axis=1)[:, np.newaxis] # normalize confusion matrix\n",
    "cm_norm\n",
    "import plotly.graph_objects as go\n",
    "\n",
    "fig = go.Figure(\n",
    "    data=go.Heatmap(\n",
    "        z=cm_norm,\n",
    "        x=labels,\n",
    "        y=labels,\n",
    "        colorscale=[\n",
    "            [0, 'white'],\n",
    "            # [0.5, 'white'],\n",
    "            [1, 'red']\n",
    "        ],\n",
    "        zmin=0,\n",
    "        zmax=1\n",
    "    ),\n",
    "    layout=go.Layout(\n",
    "        title={\n",
    "            'text': 'Confusion matrix / Minority',\n",
    "            'font': {'size': 32},\n",
    "            'x': 0.5\n",
    "        },\n",
    "        yaxis_title={\n",
    "            'font': {'size': 20},\n",
    "            'text': 'Actual'\n",
    "        },\n",
    "        xaxis_title={\n",
    "            'font': {'size': 20},\n",
    "            'text': 'Predicted'\n",
    "        },\n",
    "        width=600,\n",
    "        height=600\n",
    "    )\n",
    ")\n",
    "\n",
    "fig.update_xaxes(tickfont=dict(size = 16))\n",
    "fig.update_yaxes(tickfont=dict(size = 16))\n",
    "\n",
    "\n",
    "fig.show()"
   ]
  },
  {
   "cell_type": "code",
   "execution_count": 263,
   "metadata": {},
   "outputs": [
    {
     "name": "stdout",
     "output_type": "stream",
     "text": [
      "Accuracy of 1: 36.15 %\n",
      "Accuracy of 2: 39.23 %\n",
      "Accuracy of 3: 42.309999999999995 %\n",
      "Accuracy of 4: 33.85 %\n",
      "Accuracy of 5: 36.919999999999995 %\n",
      "Accuracy of 6: 40.77 %\n",
      "Accuracy of 7: 43.08 %\n",
      "Accuracy of 8: 33.08 %\n",
      "Accuracy of 9: 42.309999999999995 %\n",
      "Accuracy of 10: 35.38 %\n",
      "Average Accuracy over 10 runs: 0.38\n"
     ]
    }
   ],
   "source": [
    "from sklearn.model_selection import cross_val_score\n",
    "\n",
    "# define the number of times to run the model\n",
    "n_runs = 10\n",
    "\n",
    "# create an empty list to store the accuracy values\n",
    "accuracy_list = []\n",
    "\n",
    "for i in range(n_runs):\n",
    "    # perform train-test split\n",
    "\n",
    "    x_train, x_test, y_train, y_test = train_test_split(X, y, shuffle = True)\n",
    "    \n",
    "    # preprocess the data\n",
    "    cat_col = ['month_apr', 'month_aug', 'month_dec', 'month_feb', 'month_jan',\n",
    "       'month_jul', 'month_jun', 'month_mar', 'month_may', 'month_nov',\n",
    "       'month_oct', 'month_sep', 'day_fri', 'day_mon', 'day_sat', 'day_sun',\n",
    "       'day_thu', 'day_tue', 'day_wed']\n",
    "    num_col = ['X', 'Y', 'FFMC', 'DMC', 'DC', 'ISI', 'temp', 'RH', 'wind', 'rain']  \n",
    "    x_train_num = x_train.loc[:, num_col]\n",
    "    x_train_cat = x_train.loc[:, cat_col]\n",
    "    x_test_num = x_test.loc[:, num_col]\n",
    "    x_test_cat = x_test.loc[:, cat_col]\n",
    "\n",
    "    scl = StandardScaler()\n",
    "    scl.fit(x_train_num)\n",
    "\n",
    "    x_train_num = scl.transform(x_train_num)\n",
    "    x_test_num = scl.transform(x_test_num)\n",
    "\n",
    "    x_train = np.concatenate([x_train_num, np.array(x_train_cat)], axis=1)\n",
    "    x_test = np.concatenate([x_test_num, np.array(x_test_cat)], axis=1)\n",
    "\n",
    "    ros = RandomOverSampler(sampling_strategy = 'not majority')\n",
    "    x_train_ros, y_train_ros = ros.fit_resample(x_train, y_train)   \n",
    "    \n",
    "    # fit the model\n",
    "    clf = svm.SVC(C=1, kernel='rbf', gamma='auto', max_iter=int(5e4), cache_size=1000)\n",
    "    clf.fit(x_train_ros, y_train_ros)\n",
    "\n",
    "    # make predictions on the test set\n",
    "    y_pred = clf.predict(x_test)\n",
    "\n",
    "    # calculate the accuracy and append to the list\n",
    "    accuracy = metrics.accuracy_score(y_test, y_pred)\n",
    "    accuracy_list.append(accuracy)\n",
    "    print(f\"Accuracy of {i+1}:\", round(accuracy, 4)*100, '%')\n",
    "\n",
    "# print the average accuracy\n",
    "print(\"Average Accuracy over {} runs: {}\".format(n_runs, round(np.mean(accuracy_list), 2)))"
   ]
  },
  {
   "attachments": {},
   "cell_type": "markdown",
   "metadata": {},
   "source": [
    "## 2. Upsampling by SMOTE"
   ]
  },
  {
   "cell_type": "code",
   "execution_count": 82,
   "metadata": {},
   "outputs": [
    {
     "name": "stdout",
     "output_type": "stream",
     "text": [
      "(2964, 9) (756, 9)\n"
     ]
    }
   ],
   "source": [
    "from imblearn.over_sampling import SMOTE\n",
    "\n",
    "smt = SMOTE(sampling_strategy = 'auto')\n",
    "x_train_smt, y_train_smt = smt.fit_resample(x_train, y_train)\n",
    "print(x_train_smt.shape, x_test.shape)"
   ]
  },
  {
   "cell_type": "code",
   "execution_count": 607,
   "metadata": {},
   "outputs": [
    {
     "name": "stdout",
     "output_type": "stream",
     "text": [
      "no fire       0.333333\n",
      "large fire    0.333333\n",
      "small fire    0.333333\n",
      "Name: scale, dtype: float64\n"
     ]
    }
   ],
   "source": [
    "train_proportions = y_train_smt.value_counts(normalize = True)\n",
    "print(train_proportions)"
   ]
  },
  {
   "attachments": {},
   "cell_type": "markdown",
   "metadata": {},
   "source": [
    "## Logistic Regression"
   ]
  },
  {
   "cell_type": "code",
   "execution_count": 608,
   "metadata": {},
   "outputs": [
    {
     "name": "stdout",
     "output_type": "stream",
     "text": [
      "Acurracy:  40.21 %\n",
      "Precision: 48.17 %\n",
      "Recall: 40.21 %\n",
      "f1: 42.07 %\n"
     ]
    }
   ],
   "source": [
    "clf = LogisticRegression(max_iter = int(1e7) ,solver = 'liblinear', l1_ratio = 0.75)\n",
    "\n",
    "clf.fit(x_train_smt, y_train_smt)\n",
    "\n",
    "y_pred = clf.predict(x_test)\n",
    "\n",
    "acu = metrics.accuracy_score(y_test, y_pred)\n",
    "pre_class, r_class, f_class, sup = metrics.precision_recall_fscore_support(y_test, y_pred, average = 'weighted')\n",
    "\n",
    "print(\"Acurracy: \", round(acu, 4)*100, '%')\n",
    "print('Precision:', round(pre_class, 4)*100, '%')\n",
    "print('Recall:', round(r_class, 4)*100, '%')\n",
    "print('f1:', round(f_class, 4)*100, '%')"
   ]
  },
  {
   "cell_type": "code",
   "execution_count": 600,
   "metadata": {},
   "outputs": [
    {
     "data": {
      "application/vnd.plotly.v1+json": {
       "config": {
        "plotlyServerURL": "https://plotly.com"
       },
       "data": [
        {
         "line": {
          "width": 2
         },
         "mode": "lines",
         "name": "ROC curve of class large fire (AUC = 0.65)",
         "type": "scatter",
         "x": [
          0,
          0,
          0,
          0.0018484288354898336,
          0.005545286506469501,
          0.011090573012939002,
          0.011090573012939002,
          0.014787430683918669,
          0.022181146025878003,
          0.022181146025878003,
          0.022181146025878003,
          0.024029574861367836,
          0.029574861367837338,
          0.036968576709796676,
          0.036968576709796676,
          0.04251386321626617,
          0.04621072088724584,
          0.05730129390018484,
          0.06099815157116451,
          0.06284658040665435,
          0.06284658040665435,
          0.06839186691312385,
          0.07208872458410351,
          0.08133086876155268,
          0.08317929759704251,
          0.08317929759704251,
          0.17744916820702403,
          0.1866913123844732,
          0.18853974121996303,
          0.19038817005545286,
          0.1977818853974122,
          0.20147874306839186,
          0.21811460258780038,
          0.2199630314232902,
          0.23475046210720887,
          0.23475046210720887,
          0.23475046210720887,
          0.2365988909426987,
          0.24029574861367836,
          0.24214417744916822,
          0.24214417744916822,
          0.24953789279112754,
          0.26247689463955637,
          0.26247689463955637,
          0.266173752310536,
          0.27911275415896486,
          0.27911275415896486,
          0.2846580406654344,
          0.28650646950092423,
          0.2902033271719039,
          0.3068391866913124,
          0.31053604436229204,
          0.31053604436229204,
          0.3123844731977819,
          0.3123844731977819,
          0.3197781885397412,
          0.3234750462107209,
          0.3234750462107209,
          0.3345656192236599,
          0.3364140480591497,
          0.3364140480591497,
          0.33826247689463956,
          0.33826247689463956,
          0.3419593345656192,
          0.3512014787430684,
          0.36229205175600737,
          0.36968576709796674,
          0.3752310536044362,
          0.3752310536044362,
          0.3789279112754159,
          0.3807763401109057,
          0.39371534195933455,
          0.39371534195933455,
          0.39926062846580407,
          0.41589648798521256,
          0.4177449168207024,
          0.4177449168207024,
          0.4269870609981516,
          0.4288354898336414,
          0.4343807763401109,
          0.43622920517560076,
          0.43622920517560076,
          0.4399260628465804,
          0.4399260628465804,
          0.44731977818853974,
          0.44731977818853974,
          0.44731977818853974,
          0.45286506469500926,
          0.4565619223659889,
          0.4565619223659889,
          0.46395563770794823,
          0.4731977818853974,
          0.47504621072088726,
          0.4805914972273567,
          0.48428835489833644,
          0.48428835489833644,
          0.4898336414048059,
          0.4898336414048059,
          0.49168207024029575,
          0.49168207024029575,
          0.49722735674676527,
          0.5064695009242144,
          0.5064695009242144,
          0.512014787430684,
          0.5194085027726433,
          0.5286506469500925,
          0.532347504621072,
          0.5397412199630314,
          0.5434380776340111,
          0.5452865064695009,
          0.5452865064695009,
          0.5471349353049908,
          0.55637707948244,
          0.5600739371534196,
          0.5619223659889094,
          0.5619223659889094,
          0.5637707948243993,
          0.5637707948243993,
          0.5711645101663586,
          0.5711645101663586,
          0.5730129390018485,
          0.5730129390018485,
          0.5785582255083179,
          0.5804066543438078,
          0.5804066543438078,
          0.5933456561922366,
          0.5933456561922366,
          0.5951940850277264,
          0.5988909426987061,
          0.6025878003696857,
          0.6025878003696857,
          0.6081330868761553,
          0.6081330868761553,
          0.6081330868761553,
          0.609981515711645,
          0.609981515711645,
          0.609981515711645,
          0.6118299445471349,
          0.6118299445471349,
          0.6136783733826248,
          0.6173752310536045,
          0.6173752310536045,
          0.6229205175600739,
          0.6229205175600739,
          0.6284658040665434,
          0.6358595194085028,
          0.6395563770794824,
          0.6451016635859519,
          0.6487985212569316,
          0.6543438077634011,
          0.6543438077634011,
          0.6580406654343808,
          0.6580406654343808,
          0.6617375231053605,
          0.6691312384473198,
          0.6709796672828097,
          0.6709796672828097,
          0.6728280961182994,
          0.6802218114602587,
          0.6913123844731978,
          0.6913123844731978,
          0.6913123844731978,
          0.6987060998151571,
          0.6987060998151571,
          0.7005545286506469,
          0.7042513863216266,
          0.7042513863216266,
          0.7079482439926063,
          0.7079482439926063,
          0.7134935304990758,
          0.7134935304990758,
          0.7190388170055453,
          0.767097966728281,
          0.767097966728281,
          0.767097966728281,
          0.7744916820702403,
          0.7781885397412199,
          0.7781885397412199,
          0.7874306839186691,
          0.7948243992606284,
          0.7948243992606284,
          0.7966728280961183,
          0.800369685767098,
          0.8022181146025879,
          0.8022181146025879,
          0.8040665434380776,
          0.8040665434380776,
          0.8077634011090573,
          0.8133086876155268,
          0.8817005545286506,
          0.8853974121996303,
          0.8909426987060998,
          0.8964879852125693,
          0.9186691312384473,
          0.9297597042513863,
          0.9316081330868762,
          1
         ],
         "y": [
          0,
          0.12558139534883722,
          0.15348837209302327,
          0.15348837209302327,
          0.15348837209302327,
          0.15348837209302327,
          0.17674418604651163,
          0.17674418604651163,
          0.17674418604651163,
          0.2,
          0.23255813953488372,
          0.23255813953488372,
          0.23255813953488372,
          0.23255813953488372,
          0.28837209302325584,
          0.28837209302325584,
          0.28837209302325584,
          0.28837209302325584,
          0.28837209302325584,
          0.28837209302325584,
          0.3023255813953488,
          0.3023255813953488,
          0.3023255813953488,
          0.3023255813953488,
          0.3023255813953488,
          0.3116279069767442,
          0.3116279069767442,
          0.3116279069767442,
          0.31627906976744186,
          0.31627906976744186,
          0.31627906976744186,
          0.31627906976744186,
          0.3488372093023256,
          0.3488372093023256,
          0.3488372093023256,
          0.35348837209302325,
          0.3627906976744186,
          0.3674418604651163,
          0.3674418604651163,
          0.3674418604651163,
          0.3767441860465116,
          0.3767441860465116,
          0.3767441860465116,
          0.3813953488372093,
          0.3813953488372093,
          0.3813953488372093,
          0.386046511627907,
          0.386046511627907,
          0.386046511627907,
          0.386046511627907,
          0.386046511627907,
          0.386046511627907,
          0.3953488372093023,
          0.3953488372093023,
          0.40930232558139534,
          0.40930232558139534,
          0.40930232558139534,
          0.4232558139534884,
          0.4232558139534884,
          0.4232558139534884,
          0.46511627906976744,
          0.46511627906976744,
          0.4790697674418605,
          0.4790697674418605,
          0.4790697674418605,
          0.4790697674418605,
          0.4790697674418605,
          0.4790697674418605,
          0.4883720930232558,
          0.4883720930232558,
          0.4883720930232558,
          0.4883720930232558,
          0.4930232558139535,
          0.4930232558139535,
          0.4930232558139535,
          0.4930232558139535,
          0.5162790697674419,
          0.5162790697674419,
          0.5162790697674419,
          0.5162790697674419,
          0.5162790697674419,
          0.641860465116279,
          0.641860465116279,
          0.6465116279069767,
          0.6465116279069767,
          0.6604651162790698,
          0.6651162790697674,
          0.6651162790697674,
          0.6651162790697674,
          0.6697674418604651,
          0.6697674418604651,
          0.6883720930232559,
          0.6883720930232559,
          0.6883720930232559,
          0.6883720930232559,
          0.6930232558139535,
          0.6930232558139535,
          0.6976744186046512,
          0.6976744186046512,
          0.7023255813953488,
          0.7023255813953488,
          0.7023255813953488,
          0.7116279069767442,
          0.7116279069767442,
          0.7116279069767442,
          0.7116279069767442,
          0.7116279069767442,
          0.7116279069767442,
          0.7116279069767442,
          0.7116279069767442,
          0.7162790697674418,
          0.7162790697674418,
          0.7162790697674418,
          0.7162790697674418,
          0.7162790697674418,
          0.7209302325581395,
          0.7209302325581395,
          0.7395348837209302,
          0.7395348837209302,
          0.7534883720930232,
          0.7534883720930232,
          0.7581395348837209,
          0.7581395348837209,
          0.7581395348837209,
          0.7627906976744186,
          0.7627906976744186,
          0.7674418604651163,
          0.7674418604651163,
          0.7674418604651163,
          0.7674418604651163,
          0.7767441860465116,
          0.7767441860465116,
          0.7906976744186046,
          0.7953488372093023,
          0.7953488372093023,
          0.8,
          0.8232558139534883,
          0.8232558139534883,
          0.827906976744186,
          0.827906976744186,
          0.827906976744186,
          0.8465116279069768,
          0.8465116279069768,
          0.8511627906976744,
          0.8511627906976744,
          0.8511627906976744,
          0.8511627906976744,
          0.8511627906976744,
          0.8511627906976744,
          0.8511627906976744,
          0.8558139534883721,
          0.8558139534883721,
          0.8604651162790697,
          0.8604651162790697,
          0.8604651162790697,
          0.8604651162790697,
          0.8651162790697674,
          0.8651162790697674,
          0.8651162790697674,
          0.8651162790697674,
          0.8744186046511628,
          0.8790697674418605,
          0.8790697674418605,
          0.8837209302325582,
          0.8837209302325582,
          0.8837209302325582,
          0.8930232558139535,
          0.8930232558139535,
          0.8976744186046511,
          0.8976744186046511,
          0.9023255813953488,
          0.9023255813953488,
          0.9023255813953488,
          0.9069767441860465,
          0.9348837209302325,
          0.9348837209302325,
          0.9348837209302325,
          0.9441860465116279,
          0.9441860465116279,
          0.9441860465116279,
          0.9674418604651163,
          0.9674418604651163,
          0.9674418604651163,
          0.9674418604651163,
          0.9953488372093023,
          0.9953488372093023,
          1,
          1,
          1,
          1,
          1,
          1,
          1,
          1,
          1,
          1,
          1
         ]
        },
        {
         "line": {
          "width": 2
         },
         "mode": "lines",
         "name": "ROC curve of class no fire (AUC = 0.66)",
         "type": "scatter",
         "x": [
          0,
          0,
          0.0058823529411764705,
          0.0058823529411764705,
          0.011764705882352941,
          0.029411764705882353,
          0.04411764705882353,
          0.04411764705882353,
          0.04411764705882353,
          0.04411764705882353,
          0.04411764705882353,
          0.04411764705882353,
          0.04411764705882353,
          0.04411764705882353,
          0.047058823529411764,
          0.047058823529411764,
          0.047058823529411764,
          0.047058823529411764,
          0.05,
          0.05,
          0.05,
          0.061764705882352944,
          0.061764705882352944,
          0.06470588235294118,
          0.06470588235294118,
          0.07647058823529412,
          0.07647058823529412,
          0.07647058823529412,
          0.08235294117647059,
          0.09411764705882353,
          0.09411764705882353,
          0.09705882352941177,
          0.10294117647058823,
          0.10294117647058823,
          0.10588235294117647,
          0.12352941176470589,
          0.12352941176470589,
          0.13529411764705881,
          0.16176470588235295,
          0.16176470588235295,
          0.16470588235294117,
          0.16470588235294117,
          0.16470588235294117,
          0.17647058823529413,
          0.17647058823529413,
          0.17941176470588235,
          0.17941176470588235,
          0.18529411764705883,
          0.21176470588235294,
          0.21176470588235294,
          0.2323529411764706,
          0.23529411764705882,
          0.23529411764705882,
          0.23529411764705882,
          0.23823529411764705,
          0.2529411764705882,
          0.25588235294117645,
          0.25588235294117645,
          0.26176470588235295,
          0.26176470588235295,
          0.27058823529411763,
          0.2735294117647059,
          0.2735294117647059,
          0.28823529411764703,
          0.28823529411764703,
          0.2911764705882353,
          0.29705882352941176,
          0.29705882352941176,
          0.3029411764705882,
          0.3029411764705882,
          0.3058823529411765,
          0.3058823529411765,
          0.3176470588235294,
          0.3176470588235294,
          0.3205882352941177,
          0.3205882352941177,
          0.3205882352941177,
          0.3235294117647059,
          0.3235294117647059,
          0.3235294117647059,
          0.32941176470588235,
          0.3323529411764706,
          0.3323529411764706,
          0.3323529411764706,
          0.3323529411764706,
          0.3323529411764706,
          0.3352941176470588,
          0.35294117647058826,
          0.35294117647058826,
          0.36176470588235293,
          0.36470588235294116,
          0.36470588235294116,
          0.3735294117647059,
          0.3735294117647059,
          0.3764705882352941,
          0.3764705882352941,
          0.3764705882352941,
          0.4235294117647059,
          0.4235294117647059,
          0.4264705882352941,
          0.4264705882352941,
          0.4264705882352941,
          0.4264705882352941,
          0.5058823529411764,
          0.5117647058823529,
          0.5147058823529411,
          0.5147058823529411,
          0.5205882352941177,
          0.5235294117647059,
          0.538235294117647,
          0.5441176470588235,
          0.5441176470588235,
          0.55,
          0.5647058823529412,
          0.5676470588235294,
          0.5764705882352941,
          0.5764705882352941,
          0.5764705882352941,
          0.5794117647058824,
          0.5794117647058824,
          0.5823529411764706,
          0.5941176470588235,
          0.6,
          0.6,
          0.6058823529411764,
          0.6058823529411764,
          0.6058823529411764,
          0.6088235294117647,
          0.611764705882353,
          0.6147058823529412,
          0.6147058823529412,
          0.6147058823529412,
          0.6147058823529412,
          0.6176470588235294,
          0.6176470588235294,
          0.6205882352941177,
          0.6205882352941177,
          0.6205882352941177,
          0.6294117647058823,
          0.6294117647058823,
          0.6294117647058823,
          0.6323529411764706,
          0.6323529411764706,
          0.6411764705882353,
          0.6441176470588236,
          0.6441176470588236,
          0.6470588235294118,
          0.6470588235294118,
          0.6470588235294118,
          0.6529411764705882,
          0.6529411764705882,
          0.6529411764705882,
          0.6558823529411765,
          0.6647058823529411,
          0.6676470588235294,
          0.6676470588235294,
          0.6705882352941176,
          0.6764705882352942,
          0.6794117647058824,
          0.6852941176470588,
          0.6882352941176471,
          0.6882352941176471,
          0.6911764705882353,
          0.6911764705882353,
          0.6911764705882353,
          0.711764705882353,
          0.7147058823529412,
          0.7147058823529412,
          0.7176470588235294,
          0.7529411764705882,
          0.7558823529411764,
          0.7558823529411764,
          0.7617647058823529,
          0.7647058823529411,
          0.7647058823529411,
          0.7676470588235295,
          0.7676470588235295,
          0.7676470588235295,
          0.7676470588235295,
          0.7676470588235295,
          0.7735294117647059,
          0.7735294117647059,
          0.7852941176470588,
          0.7852941176470588,
          0.8,
          0.8205882352941176,
          0.8235294117647058,
          0.8382352941176471,
          0.8382352941176471,
          0.85,
          0.85,
          0.8529411764705882,
          0.9323529411764706,
          0.95,
          0.9588235294117647,
          0.9588235294117647,
          0.9588235294117647,
          0.9588235294117647,
          0.961764705882353,
          0.961764705882353,
          0.961764705882353,
          0.9735294117647059,
          0.9882352941176471,
          1
         ],
         "y": [
          0,
          0.0889423076923077,
          0.0889423076923077,
          0.0985576923076923,
          0.0985576923076923,
          0.0985576923076923,
          0.0985576923076923,
          0.10096153846153846,
          0.16346153846153846,
          0.1658653846153846,
          0.17548076923076922,
          0.20432692307692307,
          0.21394230769230768,
          0.21875,
          0.21875,
          0.22596153846153846,
          0.2283653846153846,
          0.24278846153846154,
          0.24278846153846154,
          0.25240384615384615,
          0.2548076923076923,
          0.2548076923076923,
          0.2620192307692308,
          0.2620192307692308,
          0.2644230769230769,
          0.2644230769230769,
          0.28365384615384615,
          0.28846153846153844,
          0.28846153846153844,
          0.28846153846153844,
          0.2980769230769231,
          0.2980769230769231,
          0.2980769230769231,
          0.30528846153846156,
          0.30528846153846156,
          0.30528846153846156,
          0.3173076923076923,
          0.3173076923076923,
          0.3173076923076923,
          0.3245192307692308,
          0.3245192307692308,
          0.3269230769230769,
          0.33653846153846156,
          0.33653846153846156,
          0.3389423076923077,
          0.3389423076923077,
          0.34375,
          0.34375,
          0.34375,
          0.35096153846153844,
          0.35096153846153844,
          0.35096153846153844,
          0.3605769230769231,
          0.3629807692307692,
          0.3629807692307692,
          0.3629807692307692,
          0.3629807692307692,
          0.36778846153846156,
          0.36778846153846156,
          0.375,
          0.375,
          0.375,
          0.37740384615384615,
          0.37740384615384615,
          0.38461538461538464,
          0.38461538461538464,
          0.38461538461538464,
          0.3870192307692308,
          0.3870192307692308,
          0.3894230769230769,
          0.3894230769230769,
          0.3918269230769231,
          0.3918269230769231,
          0.3942307692307692,
          0.3942307692307692,
          0.41586538461538464,
          0.4182692307692308,
          0.4182692307692308,
          0.43028846153846156,
          0.5192307692307693,
          0.5192307692307693,
          0.5192307692307693,
          0.5360576923076923,
          0.5408653846153846,
          0.5432692307692307,
          0.5528846153846154,
          0.5528846153846154,
          0.5528846153846154,
          0.5552884615384616,
          0.5552884615384616,
          0.5552884615384616,
          0.5576923076923077,
          0.5576923076923077,
          0.5649038461538461,
          0.5649038461538461,
          0.5673076923076923,
          0.6899038461538461,
          0.6899038461538461,
          0.6947115384615384,
          0.6947115384615384,
          0.6995192307692307,
          0.7043269230769231,
          0.7139423076923077,
          0.7139423076923077,
          0.7139423076923077,
          0.7139423076923077,
          0.7259615384615384,
          0.7259615384615384,
          0.7259615384615384,
          0.7259615384615384,
          0.7259615384615384,
          0.7307692307692307,
          0.7307692307692307,
          0.7307692307692307,
          0.7307692307692307,
          0.7307692307692307,
          0.7355769230769231,
          0.7403846153846154,
          0.7403846153846154,
          0.7427884615384616,
          0.7427884615384616,
          0.7427884615384616,
          0.7427884615384616,
          0.7475961538461539,
          0.7475961538461539,
          0.75,
          0.7620192307692307,
          0.7620192307692307,
          0.7644230769230769,
          0.7644230769230769,
          0.7692307692307693,
          0.7836538461538461,
          0.7860576923076923,
          0.7860576923076923,
          0.7956730769230769,
          0.7956730769230769,
          0.8004807692307693,
          0.8028846153846154,
          0.8028846153846154,
          0.8076923076923077,
          0.8173076923076923,
          0.8173076923076923,
          0.8245192307692307,
          0.8245192307692307,
          0.8245192307692307,
          0.8293269230769231,
          0.8293269230769231,
          0.8317307692307693,
          0.8485576923076923,
          0.8485576923076923,
          0.8509615384615384,
          0.8581730769230769,
          0.8581730769230769,
          0.8581730769230769,
          0.8581730769230769,
          0.8774038461538461,
          0.8774038461538461,
          0.8774038461538461,
          0.8774038461538461,
          0.8774038461538461,
          0.8774038461538461,
          0.8846153846153846,
          0.8846153846153846,
          0.8870192307692307,
          0.8918269230769231,
          0.8918269230769231,
          0.8918269230769231,
          0.8966346153846154,
          0.8966346153846154,
          0.8966346153846154,
          0.8966346153846154,
          0.8990384615384616,
          0.8990384615384616,
          0.8990384615384616,
          0.9014423076923077,
          0.9014423076923077,
          0.9158653846153846,
          0.9182692307692307,
          0.9302884615384616,
          0.9326923076923077,
          0.9326923076923077,
          0.9423076923076923,
          0.9543269230769231,
          0.9615384615384616,
          0.9615384615384616,
          0.9615384615384616,
          0.9615384615384616,
          0.9615384615384616,
          0.9663461538461539,
          0.9663461538461539,
          0.9735576923076923,
          0.9735576923076923,
          0.9735576923076923,
          0.9735576923076923,
          0.9735576923076923,
          0.9759615384615384,
          0.9831730769230769,
          0.9927884615384616,
          0.9927884615384616,
          0.9975961538461539,
          1,
          1,
          1,
          1
         ]
        },
        {
         "line": {
          "width": 2
         },
         "mode": "lines",
         "name": "ROC curve of class small fire (AUC = 0.62)",
         "type": "scatter",
         "x": [
          0,
          0.001584786053882726,
          0.006339144215530904,
          0.009508716323296355,
          0.009508716323296355,
          0.011093502377179081,
          0.011093502377179081,
          0.011093502377179081,
          0.025356576862123614,
          0.025356576862123614,
          0.030110935023771792,
          0.030110935023771792,
          0.03486529318541997,
          0.03486529318541997,
          0.03803486529318542,
          0.044374009508716325,
          0.05229793977812995,
          0.05229793977812995,
          0.05705229793977813,
          0.060221870047543584,
          0.06339144215530904,
          0.06339144215530904,
          0.06973058637083994,
          0.07290015847860538,
          0.07290015847860538,
          0.07606973058637084,
          0.07606973058637084,
          0.1347068145800317,
          0.13629160063391443,
          0.13946117274167988,
          0.1473851030110935,
          0.15530903328050713,
          0.15689381933438987,
          0.16323296354992076,
          0.1648177496038035,
          0.1648177496038035,
          0.16957210776545167,
          0.16957210776545167,
          0.16957210776545167,
          0.17115689381933438,
          0.17432646592709986,
          0.18541996830427893,
          0.18700475435816163,
          0.18700475435816163,
          0.18858954041204437,
          0.18858954041204437,
          0.19175911251980982,
          0.1949286846275753,
          0.19968304278922344,
          0.20285261489698891,
          0.20443740095087162,
          0.20443740095087162,
          0.20443740095087162,
          0.21077654516640254,
          0.21236133122028525,
          0.21236133122028525,
          0.21236133122028525,
          0.21394611727416799,
          0.21394611727416799,
          0.21711568938193343,
          0.23454833597464342,
          0.24405705229793978,
          0.24405705229793978,
          0.24405705229793978,
          0.2519809825673534,
          0.2519809825673534,
          0.25356576862123614,
          0.2662440570522979,
          0.27099841521394613,
          0.2868462757527734,
          0.29635499207606975,
          0.29635499207606975,
          0.29635499207606975,
          0.2979397781299525,
          0.2979397781299525,
          0.30269413629160064,
          0.3090332805071315,
          0.3153724247226624,
          0.3201267828843106,
          0.3201267828843106,
          0.32805071315372425,
          0.37083993660855785,
          0.37400950871632327,
          0.37400950871632327,
          0.375594294770206,
          0.38510301109350237,
          0.38510301109350237,
          0.38510301109350237,
          0.38510301109350237,
          0.38827258320126784,
          0.39461172741679873,
          0.39619651347068147,
          0.39619651347068147,
          0.3993660855784469,
          0.40887480190174325,
          0.41362916006339145,
          0.4152139461172742,
          0.4215530903328051,
          0.4215530903328051,
          0.4294770206022187,
          0.4294770206022187,
          0.4421553090332805,
          0.44532488114104596,
          0.4643423137876387,
          0.46909667194928684,
          0.46909667194928684,
          0.46909667194928684,
          0.47385103011093505,
          0.47702060221870046,
          0.47702060221870046,
          0.48335974643423135,
          0.49445324881141045,
          0.4960380348652932,
          0.5023771790808241,
          0.5055467511885895,
          0.5071315372424723,
          0.5071315372424723,
          0.526148969889065,
          0.526148969889065,
          0.5277337559429477,
          0.5356576862123613,
          0.5388272583201268,
          0.5467511885895404,
          0.5515055467511886,
          0.554675118858954,
          0.5641838351822503,
          0.5705229793977813,
          0.572107765451664,
          0.5768621236133122,
          0.5784469096671949,
          0.5800316957210776,
          0.5816164817749604,
          0.5816164817749604,
          0.5847860538827259,
          0.589540412044374,
          0.5911251980982567,
          0.5911251980982567,
          0.6006339144215531,
          0.6038034865293186,
          0.6085578446909667,
          0.6212361331220285,
          0.6228209191759112,
          0.6307448494453248,
          0.6307448494453248,
          0.6370839936608558,
          0.6370839936608558,
          0.6370839936608558,
          0.6370839936608558,
          0.6402535657686212,
          0.6450079239302694,
          0.6561014263074485,
          0.659270998415214,
          0.659270998415214,
          0.6735340729001584,
          0.6735340729001584,
          0.6846275752773375,
          0.6893819334389857,
          0.6893819334389857,
          0.7305863708399366,
          0.8114104595879557,
          0.8193343898573693,
          0.8256735340729001,
          0.8288431061806656,
          0.8304278922345484,
          0.8399366085578447,
          0.8431061806656102,
          0.901743264659271,
          0.9033280507131537,
          0.9128367670364501,
          0.9144215530903328,
          0.9207606973058637,
          0.9239302694136292,
          0.9286846275752774,
          0.9318541996830428,
          0.9746434231378764,
          0.9889064976228209,
          0.9904912836767037,
          0.9968304278922345,
          0.9968304278922345,
          1
         ],
         "y": [
          0,
          0,
          0,
          0,
          0.008,
          0.008,
          0.024,
          0.032,
          0.032,
          0.048,
          0.048,
          0.064,
          0.064,
          0.072,
          0.072,
          0.072,
          0.072,
          0.08,
          0.08,
          0.08,
          0.08,
          0.12,
          0.12,
          0.12,
          0.128,
          0.128,
          0.136,
          0.136,
          0.136,
          0.136,
          0.136,
          0.136,
          0.136,
          0.136,
          0.136,
          0.184,
          0.184,
          0.224,
          0.248,
          0.248,
          0.248,
          0.248,
          0.248,
          0.256,
          0.256,
          0.264,
          0.264,
          0.264,
          0.264,
          0.264,
          0.264,
          0.272,
          0.328,
          0.328,
          0.328,
          0.336,
          0.352,
          0.352,
          0.36,
          0.36,
          0.36,
          0.36,
          0.376,
          0.392,
          0.392,
          0.416,
          0.416,
          0.416,
          0.416,
          0.416,
          0.416,
          0.432,
          0.464,
          0.464,
          0.472,
          0.472,
          0.472,
          0.472,
          0.472,
          0.488,
          0.488,
          0.488,
          0.488,
          0.496,
          0.496,
          0.496,
          0.52,
          0.536,
          0.56,
          0.56,
          0.56,
          0.56,
          0.568,
          0.568,
          0.568,
          0.568,
          0.568,
          0.568,
          0.584,
          0.584,
          0.592,
          0.592,
          0.592,
          0.592,
          0.592,
          0.6,
          0.656,
          0.656,
          0.656,
          0.664,
          0.664,
          0.664,
          0.664,
          0.664,
          0.664,
          0.664,
          0.672,
          0.672,
          0.712,
          0.712,
          0.712,
          0.712,
          0.712,
          0.712,
          0.712,
          0.712,
          0.712,
          0.712,
          0.712,
          0.712,
          0.72,
          0.72,
          0.728,
          0.728,
          0.728,
          0.728,
          0.76,
          0.76,
          0.76,
          0.76,
          0.76,
          0.76,
          0.76,
          0.768,
          0.768,
          0.776,
          0.792,
          0.8,
          0.8,
          0.8,
          0.872,
          0.872,
          0.888,
          0.888,
          0.96,
          0.96,
          0.96,
          0.968,
          0.968,
          0.968,
          0.968,
          0.968,
          0.968,
          0.968,
          0.968,
          0.968,
          0.968,
          0.968,
          0.968,
          0.968,
          0.968,
          0.968,
          0.968,
          0.968,
          0.968,
          0.968,
          0.968,
          0.968,
          1,
          1
         ]
        },
        {
         "line": {
          "color": "navy",
          "dash": "dash",
          "width": 2
         },
         "mode": "lines",
         "showlegend": false,
         "type": "scatter",
         "x": [
          0,
          1
         ],
         "y": [
          0,
          1
         ]
        }
       ],
       "layout": {
        "annotations": [
         {
          "align": "center",
          "showarrow": false,
          "text": "Micro-average ROC curve (AUC = 0.64)\nComputed using all classes as positive samples\n(3-way classification)",
          "x": 0.5,
          "xref": "paper",
          "y": -0.2,
          "yref": "paper"
         }
        ],
        "height": 800,
        "legend": {
         "x": 0.1,
         "y": 0.9
        },
        "template": {
         "data": {
          "bar": [
           {
            "error_x": {
             "color": "#2a3f5f"
            },
            "error_y": {
             "color": "#2a3f5f"
            },
            "marker": {
             "line": {
              "color": "#E5ECF6",
              "width": 0.5
             },
             "pattern": {
              "fillmode": "overlay",
              "size": 10,
              "solidity": 0.2
             }
            },
            "type": "bar"
           }
          ],
          "barpolar": [
           {
            "marker": {
             "line": {
              "color": "#E5ECF6",
              "width": 0.5
             },
             "pattern": {
              "fillmode": "overlay",
              "size": 10,
              "solidity": 0.2
             }
            },
            "type": "barpolar"
           }
          ],
          "carpet": [
           {
            "aaxis": {
             "endlinecolor": "#2a3f5f",
             "gridcolor": "white",
             "linecolor": "white",
             "minorgridcolor": "white",
             "startlinecolor": "#2a3f5f"
            },
            "baxis": {
             "endlinecolor": "#2a3f5f",
             "gridcolor": "white",
             "linecolor": "white",
             "minorgridcolor": "white",
             "startlinecolor": "#2a3f5f"
            },
            "type": "carpet"
           }
          ],
          "choropleth": [
           {
            "colorbar": {
             "outlinewidth": 0,
             "ticks": ""
            },
            "type": "choropleth"
           }
          ],
          "contour": [
           {
            "colorbar": {
             "outlinewidth": 0,
             "ticks": ""
            },
            "colorscale": [
             [
              0,
              "#0d0887"
             ],
             [
              0.1111111111111111,
              "#46039f"
             ],
             [
              0.2222222222222222,
              "#7201a8"
             ],
             [
              0.3333333333333333,
              "#9c179e"
             ],
             [
              0.4444444444444444,
              "#bd3786"
             ],
             [
              0.5555555555555556,
              "#d8576b"
             ],
             [
              0.6666666666666666,
              "#ed7953"
             ],
             [
              0.7777777777777778,
              "#fb9f3a"
             ],
             [
              0.8888888888888888,
              "#fdca26"
             ],
             [
              1,
              "#f0f921"
             ]
            ],
            "type": "contour"
           }
          ],
          "contourcarpet": [
           {
            "colorbar": {
             "outlinewidth": 0,
             "ticks": ""
            },
            "type": "contourcarpet"
           }
          ],
          "heatmap": [
           {
            "colorbar": {
             "outlinewidth": 0,
             "ticks": ""
            },
            "colorscale": [
             [
              0,
              "#0d0887"
             ],
             [
              0.1111111111111111,
              "#46039f"
             ],
             [
              0.2222222222222222,
              "#7201a8"
             ],
             [
              0.3333333333333333,
              "#9c179e"
             ],
             [
              0.4444444444444444,
              "#bd3786"
             ],
             [
              0.5555555555555556,
              "#d8576b"
             ],
             [
              0.6666666666666666,
              "#ed7953"
             ],
             [
              0.7777777777777778,
              "#fb9f3a"
             ],
             [
              0.8888888888888888,
              "#fdca26"
             ],
             [
              1,
              "#f0f921"
             ]
            ],
            "type": "heatmap"
           }
          ],
          "heatmapgl": [
           {
            "colorbar": {
             "outlinewidth": 0,
             "ticks": ""
            },
            "colorscale": [
             [
              0,
              "#0d0887"
             ],
             [
              0.1111111111111111,
              "#46039f"
             ],
             [
              0.2222222222222222,
              "#7201a8"
             ],
             [
              0.3333333333333333,
              "#9c179e"
             ],
             [
              0.4444444444444444,
              "#bd3786"
             ],
             [
              0.5555555555555556,
              "#d8576b"
             ],
             [
              0.6666666666666666,
              "#ed7953"
             ],
             [
              0.7777777777777778,
              "#fb9f3a"
             ],
             [
              0.8888888888888888,
              "#fdca26"
             ],
             [
              1,
              "#f0f921"
             ]
            ],
            "type": "heatmapgl"
           }
          ],
          "histogram": [
           {
            "marker": {
             "pattern": {
              "fillmode": "overlay",
              "size": 10,
              "solidity": 0.2
             }
            },
            "type": "histogram"
           }
          ],
          "histogram2d": [
           {
            "colorbar": {
             "outlinewidth": 0,
             "ticks": ""
            },
            "colorscale": [
             [
              0,
              "#0d0887"
             ],
             [
              0.1111111111111111,
              "#46039f"
             ],
             [
              0.2222222222222222,
              "#7201a8"
             ],
             [
              0.3333333333333333,
              "#9c179e"
             ],
             [
              0.4444444444444444,
              "#bd3786"
             ],
             [
              0.5555555555555556,
              "#d8576b"
             ],
             [
              0.6666666666666666,
              "#ed7953"
             ],
             [
              0.7777777777777778,
              "#fb9f3a"
             ],
             [
              0.8888888888888888,
              "#fdca26"
             ],
             [
              1,
              "#f0f921"
             ]
            ],
            "type": "histogram2d"
           }
          ],
          "histogram2dcontour": [
           {
            "colorbar": {
             "outlinewidth": 0,
             "ticks": ""
            },
            "colorscale": [
             [
              0,
              "#0d0887"
             ],
             [
              0.1111111111111111,
              "#46039f"
             ],
             [
              0.2222222222222222,
              "#7201a8"
             ],
             [
              0.3333333333333333,
              "#9c179e"
             ],
             [
              0.4444444444444444,
              "#bd3786"
             ],
             [
              0.5555555555555556,
              "#d8576b"
             ],
             [
              0.6666666666666666,
              "#ed7953"
             ],
             [
              0.7777777777777778,
              "#fb9f3a"
             ],
             [
              0.8888888888888888,
              "#fdca26"
             ],
             [
              1,
              "#f0f921"
             ]
            ],
            "type": "histogram2dcontour"
           }
          ],
          "mesh3d": [
           {
            "colorbar": {
             "outlinewidth": 0,
             "ticks": ""
            },
            "type": "mesh3d"
           }
          ],
          "parcoords": [
           {
            "line": {
             "colorbar": {
              "outlinewidth": 0,
              "ticks": ""
             }
            },
            "type": "parcoords"
           }
          ],
          "pie": [
           {
            "automargin": true,
            "type": "pie"
           }
          ],
          "scatter": [
           {
            "fillpattern": {
             "fillmode": "overlay",
             "size": 10,
             "solidity": 0.2
            },
            "type": "scatter"
           }
          ],
          "scatter3d": [
           {
            "line": {
             "colorbar": {
              "outlinewidth": 0,
              "ticks": ""
             }
            },
            "marker": {
             "colorbar": {
              "outlinewidth": 0,
              "ticks": ""
             }
            },
            "type": "scatter3d"
           }
          ],
          "scattercarpet": [
           {
            "marker": {
             "colorbar": {
              "outlinewidth": 0,
              "ticks": ""
             }
            },
            "type": "scattercarpet"
           }
          ],
          "scattergeo": [
           {
            "marker": {
             "colorbar": {
              "outlinewidth": 0,
              "ticks": ""
             }
            },
            "type": "scattergeo"
           }
          ],
          "scattergl": [
           {
            "marker": {
             "colorbar": {
              "outlinewidth": 0,
              "ticks": ""
             }
            },
            "type": "scattergl"
           }
          ],
          "scattermapbox": [
           {
            "marker": {
             "colorbar": {
              "outlinewidth": 0,
              "ticks": ""
             }
            },
            "type": "scattermapbox"
           }
          ],
          "scatterpolar": [
           {
            "marker": {
             "colorbar": {
              "outlinewidth": 0,
              "ticks": ""
             }
            },
            "type": "scatterpolar"
           }
          ],
          "scatterpolargl": [
           {
            "marker": {
             "colorbar": {
              "outlinewidth": 0,
              "ticks": ""
             }
            },
            "type": "scatterpolargl"
           }
          ],
          "scatterternary": [
           {
            "marker": {
             "colorbar": {
              "outlinewidth": 0,
              "ticks": ""
             }
            },
            "type": "scatterternary"
           }
          ],
          "surface": [
           {
            "colorbar": {
             "outlinewidth": 0,
             "ticks": ""
            },
            "colorscale": [
             [
              0,
              "#0d0887"
             ],
             [
              0.1111111111111111,
              "#46039f"
             ],
             [
              0.2222222222222222,
              "#7201a8"
             ],
             [
              0.3333333333333333,
              "#9c179e"
             ],
             [
              0.4444444444444444,
              "#bd3786"
             ],
             [
              0.5555555555555556,
              "#d8576b"
             ],
             [
              0.6666666666666666,
              "#ed7953"
             ],
             [
              0.7777777777777778,
              "#fb9f3a"
             ],
             [
              0.8888888888888888,
              "#fdca26"
             ],
             [
              1,
              "#f0f921"
             ]
            ],
            "type": "surface"
           }
          ],
          "table": [
           {
            "cells": {
             "fill": {
              "color": "#EBF0F8"
             },
             "line": {
              "color": "white"
             }
            },
            "header": {
             "fill": {
              "color": "#C8D4E3"
             },
             "line": {
              "color": "white"
             }
            },
            "type": "table"
           }
          ]
         },
         "layout": {
          "annotationdefaults": {
           "arrowcolor": "#2a3f5f",
           "arrowhead": 0,
           "arrowwidth": 1
          },
          "autotypenumbers": "strict",
          "coloraxis": {
           "colorbar": {
            "outlinewidth": 0,
            "ticks": ""
           }
          },
          "colorscale": {
           "diverging": [
            [
             0,
             "#8e0152"
            ],
            [
             0.1,
             "#c51b7d"
            ],
            [
             0.2,
             "#de77ae"
            ],
            [
             0.3,
             "#f1b6da"
            ],
            [
             0.4,
             "#fde0ef"
            ],
            [
             0.5,
             "#f7f7f7"
            ],
            [
             0.6,
             "#e6f5d0"
            ],
            [
             0.7,
             "#b8e186"
            ],
            [
             0.8,
             "#7fbc41"
            ],
            [
             0.9,
             "#4d9221"
            ],
            [
             1,
             "#276419"
            ]
           ],
           "sequential": [
            [
             0,
             "#0d0887"
            ],
            [
             0.1111111111111111,
             "#46039f"
            ],
            [
             0.2222222222222222,
             "#7201a8"
            ],
            [
             0.3333333333333333,
             "#9c179e"
            ],
            [
             0.4444444444444444,
             "#bd3786"
            ],
            [
             0.5555555555555556,
             "#d8576b"
            ],
            [
             0.6666666666666666,
             "#ed7953"
            ],
            [
             0.7777777777777778,
             "#fb9f3a"
            ],
            [
             0.8888888888888888,
             "#fdca26"
            ],
            [
             1,
             "#f0f921"
            ]
           ],
           "sequentialminus": [
            [
             0,
             "#0d0887"
            ],
            [
             0.1111111111111111,
             "#46039f"
            ],
            [
             0.2222222222222222,
             "#7201a8"
            ],
            [
             0.3333333333333333,
             "#9c179e"
            ],
            [
             0.4444444444444444,
             "#bd3786"
            ],
            [
             0.5555555555555556,
             "#d8576b"
            ],
            [
             0.6666666666666666,
             "#ed7953"
            ],
            [
             0.7777777777777778,
             "#fb9f3a"
            ],
            [
             0.8888888888888888,
             "#fdca26"
            ],
            [
             1,
             "#f0f921"
            ]
           ]
          },
          "colorway": [
           "#636efa",
           "#EF553B",
           "#00cc96",
           "#ab63fa",
           "#FFA15A",
           "#19d3f3",
           "#FF6692",
           "#B6E880",
           "#FF97FF",
           "#FECB52"
          ],
          "font": {
           "color": "#2a3f5f"
          },
          "geo": {
           "bgcolor": "white",
           "lakecolor": "white",
           "landcolor": "#E5ECF6",
           "showlakes": true,
           "showland": true,
           "subunitcolor": "white"
          },
          "hoverlabel": {
           "align": "left"
          },
          "hovermode": "closest",
          "mapbox": {
           "style": "light"
          },
          "paper_bgcolor": "white",
          "plot_bgcolor": "#E5ECF6",
          "polar": {
           "angularaxis": {
            "gridcolor": "white",
            "linecolor": "white",
            "ticks": ""
           },
           "bgcolor": "#E5ECF6",
           "radialaxis": {
            "gridcolor": "white",
            "linecolor": "white",
            "ticks": ""
           }
          },
          "scene": {
           "xaxis": {
            "backgroundcolor": "#E5ECF6",
            "gridcolor": "white",
            "gridwidth": 2,
            "linecolor": "white",
            "showbackground": true,
            "ticks": "",
            "zerolinecolor": "white"
           },
           "yaxis": {
            "backgroundcolor": "#E5ECF6",
            "gridcolor": "white",
            "gridwidth": 2,
            "linecolor": "white",
            "showbackground": true,
            "ticks": "",
            "zerolinecolor": "white"
           },
           "zaxis": {
            "backgroundcolor": "#E5ECF6",
            "gridcolor": "white",
            "gridwidth": 2,
            "linecolor": "white",
            "showbackground": true,
            "ticks": "",
            "zerolinecolor": "white"
           }
          },
          "shapedefaults": {
           "line": {
            "color": "#2a3f5f"
           }
          },
          "ternary": {
           "aaxis": {
            "gridcolor": "white",
            "linecolor": "white",
            "ticks": ""
           },
           "baxis": {
            "gridcolor": "white",
            "linecolor": "white",
            "ticks": ""
           },
           "bgcolor": "#E5ECF6",
           "caxis": {
            "gridcolor": "white",
            "linecolor": "white",
            "ticks": ""
           }
          },
          "title": {
           "x": 0.05
          },
          "xaxis": {
           "automargin": true,
           "gridcolor": "white",
           "linecolor": "white",
           "ticks": "",
           "title": {
            "standoff": 15
           },
           "zerolinecolor": "white",
           "zerolinewidth": 2
          },
          "yaxis": {
           "automargin": true,
           "gridcolor": "white",
           "linecolor": "white",
           "ticks": "",
           "title": {
            "standoff": 15
           },
           "zerolinecolor": "white",
           "zerolinewidth": 2
          }
         }
        },
        "title": {
         "font": {
          "size": 32
         },
         "text": "M/ ROC Curve / SMOTE",
         "x": 0.5
        },
        "width": 1200,
        "xaxis": {
         "title": {
          "font": {
           "size": 20
          },
          "text": "False Positive Rate"
         }
        },
        "yaxis": {
         "title": {
          "font": {
           "size": 20
          },
          "text": "True Positive Rate"
         }
        }
       }
      }
     },
     "metadata": {},
     "output_type": "display_data"
    }
   ],
   "source": [
    "from sklearn.metrics import roc_curve, auc\n",
    "from sklearn.preprocessing import label_binarize\n",
    "import plotly.graph_objects as go\n",
    "\n",
    "# predict probabilities for the test set\n",
    "y_pred_proba = clf.predict_proba(x_test)\n",
    "\n",
    "# binarize the true labels\n",
    "y_test_bin = label_binarize(y_test, classes = clf.classes_)\n",
    "\n",
    "# calculate fpr, tpr and threshold values for each class\n",
    "fpr = dict()\n",
    "tpr = dict()\n",
    "roc_auc = dict()\n",
    "for i in range(len(clf.classes_)):\n",
    "    fpr[i], tpr[i], _ = roc_curve(y_test_bin[:, i], y_pred_proba[:, i])\n",
    "    roc_auc[i] = auc(fpr[i], tpr[i])\n",
    "\n",
    "# compute micro-average ROC curve and ROC area\n",
    "fpr[\"micro\"], tpr[\"micro\"], _ = roc_curve(y_test_bin.ravel(), y_pred_proba.ravel())\n",
    "roc_auc[\"micro\"] = auc(fpr[\"micro\"], tpr[\"micro\"])\n",
    "\n",
    "# plot ROC curve for each class and micro-average ROC curve\n",
    "fig = go.Figure()\n",
    "class_names = clf.classes_\n",
    "for i in range(len(class_names)):\n",
    "    fig.add_trace(go.Scatter(x = fpr[i], y = tpr[i],\n",
    "                             mode = 'lines',\n",
    "                             line = dict(width=2),\n",
    "                             name = 'ROC curve of class {} (AUC = {:.2f})'.format(class_names[i], roc_auc[i])))\n",
    "fig.add_trace(go.Scatter(x = [0, 1], y = [0, 1],\n",
    "                         mode = 'lines',\n",
    "                         line = dict(color = 'navy', width = 2, dash = 'dash'),\n",
    "                         showlegend = False))\n",
    "fig.add_annotation(x = 0.5, y = -0.2,\n",
    "                   text = \"Micro-average ROC curve (AUC = {0:.2f})\"\n",
    "                   \"\\nComputed using all classes as positive samples\"\n",
    "                   \"\\n({1}-way classification)\".format(roc_auc[\"micro\"], len(class_names)),\n",
    "                   showarrow = False,\n",
    "                   xref = 'paper', yref = 'paper', align = 'center')\n",
    "\n",
    "fig.update_layout(title={\n",
    "                'text': 'M/ ROC Curve / SMOTE',\n",
    "                'x':0.5,\n",
    "                'font':{'size' : 32}\n",
    "                },\n",
    "                  xaxis_title = {\n",
    "                'text': 'False Positive Rate',\n",
    "                'font':{'size' : 20}\n",
    "                },\n",
    "                  yaxis_title = {\n",
    "                'text': 'True Positive Rate',\n",
    "                'font':{'size' : 20}\n",
    "                },\n",
    "                  legend=dict(x = 0.1, y = 0.9),\n",
    "                  width = 1200,\n",
    "                  height = 800\n",
    "                  )\n",
    "fig.show()"
   ]
  },
  {
   "cell_type": "code",
   "execution_count": 54,
   "metadata": {},
   "outputs": [
    {
     "name": "stdout",
     "output_type": "stream",
     "text": [
      "Accuracy of 1: 0.78\n",
      "Accuracy of 2: 0.78\n",
      "Accuracy of 3: 0.81\n",
      "Accuracy of 4: 0.78\n",
      "Accuracy of 5: 0.8\n",
      "Accuracy of 6: 0.8\n",
      "Accuracy of 7: 0.79\n",
      "Accuracy of 8: 0.83\n",
      "Accuracy of 9: 0.82\n",
      "Accuracy of 10: 0.77\n",
      "Average Accuracy over 10 runs: 0.8\n"
     ]
    }
   ],
   "source": [
    "from sklearn.model_selection import cross_val_score\n",
    "\n",
    "# define the number of times to run the model\n",
    "n_runs = 10\n",
    "\n",
    "# create an empty list to store the accuracy values\n",
    "accuracy_list = []\n",
    "\n",
    "for i in range(n_runs):\n",
    "    # perform train-test split\n",
    "    x_train, x_test, y_train, y_test = train_test_split(X, y, shuffle = True)\n",
    "    \n",
    "    # preprocess the data\n",
    "    cat_col = ['month_apr', 'month_aug', 'month_dec', 'month_feb', 'month_jan',\n",
    "       'month_jul', 'month_jun', 'month_mar', 'month_may', 'month_nov',\n",
    "       'month_oct', 'month_sep', 'day_fri', 'day_mon', 'day_sat', 'day_sun',\n",
    "       'day_thu', 'day_tue', 'day_wed']\n",
    "    num_col = ['X', 'Y', 'FFMC', 'DMC', 'DC', 'ISI', 'temp', 'RH', 'wind', 'rain']  \n",
    "    x_train_num = x_train.loc[:, num_col]\n",
    "    x_train_cat = x_train.loc[:, cat_col]\n",
    "    x_test_num = x_test.loc[:, num_col]\n",
    "    x_test_cat = x_test.loc[:, cat_col]\n",
    "\n",
    "    scl = StandardScaler()\n",
    "    scl.fit(x_train_num)\n",
    "\n",
    "    x_train_num = scl.transform(x_train_num)\n",
    "    x_test_num = scl.transform(x_test_num)\n",
    "\n",
    "    x_train = np.concatenate([x_train_num, np.array(x_train_cat)], axis=1)\n",
    "    x_test = np.concatenate([x_test_num, np.array(x_test_cat)], axis=1)\n",
    "    \n",
    "    # fit the model\n",
    "    clf = svm.SVC(C=1, kernel='rbf', gamma='auto', max_iter=int(5e4), cache_size=1000)\n",
    "    clf.fit(x_train, y_train)\n",
    "\n",
    "    # make predictions on the test set\n",
    "    y_pred = clf.predict(x_test)\n",
    "\n",
    "    # calculate the accuracy and append to the list\n",
    "    accuracy = metrics.accuracy_score(y_test, y_pred)\n",
    "    accuracy_list.append(accuracy)\n",
    "    print(f\"Accuracy of {i+1}:\", round(accuracy, 2))\n",
    "\n",
    "# print the average accuracy\n",
    "print(\"Average Accuracy over {} runs: {}\".format(n_runs, round(np.mean(accuracy_list), 2)))"
   ]
  },
  {
   "attachments": {},
   "cell_type": "markdown",
   "metadata": {},
   "source": [
    "## SVC"
   ]
  },
  {
   "cell_type": "code",
   "execution_count": 127,
   "metadata": {},
   "outputs": [
    {
     "name": "stdout",
     "output_type": "stream",
     "text": [
      "Acurracy:  0.8849\n",
      "Precision: 0.8846\n",
      "Recall: 0.8849\n",
      "F1: 0.8843\n"
     ]
    },
    {
     "data": {
      "application/vnd.plotly.v1+json": {
       "config": {
        "plotlyServerURL": "https://plotly.com"
       },
       "data": [
        {
         "colorscale": [
          [
           0,
           "white"
          ],
          [
           1,
           "red"
          ]
         ],
         "type": "heatmap",
         "x": [
          "no fire",
          "small fire",
          "large fire"
         ],
         "y": [
          "no fire",
          "small fire",
          "large fire"
         ],
         "z": [
          [
           0.9365482233502538,
           0.030456852791878174,
           0.03299492385786802
          ],
          [
           0.16,
           0.776,
           0.064
          ],
          [
           0.09282700421940929,
           0.05063291139240506,
           0.8565400843881856
          ]
         ],
         "zmax": 1,
         "zmin": 0
        }
       ],
       "layout": {
        "height": 600,
        "template": {
         "data": {
          "bar": [
           {
            "error_x": {
             "color": "#2a3f5f"
            },
            "error_y": {
             "color": "#2a3f5f"
            },
            "marker": {
             "line": {
              "color": "#E5ECF6",
              "width": 0.5
             },
             "pattern": {
              "fillmode": "overlay",
              "size": 10,
              "solidity": 0.2
             }
            },
            "type": "bar"
           }
          ],
          "barpolar": [
           {
            "marker": {
             "line": {
              "color": "#E5ECF6",
              "width": 0.5
             },
             "pattern": {
              "fillmode": "overlay",
              "size": 10,
              "solidity": 0.2
             }
            },
            "type": "barpolar"
           }
          ],
          "carpet": [
           {
            "aaxis": {
             "endlinecolor": "#2a3f5f",
             "gridcolor": "white",
             "linecolor": "white",
             "minorgridcolor": "white",
             "startlinecolor": "#2a3f5f"
            },
            "baxis": {
             "endlinecolor": "#2a3f5f",
             "gridcolor": "white",
             "linecolor": "white",
             "minorgridcolor": "white",
             "startlinecolor": "#2a3f5f"
            },
            "type": "carpet"
           }
          ],
          "choropleth": [
           {
            "colorbar": {
             "outlinewidth": 0,
             "ticks": ""
            },
            "type": "choropleth"
           }
          ],
          "contour": [
           {
            "colorbar": {
             "outlinewidth": 0,
             "ticks": ""
            },
            "colorscale": [
             [
              0,
              "#0d0887"
             ],
             [
              0.1111111111111111,
              "#46039f"
             ],
             [
              0.2222222222222222,
              "#7201a8"
             ],
             [
              0.3333333333333333,
              "#9c179e"
             ],
             [
              0.4444444444444444,
              "#bd3786"
             ],
             [
              0.5555555555555556,
              "#d8576b"
             ],
             [
              0.6666666666666666,
              "#ed7953"
             ],
             [
              0.7777777777777778,
              "#fb9f3a"
             ],
             [
              0.8888888888888888,
              "#fdca26"
             ],
             [
              1,
              "#f0f921"
             ]
            ],
            "type": "contour"
           }
          ],
          "contourcarpet": [
           {
            "colorbar": {
             "outlinewidth": 0,
             "ticks": ""
            },
            "type": "contourcarpet"
           }
          ],
          "heatmap": [
           {
            "colorbar": {
             "outlinewidth": 0,
             "ticks": ""
            },
            "colorscale": [
             [
              0,
              "#0d0887"
             ],
             [
              0.1111111111111111,
              "#46039f"
             ],
             [
              0.2222222222222222,
              "#7201a8"
             ],
             [
              0.3333333333333333,
              "#9c179e"
             ],
             [
              0.4444444444444444,
              "#bd3786"
             ],
             [
              0.5555555555555556,
              "#d8576b"
             ],
             [
              0.6666666666666666,
              "#ed7953"
             ],
             [
              0.7777777777777778,
              "#fb9f3a"
             ],
             [
              0.8888888888888888,
              "#fdca26"
             ],
             [
              1,
              "#f0f921"
             ]
            ],
            "type": "heatmap"
           }
          ],
          "heatmapgl": [
           {
            "colorbar": {
             "outlinewidth": 0,
             "ticks": ""
            },
            "colorscale": [
             [
              0,
              "#0d0887"
             ],
             [
              0.1111111111111111,
              "#46039f"
             ],
             [
              0.2222222222222222,
              "#7201a8"
             ],
             [
              0.3333333333333333,
              "#9c179e"
             ],
             [
              0.4444444444444444,
              "#bd3786"
             ],
             [
              0.5555555555555556,
              "#d8576b"
             ],
             [
              0.6666666666666666,
              "#ed7953"
             ],
             [
              0.7777777777777778,
              "#fb9f3a"
             ],
             [
              0.8888888888888888,
              "#fdca26"
             ],
             [
              1,
              "#f0f921"
             ]
            ],
            "type": "heatmapgl"
           }
          ],
          "histogram": [
           {
            "marker": {
             "pattern": {
              "fillmode": "overlay",
              "size": 10,
              "solidity": 0.2
             }
            },
            "type": "histogram"
           }
          ],
          "histogram2d": [
           {
            "colorbar": {
             "outlinewidth": 0,
             "ticks": ""
            },
            "colorscale": [
             [
              0,
              "#0d0887"
             ],
             [
              0.1111111111111111,
              "#46039f"
             ],
             [
              0.2222222222222222,
              "#7201a8"
             ],
             [
              0.3333333333333333,
              "#9c179e"
             ],
             [
              0.4444444444444444,
              "#bd3786"
             ],
             [
              0.5555555555555556,
              "#d8576b"
             ],
             [
              0.6666666666666666,
              "#ed7953"
             ],
             [
              0.7777777777777778,
              "#fb9f3a"
             ],
             [
              0.8888888888888888,
              "#fdca26"
             ],
             [
              1,
              "#f0f921"
             ]
            ],
            "type": "histogram2d"
           }
          ],
          "histogram2dcontour": [
           {
            "colorbar": {
             "outlinewidth": 0,
             "ticks": ""
            },
            "colorscale": [
             [
              0,
              "#0d0887"
             ],
             [
              0.1111111111111111,
              "#46039f"
             ],
             [
              0.2222222222222222,
              "#7201a8"
             ],
             [
              0.3333333333333333,
              "#9c179e"
             ],
             [
              0.4444444444444444,
              "#bd3786"
             ],
             [
              0.5555555555555556,
              "#d8576b"
             ],
             [
              0.6666666666666666,
              "#ed7953"
             ],
             [
              0.7777777777777778,
              "#fb9f3a"
             ],
             [
              0.8888888888888888,
              "#fdca26"
             ],
             [
              1,
              "#f0f921"
             ]
            ],
            "type": "histogram2dcontour"
           }
          ],
          "mesh3d": [
           {
            "colorbar": {
             "outlinewidth": 0,
             "ticks": ""
            },
            "type": "mesh3d"
           }
          ],
          "parcoords": [
           {
            "line": {
             "colorbar": {
              "outlinewidth": 0,
              "ticks": ""
             }
            },
            "type": "parcoords"
           }
          ],
          "pie": [
           {
            "automargin": true,
            "type": "pie"
           }
          ],
          "scatter": [
           {
            "fillpattern": {
             "fillmode": "overlay",
             "size": 10,
             "solidity": 0.2
            },
            "type": "scatter"
           }
          ],
          "scatter3d": [
           {
            "line": {
             "colorbar": {
              "outlinewidth": 0,
              "ticks": ""
             }
            },
            "marker": {
             "colorbar": {
              "outlinewidth": 0,
              "ticks": ""
             }
            },
            "type": "scatter3d"
           }
          ],
          "scattercarpet": [
           {
            "marker": {
             "colorbar": {
              "outlinewidth": 0,
              "ticks": ""
             }
            },
            "type": "scattercarpet"
           }
          ],
          "scattergeo": [
           {
            "marker": {
             "colorbar": {
              "outlinewidth": 0,
              "ticks": ""
             }
            },
            "type": "scattergeo"
           }
          ],
          "scattergl": [
           {
            "marker": {
             "colorbar": {
              "outlinewidth": 0,
              "ticks": ""
             }
            },
            "type": "scattergl"
           }
          ],
          "scattermapbox": [
           {
            "marker": {
             "colorbar": {
              "outlinewidth": 0,
              "ticks": ""
             }
            },
            "type": "scattermapbox"
           }
          ],
          "scatterpolar": [
           {
            "marker": {
             "colorbar": {
              "outlinewidth": 0,
              "ticks": ""
             }
            },
            "type": "scatterpolar"
           }
          ],
          "scatterpolargl": [
           {
            "marker": {
             "colorbar": {
              "outlinewidth": 0,
              "ticks": ""
             }
            },
            "type": "scatterpolargl"
           }
          ],
          "scatterternary": [
           {
            "marker": {
             "colorbar": {
              "outlinewidth": 0,
              "ticks": ""
             }
            },
            "type": "scatterternary"
           }
          ],
          "surface": [
           {
            "colorbar": {
             "outlinewidth": 0,
             "ticks": ""
            },
            "colorscale": [
             [
              0,
              "#0d0887"
             ],
             [
              0.1111111111111111,
              "#46039f"
             ],
             [
              0.2222222222222222,
              "#7201a8"
             ],
             [
              0.3333333333333333,
              "#9c179e"
             ],
             [
              0.4444444444444444,
              "#bd3786"
             ],
             [
              0.5555555555555556,
              "#d8576b"
             ],
             [
              0.6666666666666666,
              "#ed7953"
             ],
             [
              0.7777777777777778,
              "#fb9f3a"
             ],
             [
              0.8888888888888888,
              "#fdca26"
             ],
             [
              1,
              "#f0f921"
             ]
            ],
            "type": "surface"
           }
          ],
          "table": [
           {
            "cells": {
             "fill": {
              "color": "#EBF0F8"
             },
             "line": {
              "color": "white"
             }
            },
            "header": {
             "fill": {
              "color": "#C8D4E3"
             },
             "line": {
              "color": "white"
             }
            },
            "type": "table"
           }
          ]
         },
         "layout": {
          "annotationdefaults": {
           "arrowcolor": "#2a3f5f",
           "arrowhead": 0,
           "arrowwidth": 1
          },
          "autotypenumbers": "strict",
          "coloraxis": {
           "colorbar": {
            "outlinewidth": 0,
            "ticks": ""
           }
          },
          "colorscale": {
           "diverging": [
            [
             0,
             "#8e0152"
            ],
            [
             0.1,
             "#c51b7d"
            ],
            [
             0.2,
             "#de77ae"
            ],
            [
             0.3,
             "#f1b6da"
            ],
            [
             0.4,
             "#fde0ef"
            ],
            [
             0.5,
             "#f7f7f7"
            ],
            [
             0.6,
             "#e6f5d0"
            ],
            [
             0.7,
             "#b8e186"
            ],
            [
             0.8,
             "#7fbc41"
            ],
            [
             0.9,
             "#4d9221"
            ],
            [
             1,
             "#276419"
            ]
           ],
           "sequential": [
            [
             0,
             "#0d0887"
            ],
            [
             0.1111111111111111,
             "#46039f"
            ],
            [
             0.2222222222222222,
             "#7201a8"
            ],
            [
             0.3333333333333333,
             "#9c179e"
            ],
            [
             0.4444444444444444,
             "#bd3786"
            ],
            [
             0.5555555555555556,
             "#d8576b"
            ],
            [
             0.6666666666666666,
             "#ed7953"
            ],
            [
             0.7777777777777778,
             "#fb9f3a"
            ],
            [
             0.8888888888888888,
             "#fdca26"
            ],
            [
             1,
             "#f0f921"
            ]
           ],
           "sequentialminus": [
            [
             0,
             "#0d0887"
            ],
            [
             0.1111111111111111,
             "#46039f"
            ],
            [
             0.2222222222222222,
             "#7201a8"
            ],
            [
             0.3333333333333333,
             "#9c179e"
            ],
            [
             0.4444444444444444,
             "#bd3786"
            ],
            [
             0.5555555555555556,
             "#d8576b"
            ],
            [
             0.6666666666666666,
             "#ed7953"
            ],
            [
             0.7777777777777778,
             "#fb9f3a"
            ],
            [
             0.8888888888888888,
             "#fdca26"
            ],
            [
             1,
             "#f0f921"
            ]
           ]
          },
          "colorway": [
           "#636efa",
           "#EF553B",
           "#00cc96",
           "#ab63fa",
           "#FFA15A",
           "#19d3f3",
           "#FF6692",
           "#B6E880",
           "#FF97FF",
           "#FECB52"
          ],
          "font": {
           "color": "#2a3f5f"
          },
          "geo": {
           "bgcolor": "white",
           "lakecolor": "white",
           "landcolor": "#E5ECF6",
           "showlakes": true,
           "showland": true,
           "subunitcolor": "white"
          },
          "hoverlabel": {
           "align": "left"
          },
          "hovermode": "closest",
          "mapbox": {
           "style": "light"
          },
          "paper_bgcolor": "white",
          "plot_bgcolor": "#E5ECF6",
          "polar": {
           "angularaxis": {
            "gridcolor": "white",
            "linecolor": "white",
            "ticks": ""
           },
           "bgcolor": "#E5ECF6",
           "radialaxis": {
            "gridcolor": "white",
            "linecolor": "white",
            "ticks": ""
           }
          },
          "scene": {
           "xaxis": {
            "backgroundcolor": "#E5ECF6",
            "gridcolor": "white",
            "gridwidth": 2,
            "linecolor": "white",
            "showbackground": true,
            "ticks": "",
            "zerolinecolor": "white"
           },
           "yaxis": {
            "backgroundcolor": "#E5ECF6",
            "gridcolor": "white",
            "gridwidth": 2,
            "linecolor": "white",
            "showbackground": true,
            "ticks": "",
            "zerolinecolor": "white"
           },
           "zaxis": {
            "backgroundcolor": "#E5ECF6",
            "gridcolor": "white",
            "gridwidth": 2,
            "linecolor": "white",
            "showbackground": true,
            "ticks": "",
            "zerolinecolor": "white"
           }
          },
          "shapedefaults": {
           "line": {
            "color": "#2a3f5f"
           }
          },
          "ternary": {
           "aaxis": {
            "gridcolor": "white",
            "linecolor": "white",
            "ticks": ""
           },
           "baxis": {
            "gridcolor": "white",
            "linecolor": "white",
            "ticks": ""
           },
           "bgcolor": "#E5ECF6",
           "caxis": {
            "gridcolor": "white",
            "linecolor": "white",
            "ticks": ""
           }
          },
          "title": {
           "x": 0.05
          },
          "xaxis": {
           "automargin": true,
           "gridcolor": "white",
           "linecolor": "white",
           "ticks": "",
           "title": {
            "standoff": 15
           },
           "zerolinecolor": "white",
           "zerolinewidth": 2
          },
          "yaxis": {
           "automargin": true,
           "gridcolor": "white",
           "linecolor": "white",
           "ticks": "",
           "title": {
            "standoff": 15
           },
           "zerolinecolor": "white",
           "zerolinewidth": 2
          }
         }
        },
        "title": {
         "font": {
          "size": 32
         },
         "text": "M / Confusion matrix / SMOTE",
         "x": 0.5
        },
        "width": 600,
        "xaxis": {
         "tickfont": {
          "size": 16
         },
         "title": {
          "font": {
           "size": 20
          },
          "text": "Predicted"
         }
        },
        "yaxis": {
         "tickfont": {
          "size": 16
         },
         "title": {
          "font": {
           "size": 20
          },
          "text": "Actual"
         }
        }
       }
      }
     },
     "metadata": {},
     "output_type": "display_data"
    }
   ],
   "source": [
    "labels = ['no fire', 'small fire', 'large fire']\n",
    "cm = metrics.confusion_matrix(y_test, y_pred, labels=labels)\n",
    "cm_norm = cm.astype('float') / cm.sum(axis=1)[:, np.newaxis] # normalize confusion matrix\n",
    "cm_norm\n",
    "\n",
    "import plotly.graph_objects as go\n",
    "\n",
    "fig = go.Figure(\n",
    "    data=go.Heatmap(\n",
    "        z=cm_norm,\n",
    "        x=labels,\n",
    "        y=labels,\n",
    "        colorscale=[\n",
    "            [0, 'white'],\n",
    "            # [0.5, 'white'],\n",
    "            [1, 'red']\n",
    "        ],\n",
    "        zmin=0,\n",
    "        zmax=1\n",
    "    ),\n",
    "    layout=go.Layout(\n",
    "        title={\n",
    "            'text': 'M / Confusion matrix / SMOTE',\n",
    "            'font': {'size': 32},\n",
    "            'x': 0.5\n",
    "        },\n",
    "        yaxis_title={\n",
    "            'font': {'size': 20},\n",
    "            'text': 'Actual'\n",
    "        },\n",
    "        xaxis_title={\n",
    "            'font': {'size': 20},\n",
    "            'text': 'Predicted'\n",
    "        },\n",
    "        width=600,\n",
    "        height=600\n",
    "    )\n",
    ")\n",
    "\n",
    "fig.update_xaxes(tickfont=dict(size = 16))\n",
    "fig.update_yaxes(tickfont=dict(size = 16))\n",
    "\n",
    "fig.show()"
   ]
  }
 ],
 "metadata": {
  "kernelspec": {
   "display_name": "base",
   "language": "python",
   "name": "python3"
  },
  "language_info": {
   "codemirror_mode": {
    "name": "ipython",
    "version": 3
   },
   "file_extension": ".py",
   "mimetype": "text/x-python",
   "name": "python",
   "nbconvert_exporter": "python",
   "pygments_lexer": "ipython3",
   "version": "3.9.13"
  },
  "orig_nbformat": 4
 },
 "nbformat": 4,
 "nbformat_minor": 2
}
